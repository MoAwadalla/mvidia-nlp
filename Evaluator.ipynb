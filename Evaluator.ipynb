{
  "nbformat": 4,
  "nbformat_minor": 0,
  "metadata": {
    "colab": {
      "provenance": [],
      "gpuType": "A100"
    },
    "kernelspec": {
      "name": "python3",
      "display_name": "Python 3"
    },
    "language_info": {
      "name": "python"
    },
    "accelerator": "GPU",
    "widgets": {
      "application/vnd.jupyter.widget-state+json": {
        "934df1635f3a42c99e941be4a40756bf": {
          "model_module": "@jupyter-widgets/controls",
          "model_name": "HBoxModel",
          "model_module_version": "1.5.0",
          "state": {
            "_dom_classes": [],
            "_model_module": "@jupyter-widgets/controls",
            "_model_module_version": "1.5.0",
            "_model_name": "HBoxModel",
            "_view_count": null,
            "_view_module": "@jupyter-widgets/controls",
            "_view_module_version": "1.5.0",
            "_view_name": "HBoxView",
            "box_style": "",
            "children": [
              "IPY_MODEL_60900d7dc41042b0b24fe005a35f2781",
              "IPY_MODEL_e3e9c0ff56264ab5951e7e0ae7572080",
              "IPY_MODEL_fc29886e0b574259a4f658b2a710f87c"
            ],
            "layout": "IPY_MODEL_11970c5f351e42bdb8c7ca06cb3c0483"
          }
        },
        "60900d7dc41042b0b24fe005a35f2781": {
          "model_module": "@jupyter-widgets/controls",
          "model_name": "HTMLModel",
          "model_module_version": "1.5.0",
          "state": {
            "_dom_classes": [],
            "_model_module": "@jupyter-widgets/controls",
            "_model_module_version": "1.5.0",
            "_model_name": "HTMLModel",
            "_view_count": null,
            "_view_module": "@jupyter-widgets/controls",
            "_view_module_version": "1.5.0",
            "_view_name": "HTMLView",
            "description": "",
            "description_tooltip": null,
            "layout": "IPY_MODEL_db68c0eda14f47cebc4eeb529a1d8c6b",
            "placeholder": "​",
            "style": "IPY_MODEL_3fd8ffed852b42dfb5e2b49552323dfd",
            "value": "Loading checkpoint shards: 100%"
          }
        },
        "e3e9c0ff56264ab5951e7e0ae7572080": {
          "model_module": "@jupyter-widgets/controls",
          "model_name": "FloatProgressModel",
          "model_module_version": "1.5.0",
          "state": {
            "_dom_classes": [],
            "_model_module": "@jupyter-widgets/controls",
            "_model_module_version": "1.5.0",
            "_model_name": "FloatProgressModel",
            "_view_count": null,
            "_view_module": "@jupyter-widgets/controls",
            "_view_module_version": "1.5.0",
            "_view_name": "ProgressView",
            "bar_style": "success",
            "description": "",
            "description_tooltip": null,
            "layout": "IPY_MODEL_a6ae80b362334338ba012de3ff01bf5a",
            "max": 2,
            "min": 0,
            "orientation": "horizontal",
            "style": "IPY_MODEL_8704f063caa4434a8c1198ca9267c556",
            "value": 2
          }
        },
        "fc29886e0b574259a4f658b2a710f87c": {
          "model_module": "@jupyter-widgets/controls",
          "model_name": "HTMLModel",
          "model_module_version": "1.5.0",
          "state": {
            "_dom_classes": [],
            "_model_module": "@jupyter-widgets/controls",
            "_model_module_version": "1.5.0",
            "_model_name": "HTMLModel",
            "_view_count": null,
            "_view_module": "@jupyter-widgets/controls",
            "_view_module_version": "1.5.0",
            "_view_name": "HTMLView",
            "description": "",
            "description_tooltip": null,
            "layout": "IPY_MODEL_43d40ba459b84b2baa50157543eb1d48",
            "placeholder": "​",
            "style": "IPY_MODEL_9ff8536911bc4e3db58f2621cf035d27",
            "value": " 2/2 [00:02&lt;00:00,  1.41s/it]"
          }
        },
        "11970c5f351e42bdb8c7ca06cb3c0483": {
          "model_module": "@jupyter-widgets/base",
          "model_name": "LayoutModel",
          "model_module_version": "1.2.0",
          "state": {
            "_model_module": "@jupyter-widgets/base",
            "_model_module_version": "1.2.0",
            "_model_name": "LayoutModel",
            "_view_count": null,
            "_view_module": "@jupyter-widgets/base",
            "_view_module_version": "1.2.0",
            "_view_name": "LayoutView",
            "align_content": null,
            "align_items": null,
            "align_self": null,
            "border": null,
            "bottom": null,
            "display": null,
            "flex": null,
            "flex_flow": null,
            "grid_area": null,
            "grid_auto_columns": null,
            "grid_auto_flow": null,
            "grid_auto_rows": null,
            "grid_column": null,
            "grid_gap": null,
            "grid_row": null,
            "grid_template_areas": null,
            "grid_template_columns": null,
            "grid_template_rows": null,
            "height": null,
            "justify_content": null,
            "justify_items": null,
            "left": null,
            "margin": null,
            "max_height": null,
            "max_width": null,
            "min_height": null,
            "min_width": null,
            "object_fit": null,
            "object_position": null,
            "order": null,
            "overflow": null,
            "overflow_x": null,
            "overflow_y": null,
            "padding": null,
            "right": null,
            "top": null,
            "visibility": null,
            "width": null
          }
        },
        "db68c0eda14f47cebc4eeb529a1d8c6b": {
          "model_module": "@jupyter-widgets/base",
          "model_name": "LayoutModel",
          "model_module_version": "1.2.0",
          "state": {
            "_model_module": "@jupyter-widgets/base",
            "_model_module_version": "1.2.0",
            "_model_name": "LayoutModel",
            "_view_count": null,
            "_view_module": "@jupyter-widgets/base",
            "_view_module_version": "1.2.0",
            "_view_name": "LayoutView",
            "align_content": null,
            "align_items": null,
            "align_self": null,
            "border": null,
            "bottom": null,
            "display": null,
            "flex": null,
            "flex_flow": null,
            "grid_area": null,
            "grid_auto_columns": null,
            "grid_auto_flow": null,
            "grid_auto_rows": null,
            "grid_column": null,
            "grid_gap": null,
            "grid_row": null,
            "grid_template_areas": null,
            "grid_template_columns": null,
            "grid_template_rows": null,
            "height": null,
            "justify_content": null,
            "justify_items": null,
            "left": null,
            "margin": null,
            "max_height": null,
            "max_width": null,
            "min_height": null,
            "min_width": null,
            "object_fit": null,
            "object_position": null,
            "order": null,
            "overflow": null,
            "overflow_x": null,
            "overflow_y": null,
            "padding": null,
            "right": null,
            "top": null,
            "visibility": null,
            "width": null
          }
        },
        "3fd8ffed852b42dfb5e2b49552323dfd": {
          "model_module": "@jupyter-widgets/controls",
          "model_name": "DescriptionStyleModel",
          "model_module_version": "1.5.0",
          "state": {
            "_model_module": "@jupyter-widgets/controls",
            "_model_module_version": "1.5.0",
            "_model_name": "DescriptionStyleModel",
            "_view_count": null,
            "_view_module": "@jupyter-widgets/base",
            "_view_module_version": "1.2.0",
            "_view_name": "StyleView",
            "description_width": ""
          }
        },
        "a6ae80b362334338ba012de3ff01bf5a": {
          "model_module": "@jupyter-widgets/base",
          "model_name": "LayoutModel",
          "model_module_version": "1.2.0",
          "state": {
            "_model_module": "@jupyter-widgets/base",
            "_model_module_version": "1.2.0",
            "_model_name": "LayoutModel",
            "_view_count": null,
            "_view_module": "@jupyter-widgets/base",
            "_view_module_version": "1.2.0",
            "_view_name": "LayoutView",
            "align_content": null,
            "align_items": null,
            "align_self": null,
            "border": null,
            "bottom": null,
            "display": null,
            "flex": null,
            "flex_flow": null,
            "grid_area": null,
            "grid_auto_columns": null,
            "grid_auto_flow": null,
            "grid_auto_rows": null,
            "grid_column": null,
            "grid_gap": null,
            "grid_row": null,
            "grid_template_areas": null,
            "grid_template_columns": null,
            "grid_template_rows": null,
            "height": null,
            "justify_content": null,
            "justify_items": null,
            "left": null,
            "margin": null,
            "max_height": null,
            "max_width": null,
            "min_height": null,
            "min_width": null,
            "object_fit": null,
            "object_position": null,
            "order": null,
            "overflow": null,
            "overflow_x": null,
            "overflow_y": null,
            "padding": null,
            "right": null,
            "top": null,
            "visibility": null,
            "width": null
          }
        },
        "8704f063caa4434a8c1198ca9267c556": {
          "model_module": "@jupyter-widgets/controls",
          "model_name": "ProgressStyleModel",
          "model_module_version": "1.5.0",
          "state": {
            "_model_module": "@jupyter-widgets/controls",
            "_model_module_version": "1.5.0",
            "_model_name": "ProgressStyleModel",
            "_view_count": null,
            "_view_module": "@jupyter-widgets/base",
            "_view_module_version": "1.2.0",
            "_view_name": "StyleView",
            "bar_color": null,
            "description_width": ""
          }
        },
        "43d40ba459b84b2baa50157543eb1d48": {
          "model_module": "@jupyter-widgets/base",
          "model_name": "LayoutModel",
          "model_module_version": "1.2.0",
          "state": {
            "_model_module": "@jupyter-widgets/base",
            "_model_module_version": "1.2.0",
            "_model_name": "LayoutModel",
            "_view_count": null,
            "_view_module": "@jupyter-widgets/base",
            "_view_module_version": "1.2.0",
            "_view_name": "LayoutView",
            "align_content": null,
            "align_items": null,
            "align_self": null,
            "border": null,
            "bottom": null,
            "display": null,
            "flex": null,
            "flex_flow": null,
            "grid_area": null,
            "grid_auto_columns": null,
            "grid_auto_flow": null,
            "grid_auto_rows": null,
            "grid_column": null,
            "grid_gap": null,
            "grid_row": null,
            "grid_template_areas": null,
            "grid_template_columns": null,
            "grid_template_rows": null,
            "height": null,
            "justify_content": null,
            "justify_items": null,
            "left": null,
            "margin": null,
            "max_height": null,
            "max_width": null,
            "min_height": null,
            "min_width": null,
            "object_fit": null,
            "object_position": null,
            "order": null,
            "overflow": null,
            "overflow_x": null,
            "overflow_y": null,
            "padding": null,
            "right": null,
            "top": null,
            "visibility": null,
            "width": null
          }
        },
        "9ff8536911bc4e3db58f2621cf035d27": {
          "model_module": "@jupyter-widgets/controls",
          "model_name": "DescriptionStyleModel",
          "model_module_version": "1.5.0",
          "state": {
            "_model_module": "@jupyter-widgets/controls",
            "_model_module_version": "1.5.0",
            "_model_name": "DescriptionStyleModel",
            "_view_count": null,
            "_view_module": "@jupyter-widgets/base",
            "_view_module_version": "1.2.0",
            "_view_name": "StyleView",
            "description_width": ""
          }
        },
        "a88a63b763bc4a62a47a4bf7fb63a4d5": {
          "model_module": "@jupyter-widgets/controls",
          "model_name": "HBoxModel",
          "model_module_version": "1.5.0",
          "state": {
            "_dom_classes": [],
            "_model_module": "@jupyter-widgets/controls",
            "_model_module_version": "1.5.0",
            "_model_name": "HBoxModel",
            "_view_count": null,
            "_view_module": "@jupyter-widgets/controls",
            "_view_module_version": "1.5.0",
            "_view_name": "HBoxView",
            "box_style": "",
            "children": [
              "IPY_MODEL_24016621988642b299fec63f58c621b9",
              "IPY_MODEL_b979bc51223846ab83deb9b61ae66202",
              "IPY_MODEL_081db412a0f048ee81e90c18b178eaff"
            ],
            "layout": "IPY_MODEL_eb6dd3b7ee194ff9a9cb5d192d5a53d8"
          }
        },
        "24016621988642b299fec63f58c621b9": {
          "model_module": "@jupyter-widgets/controls",
          "model_name": "HTMLModel",
          "model_module_version": "1.5.0",
          "state": {
            "_dom_classes": [],
            "_model_module": "@jupyter-widgets/controls",
            "_model_module_version": "1.5.0",
            "_model_name": "HTMLModel",
            "_view_count": null,
            "_view_module": "@jupyter-widgets/controls",
            "_view_module_version": "1.5.0",
            "_view_name": "HTMLView",
            "description": "",
            "description_tooltip": null,
            "layout": "IPY_MODEL_29dc29b26bc546b7a41a300a00f67b04",
            "placeholder": "​",
            "style": "IPY_MODEL_6f34400186e447ce8f400d48996fbb43",
            "value": "Downloading readme: 100%"
          }
        },
        "b979bc51223846ab83deb9b61ae66202": {
          "model_module": "@jupyter-widgets/controls",
          "model_name": "FloatProgressModel",
          "model_module_version": "1.5.0",
          "state": {
            "_dom_classes": [],
            "_model_module": "@jupyter-widgets/controls",
            "_model_module_version": "1.5.0",
            "_model_name": "FloatProgressModel",
            "_view_count": null,
            "_view_module": "@jupyter-widgets/controls",
            "_view_module_version": "1.5.0",
            "_view_name": "ProgressView",
            "bar_style": "success",
            "description": "",
            "description_tooltip": null,
            "layout": "IPY_MODEL_426c3bd4c51a4098a976aa128d91fcdb",
            "max": 235,
            "min": 0,
            "orientation": "horizontal",
            "style": "IPY_MODEL_d0dbdff410df487bbd18c0cbafdc45c9",
            "value": 235
          }
        },
        "081db412a0f048ee81e90c18b178eaff": {
          "model_module": "@jupyter-widgets/controls",
          "model_name": "HTMLModel",
          "model_module_version": "1.5.0",
          "state": {
            "_dom_classes": [],
            "_model_module": "@jupyter-widgets/controls",
            "_model_module_version": "1.5.0",
            "_model_name": "HTMLModel",
            "_view_count": null,
            "_view_module": "@jupyter-widgets/controls",
            "_view_module_version": "1.5.0",
            "_view_name": "HTMLView",
            "description": "",
            "description_tooltip": null,
            "layout": "IPY_MODEL_4a7b1befb584406797f404ec74dc251e",
            "placeholder": "​",
            "style": "IPY_MODEL_a5c0f1e3666d439a8d9a391badbcf7d3",
            "value": " 235/235 [00:00&lt;00:00, 21.1kB/s]"
          }
        },
        "eb6dd3b7ee194ff9a9cb5d192d5a53d8": {
          "model_module": "@jupyter-widgets/base",
          "model_name": "LayoutModel",
          "model_module_version": "1.2.0",
          "state": {
            "_model_module": "@jupyter-widgets/base",
            "_model_module_version": "1.2.0",
            "_model_name": "LayoutModel",
            "_view_count": null,
            "_view_module": "@jupyter-widgets/base",
            "_view_module_version": "1.2.0",
            "_view_name": "LayoutView",
            "align_content": null,
            "align_items": null,
            "align_self": null,
            "border": null,
            "bottom": null,
            "display": null,
            "flex": null,
            "flex_flow": null,
            "grid_area": null,
            "grid_auto_columns": null,
            "grid_auto_flow": null,
            "grid_auto_rows": null,
            "grid_column": null,
            "grid_gap": null,
            "grid_row": null,
            "grid_template_areas": null,
            "grid_template_columns": null,
            "grid_template_rows": null,
            "height": null,
            "justify_content": null,
            "justify_items": null,
            "left": null,
            "margin": null,
            "max_height": null,
            "max_width": null,
            "min_height": null,
            "min_width": null,
            "object_fit": null,
            "object_position": null,
            "order": null,
            "overflow": null,
            "overflow_x": null,
            "overflow_y": null,
            "padding": null,
            "right": null,
            "top": null,
            "visibility": null,
            "width": null
          }
        },
        "29dc29b26bc546b7a41a300a00f67b04": {
          "model_module": "@jupyter-widgets/base",
          "model_name": "LayoutModel",
          "model_module_version": "1.2.0",
          "state": {
            "_model_module": "@jupyter-widgets/base",
            "_model_module_version": "1.2.0",
            "_model_name": "LayoutModel",
            "_view_count": null,
            "_view_module": "@jupyter-widgets/base",
            "_view_module_version": "1.2.0",
            "_view_name": "LayoutView",
            "align_content": null,
            "align_items": null,
            "align_self": null,
            "border": null,
            "bottom": null,
            "display": null,
            "flex": null,
            "flex_flow": null,
            "grid_area": null,
            "grid_auto_columns": null,
            "grid_auto_flow": null,
            "grid_auto_rows": null,
            "grid_column": null,
            "grid_gap": null,
            "grid_row": null,
            "grid_template_areas": null,
            "grid_template_columns": null,
            "grid_template_rows": null,
            "height": null,
            "justify_content": null,
            "justify_items": null,
            "left": null,
            "margin": null,
            "max_height": null,
            "max_width": null,
            "min_height": null,
            "min_width": null,
            "object_fit": null,
            "object_position": null,
            "order": null,
            "overflow": null,
            "overflow_x": null,
            "overflow_y": null,
            "padding": null,
            "right": null,
            "top": null,
            "visibility": null,
            "width": null
          }
        },
        "6f34400186e447ce8f400d48996fbb43": {
          "model_module": "@jupyter-widgets/controls",
          "model_name": "DescriptionStyleModel",
          "model_module_version": "1.5.0",
          "state": {
            "_model_module": "@jupyter-widgets/controls",
            "_model_module_version": "1.5.0",
            "_model_name": "DescriptionStyleModel",
            "_view_count": null,
            "_view_module": "@jupyter-widgets/base",
            "_view_module_version": "1.2.0",
            "_view_name": "StyleView",
            "description_width": ""
          }
        },
        "426c3bd4c51a4098a976aa128d91fcdb": {
          "model_module": "@jupyter-widgets/base",
          "model_name": "LayoutModel",
          "model_module_version": "1.2.0",
          "state": {
            "_model_module": "@jupyter-widgets/base",
            "_model_module_version": "1.2.0",
            "_model_name": "LayoutModel",
            "_view_count": null,
            "_view_module": "@jupyter-widgets/base",
            "_view_module_version": "1.2.0",
            "_view_name": "LayoutView",
            "align_content": null,
            "align_items": null,
            "align_self": null,
            "border": null,
            "bottom": null,
            "display": null,
            "flex": null,
            "flex_flow": null,
            "grid_area": null,
            "grid_auto_columns": null,
            "grid_auto_flow": null,
            "grid_auto_rows": null,
            "grid_column": null,
            "grid_gap": null,
            "grid_row": null,
            "grid_template_areas": null,
            "grid_template_columns": null,
            "grid_template_rows": null,
            "height": null,
            "justify_content": null,
            "justify_items": null,
            "left": null,
            "margin": null,
            "max_height": null,
            "max_width": null,
            "min_height": null,
            "min_width": null,
            "object_fit": null,
            "object_position": null,
            "order": null,
            "overflow": null,
            "overflow_x": null,
            "overflow_y": null,
            "padding": null,
            "right": null,
            "top": null,
            "visibility": null,
            "width": null
          }
        },
        "d0dbdff410df487bbd18c0cbafdc45c9": {
          "model_module": "@jupyter-widgets/controls",
          "model_name": "ProgressStyleModel",
          "model_module_version": "1.5.0",
          "state": {
            "_model_module": "@jupyter-widgets/controls",
            "_model_module_version": "1.5.0",
            "_model_name": "ProgressStyleModel",
            "_view_count": null,
            "_view_module": "@jupyter-widgets/base",
            "_view_module_version": "1.2.0",
            "_view_name": "StyleView",
            "bar_color": null,
            "description_width": ""
          }
        },
        "4a7b1befb584406797f404ec74dc251e": {
          "model_module": "@jupyter-widgets/base",
          "model_name": "LayoutModel",
          "model_module_version": "1.2.0",
          "state": {
            "_model_module": "@jupyter-widgets/base",
            "_model_module_version": "1.2.0",
            "_model_name": "LayoutModel",
            "_view_count": null,
            "_view_module": "@jupyter-widgets/base",
            "_view_module_version": "1.2.0",
            "_view_name": "LayoutView",
            "align_content": null,
            "align_items": null,
            "align_self": null,
            "border": null,
            "bottom": null,
            "display": null,
            "flex": null,
            "flex_flow": null,
            "grid_area": null,
            "grid_auto_columns": null,
            "grid_auto_flow": null,
            "grid_auto_rows": null,
            "grid_column": null,
            "grid_gap": null,
            "grid_row": null,
            "grid_template_areas": null,
            "grid_template_columns": null,
            "grid_template_rows": null,
            "height": null,
            "justify_content": null,
            "justify_items": null,
            "left": null,
            "margin": null,
            "max_height": null,
            "max_width": null,
            "min_height": null,
            "min_width": null,
            "object_fit": null,
            "object_position": null,
            "order": null,
            "overflow": null,
            "overflow_x": null,
            "overflow_y": null,
            "padding": null,
            "right": null,
            "top": null,
            "visibility": null,
            "width": null
          }
        },
        "a5c0f1e3666d439a8d9a391badbcf7d3": {
          "model_module": "@jupyter-widgets/controls",
          "model_name": "DescriptionStyleModel",
          "model_module_version": "1.5.0",
          "state": {
            "_model_module": "@jupyter-widgets/controls",
            "_model_module_version": "1.5.0",
            "_model_name": "DescriptionStyleModel",
            "_view_count": null,
            "_view_module": "@jupyter-widgets/base",
            "_view_module_version": "1.2.0",
            "_view_name": "StyleView",
            "description_width": ""
          }
        },
        "eed8d594822940dfbde4a58b3a2ce645": {
          "model_module": "@jupyter-widgets/controls",
          "model_name": "HBoxModel",
          "model_module_version": "1.5.0",
          "state": {
            "_dom_classes": [],
            "_model_module": "@jupyter-widgets/controls",
            "_model_module_version": "1.5.0",
            "_model_name": "HBoxModel",
            "_view_count": null,
            "_view_module": "@jupyter-widgets/controls",
            "_view_module_version": "1.5.0",
            "_view_name": "HBoxView",
            "box_style": "",
            "children": [
              "IPY_MODEL_52bc1669df6b4de183d0d6b875656648",
              "IPY_MODEL_290bf783a2ff4f4d990b78b6186d82fd",
              "IPY_MODEL_24bd2612f99749f191c00dc7b587df33"
            ],
            "layout": "IPY_MODEL_03456d9f722e467fbde5dc9210d5af85"
          }
        },
        "52bc1669df6b4de183d0d6b875656648": {
          "model_module": "@jupyter-widgets/controls",
          "model_name": "HTMLModel",
          "model_module_version": "1.5.0",
          "state": {
            "_dom_classes": [],
            "_model_module": "@jupyter-widgets/controls",
            "_model_module_version": "1.5.0",
            "_model_name": "HTMLModel",
            "_view_count": null,
            "_view_module": "@jupyter-widgets/controls",
            "_view_module_version": "1.5.0",
            "_view_name": "HTMLView",
            "description": "",
            "description_tooltip": null,
            "layout": "IPY_MODEL_4034495c0f97440b8b81b4e0d994fe3e",
            "placeholder": "​",
            "style": "IPY_MODEL_64cd2f67c3ae43339aef9d9e9751b15b",
            "value": "Downloading data: 100%"
          }
        },
        "290bf783a2ff4f4d990b78b6186d82fd": {
          "model_module": "@jupyter-widgets/controls",
          "model_name": "FloatProgressModel",
          "model_module_version": "1.5.0",
          "state": {
            "_dom_classes": [],
            "_model_module": "@jupyter-widgets/controls",
            "_model_module_version": "1.5.0",
            "_model_name": "FloatProgressModel",
            "_view_count": null,
            "_view_module": "@jupyter-widgets/controls",
            "_view_module_version": "1.5.0",
            "_view_name": "ProgressView",
            "bar_style": "success",
            "description": "",
            "description_tooltip": null,
            "layout": "IPY_MODEL_d3fb8e33f3414e1982749befef5611b8",
            "max": 192271,
            "min": 0,
            "orientation": "horizontal",
            "style": "IPY_MODEL_6c47a52bd37b40a0a8b8b5fbd2037e0f",
            "value": 192271
          }
        },
        "24bd2612f99749f191c00dc7b587df33": {
          "model_module": "@jupyter-widgets/controls",
          "model_name": "HTMLModel",
          "model_module_version": "1.5.0",
          "state": {
            "_dom_classes": [],
            "_model_module": "@jupyter-widgets/controls",
            "_model_module_version": "1.5.0",
            "_model_name": "HTMLModel",
            "_view_count": null,
            "_view_module": "@jupyter-widgets/controls",
            "_view_module_version": "1.5.0",
            "_view_name": "HTMLView",
            "description": "",
            "description_tooltip": null,
            "layout": "IPY_MODEL_6ce3fcebdac24ca9bf43c2f3dabe1594",
            "placeholder": "​",
            "style": "IPY_MODEL_07ae50344744411aaf13667b277687f5",
            "value": " 192k/192k [00:00&lt;00:00, 700kB/s]"
          }
        },
        "03456d9f722e467fbde5dc9210d5af85": {
          "model_module": "@jupyter-widgets/base",
          "model_name": "LayoutModel",
          "model_module_version": "1.2.0",
          "state": {
            "_model_module": "@jupyter-widgets/base",
            "_model_module_version": "1.2.0",
            "_model_name": "LayoutModel",
            "_view_count": null,
            "_view_module": "@jupyter-widgets/base",
            "_view_module_version": "1.2.0",
            "_view_name": "LayoutView",
            "align_content": null,
            "align_items": null,
            "align_self": null,
            "border": null,
            "bottom": null,
            "display": null,
            "flex": null,
            "flex_flow": null,
            "grid_area": null,
            "grid_auto_columns": null,
            "grid_auto_flow": null,
            "grid_auto_rows": null,
            "grid_column": null,
            "grid_gap": null,
            "grid_row": null,
            "grid_template_areas": null,
            "grid_template_columns": null,
            "grid_template_rows": null,
            "height": null,
            "justify_content": null,
            "justify_items": null,
            "left": null,
            "margin": null,
            "max_height": null,
            "max_width": null,
            "min_height": null,
            "min_width": null,
            "object_fit": null,
            "object_position": null,
            "order": null,
            "overflow": null,
            "overflow_x": null,
            "overflow_y": null,
            "padding": null,
            "right": null,
            "top": null,
            "visibility": null,
            "width": null
          }
        },
        "4034495c0f97440b8b81b4e0d994fe3e": {
          "model_module": "@jupyter-widgets/base",
          "model_name": "LayoutModel",
          "model_module_version": "1.2.0",
          "state": {
            "_model_module": "@jupyter-widgets/base",
            "_model_module_version": "1.2.0",
            "_model_name": "LayoutModel",
            "_view_count": null,
            "_view_module": "@jupyter-widgets/base",
            "_view_module_version": "1.2.0",
            "_view_name": "LayoutView",
            "align_content": null,
            "align_items": null,
            "align_self": null,
            "border": null,
            "bottom": null,
            "display": null,
            "flex": null,
            "flex_flow": null,
            "grid_area": null,
            "grid_auto_columns": null,
            "grid_auto_flow": null,
            "grid_auto_rows": null,
            "grid_column": null,
            "grid_gap": null,
            "grid_row": null,
            "grid_template_areas": null,
            "grid_template_columns": null,
            "grid_template_rows": null,
            "height": null,
            "justify_content": null,
            "justify_items": null,
            "left": null,
            "margin": null,
            "max_height": null,
            "max_width": null,
            "min_height": null,
            "min_width": null,
            "object_fit": null,
            "object_position": null,
            "order": null,
            "overflow": null,
            "overflow_x": null,
            "overflow_y": null,
            "padding": null,
            "right": null,
            "top": null,
            "visibility": null,
            "width": null
          }
        },
        "64cd2f67c3ae43339aef9d9e9751b15b": {
          "model_module": "@jupyter-widgets/controls",
          "model_name": "DescriptionStyleModel",
          "model_module_version": "1.5.0",
          "state": {
            "_model_module": "@jupyter-widgets/controls",
            "_model_module_version": "1.5.0",
            "_model_name": "DescriptionStyleModel",
            "_view_count": null,
            "_view_module": "@jupyter-widgets/base",
            "_view_module_version": "1.2.0",
            "_view_name": "StyleView",
            "description_width": ""
          }
        },
        "d3fb8e33f3414e1982749befef5611b8": {
          "model_module": "@jupyter-widgets/base",
          "model_name": "LayoutModel",
          "model_module_version": "1.2.0",
          "state": {
            "_model_module": "@jupyter-widgets/base",
            "_model_module_version": "1.2.0",
            "_model_name": "LayoutModel",
            "_view_count": null,
            "_view_module": "@jupyter-widgets/base",
            "_view_module_version": "1.2.0",
            "_view_name": "LayoutView",
            "align_content": null,
            "align_items": null,
            "align_self": null,
            "border": null,
            "bottom": null,
            "display": null,
            "flex": null,
            "flex_flow": null,
            "grid_area": null,
            "grid_auto_columns": null,
            "grid_auto_flow": null,
            "grid_auto_rows": null,
            "grid_column": null,
            "grid_gap": null,
            "grid_row": null,
            "grid_template_areas": null,
            "grid_template_columns": null,
            "grid_template_rows": null,
            "height": null,
            "justify_content": null,
            "justify_items": null,
            "left": null,
            "margin": null,
            "max_height": null,
            "max_width": null,
            "min_height": null,
            "min_width": null,
            "object_fit": null,
            "object_position": null,
            "order": null,
            "overflow": null,
            "overflow_x": null,
            "overflow_y": null,
            "padding": null,
            "right": null,
            "top": null,
            "visibility": null,
            "width": null
          }
        },
        "6c47a52bd37b40a0a8b8b5fbd2037e0f": {
          "model_module": "@jupyter-widgets/controls",
          "model_name": "ProgressStyleModel",
          "model_module_version": "1.5.0",
          "state": {
            "_model_module": "@jupyter-widgets/controls",
            "_model_module_version": "1.5.0",
            "_model_name": "ProgressStyleModel",
            "_view_count": null,
            "_view_module": "@jupyter-widgets/base",
            "_view_module_version": "1.2.0",
            "_view_name": "StyleView",
            "bar_color": null,
            "description_width": ""
          }
        },
        "6ce3fcebdac24ca9bf43c2f3dabe1594": {
          "model_module": "@jupyter-widgets/base",
          "model_name": "LayoutModel",
          "model_module_version": "1.2.0",
          "state": {
            "_model_module": "@jupyter-widgets/base",
            "_model_module_version": "1.2.0",
            "_model_name": "LayoutModel",
            "_view_count": null,
            "_view_module": "@jupyter-widgets/base",
            "_view_module_version": "1.2.0",
            "_view_name": "LayoutView",
            "align_content": null,
            "align_items": null,
            "align_self": null,
            "border": null,
            "bottom": null,
            "display": null,
            "flex": null,
            "flex_flow": null,
            "grid_area": null,
            "grid_auto_columns": null,
            "grid_auto_flow": null,
            "grid_auto_rows": null,
            "grid_column": null,
            "grid_gap": null,
            "grid_row": null,
            "grid_template_areas": null,
            "grid_template_columns": null,
            "grid_template_rows": null,
            "height": null,
            "justify_content": null,
            "justify_items": null,
            "left": null,
            "margin": null,
            "max_height": null,
            "max_width": null,
            "min_height": null,
            "min_width": null,
            "object_fit": null,
            "object_position": null,
            "order": null,
            "overflow": null,
            "overflow_x": null,
            "overflow_y": null,
            "padding": null,
            "right": null,
            "top": null,
            "visibility": null,
            "width": null
          }
        },
        "07ae50344744411aaf13667b277687f5": {
          "model_module": "@jupyter-widgets/controls",
          "model_name": "DescriptionStyleModel",
          "model_module_version": "1.5.0",
          "state": {
            "_model_module": "@jupyter-widgets/controls",
            "_model_module_version": "1.5.0",
            "_model_name": "DescriptionStyleModel",
            "_view_count": null,
            "_view_module": "@jupyter-widgets/base",
            "_view_module_version": "1.2.0",
            "_view_name": "StyleView",
            "description_width": ""
          }
        },
        "e89f24b5d06a42cfaed7ae3eb12c5fb3": {
          "model_module": "@jupyter-widgets/controls",
          "model_name": "HBoxModel",
          "model_module_version": "1.5.0",
          "state": {
            "_dom_classes": [],
            "_model_module": "@jupyter-widgets/controls",
            "_model_module_version": "1.5.0",
            "_model_name": "HBoxModel",
            "_view_count": null,
            "_view_module": "@jupyter-widgets/controls",
            "_view_module_version": "1.5.0",
            "_view_name": "HBoxView",
            "box_style": "",
            "children": [
              "IPY_MODEL_99a65fe6637a4115a67d88452fa3aee3",
              "IPY_MODEL_e3959edd5dc445d1bddf3d966f42fb3c",
              "IPY_MODEL_f7af9ce0268641eab1f046b39b52b6cf"
            ],
            "layout": "IPY_MODEL_737e1eb337d645de94c64cf3245ceb8a"
          }
        },
        "99a65fe6637a4115a67d88452fa3aee3": {
          "model_module": "@jupyter-widgets/controls",
          "model_name": "HTMLModel",
          "model_module_version": "1.5.0",
          "state": {
            "_dom_classes": [],
            "_model_module": "@jupyter-widgets/controls",
            "_model_module_version": "1.5.0",
            "_model_name": "HTMLModel",
            "_view_count": null,
            "_view_module": "@jupyter-widgets/controls",
            "_view_module_version": "1.5.0",
            "_view_name": "HTMLView",
            "description": "",
            "description_tooltip": null,
            "layout": "IPY_MODEL_1815a08b6bdf4bc68e16c0910f9df80f",
            "placeholder": "​",
            "style": "IPY_MODEL_060f8ac974674b71befe6ec4e7469b7c",
            "value": "Generating train split: 100%"
          }
        },
        "e3959edd5dc445d1bddf3d966f42fb3c": {
          "model_module": "@jupyter-widgets/controls",
          "model_name": "FloatProgressModel",
          "model_module_version": "1.5.0",
          "state": {
            "_dom_classes": [],
            "_model_module": "@jupyter-widgets/controls",
            "_model_module_version": "1.5.0",
            "_model_name": "FloatProgressModel",
            "_view_count": null,
            "_view_module": "@jupyter-widgets/controls",
            "_view_module_version": "1.5.0",
            "_view_name": "ProgressView",
            "bar_style": "success",
            "description": "",
            "description_tooltip": null,
            "layout": "IPY_MODEL_a8e7c782f9dc4a3799a9445e9fb7e72a",
            "max": 2111,
            "min": 0,
            "orientation": "horizontal",
            "style": "IPY_MODEL_0f18fef820024f4197d7100816504b92",
            "value": 2111
          }
        },
        "f7af9ce0268641eab1f046b39b52b6cf": {
          "model_module": "@jupyter-widgets/controls",
          "model_name": "HTMLModel",
          "model_module_version": "1.5.0",
          "state": {
            "_dom_classes": [],
            "_model_module": "@jupyter-widgets/controls",
            "_model_module_version": "1.5.0",
            "_model_name": "HTMLModel",
            "_view_count": null,
            "_view_module": "@jupyter-widgets/controls",
            "_view_module_version": "1.5.0",
            "_view_name": "HTMLView",
            "description": "",
            "description_tooltip": null,
            "layout": "IPY_MODEL_f8abc795b169440da2a2dd297ed52677",
            "placeholder": "​",
            "style": "IPY_MODEL_fc92560e962741a2ae78abb449513d45",
            "value": " 2111/2111 [00:00&lt;00:00, 41534.19 examples/s]"
          }
        },
        "737e1eb337d645de94c64cf3245ceb8a": {
          "model_module": "@jupyter-widgets/base",
          "model_name": "LayoutModel",
          "model_module_version": "1.2.0",
          "state": {
            "_model_module": "@jupyter-widgets/base",
            "_model_module_version": "1.2.0",
            "_model_name": "LayoutModel",
            "_view_count": null,
            "_view_module": "@jupyter-widgets/base",
            "_view_module_version": "1.2.0",
            "_view_name": "LayoutView",
            "align_content": null,
            "align_items": null,
            "align_self": null,
            "border": null,
            "bottom": null,
            "display": null,
            "flex": null,
            "flex_flow": null,
            "grid_area": null,
            "grid_auto_columns": null,
            "grid_auto_flow": null,
            "grid_auto_rows": null,
            "grid_column": null,
            "grid_gap": null,
            "grid_row": null,
            "grid_template_areas": null,
            "grid_template_columns": null,
            "grid_template_rows": null,
            "height": null,
            "justify_content": null,
            "justify_items": null,
            "left": null,
            "margin": null,
            "max_height": null,
            "max_width": null,
            "min_height": null,
            "min_width": null,
            "object_fit": null,
            "object_position": null,
            "order": null,
            "overflow": null,
            "overflow_x": null,
            "overflow_y": null,
            "padding": null,
            "right": null,
            "top": null,
            "visibility": null,
            "width": null
          }
        },
        "1815a08b6bdf4bc68e16c0910f9df80f": {
          "model_module": "@jupyter-widgets/base",
          "model_name": "LayoutModel",
          "model_module_version": "1.2.0",
          "state": {
            "_model_module": "@jupyter-widgets/base",
            "_model_module_version": "1.2.0",
            "_model_name": "LayoutModel",
            "_view_count": null,
            "_view_module": "@jupyter-widgets/base",
            "_view_module_version": "1.2.0",
            "_view_name": "LayoutView",
            "align_content": null,
            "align_items": null,
            "align_self": null,
            "border": null,
            "bottom": null,
            "display": null,
            "flex": null,
            "flex_flow": null,
            "grid_area": null,
            "grid_auto_columns": null,
            "grid_auto_flow": null,
            "grid_auto_rows": null,
            "grid_column": null,
            "grid_gap": null,
            "grid_row": null,
            "grid_template_areas": null,
            "grid_template_columns": null,
            "grid_template_rows": null,
            "height": null,
            "justify_content": null,
            "justify_items": null,
            "left": null,
            "margin": null,
            "max_height": null,
            "max_width": null,
            "min_height": null,
            "min_width": null,
            "object_fit": null,
            "object_position": null,
            "order": null,
            "overflow": null,
            "overflow_x": null,
            "overflow_y": null,
            "padding": null,
            "right": null,
            "top": null,
            "visibility": null,
            "width": null
          }
        },
        "060f8ac974674b71befe6ec4e7469b7c": {
          "model_module": "@jupyter-widgets/controls",
          "model_name": "DescriptionStyleModel",
          "model_module_version": "1.5.0",
          "state": {
            "_model_module": "@jupyter-widgets/controls",
            "_model_module_version": "1.5.0",
            "_model_name": "DescriptionStyleModel",
            "_view_count": null,
            "_view_module": "@jupyter-widgets/base",
            "_view_module_version": "1.2.0",
            "_view_name": "StyleView",
            "description_width": ""
          }
        },
        "a8e7c782f9dc4a3799a9445e9fb7e72a": {
          "model_module": "@jupyter-widgets/base",
          "model_name": "LayoutModel",
          "model_module_version": "1.2.0",
          "state": {
            "_model_module": "@jupyter-widgets/base",
            "_model_module_version": "1.2.0",
            "_model_name": "LayoutModel",
            "_view_count": null,
            "_view_module": "@jupyter-widgets/base",
            "_view_module_version": "1.2.0",
            "_view_name": "LayoutView",
            "align_content": null,
            "align_items": null,
            "align_self": null,
            "border": null,
            "bottom": null,
            "display": null,
            "flex": null,
            "flex_flow": null,
            "grid_area": null,
            "grid_auto_columns": null,
            "grid_auto_flow": null,
            "grid_auto_rows": null,
            "grid_column": null,
            "grid_gap": null,
            "grid_row": null,
            "grid_template_areas": null,
            "grid_template_columns": null,
            "grid_template_rows": null,
            "height": null,
            "justify_content": null,
            "justify_items": null,
            "left": null,
            "margin": null,
            "max_height": null,
            "max_width": null,
            "min_height": null,
            "min_width": null,
            "object_fit": null,
            "object_position": null,
            "order": null,
            "overflow": null,
            "overflow_x": null,
            "overflow_y": null,
            "padding": null,
            "right": null,
            "top": null,
            "visibility": null,
            "width": null
          }
        },
        "0f18fef820024f4197d7100816504b92": {
          "model_module": "@jupyter-widgets/controls",
          "model_name": "ProgressStyleModel",
          "model_module_version": "1.5.0",
          "state": {
            "_model_module": "@jupyter-widgets/controls",
            "_model_module_version": "1.5.0",
            "_model_name": "ProgressStyleModel",
            "_view_count": null,
            "_view_module": "@jupyter-widgets/base",
            "_view_module_version": "1.2.0",
            "_view_name": "StyleView",
            "bar_color": null,
            "description_width": ""
          }
        },
        "f8abc795b169440da2a2dd297ed52677": {
          "model_module": "@jupyter-widgets/base",
          "model_name": "LayoutModel",
          "model_module_version": "1.2.0",
          "state": {
            "_model_module": "@jupyter-widgets/base",
            "_model_module_version": "1.2.0",
            "_model_name": "LayoutModel",
            "_view_count": null,
            "_view_module": "@jupyter-widgets/base",
            "_view_module_version": "1.2.0",
            "_view_name": "LayoutView",
            "align_content": null,
            "align_items": null,
            "align_self": null,
            "border": null,
            "bottom": null,
            "display": null,
            "flex": null,
            "flex_flow": null,
            "grid_area": null,
            "grid_auto_columns": null,
            "grid_auto_flow": null,
            "grid_auto_rows": null,
            "grid_column": null,
            "grid_gap": null,
            "grid_row": null,
            "grid_template_areas": null,
            "grid_template_columns": null,
            "grid_template_rows": null,
            "height": null,
            "justify_content": null,
            "justify_items": null,
            "left": null,
            "margin": null,
            "max_height": null,
            "max_width": null,
            "min_height": null,
            "min_width": null,
            "object_fit": null,
            "object_position": null,
            "order": null,
            "overflow": null,
            "overflow_x": null,
            "overflow_y": null,
            "padding": null,
            "right": null,
            "top": null,
            "visibility": null,
            "width": null
          }
        },
        "fc92560e962741a2ae78abb449513d45": {
          "model_module": "@jupyter-widgets/controls",
          "model_name": "DescriptionStyleModel",
          "model_module_version": "1.5.0",
          "state": {
            "_model_module": "@jupyter-widgets/controls",
            "_model_module_version": "1.5.0",
            "_model_name": "DescriptionStyleModel",
            "_view_count": null,
            "_view_module": "@jupyter-widgets/base",
            "_view_module_version": "1.2.0",
            "_view_name": "StyleView",
            "description_width": ""
          }
        },
        "6714d29207f7416180118c1d3ce5edf1": {
          "model_module": "@jupyter-widgets/controls",
          "model_name": "VBoxModel",
          "model_module_version": "1.5.0",
          "state": {
            "_dom_classes": [],
            "_model_module": "@jupyter-widgets/controls",
            "_model_module_version": "1.5.0",
            "_model_name": "VBoxModel",
            "_view_count": null,
            "_view_module": "@jupyter-widgets/controls",
            "_view_module_version": "1.5.0",
            "_view_name": "VBoxView",
            "box_style": "",
            "children": [
              "IPY_MODEL_40715198c0d340ea91e3c6754548d9e3",
              "IPY_MODEL_a6f835c5b312474590e926189df82395",
              "IPY_MODEL_9c9a4f1c45034b2e8fc5674669ac8b50",
              "IPY_MODEL_bf8886d506dc405eb04274900c17d1f6"
            ],
            "layout": "IPY_MODEL_e754fdc09ee345bab5130bb999faf8c1"
          }
        },
        "5307db1aaccd4986acc32951fc143a98": {
          "model_module": "@jupyter-widgets/controls",
          "model_name": "HTMLModel",
          "model_module_version": "1.5.0",
          "state": {
            "_dom_classes": [],
            "_model_module": "@jupyter-widgets/controls",
            "_model_module_version": "1.5.0",
            "_model_name": "HTMLModel",
            "_view_count": null,
            "_view_module": "@jupyter-widgets/controls",
            "_view_module_version": "1.5.0",
            "_view_name": "HTMLView",
            "description": "",
            "description_tooltip": null,
            "layout": "IPY_MODEL_512bdf4cc1c44b97b17afb2d6050aa82",
            "placeholder": "​",
            "style": "IPY_MODEL_e5f88fa6f7fe43519f08721f6642069d",
            "value": "<center> <img\nsrc=https://huggingface.co/front/assets/huggingface_logo-noborder.svg\nalt='Hugging Face'> <br> Copy a token from <a\nhref=\"https://huggingface.co/settings/tokens\" target=\"_blank\">your Hugging Face\ntokens page</a> and paste it below. <br> Immediately click login after copying\nyour token or it might be stored in plain text in this notebook file. </center>"
          }
        },
        "5101987b11904baf8d29dd0fc9be0e4c": {
          "model_module": "@jupyter-widgets/controls",
          "model_name": "PasswordModel",
          "model_module_version": "1.5.0",
          "state": {
            "_dom_classes": [],
            "_model_module": "@jupyter-widgets/controls",
            "_model_module_version": "1.5.0",
            "_model_name": "PasswordModel",
            "_view_count": null,
            "_view_module": "@jupyter-widgets/controls",
            "_view_module_version": "1.5.0",
            "_view_name": "PasswordView",
            "continuous_update": true,
            "description": "Token:",
            "description_tooltip": null,
            "disabled": false,
            "layout": "IPY_MODEL_9fba147f8cda4cf09b106678fd090bef",
            "placeholder": "​",
            "style": "IPY_MODEL_ac1d17977a3f477687f5a8394ab5acd4",
            "value": ""
          }
        },
        "c440d409588f4d5baa7a9d39906ed098": {
          "model_module": "@jupyter-widgets/controls",
          "model_name": "CheckboxModel",
          "model_module_version": "1.5.0",
          "state": {
            "_dom_classes": [],
            "_model_module": "@jupyter-widgets/controls",
            "_model_module_version": "1.5.0",
            "_model_name": "CheckboxModel",
            "_view_count": null,
            "_view_module": "@jupyter-widgets/controls",
            "_view_module_version": "1.5.0",
            "_view_name": "CheckboxView",
            "description": "Add token as git credential?",
            "description_tooltip": null,
            "disabled": false,
            "indent": true,
            "layout": "IPY_MODEL_009306ab68834a63be1c6c689c7bb54f",
            "style": "IPY_MODEL_8a228c03ea0f4a44bcfc97b1e3b0f8b4",
            "value": true
          }
        },
        "9556e382d0be4e379ee68c05575dcb4d": {
          "model_module": "@jupyter-widgets/controls",
          "model_name": "ButtonModel",
          "model_module_version": "1.5.0",
          "state": {
            "_dom_classes": [],
            "_model_module": "@jupyter-widgets/controls",
            "_model_module_version": "1.5.0",
            "_model_name": "ButtonModel",
            "_view_count": null,
            "_view_module": "@jupyter-widgets/controls",
            "_view_module_version": "1.5.0",
            "_view_name": "ButtonView",
            "button_style": "",
            "description": "Login",
            "disabled": false,
            "icon": "",
            "layout": "IPY_MODEL_9e9df0881f0049128b3ef87e6ec062ae",
            "style": "IPY_MODEL_0da286b468ee4f63936d00fcba76d84d",
            "tooltip": ""
          }
        },
        "902acfad56b74753a8e9d182d52e2695": {
          "model_module": "@jupyter-widgets/controls",
          "model_name": "HTMLModel",
          "model_module_version": "1.5.0",
          "state": {
            "_dom_classes": [],
            "_model_module": "@jupyter-widgets/controls",
            "_model_module_version": "1.5.0",
            "_model_name": "HTMLModel",
            "_view_count": null,
            "_view_module": "@jupyter-widgets/controls",
            "_view_module_version": "1.5.0",
            "_view_name": "HTMLView",
            "description": "",
            "description_tooltip": null,
            "layout": "IPY_MODEL_caad559ead6a48c4ae21d7a255f339e9",
            "placeholder": "​",
            "style": "IPY_MODEL_00617adbe1dc4891bb13683a6615feb5",
            "value": "\n<b>Pro Tip:</b> If you don't already have one, you can create a dedicated\n'notebooks' token with 'write' access, that you can then easily reuse for all\nnotebooks. </center>"
          }
        },
        "e754fdc09ee345bab5130bb999faf8c1": {
          "model_module": "@jupyter-widgets/base",
          "model_name": "LayoutModel",
          "model_module_version": "1.2.0",
          "state": {
            "_model_module": "@jupyter-widgets/base",
            "_model_module_version": "1.2.0",
            "_model_name": "LayoutModel",
            "_view_count": null,
            "_view_module": "@jupyter-widgets/base",
            "_view_module_version": "1.2.0",
            "_view_name": "LayoutView",
            "align_content": null,
            "align_items": "center",
            "align_self": null,
            "border": null,
            "bottom": null,
            "display": "flex",
            "flex": null,
            "flex_flow": "column",
            "grid_area": null,
            "grid_auto_columns": null,
            "grid_auto_flow": null,
            "grid_auto_rows": null,
            "grid_column": null,
            "grid_gap": null,
            "grid_row": null,
            "grid_template_areas": null,
            "grid_template_columns": null,
            "grid_template_rows": null,
            "height": null,
            "justify_content": null,
            "justify_items": null,
            "left": null,
            "margin": null,
            "max_height": null,
            "max_width": null,
            "min_height": null,
            "min_width": null,
            "object_fit": null,
            "object_position": null,
            "order": null,
            "overflow": null,
            "overflow_x": null,
            "overflow_y": null,
            "padding": null,
            "right": null,
            "top": null,
            "visibility": null,
            "width": "50%"
          }
        },
        "512bdf4cc1c44b97b17afb2d6050aa82": {
          "model_module": "@jupyter-widgets/base",
          "model_name": "LayoutModel",
          "model_module_version": "1.2.0",
          "state": {
            "_model_module": "@jupyter-widgets/base",
            "_model_module_version": "1.2.0",
            "_model_name": "LayoutModel",
            "_view_count": null,
            "_view_module": "@jupyter-widgets/base",
            "_view_module_version": "1.2.0",
            "_view_name": "LayoutView",
            "align_content": null,
            "align_items": null,
            "align_self": null,
            "border": null,
            "bottom": null,
            "display": null,
            "flex": null,
            "flex_flow": null,
            "grid_area": null,
            "grid_auto_columns": null,
            "grid_auto_flow": null,
            "grid_auto_rows": null,
            "grid_column": null,
            "grid_gap": null,
            "grid_row": null,
            "grid_template_areas": null,
            "grid_template_columns": null,
            "grid_template_rows": null,
            "height": null,
            "justify_content": null,
            "justify_items": null,
            "left": null,
            "margin": null,
            "max_height": null,
            "max_width": null,
            "min_height": null,
            "min_width": null,
            "object_fit": null,
            "object_position": null,
            "order": null,
            "overflow": null,
            "overflow_x": null,
            "overflow_y": null,
            "padding": null,
            "right": null,
            "top": null,
            "visibility": null,
            "width": null
          }
        },
        "e5f88fa6f7fe43519f08721f6642069d": {
          "model_module": "@jupyter-widgets/controls",
          "model_name": "DescriptionStyleModel",
          "model_module_version": "1.5.0",
          "state": {
            "_model_module": "@jupyter-widgets/controls",
            "_model_module_version": "1.5.0",
            "_model_name": "DescriptionStyleModel",
            "_view_count": null,
            "_view_module": "@jupyter-widgets/base",
            "_view_module_version": "1.2.0",
            "_view_name": "StyleView",
            "description_width": ""
          }
        },
        "9fba147f8cda4cf09b106678fd090bef": {
          "model_module": "@jupyter-widgets/base",
          "model_name": "LayoutModel",
          "model_module_version": "1.2.0",
          "state": {
            "_model_module": "@jupyter-widgets/base",
            "_model_module_version": "1.2.0",
            "_model_name": "LayoutModel",
            "_view_count": null,
            "_view_module": "@jupyter-widgets/base",
            "_view_module_version": "1.2.0",
            "_view_name": "LayoutView",
            "align_content": null,
            "align_items": null,
            "align_self": null,
            "border": null,
            "bottom": null,
            "display": null,
            "flex": null,
            "flex_flow": null,
            "grid_area": null,
            "grid_auto_columns": null,
            "grid_auto_flow": null,
            "grid_auto_rows": null,
            "grid_column": null,
            "grid_gap": null,
            "grid_row": null,
            "grid_template_areas": null,
            "grid_template_columns": null,
            "grid_template_rows": null,
            "height": null,
            "justify_content": null,
            "justify_items": null,
            "left": null,
            "margin": null,
            "max_height": null,
            "max_width": null,
            "min_height": null,
            "min_width": null,
            "object_fit": null,
            "object_position": null,
            "order": null,
            "overflow": null,
            "overflow_x": null,
            "overflow_y": null,
            "padding": null,
            "right": null,
            "top": null,
            "visibility": null,
            "width": null
          }
        },
        "ac1d17977a3f477687f5a8394ab5acd4": {
          "model_module": "@jupyter-widgets/controls",
          "model_name": "DescriptionStyleModel",
          "model_module_version": "1.5.0",
          "state": {
            "_model_module": "@jupyter-widgets/controls",
            "_model_module_version": "1.5.0",
            "_model_name": "DescriptionStyleModel",
            "_view_count": null,
            "_view_module": "@jupyter-widgets/base",
            "_view_module_version": "1.2.0",
            "_view_name": "StyleView",
            "description_width": ""
          }
        },
        "009306ab68834a63be1c6c689c7bb54f": {
          "model_module": "@jupyter-widgets/base",
          "model_name": "LayoutModel",
          "model_module_version": "1.2.0",
          "state": {
            "_model_module": "@jupyter-widgets/base",
            "_model_module_version": "1.2.0",
            "_model_name": "LayoutModel",
            "_view_count": null,
            "_view_module": "@jupyter-widgets/base",
            "_view_module_version": "1.2.0",
            "_view_name": "LayoutView",
            "align_content": null,
            "align_items": null,
            "align_self": null,
            "border": null,
            "bottom": null,
            "display": null,
            "flex": null,
            "flex_flow": null,
            "grid_area": null,
            "grid_auto_columns": null,
            "grid_auto_flow": null,
            "grid_auto_rows": null,
            "grid_column": null,
            "grid_gap": null,
            "grid_row": null,
            "grid_template_areas": null,
            "grid_template_columns": null,
            "grid_template_rows": null,
            "height": null,
            "justify_content": null,
            "justify_items": null,
            "left": null,
            "margin": null,
            "max_height": null,
            "max_width": null,
            "min_height": null,
            "min_width": null,
            "object_fit": null,
            "object_position": null,
            "order": null,
            "overflow": null,
            "overflow_x": null,
            "overflow_y": null,
            "padding": null,
            "right": null,
            "top": null,
            "visibility": null,
            "width": null
          }
        },
        "8a228c03ea0f4a44bcfc97b1e3b0f8b4": {
          "model_module": "@jupyter-widgets/controls",
          "model_name": "DescriptionStyleModel",
          "model_module_version": "1.5.0",
          "state": {
            "_model_module": "@jupyter-widgets/controls",
            "_model_module_version": "1.5.0",
            "_model_name": "DescriptionStyleModel",
            "_view_count": null,
            "_view_module": "@jupyter-widgets/base",
            "_view_module_version": "1.2.0",
            "_view_name": "StyleView",
            "description_width": ""
          }
        },
        "9e9df0881f0049128b3ef87e6ec062ae": {
          "model_module": "@jupyter-widgets/base",
          "model_name": "LayoutModel",
          "model_module_version": "1.2.0",
          "state": {
            "_model_module": "@jupyter-widgets/base",
            "_model_module_version": "1.2.0",
            "_model_name": "LayoutModel",
            "_view_count": null,
            "_view_module": "@jupyter-widgets/base",
            "_view_module_version": "1.2.0",
            "_view_name": "LayoutView",
            "align_content": null,
            "align_items": null,
            "align_self": null,
            "border": null,
            "bottom": null,
            "display": null,
            "flex": null,
            "flex_flow": null,
            "grid_area": null,
            "grid_auto_columns": null,
            "grid_auto_flow": null,
            "grid_auto_rows": null,
            "grid_column": null,
            "grid_gap": null,
            "grid_row": null,
            "grid_template_areas": null,
            "grid_template_columns": null,
            "grid_template_rows": null,
            "height": null,
            "justify_content": null,
            "justify_items": null,
            "left": null,
            "margin": null,
            "max_height": null,
            "max_width": null,
            "min_height": null,
            "min_width": null,
            "object_fit": null,
            "object_position": null,
            "order": null,
            "overflow": null,
            "overflow_x": null,
            "overflow_y": null,
            "padding": null,
            "right": null,
            "top": null,
            "visibility": null,
            "width": null
          }
        },
        "0da286b468ee4f63936d00fcba76d84d": {
          "model_module": "@jupyter-widgets/controls",
          "model_name": "ButtonStyleModel",
          "model_module_version": "1.5.0",
          "state": {
            "_model_module": "@jupyter-widgets/controls",
            "_model_module_version": "1.5.0",
            "_model_name": "ButtonStyleModel",
            "_view_count": null,
            "_view_module": "@jupyter-widgets/base",
            "_view_module_version": "1.2.0",
            "_view_name": "StyleView",
            "button_color": null,
            "font_weight": ""
          }
        },
        "caad559ead6a48c4ae21d7a255f339e9": {
          "model_module": "@jupyter-widgets/base",
          "model_name": "LayoutModel",
          "model_module_version": "1.2.0",
          "state": {
            "_model_module": "@jupyter-widgets/base",
            "_model_module_version": "1.2.0",
            "_model_name": "LayoutModel",
            "_view_count": null,
            "_view_module": "@jupyter-widgets/base",
            "_view_module_version": "1.2.0",
            "_view_name": "LayoutView",
            "align_content": null,
            "align_items": null,
            "align_self": null,
            "border": null,
            "bottom": null,
            "display": null,
            "flex": null,
            "flex_flow": null,
            "grid_area": null,
            "grid_auto_columns": null,
            "grid_auto_flow": null,
            "grid_auto_rows": null,
            "grid_column": null,
            "grid_gap": null,
            "grid_row": null,
            "grid_template_areas": null,
            "grid_template_columns": null,
            "grid_template_rows": null,
            "height": null,
            "justify_content": null,
            "justify_items": null,
            "left": null,
            "margin": null,
            "max_height": null,
            "max_width": null,
            "min_height": null,
            "min_width": null,
            "object_fit": null,
            "object_position": null,
            "order": null,
            "overflow": null,
            "overflow_x": null,
            "overflow_y": null,
            "padding": null,
            "right": null,
            "top": null,
            "visibility": null,
            "width": null
          }
        },
        "00617adbe1dc4891bb13683a6615feb5": {
          "model_module": "@jupyter-widgets/controls",
          "model_name": "DescriptionStyleModel",
          "model_module_version": "1.5.0",
          "state": {
            "_model_module": "@jupyter-widgets/controls",
            "_model_module_version": "1.5.0",
            "_model_name": "DescriptionStyleModel",
            "_view_count": null,
            "_view_module": "@jupyter-widgets/base",
            "_view_module_version": "1.2.0",
            "_view_name": "StyleView",
            "description_width": ""
          }
        },
        "40568e58cde047f9b768fe7830a6062d": {
          "model_module": "@jupyter-widgets/controls",
          "model_name": "LabelModel",
          "model_module_version": "1.5.0",
          "state": {
            "_dom_classes": [],
            "_model_module": "@jupyter-widgets/controls",
            "_model_module_version": "1.5.0",
            "_model_name": "LabelModel",
            "_view_count": null,
            "_view_module": "@jupyter-widgets/controls",
            "_view_module_version": "1.5.0",
            "_view_name": "LabelView",
            "description": "",
            "description_tooltip": null,
            "layout": "IPY_MODEL_3b93d1ecae7947ee8ff46510f9347f18",
            "placeholder": "​",
            "style": "IPY_MODEL_6e1a4d4d97c54ffd88649948c16997c4",
            "value": "Connecting..."
          }
        },
        "3b93d1ecae7947ee8ff46510f9347f18": {
          "model_module": "@jupyter-widgets/base",
          "model_name": "LayoutModel",
          "model_module_version": "1.2.0",
          "state": {
            "_model_module": "@jupyter-widgets/base",
            "_model_module_version": "1.2.0",
            "_model_name": "LayoutModel",
            "_view_count": null,
            "_view_module": "@jupyter-widgets/base",
            "_view_module_version": "1.2.0",
            "_view_name": "LayoutView",
            "align_content": null,
            "align_items": null,
            "align_self": null,
            "border": null,
            "bottom": null,
            "display": null,
            "flex": null,
            "flex_flow": null,
            "grid_area": null,
            "grid_auto_columns": null,
            "grid_auto_flow": null,
            "grid_auto_rows": null,
            "grid_column": null,
            "grid_gap": null,
            "grid_row": null,
            "grid_template_areas": null,
            "grid_template_columns": null,
            "grid_template_rows": null,
            "height": null,
            "justify_content": null,
            "justify_items": null,
            "left": null,
            "margin": null,
            "max_height": null,
            "max_width": null,
            "min_height": null,
            "min_width": null,
            "object_fit": null,
            "object_position": null,
            "order": null,
            "overflow": null,
            "overflow_x": null,
            "overflow_y": null,
            "padding": null,
            "right": null,
            "top": null,
            "visibility": null,
            "width": null
          }
        },
        "6e1a4d4d97c54ffd88649948c16997c4": {
          "model_module": "@jupyter-widgets/controls",
          "model_name": "DescriptionStyleModel",
          "model_module_version": "1.5.0",
          "state": {
            "_model_module": "@jupyter-widgets/controls",
            "_model_module_version": "1.5.0",
            "_model_name": "DescriptionStyleModel",
            "_view_count": null,
            "_view_module": "@jupyter-widgets/base",
            "_view_module_version": "1.2.0",
            "_view_name": "StyleView",
            "description_width": ""
          }
        },
        "40715198c0d340ea91e3c6754548d9e3": {
          "model_module": "@jupyter-widgets/controls",
          "model_name": "LabelModel",
          "model_module_version": "1.5.0",
          "state": {
            "_dom_classes": [],
            "_model_module": "@jupyter-widgets/controls",
            "_model_module_version": "1.5.0",
            "_model_name": "LabelModel",
            "_view_count": null,
            "_view_module": "@jupyter-widgets/controls",
            "_view_module_version": "1.5.0",
            "_view_name": "LabelView",
            "description": "",
            "description_tooltip": null,
            "layout": "IPY_MODEL_7861e6f908af47e886145834582ec16c",
            "placeholder": "​",
            "style": "IPY_MODEL_0a9e17ae47614cfc81938c6e14540dca",
            "value": "Token is valid (permission: write)."
          }
        },
        "a6f835c5b312474590e926189df82395": {
          "model_module": "@jupyter-widgets/controls",
          "model_name": "LabelModel",
          "model_module_version": "1.5.0",
          "state": {
            "_dom_classes": [],
            "_model_module": "@jupyter-widgets/controls",
            "_model_module_version": "1.5.0",
            "_model_name": "LabelModel",
            "_view_count": null,
            "_view_module": "@jupyter-widgets/controls",
            "_view_module_version": "1.5.0",
            "_view_name": "LabelView",
            "description": "",
            "description_tooltip": null,
            "layout": "IPY_MODEL_ba248bbcf5bc43fe86a1b36d07e55a80",
            "placeholder": "​",
            "style": "IPY_MODEL_fb46cc89d94540c8bb2818022c1d3250",
            "value": "Your token has been saved in your configured git credential helpers (store)."
          }
        },
        "9c9a4f1c45034b2e8fc5674669ac8b50": {
          "model_module": "@jupyter-widgets/controls",
          "model_name": "LabelModel",
          "model_module_version": "1.5.0",
          "state": {
            "_dom_classes": [],
            "_model_module": "@jupyter-widgets/controls",
            "_model_module_version": "1.5.0",
            "_model_name": "LabelModel",
            "_view_count": null,
            "_view_module": "@jupyter-widgets/controls",
            "_view_module_version": "1.5.0",
            "_view_name": "LabelView",
            "description": "",
            "description_tooltip": null,
            "layout": "IPY_MODEL_d4c6b0330bb44a40a51d99ed038f5d76",
            "placeholder": "​",
            "style": "IPY_MODEL_42cd70203a9245138adcded1e2f93edb",
            "value": "Your token has been saved to /root/.cache/huggingface/token"
          }
        },
        "bf8886d506dc405eb04274900c17d1f6": {
          "model_module": "@jupyter-widgets/controls",
          "model_name": "LabelModel",
          "model_module_version": "1.5.0",
          "state": {
            "_dom_classes": [],
            "_model_module": "@jupyter-widgets/controls",
            "_model_module_version": "1.5.0",
            "_model_name": "LabelModel",
            "_view_count": null,
            "_view_module": "@jupyter-widgets/controls",
            "_view_module_version": "1.5.0",
            "_view_name": "LabelView",
            "description": "",
            "description_tooltip": null,
            "layout": "IPY_MODEL_e5e40c738abe4ceab4ac3578d9f195a8",
            "placeholder": "​",
            "style": "IPY_MODEL_7b9185b6d8f04300b153941e1db09a34",
            "value": "Login successful"
          }
        },
        "7861e6f908af47e886145834582ec16c": {
          "model_module": "@jupyter-widgets/base",
          "model_name": "LayoutModel",
          "model_module_version": "1.2.0",
          "state": {
            "_model_module": "@jupyter-widgets/base",
            "_model_module_version": "1.2.0",
            "_model_name": "LayoutModel",
            "_view_count": null,
            "_view_module": "@jupyter-widgets/base",
            "_view_module_version": "1.2.0",
            "_view_name": "LayoutView",
            "align_content": null,
            "align_items": null,
            "align_self": null,
            "border": null,
            "bottom": null,
            "display": null,
            "flex": null,
            "flex_flow": null,
            "grid_area": null,
            "grid_auto_columns": null,
            "grid_auto_flow": null,
            "grid_auto_rows": null,
            "grid_column": null,
            "grid_gap": null,
            "grid_row": null,
            "grid_template_areas": null,
            "grid_template_columns": null,
            "grid_template_rows": null,
            "height": null,
            "justify_content": null,
            "justify_items": null,
            "left": null,
            "margin": null,
            "max_height": null,
            "max_width": null,
            "min_height": null,
            "min_width": null,
            "object_fit": null,
            "object_position": null,
            "order": null,
            "overflow": null,
            "overflow_x": null,
            "overflow_y": null,
            "padding": null,
            "right": null,
            "top": null,
            "visibility": null,
            "width": null
          }
        },
        "0a9e17ae47614cfc81938c6e14540dca": {
          "model_module": "@jupyter-widgets/controls",
          "model_name": "DescriptionStyleModel",
          "model_module_version": "1.5.0",
          "state": {
            "_model_module": "@jupyter-widgets/controls",
            "_model_module_version": "1.5.0",
            "_model_name": "DescriptionStyleModel",
            "_view_count": null,
            "_view_module": "@jupyter-widgets/base",
            "_view_module_version": "1.2.0",
            "_view_name": "StyleView",
            "description_width": ""
          }
        },
        "ba248bbcf5bc43fe86a1b36d07e55a80": {
          "model_module": "@jupyter-widgets/base",
          "model_name": "LayoutModel",
          "model_module_version": "1.2.0",
          "state": {
            "_model_module": "@jupyter-widgets/base",
            "_model_module_version": "1.2.0",
            "_model_name": "LayoutModel",
            "_view_count": null,
            "_view_module": "@jupyter-widgets/base",
            "_view_module_version": "1.2.0",
            "_view_name": "LayoutView",
            "align_content": null,
            "align_items": null,
            "align_self": null,
            "border": null,
            "bottom": null,
            "display": null,
            "flex": null,
            "flex_flow": null,
            "grid_area": null,
            "grid_auto_columns": null,
            "grid_auto_flow": null,
            "grid_auto_rows": null,
            "grid_column": null,
            "grid_gap": null,
            "grid_row": null,
            "grid_template_areas": null,
            "grid_template_columns": null,
            "grid_template_rows": null,
            "height": null,
            "justify_content": null,
            "justify_items": null,
            "left": null,
            "margin": null,
            "max_height": null,
            "max_width": null,
            "min_height": null,
            "min_width": null,
            "object_fit": null,
            "object_position": null,
            "order": null,
            "overflow": null,
            "overflow_x": null,
            "overflow_y": null,
            "padding": null,
            "right": null,
            "top": null,
            "visibility": null,
            "width": null
          }
        },
        "fb46cc89d94540c8bb2818022c1d3250": {
          "model_module": "@jupyter-widgets/controls",
          "model_name": "DescriptionStyleModel",
          "model_module_version": "1.5.0",
          "state": {
            "_model_module": "@jupyter-widgets/controls",
            "_model_module_version": "1.5.0",
            "_model_name": "DescriptionStyleModel",
            "_view_count": null,
            "_view_module": "@jupyter-widgets/base",
            "_view_module_version": "1.2.0",
            "_view_name": "StyleView",
            "description_width": ""
          }
        },
        "d4c6b0330bb44a40a51d99ed038f5d76": {
          "model_module": "@jupyter-widgets/base",
          "model_name": "LayoutModel",
          "model_module_version": "1.2.0",
          "state": {
            "_model_module": "@jupyter-widgets/base",
            "_model_module_version": "1.2.0",
            "_model_name": "LayoutModel",
            "_view_count": null,
            "_view_module": "@jupyter-widgets/base",
            "_view_module_version": "1.2.0",
            "_view_name": "LayoutView",
            "align_content": null,
            "align_items": null,
            "align_self": null,
            "border": null,
            "bottom": null,
            "display": null,
            "flex": null,
            "flex_flow": null,
            "grid_area": null,
            "grid_auto_columns": null,
            "grid_auto_flow": null,
            "grid_auto_rows": null,
            "grid_column": null,
            "grid_gap": null,
            "grid_row": null,
            "grid_template_areas": null,
            "grid_template_columns": null,
            "grid_template_rows": null,
            "height": null,
            "justify_content": null,
            "justify_items": null,
            "left": null,
            "margin": null,
            "max_height": null,
            "max_width": null,
            "min_height": null,
            "min_width": null,
            "object_fit": null,
            "object_position": null,
            "order": null,
            "overflow": null,
            "overflow_x": null,
            "overflow_y": null,
            "padding": null,
            "right": null,
            "top": null,
            "visibility": null,
            "width": null
          }
        },
        "42cd70203a9245138adcded1e2f93edb": {
          "model_module": "@jupyter-widgets/controls",
          "model_name": "DescriptionStyleModel",
          "model_module_version": "1.5.0",
          "state": {
            "_model_module": "@jupyter-widgets/controls",
            "_model_module_version": "1.5.0",
            "_model_name": "DescriptionStyleModel",
            "_view_count": null,
            "_view_module": "@jupyter-widgets/base",
            "_view_module_version": "1.2.0",
            "_view_name": "StyleView",
            "description_width": ""
          }
        },
        "e5e40c738abe4ceab4ac3578d9f195a8": {
          "model_module": "@jupyter-widgets/base",
          "model_name": "LayoutModel",
          "model_module_version": "1.2.0",
          "state": {
            "_model_module": "@jupyter-widgets/base",
            "_model_module_version": "1.2.0",
            "_model_name": "LayoutModel",
            "_view_count": null,
            "_view_module": "@jupyter-widgets/base",
            "_view_module_version": "1.2.0",
            "_view_name": "LayoutView",
            "align_content": null,
            "align_items": null,
            "align_self": null,
            "border": null,
            "bottom": null,
            "display": null,
            "flex": null,
            "flex_flow": null,
            "grid_area": null,
            "grid_auto_columns": null,
            "grid_auto_flow": null,
            "grid_auto_rows": null,
            "grid_column": null,
            "grid_gap": null,
            "grid_row": null,
            "grid_template_areas": null,
            "grid_template_columns": null,
            "grid_template_rows": null,
            "height": null,
            "justify_content": null,
            "justify_items": null,
            "left": null,
            "margin": null,
            "max_height": null,
            "max_width": null,
            "min_height": null,
            "min_width": null,
            "object_fit": null,
            "object_position": null,
            "order": null,
            "overflow": null,
            "overflow_x": null,
            "overflow_y": null,
            "padding": null,
            "right": null,
            "top": null,
            "visibility": null,
            "width": null
          }
        },
        "7b9185b6d8f04300b153941e1db09a34": {
          "model_module": "@jupyter-widgets/controls",
          "model_name": "DescriptionStyleModel",
          "model_module_version": "1.5.0",
          "state": {
            "_model_module": "@jupyter-widgets/controls",
            "_model_module_version": "1.5.0",
            "_model_name": "DescriptionStyleModel",
            "_view_count": null,
            "_view_module": "@jupyter-widgets/base",
            "_view_module_version": "1.2.0",
            "_view_name": "StyleView",
            "description_width": ""
          }
        },
        "96b5fc4f41bf4586a95d1cee74aca376": {
          "model_module": "@jupyter-widgets/controls",
          "model_name": "HBoxModel",
          "model_module_version": "1.5.0",
          "state": {
            "_dom_classes": [],
            "_model_module": "@jupyter-widgets/controls",
            "_model_module_version": "1.5.0",
            "_model_name": "HBoxModel",
            "_view_count": null,
            "_view_module": "@jupyter-widgets/controls",
            "_view_module_version": "1.5.0",
            "_view_name": "HBoxView",
            "box_style": "",
            "children": [
              "IPY_MODEL_4f3aabf88216438daedb62ace7d56894",
              "IPY_MODEL_c782bbcee0494da28eba7c43fd899c3e",
              "IPY_MODEL_930684b597b241e58e56f71f2b593864"
            ],
            "layout": "IPY_MODEL_146e2cf1b4e04e98add5c3368a46e640"
          }
        },
        "4f3aabf88216438daedb62ace7d56894": {
          "model_module": "@jupyter-widgets/controls",
          "model_name": "HTMLModel",
          "model_module_version": "1.5.0",
          "state": {
            "_dom_classes": [],
            "_model_module": "@jupyter-widgets/controls",
            "_model_module_version": "1.5.0",
            "_model_name": "HTMLModel",
            "_view_count": null,
            "_view_module": "@jupyter-widgets/controls",
            "_view_module_version": "1.5.0",
            "_view_name": "HTMLView",
            "description": "",
            "description_tooltip": null,
            "layout": "IPY_MODEL_f1007b4ed08f415c98818ae8eef3c847",
            "placeholder": "​",
            "style": "IPY_MODEL_41151b39c9a84574b366309f2c18a00d",
            "value": "config.json: 100%"
          }
        },
        "c782bbcee0494da28eba7c43fd899c3e": {
          "model_module": "@jupyter-widgets/controls",
          "model_name": "FloatProgressModel",
          "model_module_version": "1.5.0",
          "state": {
            "_dom_classes": [],
            "_model_module": "@jupyter-widgets/controls",
            "_model_module_version": "1.5.0",
            "_model_name": "FloatProgressModel",
            "_view_count": null,
            "_view_module": "@jupyter-widgets/controls",
            "_view_module_version": "1.5.0",
            "_view_name": "ProgressView",
            "bar_style": "success",
            "description": "",
            "description_tooltip": null,
            "layout": "IPY_MODEL_5a000e8c3e1e4e919fa74ff6e09644f1",
            "max": 654,
            "min": 0,
            "orientation": "horizontal",
            "style": "IPY_MODEL_edadc0e4eadb4f4f8930d9ab385ae385",
            "value": 654
          }
        },
        "930684b597b241e58e56f71f2b593864": {
          "model_module": "@jupyter-widgets/controls",
          "model_name": "HTMLModel",
          "model_module_version": "1.5.0",
          "state": {
            "_dom_classes": [],
            "_model_module": "@jupyter-widgets/controls",
            "_model_module_version": "1.5.0",
            "_model_name": "HTMLModel",
            "_view_count": null,
            "_view_module": "@jupyter-widgets/controls",
            "_view_module_version": "1.5.0",
            "_view_name": "HTMLView",
            "description": "",
            "description_tooltip": null,
            "layout": "IPY_MODEL_b35eeb112cdd45218b40fb28c926980b",
            "placeholder": "​",
            "style": "IPY_MODEL_4a30584a652049ec99fda130d21b6e53",
            "value": " 654/654 [00:00&lt;00:00, 55.7kB/s]"
          }
        },
        "146e2cf1b4e04e98add5c3368a46e640": {
          "model_module": "@jupyter-widgets/base",
          "model_name": "LayoutModel",
          "model_module_version": "1.2.0",
          "state": {
            "_model_module": "@jupyter-widgets/base",
            "_model_module_version": "1.2.0",
            "_model_name": "LayoutModel",
            "_view_count": null,
            "_view_module": "@jupyter-widgets/base",
            "_view_module_version": "1.2.0",
            "_view_name": "LayoutView",
            "align_content": null,
            "align_items": null,
            "align_self": null,
            "border": null,
            "bottom": null,
            "display": null,
            "flex": null,
            "flex_flow": null,
            "grid_area": null,
            "grid_auto_columns": null,
            "grid_auto_flow": null,
            "grid_auto_rows": null,
            "grid_column": null,
            "grid_gap": null,
            "grid_row": null,
            "grid_template_areas": null,
            "grid_template_columns": null,
            "grid_template_rows": null,
            "height": null,
            "justify_content": null,
            "justify_items": null,
            "left": null,
            "margin": null,
            "max_height": null,
            "max_width": null,
            "min_height": null,
            "min_width": null,
            "object_fit": null,
            "object_position": null,
            "order": null,
            "overflow": null,
            "overflow_x": null,
            "overflow_y": null,
            "padding": null,
            "right": null,
            "top": null,
            "visibility": null,
            "width": null
          }
        },
        "f1007b4ed08f415c98818ae8eef3c847": {
          "model_module": "@jupyter-widgets/base",
          "model_name": "LayoutModel",
          "model_module_version": "1.2.0",
          "state": {
            "_model_module": "@jupyter-widgets/base",
            "_model_module_version": "1.2.0",
            "_model_name": "LayoutModel",
            "_view_count": null,
            "_view_module": "@jupyter-widgets/base",
            "_view_module_version": "1.2.0",
            "_view_name": "LayoutView",
            "align_content": null,
            "align_items": null,
            "align_self": null,
            "border": null,
            "bottom": null,
            "display": null,
            "flex": null,
            "flex_flow": null,
            "grid_area": null,
            "grid_auto_columns": null,
            "grid_auto_flow": null,
            "grid_auto_rows": null,
            "grid_column": null,
            "grid_gap": null,
            "grid_row": null,
            "grid_template_areas": null,
            "grid_template_columns": null,
            "grid_template_rows": null,
            "height": null,
            "justify_content": null,
            "justify_items": null,
            "left": null,
            "margin": null,
            "max_height": null,
            "max_width": null,
            "min_height": null,
            "min_width": null,
            "object_fit": null,
            "object_position": null,
            "order": null,
            "overflow": null,
            "overflow_x": null,
            "overflow_y": null,
            "padding": null,
            "right": null,
            "top": null,
            "visibility": null,
            "width": null
          }
        },
        "41151b39c9a84574b366309f2c18a00d": {
          "model_module": "@jupyter-widgets/controls",
          "model_name": "DescriptionStyleModel",
          "model_module_version": "1.5.0",
          "state": {
            "_model_module": "@jupyter-widgets/controls",
            "_model_module_version": "1.5.0",
            "_model_name": "DescriptionStyleModel",
            "_view_count": null,
            "_view_module": "@jupyter-widgets/base",
            "_view_module_version": "1.2.0",
            "_view_name": "StyleView",
            "description_width": ""
          }
        },
        "5a000e8c3e1e4e919fa74ff6e09644f1": {
          "model_module": "@jupyter-widgets/base",
          "model_name": "LayoutModel",
          "model_module_version": "1.2.0",
          "state": {
            "_model_module": "@jupyter-widgets/base",
            "_model_module_version": "1.2.0",
            "_model_name": "LayoutModel",
            "_view_count": null,
            "_view_module": "@jupyter-widgets/base",
            "_view_module_version": "1.2.0",
            "_view_name": "LayoutView",
            "align_content": null,
            "align_items": null,
            "align_self": null,
            "border": null,
            "bottom": null,
            "display": null,
            "flex": null,
            "flex_flow": null,
            "grid_area": null,
            "grid_auto_columns": null,
            "grid_auto_flow": null,
            "grid_auto_rows": null,
            "grid_column": null,
            "grid_gap": null,
            "grid_row": null,
            "grid_template_areas": null,
            "grid_template_columns": null,
            "grid_template_rows": null,
            "height": null,
            "justify_content": null,
            "justify_items": null,
            "left": null,
            "margin": null,
            "max_height": null,
            "max_width": null,
            "min_height": null,
            "min_width": null,
            "object_fit": null,
            "object_position": null,
            "order": null,
            "overflow": null,
            "overflow_x": null,
            "overflow_y": null,
            "padding": null,
            "right": null,
            "top": null,
            "visibility": null,
            "width": null
          }
        },
        "edadc0e4eadb4f4f8930d9ab385ae385": {
          "model_module": "@jupyter-widgets/controls",
          "model_name": "ProgressStyleModel",
          "model_module_version": "1.5.0",
          "state": {
            "_model_module": "@jupyter-widgets/controls",
            "_model_module_version": "1.5.0",
            "_model_name": "ProgressStyleModel",
            "_view_count": null,
            "_view_module": "@jupyter-widgets/base",
            "_view_module_version": "1.2.0",
            "_view_name": "StyleView",
            "bar_color": null,
            "description_width": ""
          }
        },
        "b35eeb112cdd45218b40fb28c926980b": {
          "model_module": "@jupyter-widgets/base",
          "model_name": "LayoutModel",
          "model_module_version": "1.2.0",
          "state": {
            "_model_module": "@jupyter-widgets/base",
            "_model_module_version": "1.2.0",
            "_model_name": "LayoutModel",
            "_view_count": null,
            "_view_module": "@jupyter-widgets/base",
            "_view_module_version": "1.2.0",
            "_view_name": "LayoutView",
            "align_content": null,
            "align_items": null,
            "align_self": null,
            "border": null,
            "bottom": null,
            "display": null,
            "flex": null,
            "flex_flow": null,
            "grid_area": null,
            "grid_auto_columns": null,
            "grid_auto_flow": null,
            "grid_auto_rows": null,
            "grid_column": null,
            "grid_gap": null,
            "grid_row": null,
            "grid_template_areas": null,
            "grid_template_columns": null,
            "grid_template_rows": null,
            "height": null,
            "justify_content": null,
            "justify_items": null,
            "left": null,
            "margin": null,
            "max_height": null,
            "max_width": null,
            "min_height": null,
            "min_width": null,
            "object_fit": null,
            "object_position": null,
            "order": null,
            "overflow": null,
            "overflow_x": null,
            "overflow_y": null,
            "padding": null,
            "right": null,
            "top": null,
            "visibility": null,
            "width": null
          }
        },
        "4a30584a652049ec99fda130d21b6e53": {
          "model_module": "@jupyter-widgets/controls",
          "model_name": "DescriptionStyleModel",
          "model_module_version": "1.5.0",
          "state": {
            "_model_module": "@jupyter-widgets/controls",
            "_model_module_version": "1.5.0",
            "_model_name": "DescriptionStyleModel",
            "_view_count": null,
            "_view_module": "@jupyter-widgets/base",
            "_view_module_version": "1.2.0",
            "_view_name": "StyleView",
            "description_width": ""
          }
        },
        "ea3d6e64148b40968b5771a1d88560e9": {
          "model_module": "@jupyter-widgets/controls",
          "model_name": "HBoxModel",
          "model_module_version": "1.5.0",
          "state": {
            "_dom_classes": [],
            "_model_module": "@jupyter-widgets/controls",
            "_model_module_version": "1.5.0",
            "_model_name": "HBoxModel",
            "_view_count": null,
            "_view_module": "@jupyter-widgets/controls",
            "_view_module_version": "1.5.0",
            "_view_name": "HBoxView",
            "box_style": "",
            "children": [
              "IPY_MODEL_d9deced46ffe431790250928e7d42a5d",
              "IPY_MODEL_f6cc4ca8b08b4ef8ae6591380aee0b61",
              "IPY_MODEL_4142d0f962b64d6bad2e794806a9555c"
            ],
            "layout": "IPY_MODEL_2d08e5b17aac4eae9d39d0ca31dd8924"
          }
        },
        "d9deced46ffe431790250928e7d42a5d": {
          "model_module": "@jupyter-widgets/controls",
          "model_name": "HTMLModel",
          "model_module_version": "1.5.0",
          "state": {
            "_dom_classes": [],
            "_model_module": "@jupyter-widgets/controls",
            "_model_module_version": "1.5.0",
            "_model_name": "HTMLModel",
            "_view_count": null,
            "_view_module": "@jupyter-widgets/controls",
            "_view_module_version": "1.5.0",
            "_view_name": "HTMLView",
            "description": "",
            "description_tooltip": null,
            "layout": "IPY_MODEL_c9fcafc735734f63b86cc5eacd66a76c",
            "placeholder": "​",
            "style": "IPY_MODEL_61f7a8d1da824fd28463a7dcc43a7b99",
            "value": "model.safetensors.index.json: 100%"
          }
        },
        "f6cc4ca8b08b4ef8ae6591380aee0b61": {
          "model_module": "@jupyter-widgets/controls",
          "model_name": "FloatProgressModel",
          "model_module_version": "1.5.0",
          "state": {
            "_dom_classes": [],
            "_model_module": "@jupyter-widgets/controls",
            "_model_module_version": "1.5.0",
            "_model_name": "FloatProgressModel",
            "_view_count": null,
            "_view_module": "@jupyter-widgets/controls",
            "_view_module_version": "1.5.0",
            "_view_name": "ProgressView",
            "bar_style": "success",
            "description": "",
            "description_tooltip": null,
            "layout": "IPY_MODEL_62b5382bb4504c6fba09523d8d80d19a",
            "max": 59615,
            "min": 0,
            "orientation": "horizontal",
            "style": "IPY_MODEL_392394943e864e4488f8e37dea733886",
            "value": 59615
          }
        },
        "4142d0f962b64d6bad2e794806a9555c": {
          "model_module": "@jupyter-widgets/controls",
          "model_name": "HTMLModel",
          "model_module_version": "1.5.0",
          "state": {
            "_dom_classes": [],
            "_model_module": "@jupyter-widgets/controls",
            "_model_module_version": "1.5.0",
            "_model_name": "HTMLModel",
            "_view_count": null,
            "_view_module": "@jupyter-widgets/controls",
            "_view_module_version": "1.5.0",
            "_view_name": "HTMLView",
            "description": "",
            "description_tooltip": null,
            "layout": "IPY_MODEL_7f948966b7874817898a9524e3b3178e",
            "placeholder": "​",
            "style": "IPY_MODEL_7360759d9ef14858a1cb35792fe25bd0",
            "value": " 59.6k/59.6k [00:00&lt;00:00, 4.89MB/s]"
          }
        },
        "2d08e5b17aac4eae9d39d0ca31dd8924": {
          "model_module": "@jupyter-widgets/base",
          "model_name": "LayoutModel",
          "model_module_version": "1.2.0",
          "state": {
            "_model_module": "@jupyter-widgets/base",
            "_model_module_version": "1.2.0",
            "_model_name": "LayoutModel",
            "_view_count": null,
            "_view_module": "@jupyter-widgets/base",
            "_view_module_version": "1.2.0",
            "_view_name": "LayoutView",
            "align_content": null,
            "align_items": null,
            "align_self": null,
            "border": null,
            "bottom": null,
            "display": null,
            "flex": null,
            "flex_flow": null,
            "grid_area": null,
            "grid_auto_columns": null,
            "grid_auto_flow": null,
            "grid_auto_rows": null,
            "grid_column": null,
            "grid_gap": null,
            "grid_row": null,
            "grid_template_areas": null,
            "grid_template_columns": null,
            "grid_template_rows": null,
            "height": null,
            "justify_content": null,
            "justify_items": null,
            "left": null,
            "margin": null,
            "max_height": null,
            "max_width": null,
            "min_height": null,
            "min_width": null,
            "object_fit": null,
            "object_position": null,
            "order": null,
            "overflow": null,
            "overflow_x": null,
            "overflow_y": null,
            "padding": null,
            "right": null,
            "top": null,
            "visibility": null,
            "width": null
          }
        },
        "c9fcafc735734f63b86cc5eacd66a76c": {
          "model_module": "@jupyter-widgets/base",
          "model_name": "LayoutModel",
          "model_module_version": "1.2.0",
          "state": {
            "_model_module": "@jupyter-widgets/base",
            "_model_module_version": "1.2.0",
            "_model_name": "LayoutModel",
            "_view_count": null,
            "_view_module": "@jupyter-widgets/base",
            "_view_module_version": "1.2.0",
            "_view_name": "LayoutView",
            "align_content": null,
            "align_items": null,
            "align_self": null,
            "border": null,
            "bottom": null,
            "display": null,
            "flex": null,
            "flex_flow": null,
            "grid_area": null,
            "grid_auto_columns": null,
            "grid_auto_flow": null,
            "grid_auto_rows": null,
            "grid_column": null,
            "grid_gap": null,
            "grid_row": null,
            "grid_template_areas": null,
            "grid_template_columns": null,
            "grid_template_rows": null,
            "height": null,
            "justify_content": null,
            "justify_items": null,
            "left": null,
            "margin": null,
            "max_height": null,
            "max_width": null,
            "min_height": null,
            "min_width": null,
            "object_fit": null,
            "object_position": null,
            "order": null,
            "overflow": null,
            "overflow_x": null,
            "overflow_y": null,
            "padding": null,
            "right": null,
            "top": null,
            "visibility": null,
            "width": null
          }
        },
        "61f7a8d1da824fd28463a7dcc43a7b99": {
          "model_module": "@jupyter-widgets/controls",
          "model_name": "DescriptionStyleModel",
          "model_module_version": "1.5.0",
          "state": {
            "_model_module": "@jupyter-widgets/controls",
            "_model_module_version": "1.5.0",
            "_model_name": "DescriptionStyleModel",
            "_view_count": null,
            "_view_module": "@jupyter-widgets/base",
            "_view_module_version": "1.2.0",
            "_view_name": "StyleView",
            "description_width": ""
          }
        },
        "62b5382bb4504c6fba09523d8d80d19a": {
          "model_module": "@jupyter-widgets/base",
          "model_name": "LayoutModel",
          "model_module_version": "1.2.0",
          "state": {
            "_model_module": "@jupyter-widgets/base",
            "_model_module_version": "1.2.0",
            "_model_name": "LayoutModel",
            "_view_count": null,
            "_view_module": "@jupyter-widgets/base",
            "_view_module_version": "1.2.0",
            "_view_name": "LayoutView",
            "align_content": null,
            "align_items": null,
            "align_self": null,
            "border": null,
            "bottom": null,
            "display": null,
            "flex": null,
            "flex_flow": null,
            "grid_area": null,
            "grid_auto_columns": null,
            "grid_auto_flow": null,
            "grid_auto_rows": null,
            "grid_column": null,
            "grid_gap": null,
            "grid_row": null,
            "grid_template_areas": null,
            "grid_template_columns": null,
            "grid_template_rows": null,
            "height": null,
            "justify_content": null,
            "justify_items": null,
            "left": null,
            "margin": null,
            "max_height": null,
            "max_width": null,
            "min_height": null,
            "min_width": null,
            "object_fit": null,
            "object_position": null,
            "order": null,
            "overflow": null,
            "overflow_x": null,
            "overflow_y": null,
            "padding": null,
            "right": null,
            "top": null,
            "visibility": null,
            "width": null
          }
        },
        "392394943e864e4488f8e37dea733886": {
          "model_module": "@jupyter-widgets/controls",
          "model_name": "ProgressStyleModel",
          "model_module_version": "1.5.0",
          "state": {
            "_model_module": "@jupyter-widgets/controls",
            "_model_module_version": "1.5.0",
            "_model_name": "ProgressStyleModel",
            "_view_count": null,
            "_view_module": "@jupyter-widgets/base",
            "_view_module_version": "1.2.0",
            "_view_name": "StyleView",
            "bar_color": null,
            "description_width": ""
          }
        },
        "7f948966b7874817898a9524e3b3178e": {
          "model_module": "@jupyter-widgets/base",
          "model_name": "LayoutModel",
          "model_module_version": "1.2.0",
          "state": {
            "_model_module": "@jupyter-widgets/base",
            "_model_module_version": "1.2.0",
            "_model_name": "LayoutModel",
            "_view_count": null,
            "_view_module": "@jupyter-widgets/base",
            "_view_module_version": "1.2.0",
            "_view_name": "LayoutView",
            "align_content": null,
            "align_items": null,
            "align_self": null,
            "border": null,
            "bottom": null,
            "display": null,
            "flex": null,
            "flex_flow": null,
            "grid_area": null,
            "grid_auto_columns": null,
            "grid_auto_flow": null,
            "grid_auto_rows": null,
            "grid_column": null,
            "grid_gap": null,
            "grid_row": null,
            "grid_template_areas": null,
            "grid_template_columns": null,
            "grid_template_rows": null,
            "height": null,
            "justify_content": null,
            "justify_items": null,
            "left": null,
            "margin": null,
            "max_height": null,
            "max_width": null,
            "min_height": null,
            "min_width": null,
            "object_fit": null,
            "object_position": null,
            "order": null,
            "overflow": null,
            "overflow_x": null,
            "overflow_y": null,
            "padding": null,
            "right": null,
            "top": null,
            "visibility": null,
            "width": null
          }
        },
        "7360759d9ef14858a1cb35792fe25bd0": {
          "model_module": "@jupyter-widgets/controls",
          "model_name": "DescriptionStyleModel",
          "model_module_version": "1.5.0",
          "state": {
            "_model_module": "@jupyter-widgets/controls",
            "_model_module_version": "1.5.0",
            "_model_name": "DescriptionStyleModel",
            "_view_count": null,
            "_view_module": "@jupyter-widgets/base",
            "_view_module_version": "1.2.0",
            "_view_name": "StyleView",
            "description_width": ""
          }
        },
        "fcaab62318304c73812cf68fade89e82": {
          "model_module": "@jupyter-widgets/controls",
          "model_name": "HBoxModel",
          "model_module_version": "1.5.0",
          "state": {
            "_dom_classes": [],
            "_model_module": "@jupyter-widgets/controls",
            "_model_module_version": "1.5.0",
            "_model_name": "HBoxModel",
            "_view_count": null,
            "_view_module": "@jupyter-widgets/controls",
            "_view_module_version": "1.5.0",
            "_view_name": "HBoxView",
            "box_style": "",
            "children": [
              "IPY_MODEL_b1b7716d1ffc464b8ee3f5f8a8bcb761",
              "IPY_MODEL_5bf5c97321e44912911190fd8a9c8e28",
              "IPY_MODEL_646d630dfbea45ba86216966450cc46a"
            ],
            "layout": "IPY_MODEL_c986b3a0ab6147fba44e24dacdf52579"
          }
        },
        "b1b7716d1ffc464b8ee3f5f8a8bcb761": {
          "model_module": "@jupyter-widgets/controls",
          "model_name": "HTMLModel",
          "model_module_version": "1.5.0",
          "state": {
            "_dom_classes": [],
            "_model_module": "@jupyter-widgets/controls",
            "_model_module_version": "1.5.0",
            "_model_name": "HTMLModel",
            "_view_count": null,
            "_view_module": "@jupyter-widgets/controls",
            "_view_module_version": "1.5.0",
            "_view_name": "HTMLView",
            "description": "",
            "description_tooltip": null,
            "layout": "IPY_MODEL_6fe9549b6f414ae881d3b2b9f73edbe8",
            "placeholder": "​",
            "style": "IPY_MODEL_61575386fc1045518faa6b480f1d4cba",
            "value": "Downloading shards:  37%"
          }
        },
        "5bf5c97321e44912911190fd8a9c8e28": {
          "model_module": "@jupyter-widgets/controls",
          "model_name": "FloatProgressModel",
          "model_module_version": "1.5.0",
          "state": {
            "_dom_classes": [],
            "_model_module": "@jupyter-widgets/controls",
            "_model_module_version": "1.5.0",
            "_model_name": "FloatProgressModel",
            "_view_count": null,
            "_view_module": "@jupyter-widgets/controls",
            "_view_module_version": "1.5.0",
            "_view_name": "ProgressView",
            "bar_style": "danger",
            "description": "",
            "description_tooltip": null,
            "layout": "IPY_MODEL_0dacf0bd2cc84900949d83099af5515a",
            "max": 30,
            "min": 0,
            "orientation": "horizontal",
            "style": "IPY_MODEL_11a28033c99b4d8888f27192b59f0f53",
            "value": 11
          }
        },
        "646d630dfbea45ba86216966450cc46a": {
          "model_module": "@jupyter-widgets/controls",
          "model_name": "HTMLModel",
          "model_module_version": "1.5.0",
          "state": {
            "_dom_classes": [],
            "_model_module": "@jupyter-widgets/controls",
            "_model_module_version": "1.5.0",
            "_model_name": "HTMLModel",
            "_view_count": null,
            "_view_module": "@jupyter-widgets/controls",
            "_view_module_version": "1.5.0",
            "_view_name": "HTMLView",
            "description": "",
            "description_tooltip": null,
            "layout": "IPY_MODEL_7ee28e5d0de84dffb1b540c03bf59da2",
            "placeholder": "​",
            "style": "IPY_MODEL_26991700693946cc8db1948d361a7b40",
            "value": " 11/30 [03:09&lt;05:06, 16.15s/it]"
          }
        },
        "c986b3a0ab6147fba44e24dacdf52579": {
          "model_module": "@jupyter-widgets/base",
          "model_name": "LayoutModel",
          "model_module_version": "1.2.0",
          "state": {
            "_model_module": "@jupyter-widgets/base",
            "_model_module_version": "1.2.0",
            "_model_name": "LayoutModel",
            "_view_count": null,
            "_view_module": "@jupyter-widgets/base",
            "_view_module_version": "1.2.0",
            "_view_name": "LayoutView",
            "align_content": null,
            "align_items": null,
            "align_self": null,
            "border": null,
            "bottom": null,
            "display": null,
            "flex": null,
            "flex_flow": null,
            "grid_area": null,
            "grid_auto_columns": null,
            "grid_auto_flow": null,
            "grid_auto_rows": null,
            "grid_column": null,
            "grid_gap": null,
            "grid_row": null,
            "grid_template_areas": null,
            "grid_template_columns": null,
            "grid_template_rows": null,
            "height": null,
            "justify_content": null,
            "justify_items": null,
            "left": null,
            "margin": null,
            "max_height": null,
            "max_width": null,
            "min_height": null,
            "min_width": null,
            "object_fit": null,
            "object_position": null,
            "order": null,
            "overflow": null,
            "overflow_x": null,
            "overflow_y": null,
            "padding": null,
            "right": null,
            "top": null,
            "visibility": null,
            "width": null
          }
        },
        "6fe9549b6f414ae881d3b2b9f73edbe8": {
          "model_module": "@jupyter-widgets/base",
          "model_name": "LayoutModel",
          "model_module_version": "1.2.0",
          "state": {
            "_model_module": "@jupyter-widgets/base",
            "_model_module_version": "1.2.0",
            "_model_name": "LayoutModel",
            "_view_count": null,
            "_view_module": "@jupyter-widgets/base",
            "_view_module_version": "1.2.0",
            "_view_name": "LayoutView",
            "align_content": null,
            "align_items": null,
            "align_self": null,
            "border": null,
            "bottom": null,
            "display": null,
            "flex": null,
            "flex_flow": null,
            "grid_area": null,
            "grid_auto_columns": null,
            "grid_auto_flow": null,
            "grid_auto_rows": null,
            "grid_column": null,
            "grid_gap": null,
            "grid_row": null,
            "grid_template_areas": null,
            "grid_template_columns": null,
            "grid_template_rows": null,
            "height": null,
            "justify_content": null,
            "justify_items": null,
            "left": null,
            "margin": null,
            "max_height": null,
            "max_width": null,
            "min_height": null,
            "min_width": null,
            "object_fit": null,
            "object_position": null,
            "order": null,
            "overflow": null,
            "overflow_x": null,
            "overflow_y": null,
            "padding": null,
            "right": null,
            "top": null,
            "visibility": null,
            "width": null
          }
        },
        "61575386fc1045518faa6b480f1d4cba": {
          "model_module": "@jupyter-widgets/controls",
          "model_name": "DescriptionStyleModel",
          "model_module_version": "1.5.0",
          "state": {
            "_model_module": "@jupyter-widgets/controls",
            "_model_module_version": "1.5.0",
            "_model_name": "DescriptionStyleModel",
            "_view_count": null,
            "_view_module": "@jupyter-widgets/base",
            "_view_module_version": "1.2.0",
            "_view_name": "StyleView",
            "description_width": ""
          }
        },
        "0dacf0bd2cc84900949d83099af5515a": {
          "model_module": "@jupyter-widgets/base",
          "model_name": "LayoutModel",
          "model_module_version": "1.2.0",
          "state": {
            "_model_module": "@jupyter-widgets/base",
            "_model_module_version": "1.2.0",
            "_model_name": "LayoutModel",
            "_view_count": null,
            "_view_module": "@jupyter-widgets/base",
            "_view_module_version": "1.2.0",
            "_view_name": "LayoutView",
            "align_content": null,
            "align_items": null,
            "align_self": null,
            "border": null,
            "bottom": null,
            "display": null,
            "flex": null,
            "flex_flow": null,
            "grid_area": null,
            "grid_auto_columns": null,
            "grid_auto_flow": null,
            "grid_auto_rows": null,
            "grid_column": null,
            "grid_gap": null,
            "grid_row": null,
            "grid_template_areas": null,
            "grid_template_columns": null,
            "grid_template_rows": null,
            "height": null,
            "justify_content": null,
            "justify_items": null,
            "left": null,
            "margin": null,
            "max_height": null,
            "max_width": null,
            "min_height": null,
            "min_width": null,
            "object_fit": null,
            "object_position": null,
            "order": null,
            "overflow": null,
            "overflow_x": null,
            "overflow_y": null,
            "padding": null,
            "right": null,
            "top": null,
            "visibility": null,
            "width": null
          }
        },
        "11a28033c99b4d8888f27192b59f0f53": {
          "model_module": "@jupyter-widgets/controls",
          "model_name": "ProgressStyleModel",
          "model_module_version": "1.5.0",
          "state": {
            "_model_module": "@jupyter-widgets/controls",
            "_model_module_version": "1.5.0",
            "_model_name": "ProgressStyleModel",
            "_view_count": null,
            "_view_module": "@jupyter-widgets/base",
            "_view_module_version": "1.2.0",
            "_view_name": "StyleView",
            "bar_color": null,
            "description_width": ""
          }
        },
        "7ee28e5d0de84dffb1b540c03bf59da2": {
          "model_module": "@jupyter-widgets/base",
          "model_name": "LayoutModel",
          "model_module_version": "1.2.0",
          "state": {
            "_model_module": "@jupyter-widgets/base",
            "_model_module_version": "1.2.0",
            "_model_name": "LayoutModel",
            "_view_count": null,
            "_view_module": "@jupyter-widgets/base",
            "_view_module_version": "1.2.0",
            "_view_name": "LayoutView",
            "align_content": null,
            "align_items": null,
            "align_self": null,
            "border": null,
            "bottom": null,
            "display": null,
            "flex": null,
            "flex_flow": null,
            "grid_area": null,
            "grid_auto_columns": null,
            "grid_auto_flow": null,
            "grid_auto_rows": null,
            "grid_column": null,
            "grid_gap": null,
            "grid_row": null,
            "grid_template_areas": null,
            "grid_template_columns": null,
            "grid_template_rows": null,
            "height": null,
            "justify_content": null,
            "justify_items": null,
            "left": null,
            "margin": null,
            "max_height": null,
            "max_width": null,
            "min_height": null,
            "min_width": null,
            "object_fit": null,
            "object_position": null,
            "order": null,
            "overflow": null,
            "overflow_x": null,
            "overflow_y": null,
            "padding": null,
            "right": null,
            "top": null,
            "visibility": null,
            "width": null
          }
        },
        "26991700693946cc8db1948d361a7b40": {
          "model_module": "@jupyter-widgets/controls",
          "model_name": "DescriptionStyleModel",
          "model_module_version": "1.5.0",
          "state": {
            "_model_module": "@jupyter-widgets/controls",
            "_model_module_version": "1.5.0",
            "_model_name": "DescriptionStyleModel",
            "_view_count": null,
            "_view_module": "@jupyter-widgets/base",
            "_view_module_version": "1.2.0",
            "_view_name": "StyleView",
            "description_width": ""
          }
        },
        "d6582de3375f496f8b992ce9255b68e9": {
          "model_module": "@jupyter-widgets/controls",
          "model_name": "HBoxModel",
          "model_module_version": "1.5.0",
          "state": {
            "_dom_classes": [],
            "_model_module": "@jupyter-widgets/controls",
            "_model_module_version": "1.5.0",
            "_model_name": "HBoxModel",
            "_view_count": null,
            "_view_module": "@jupyter-widgets/controls",
            "_view_module_version": "1.5.0",
            "_view_name": "HBoxView",
            "box_style": "",
            "children": [
              "IPY_MODEL_dfd393493a184889a1596afd20d909f8",
              "IPY_MODEL_a0a5207b71984c59b77e0347d3df09d3",
              "IPY_MODEL_4cf3625a79994c8f94476d4641da8209"
            ],
            "layout": "IPY_MODEL_d150cd542d5144a7961c3161b0c75d34"
          }
        },
        "dfd393493a184889a1596afd20d909f8": {
          "model_module": "@jupyter-widgets/controls",
          "model_name": "HTMLModel",
          "model_module_version": "1.5.0",
          "state": {
            "_dom_classes": [],
            "_model_module": "@jupyter-widgets/controls",
            "_model_module_version": "1.5.0",
            "_model_name": "HTMLModel",
            "_view_count": null,
            "_view_module": "@jupyter-widgets/controls",
            "_view_module_version": "1.5.0",
            "_view_name": "HTMLView",
            "description": "",
            "description_tooltip": null,
            "layout": "IPY_MODEL_21010f286bec41fea3cd1158da18a552",
            "placeholder": "​",
            "style": "IPY_MODEL_cdcbfba7c4714909bd843b33a88de232",
            "value": "model-00001-of-00030.safetensors: 100%"
          }
        },
        "a0a5207b71984c59b77e0347d3df09d3": {
          "model_module": "@jupyter-widgets/controls",
          "model_name": "FloatProgressModel",
          "model_module_version": "1.5.0",
          "state": {
            "_dom_classes": [],
            "_model_module": "@jupyter-widgets/controls",
            "_model_module_version": "1.5.0",
            "_model_name": "FloatProgressModel",
            "_view_count": null,
            "_view_module": "@jupyter-widgets/controls",
            "_view_module_version": "1.5.0",
            "_view_name": "ProgressView",
            "bar_style": "success",
            "description": "",
            "description_tooltip": null,
            "layout": "IPY_MODEL_24766571ffb74273a71acc8a905e3bbf",
            "max": 4584408808,
            "min": 0,
            "orientation": "horizontal",
            "style": "IPY_MODEL_45a056ba8b90478a9fca2339327468a5",
            "value": 4584408808
          }
        },
        "4cf3625a79994c8f94476d4641da8209": {
          "model_module": "@jupyter-widgets/controls",
          "model_name": "HTMLModel",
          "model_module_version": "1.5.0",
          "state": {
            "_dom_classes": [],
            "_model_module": "@jupyter-widgets/controls",
            "_model_module_version": "1.5.0",
            "_model_name": "HTMLModel",
            "_view_count": null,
            "_view_module": "@jupyter-widgets/controls",
            "_view_module_version": "1.5.0",
            "_view_name": "HTMLView",
            "description": "",
            "description_tooltip": null,
            "layout": "IPY_MODEL_0b8b8f12085d4a48a59c3b49e8c777d2",
            "placeholder": "​",
            "style": "IPY_MODEL_c5dcb54635584451a7bbe29bf24e4cbe",
            "value": " 4.58G/4.58G [00:13&lt;00:00, 436MB/s]"
          }
        },
        "d150cd542d5144a7961c3161b0c75d34": {
          "model_module": "@jupyter-widgets/base",
          "model_name": "LayoutModel",
          "model_module_version": "1.2.0",
          "state": {
            "_model_module": "@jupyter-widgets/base",
            "_model_module_version": "1.2.0",
            "_model_name": "LayoutModel",
            "_view_count": null,
            "_view_module": "@jupyter-widgets/base",
            "_view_module_version": "1.2.0",
            "_view_name": "LayoutView",
            "align_content": null,
            "align_items": null,
            "align_self": null,
            "border": null,
            "bottom": null,
            "display": null,
            "flex": null,
            "flex_flow": null,
            "grid_area": null,
            "grid_auto_columns": null,
            "grid_auto_flow": null,
            "grid_auto_rows": null,
            "grid_column": null,
            "grid_gap": null,
            "grid_row": null,
            "grid_template_areas": null,
            "grid_template_columns": null,
            "grid_template_rows": null,
            "height": null,
            "justify_content": null,
            "justify_items": null,
            "left": null,
            "margin": null,
            "max_height": null,
            "max_width": null,
            "min_height": null,
            "min_width": null,
            "object_fit": null,
            "object_position": null,
            "order": null,
            "overflow": null,
            "overflow_x": null,
            "overflow_y": null,
            "padding": null,
            "right": null,
            "top": null,
            "visibility": null,
            "width": null
          }
        },
        "21010f286bec41fea3cd1158da18a552": {
          "model_module": "@jupyter-widgets/base",
          "model_name": "LayoutModel",
          "model_module_version": "1.2.0",
          "state": {
            "_model_module": "@jupyter-widgets/base",
            "_model_module_version": "1.2.0",
            "_model_name": "LayoutModel",
            "_view_count": null,
            "_view_module": "@jupyter-widgets/base",
            "_view_module_version": "1.2.0",
            "_view_name": "LayoutView",
            "align_content": null,
            "align_items": null,
            "align_self": null,
            "border": null,
            "bottom": null,
            "display": null,
            "flex": null,
            "flex_flow": null,
            "grid_area": null,
            "grid_auto_columns": null,
            "grid_auto_flow": null,
            "grid_auto_rows": null,
            "grid_column": null,
            "grid_gap": null,
            "grid_row": null,
            "grid_template_areas": null,
            "grid_template_columns": null,
            "grid_template_rows": null,
            "height": null,
            "justify_content": null,
            "justify_items": null,
            "left": null,
            "margin": null,
            "max_height": null,
            "max_width": null,
            "min_height": null,
            "min_width": null,
            "object_fit": null,
            "object_position": null,
            "order": null,
            "overflow": null,
            "overflow_x": null,
            "overflow_y": null,
            "padding": null,
            "right": null,
            "top": null,
            "visibility": null,
            "width": null
          }
        },
        "cdcbfba7c4714909bd843b33a88de232": {
          "model_module": "@jupyter-widgets/controls",
          "model_name": "DescriptionStyleModel",
          "model_module_version": "1.5.0",
          "state": {
            "_model_module": "@jupyter-widgets/controls",
            "_model_module_version": "1.5.0",
            "_model_name": "DescriptionStyleModel",
            "_view_count": null,
            "_view_module": "@jupyter-widgets/base",
            "_view_module_version": "1.2.0",
            "_view_name": "StyleView",
            "description_width": ""
          }
        },
        "24766571ffb74273a71acc8a905e3bbf": {
          "model_module": "@jupyter-widgets/base",
          "model_name": "LayoutModel",
          "model_module_version": "1.2.0",
          "state": {
            "_model_module": "@jupyter-widgets/base",
            "_model_module_version": "1.2.0",
            "_model_name": "LayoutModel",
            "_view_count": null,
            "_view_module": "@jupyter-widgets/base",
            "_view_module_version": "1.2.0",
            "_view_name": "LayoutView",
            "align_content": null,
            "align_items": null,
            "align_self": null,
            "border": null,
            "bottom": null,
            "display": null,
            "flex": null,
            "flex_flow": null,
            "grid_area": null,
            "grid_auto_columns": null,
            "grid_auto_flow": null,
            "grid_auto_rows": null,
            "grid_column": null,
            "grid_gap": null,
            "grid_row": null,
            "grid_template_areas": null,
            "grid_template_columns": null,
            "grid_template_rows": null,
            "height": null,
            "justify_content": null,
            "justify_items": null,
            "left": null,
            "margin": null,
            "max_height": null,
            "max_width": null,
            "min_height": null,
            "min_width": null,
            "object_fit": null,
            "object_position": null,
            "order": null,
            "overflow": null,
            "overflow_x": null,
            "overflow_y": null,
            "padding": null,
            "right": null,
            "top": null,
            "visibility": null,
            "width": null
          }
        },
        "45a056ba8b90478a9fca2339327468a5": {
          "model_module": "@jupyter-widgets/controls",
          "model_name": "ProgressStyleModel",
          "model_module_version": "1.5.0",
          "state": {
            "_model_module": "@jupyter-widgets/controls",
            "_model_module_version": "1.5.0",
            "_model_name": "ProgressStyleModel",
            "_view_count": null,
            "_view_module": "@jupyter-widgets/base",
            "_view_module_version": "1.2.0",
            "_view_name": "StyleView",
            "bar_color": null,
            "description_width": ""
          }
        },
        "0b8b8f12085d4a48a59c3b49e8c777d2": {
          "model_module": "@jupyter-widgets/base",
          "model_name": "LayoutModel",
          "model_module_version": "1.2.0",
          "state": {
            "_model_module": "@jupyter-widgets/base",
            "_model_module_version": "1.2.0",
            "_model_name": "LayoutModel",
            "_view_count": null,
            "_view_module": "@jupyter-widgets/base",
            "_view_module_version": "1.2.0",
            "_view_name": "LayoutView",
            "align_content": null,
            "align_items": null,
            "align_self": null,
            "border": null,
            "bottom": null,
            "display": null,
            "flex": null,
            "flex_flow": null,
            "grid_area": null,
            "grid_auto_columns": null,
            "grid_auto_flow": null,
            "grid_auto_rows": null,
            "grid_column": null,
            "grid_gap": null,
            "grid_row": null,
            "grid_template_areas": null,
            "grid_template_columns": null,
            "grid_template_rows": null,
            "height": null,
            "justify_content": null,
            "justify_items": null,
            "left": null,
            "margin": null,
            "max_height": null,
            "max_width": null,
            "min_height": null,
            "min_width": null,
            "object_fit": null,
            "object_position": null,
            "order": null,
            "overflow": null,
            "overflow_x": null,
            "overflow_y": null,
            "padding": null,
            "right": null,
            "top": null,
            "visibility": null,
            "width": null
          }
        },
        "c5dcb54635584451a7bbe29bf24e4cbe": {
          "model_module": "@jupyter-widgets/controls",
          "model_name": "DescriptionStyleModel",
          "model_module_version": "1.5.0",
          "state": {
            "_model_module": "@jupyter-widgets/controls",
            "_model_module_version": "1.5.0",
            "_model_name": "DescriptionStyleModel",
            "_view_count": null,
            "_view_module": "@jupyter-widgets/base",
            "_view_module_version": "1.2.0",
            "_view_name": "StyleView",
            "description_width": ""
          }
        },
        "8b8a33a68aee49389de9c69594b0c6c4": {
          "model_module": "@jupyter-widgets/controls",
          "model_name": "HBoxModel",
          "model_module_version": "1.5.0",
          "state": {
            "_dom_classes": [],
            "_model_module": "@jupyter-widgets/controls",
            "_model_module_version": "1.5.0",
            "_model_name": "HBoxModel",
            "_view_count": null,
            "_view_module": "@jupyter-widgets/controls",
            "_view_module_version": "1.5.0",
            "_view_name": "HBoxView",
            "box_style": "",
            "children": [
              "IPY_MODEL_711864d8f1d64d12ad502c2f6856b4e9",
              "IPY_MODEL_6ac679be61614310bffad6ab43087950",
              "IPY_MODEL_9e9413974cd44577a28aa1d01a6c5d1e"
            ],
            "layout": "IPY_MODEL_f5f0eab9f1eb4425b156d1a8f0727b20"
          }
        },
        "711864d8f1d64d12ad502c2f6856b4e9": {
          "model_module": "@jupyter-widgets/controls",
          "model_name": "HTMLModel",
          "model_module_version": "1.5.0",
          "state": {
            "_dom_classes": [],
            "_model_module": "@jupyter-widgets/controls",
            "_model_module_version": "1.5.0",
            "_model_name": "HTMLModel",
            "_view_count": null,
            "_view_module": "@jupyter-widgets/controls",
            "_view_module_version": "1.5.0",
            "_view_name": "HTMLView",
            "description": "",
            "description_tooltip": null,
            "layout": "IPY_MODEL_f18225cd454a4e999cf80e44c88883d4",
            "placeholder": "​",
            "style": "IPY_MODEL_20684a08199f487d9d823928fe03e7f7",
            "value": "model-00002-of-00030.safetensors: 100%"
          }
        },
        "6ac679be61614310bffad6ab43087950": {
          "model_module": "@jupyter-widgets/controls",
          "model_name": "FloatProgressModel",
          "model_module_version": "1.5.0",
          "state": {
            "_dom_classes": [],
            "_model_module": "@jupyter-widgets/controls",
            "_model_module_version": "1.5.0",
            "_model_name": "FloatProgressModel",
            "_view_count": null,
            "_view_module": "@jupyter-widgets/controls",
            "_view_module_version": "1.5.0",
            "_view_name": "ProgressView",
            "bar_style": "success",
            "description": "",
            "description_tooltip": null,
            "layout": "IPY_MODEL_49164e3a6fc149a085c5fb70de65fcbb",
            "max": 4664167376,
            "min": 0,
            "orientation": "horizontal",
            "style": "IPY_MODEL_0c502cfcf836417d8a5baf0e5e3d6d59",
            "value": 4664167376
          }
        },
        "9e9413974cd44577a28aa1d01a6c5d1e": {
          "model_module": "@jupyter-widgets/controls",
          "model_name": "HTMLModel",
          "model_module_version": "1.5.0",
          "state": {
            "_dom_classes": [],
            "_model_module": "@jupyter-widgets/controls",
            "_model_module_version": "1.5.0",
            "_model_name": "HTMLModel",
            "_view_count": null,
            "_view_module": "@jupyter-widgets/controls",
            "_view_module_version": "1.5.0",
            "_view_name": "HTMLView",
            "description": "",
            "description_tooltip": null,
            "layout": "IPY_MODEL_5a060321a2e8486b91a1dfc5ced4d49f",
            "placeholder": "​",
            "style": "IPY_MODEL_7c5a457d752a442f9c4ba22ab269d617",
            "value": " 4.66G/4.66G [00:14&lt;00:00, 193MB/s]"
          }
        },
        "f5f0eab9f1eb4425b156d1a8f0727b20": {
          "model_module": "@jupyter-widgets/base",
          "model_name": "LayoutModel",
          "model_module_version": "1.2.0",
          "state": {
            "_model_module": "@jupyter-widgets/base",
            "_model_module_version": "1.2.0",
            "_model_name": "LayoutModel",
            "_view_count": null,
            "_view_module": "@jupyter-widgets/base",
            "_view_module_version": "1.2.0",
            "_view_name": "LayoutView",
            "align_content": null,
            "align_items": null,
            "align_self": null,
            "border": null,
            "bottom": null,
            "display": null,
            "flex": null,
            "flex_flow": null,
            "grid_area": null,
            "grid_auto_columns": null,
            "grid_auto_flow": null,
            "grid_auto_rows": null,
            "grid_column": null,
            "grid_gap": null,
            "grid_row": null,
            "grid_template_areas": null,
            "grid_template_columns": null,
            "grid_template_rows": null,
            "height": null,
            "justify_content": null,
            "justify_items": null,
            "left": null,
            "margin": null,
            "max_height": null,
            "max_width": null,
            "min_height": null,
            "min_width": null,
            "object_fit": null,
            "object_position": null,
            "order": null,
            "overflow": null,
            "overflow_x": null,
            "overflow_y": null,
            "padding": null,
            "right": null,
            "top": null,
            "visibility": null,
            "width": null
          }
        },
        "f18225cd454a4e999cf80e44c88883d4": {
          "model_module": "@jupyter-widgets/base",
          "model_name": "LayoutModel",
          "model_module_version": "1.2.0",
          "state": {
            "_model_module": "@jupyter-widgets/base",
            "_model_module_version": "1.2.0",
            "_model_name": "LayoutModel",
            "_view_count": null,
            "_view_module": "@jupyter-widgets/base",
            "_view_module_version": "1.2.0",
            "_view_name": "LayoutView",
            "align_content": null,
            "align_items": null,
            "align_self": null,
            "border": null,
            "bottom": null,
            "display": null,
            "flex": null,
            "flex_flow": null,
            "grid_area": null,
            "grid_auto_columns": null,
            "grid_auto_flow": null,
            "grid_auto_rows": null,
            "grid_column": null,
            "grid_gap": null,
            "grid_row": null,
            "grid_template_areas": null,
            "grid_template_columns": null,
            "grid_template_rows": null,
            "height": null,
            "justify_content": null,
            "justify_items": null,
            "left": null,
            "margin": null,
            "max_height": null,
            "max_width": null,
            "min_height": null,
            "min_width": null,
            "object_fit": null,
            "object_position": null,
            "order": null,
            "overflow": null,
            "overflow_x": null,
            "overflow_y": null,
            "padding": null,
            "right": null,
            "top": null,
            "visibility": null,
            "width": null
          }
        },
        "20684a08199f487d9d823928fe03e7f7": {
          "model_module": "@jupyter-widgets/controls",
          "model_name": "DescriptionStyleModel",
          "model_module_version": "1.5.0",
          "state": {
            "_model_module": "@jupyter-widgets/controls",
            "_model_module_version": "1.5.0",
            "_model_name": "DescriptionStyleModel",
            "_view_count": null,
            "_view_module": "@jupyter-widgets/base",
            "_view_module_version": "1.2.0",
            "_view_name": "StyleView",
            "description_width": ""
          }
        },
        "49164e3a6fc149a085c5fb70de65fcbb": {
          "model_module": "@jupyter-widgets/base",
          "model_name": "LayoutModel",
          "model_module_version": "1.2.0",
          "state": {
            "_model_module": "@jupyter-widgets/base",
            "_model_module_version": "1.2.0",
            "_model_name": "LayoutModel",
            "_view_count": null,
            "_view_module": "@jupyter-widgets/base",
            "_view_module_version": "1.2.0",
            "_view_name": "LayoutView",
            "align_content": null,
            "align_items": null,
            "align_self": null,
            "border": null,
            "bottom": null,
            "display": null,
            "flex": null,
            "flex_flow": null,
            "grid_area": null,
            "grid_auto_columns": null,
            "grid_auto_flow": null,
            "grid_auto_rows": null,
            "grid_column": null,
            "grid_gap": null,
            "grid_row": null,
            "grid_template_areas": null,
            "grid_template_columns": null,
            "grid_template_rows": null,
            "height": null,
            "justify_content": null,
            "justify_items": null,
            "left": null,
            "margin": null,
            "max_height": null,
            "max_width": null,
            "min_height": null,
            "min_width": null,
            "object_fit": null,
            "object_position": null,
            "order": null,
            "overflow": null,
            "overflow_x": null,
            "overflow_y": null,
            "padding": null,
            "right": null,
            "top": null,
            "visibility": null,
            "width": null
          }
        },
        "0c502cfcf836417d8a5baf0e5e3d6d59": {
          "model_module": "@jupyter-widgets/controls",
          "model_name": "ProgressStyleModel",
          "model_module_version": "1.5.0",
          "state": {
            "_model_module": "@jupyter-widgets/controls",
            "_model_module_version": "1.5.0",
            "_model_name": "ProgressStyleModel",
            "_view_count": null,
            "_view_module": "@jupyter-widgets/base",
            "_view_module_version": "1.2.0",
            "_view_name": "StyleView",
            "bar_color": null,
            "description_width": ""
          }
        },
        "5a060321a2e8486b91a1dfc5ced4d49f": {
          "model_module": "@jupyter-widgets/base",
          "model_name": "LayoutModel",
          "model_module_version": "1.2.0",
          "state": {
            "_model_module": "@jupyter-widgets/base",
            "_model_module_version": "1.2.0",
            "_model_name": "LayoutModel",
            "_view_count": null,
            "_view_module": "@jupyter-widgets/base",
            "_view_module_version": "1.2.0",
            "_view_name": "LayoutView",
            "align_content": null,
            "align_items": null,
            "align_self": null,
            "border": null,
            "bottom": null,
            "display": null,
            "flex": null,
            "flex_flow": null,
            "grid_area": null,
            "grid_auto_columns": null,
            "grid_auto_flow": null,
            "grid_auto_rows": null,
            "grid_column": null,
            "grid_gap": null,
            "grid_row": null,
            "grid_template_areas": null,
            "grid_template_columns": null,
            "grid_template_rows": null,
            "height": null,
            "justify_content": null,
            "justify_items": null,
            "left": null,
            "margin": null,
            "max_height": null,
            "max_width": null,
            "min_height": null,
            "min_width": null,
            "object_fit": null,
            "object_position": null,
            "order": null,
            "overflow": null,
            "overflow_x": null,
            "overflow_y": null,
            "padding": null,
            "right": null,
            "top": null,
            "visibility": null,
            "width": null
          }
        },
        "7c5a457d752a442f9c4ba22ab269d617": {
          "model_module": "@jupyter-widgets/controls",
          "model_name": "DescriptionStyleModel",
          "model_module_version": "1.5.0",
          "state": {
            "_model_module": "@jupyter-widgets/controls",
            "_model_module_version": "1.5.0",
            "_model_name": "DescriptionStyleModel",
            "_view_count": null,
            "_view_module": "@jupyter-widgets/base",
            "_view_module_version": "1.2.0",
            "_view_name": "StyleView",
            "description_width": ""
          }
        },
        "3072afcbe6874b46ab108bd9c0ea4172": {
          "model_module": "@jupyter-widgets/controls",
          "model_name": "HBoxModel",
          "model_module_version": "1.5.0",
          "state": {
            "_dom_classes": [],
            "_model_module": "@jupyter-widgets/controls",
            "_model_module_version": "1.5.0",
            "_model_name": "HBoxModel",
            "_view_count": null,
            "_view_module": "@jupyter-widgets/controls",
            "_view_module_version": "1.5.0",
            "_view_name": "HBoxView",
            "box_style": "",
            "children": [
              "IPY_MODEL_7bbfcc5270014ce887b6d687a852c5c9",
              "IPY_MODEL_12f1a547b03c4ad7947a293a7908ca70",
              "IPY_MODEL_400b29b039b2441ba04e7284217ec6a4"
            ],
            "layout": "IPY_MODEL_2c6aeef67c7a4195b208cce731b06d2e"
          }
        },
        "7bbfcc5270014ce887b6d687a852c5c9": {
          "model_module": "@jupyter-widgets/controls",
          "model_name": "HTMLModel",
          "model_module_version": "1.5.0",
          "state": {
            "_dom_classes": [],
            "_model_module": "@jupyter-widgets/controls",
            "_model_module_version": "1.5.0",
            "_model_name": "HTMLModel",
            "_view_count": null,
            "_view_module": "@jupyter-widgets/controls",
            "_view_module_version": "1.5.0",
            "_view_name": "HTMLView",
            "description": "",
            "description_tooltip": null,
            "layout": "IPY_MODEL_db5393e64deb4855a119a85ffd93b966",
            "placeholder": "​",
            "style": "IPY_MODEL_cd709074ca294407830479810b3a271f",
            "value": "model-00003-of-00030.safetensors: 100%"
          }
        },
        "12f1a547b03c4ad7947a293a7908ca70": {
          "model_module": "@jupyter-widgets/controls",
          "model_name": "FloatProgressModel",
          "model_module_version": "1.5.0",
          "state": {
            "_dom_classes": [],
            "_model_module": "@jupyter-widgets/controls",
            "_model_module_version": "1.5.0",
            "_model_name": "FloatProgressModel",
            "_view_count": null,
            "_view_module": "@jupyter-widgets/controls",
            "_view_module_version": "1.5.0",
            "_view_name": "ProgressView",
            "bar_style": "success",
            "description": "",
            "description_tooltip": null,
            "layout": "IPY_MODEL_a8fe3e87b50d488e9d8fd045b9ca5c3d",
            "max": 4999711704,
            "min": 0,
            "orientation": "horizontal",
            "style": "IPY_MODEL_b010402ea577422eb9b95901a34ee07a",
            "value": 4999711704
          }
        },
        "400b29b039b2441ba04e7284217ec6a4": {
          "model_module": "@jupyter-widgets/controls",
          "model_name": "HTMLModel",
          "model_module_version": "1.5.0",
          "state": {
            "_dom_classes": [],
            "_model_module": "@jupyter-widgets/controls",
            "_model_module_version": "1.5.0",
            "_model_name": "HTMLModel",
            "_view_count": null,
            "_view_module": "@jupyter-widgets/controls",
            "_view_module_version": "1.5.0",
            "_view_name": "HTMLView",
            "description": "",
            "description_tooltip": null,
            "layout": "IPY_MODEL_5c169ccff61b4cb6a2f3bdfca1cd681d",
            "placeholder": "​",
            "style": "IPY_MODEL_f988d4a7987a4955a022e52808bb4806",
            "value": " 5.00G/5.00G [00:20&lt;00:00, 282MB/s]"
          }
        },
        "2c6aeef67c7a4195b208cce731b06d2e": {
          "model_module": "@jupyter-widgets/base",
          "model_name": "LayoutModel",
          "model_module_version": "1.2.0",
          "state": {
            "_model_module": "@jupyter-widgets/base",
            "_model_module_version": "1.2.0",
            "_model_name": "LayoutModel",
            "_view_count": null,
            "_view_module": "@jupyter-widgets/base",
            "_view_module_version": "1.2.0",
            "_view_name": "LayoutView",
            "align_content": null,
            "align_items": null,
            "align_self": null,
            "border": null,
            "bottom": null,
            "display": null,
            "flex": null,
            "flex_flow": null,
            "grid_area": null,
            "grid_auto_columns": null,
            "grid_auto_flow": null,
            "grid_auto_rows": null,
            "grid_column": null,
            "grid_gap": null,
            "grid_row": null,
            "grid_template_areas": null,
            "grid_template_columns": null,
            "grid_template_rows": null,
            "height": null,
            "justify_content": null,
            "justify_items": null,
            "left": null,
            "margin": null,
            "max_height": null,
            "max_width": null,
            "min_height": null,
            "min_width": null,
            "object_fit": null,
            "object_position": null,
            "order": null,
            "overflow": null,
            "overflow_x": null,
            "overflow_y": null,
            "padding": null,
            "right": null,
            "top": null,
            "visibility": null,
            "width": null
          }
        },
        "db5393e64deb4855a119a85ffd93b966": {
          "model_module": "@jupyter-widgets/base",
          "model_name": "LayoutModel",
          "model_module_version": "1.2.0",
          "state": {
            "_model_module": "@jupyter-widgets/base",
            "_model_module_version": "1.2.0",
            "_model_name": "LayoutModel",
            "_view_count": null,
            "_view_module": "@jupyter-widgets/base",
            "_view_module_version": "1.2.0",
            "_view_name": "LayoutView",
            "align_content": null,
            "align_items": null,
            "align_self": null,
            "border": null,
            "bottom": null,
            "display": null,
            "flex": null,
            "flex_flow": null,
            "grid_area": null,
            "grid_auto_columns": null,
            "grid_auto_flow": null,
            "grid_auto_rows": null,
            "grid_column": null,
            "grid_gap": null,
            "grid_row": null,
            "grid_template_areas": null,
            "grid_template_columns": null,
            "grid_template_rows": null,
            "height": null,
            "justify_content": null,
            "justify_items": null,
            "left": null,
            "margin": null,
            "max_height": null,
            "max_width": null,
            "min_height": null,
            "min_width": null,
            "object_fit": null,
            "object_position": null,
            "order": null,
            "overflow": null,
            "overflow_x": null,
            "overflow_y": null,
            "padding": null,
            "right": null,
            "top": null,
            "visibility": null,
            "width": null
          }
        },
        "cd709074ca294407830479810b3a271f": {
          "model_module": "@jupyter-widgets/controls",
          "model_name": "DescriptionStyleModel",
          "model_module_version": "1.5.0",
          "state": {
            "_model_module": "@jupyter-widgets/controls",
            "_model_module_version": "1.5.0",
            "_model_name": "DescriptionStyleModel",
            "_view_count": null,
            "_view_module": "@jupyter-widgets/base",
            "_view_module_version": "1.2.0",
            "_view_name": "StyleView",
            "description_width": ""
          }
        },
        "a8fe3e87b50d488e9d8fd045b9ca5c3d": {
          "model_module": "@jupyter-widgets/base",
          "model_name": "LayoutModel",
          "model_module_version": "1.2.0",
          "state": {
            "_model_module": "@jupyter-widgets/base",
            "_model_module_version": "1.2.0",
            "_model_name": "LayoutModel",
            "_view_count": null,
            "_view_module": "@jupyter-widgets/base",
            "_view_module_version": "1.2.0",
            "_view_name": "LayoutView",
            "align_content": null,
            "align_items": null,
            "align_self": null,
            "border": null,
            "bottom": null,
            "display": null,
            "flex": null,
            "flex_flow": null,
            "grid_area": null,
            "grid_auto_columns": null,
            "grid_auto_flow": null,
            "grid_auto_rows": null,
            "grid_column": null,
            "grid_gap": null,
            "grid_row": null,
            "grid_template_areas": null,
            "grid_template_columns": null,
            "grid_template_rows": null,
            "height": null,
            "justify_content": null,
            "justify_items": null,
            "left": null,
            "margin": null,
            "max_height": null,
            "max_width": null,
            "min_height": null,
            "min_width": null,
            "object_fit": null,
            "object_position": null,
            "order": null,
            "overflow": null,
            "overflow_x": null,
            "overflow_y": null,
            "padding": null,
            "right": null,
            "top": null,
            "visibility": null,
            "width": null
          }
        },
        "b010402ea577422eb9b95901a34ee07a": {
          "model_module": "@jupyter-widgets/controls",
          "model_name": "ProgressStyleModel",
          "model_module_version": "1.5.0",
          "state": {
            "_model_module": "@jupyter-widgets/controls",
            "_model_module_version": "1.5.0",
            "_model_name": "ProgressStyleModel",
            "_view_count": null,
            "_view_module": "@jupyter-widgets/base",
            "_view_module_version": "1.2.0",
            "_view_name": "StyleView",
            "bar_color": null,
            "description_width": ""
          }
        },
        "5c169ccff61b4cb6a2f3bdfca1cd681d": {
          "model_module": "@jupyter-widgets/base",
          "model_name": "LayoutModel",
          "model_module_version": "1.2.0",
          "state": {
            "_model_module": "@jupyter-widgets/base",
            "_model_module_version": "1.2.0",
            "_model_name": "LayoutModel",
            "_view_count": null,
            "_view_module": "@jupyter-widgets/base",
            "_view_module_version": "1.2.0",
            "_view_name": "LayoutView",
            "align_content": null,
            "align_items": null,
            "align_self": null,
            "border": null,
            "bottom": null,
            "display": null,
            "flex": null,
            "flex_flow": null,
            "grid_area": null,
            "grid_auto_columns": null,
            "grid_auto_flow": null,
            "grid_auto_rows": null,
            "grid_column": null,
            "grid_gap": null,
            "grid_row": null,
            "grid_template_areas": null,
            "grid_template_columns": null,
            "grid_template_rows": null,
            "height": null,
            "justify_content": null,
            "justify_items": null,
            "left": null,
            "margin": null,
            "max_height": null,
            "max_width": null,
            "min_height": null,
            "min_width": null,
            "object_fit": null,
            "object_position": null,
            "order": null,
            "overflow": null,
            "overflow_x": null,
            "overflow_y": null,
            "padding": null,
            "right": null,
            "top": null,
            "visibility": null,
            "width": null
          }
        },
        "f988d4a7987a4955a022e52808bb4806": {
          "model_module": "@jupyter-widgets/controls",
          "model_name": "DescriptionStyleModel",
          "model_module_version": "1.5.0",
          "state": {
            "_model_module": "@jupyter-widgets/controls",
            "_model_module_version": "1.5.0",
            "_model_name": "DescriptionStyleModel",
            "_view_count": null,
            "_view_module": "@jupyter-widgets/base",
            "_view_module_version": "1.2.0",
            "_view_name": "StyleView",
            "description_width": ""
          }
        },
        "771e96e39cb649b69f47004b4f0f617e": {
          "model_module": "@jupyter-widgets/controls",
          "model_name": "HBoxModel",
          "model_module_version": "1.5.0",
          "state": {
            "_dom_classes": [],
            "_model_module": "@jupyter-widgets/controls",
            "_model_module_version": "1.5.0",
            "_model_name": "HBoxModel",
            "_view_count": null,
            "_view_module": "@jupyter-widgets/controls",
            "_view_module_version": "1.5.0",
            "_view_name": "HBoxView",
            "box_style": "",
            "children": [
              "IPY_MODEL_26b976a301414b4fbc54d2f56d84369e",
              "IPY_MODEL_6814c61eeab644439f5ed3e8a770b792",
              "IPY_MODEL_0d4ea67074e247fd84bc78dfd77a599d"
            ],
            "layout": "IPY_MODEL_bb5c60d327324a54836473710f25b9cc"
          }
        },
        "26b976a301414b4fbc54d2f56d84369e": {
          "model_module": "@jupyter-widgets/controls",
          "model_name": "HTMLModel",
          "model_module_version": "1.5.0",
          "state": {
            "_dom_classes": [],
            "_model_module": "@jupyter-widgets/controls",
            "_model_module_version": "1.5.0",
            "_model_name": "HTMLModel",
            "_view_count": null,
            "_view_module": "@jupyter-widgets/controls",
            "_view_module_version": "1.5.0",
            "_view_name": "HTMLView",
            "description": "",
            "description_tooltip": null,
            "layout": "IPY_MODEL_5892aac490d1465480bc7f993be57b58",
            "placeholder": "​",
            "style": "IPY_MODEL_06cab4faf2424d99a919d365474d4897",
            "value": "model-00004-of-00030.safetensors: 100%"
          }
        },
        "6814c61eeab644439f5ed3e8a770b792": {
          "model_module": "@jupyter-widgets/controls",
          "model_name": "FloatProgressModel",
          "model_module_version": "1.5.0",
          "state": {
            "_dom_classes": [],
            "_model_module": "@jupyter-widgets/controls",
            "_model_module_version": "1.5.0",
            "_model_name": "FloatProgressModel",
            "_view_count": null,
            "_view_module": "@jupyter-widgets/controls",
            "_view_module_version": "1.5.0",
            "_view_name": "ProgressView",
            "bar_style": "success",
            "description": "",
            "description_tooltip": null,
            "layout": "IPY_MODEL_5aa06639138148aab3fc16b5f5af4e09",
            "max": 4966157032,
            "min": 0,
            "orientation": "horizontal",
            "style": "IPY_MODEL_ae285afec560465ba84827b6cb80cb1e",
            "value": 4966157032
          }
        },
        "0d4ea67074e247fd84bc78dfd77a599d": {
          "model_module": "@jupyter-widgets/controls",
          "model_name": "HTMLModel",
          "model_module_version": "1.5.0",
          "state": {
            "_dom_classes": [],
            "_model_module": "@jupyter-widgets/controls",
            "_model_module_version": "1.5.0",
            "_model_name": "HTMLModel",
            "_view_count": null,
            "_view_module": "@jupyter-widgets/controls",
            "_view_module_version": "1.5.0",
            "_view_name": "HTMLView",
            "description": "",
            "description_tooltip": null,
            "layout": "IPY_MODEL_2be33e8d22f94d9fbc954cbec7bd64f5",
            "placeholder": "​",
            "style": "IPY_MODEL_04539324c7174163888dfd61b96bf1a6",
            "value": " 4.97G/4.97G [00:15&lt;00:00, 383MB/s]"
          }
        },
        "bb5c60d327324a54836473710f25b9cc": {
          "model_module": "@jupyter-widgets/base",
          "model_name": "LayoutModel",
          "model_module_version": "1.2.0",
          "state": {
            "_model_module": "@jupyter-widgets/base",
            "_model_module_version": "1.2.0",
            "_model_name": "LayoutModel",
            "_view_count": null,
            "_view_module": "@jupyter-widgets/base",
            "_view_module_version": "1.2.0",
            "_view_name": "LayoutView",
            "align_content": null,
            "align_items": null,
            "align_self": null,
            "border": null,
            "bottom": null,
            "display": null,
            "flex": null,
            "flex_flow": null,
            "grid_area": null,
            "grid_auto_columns": null,
            "grid_auto_flow": null,
            "grid_auto_rows": null,
            "grid_column": null,
            "grid_gap": null,
            "grid_row": null,
            "grid_template_areas": null,
            "grid_template_columns": null,
            "grid_template_rows": null,
            "height": null,
            "justify_content": null,
            "justify_items": null,
            "left": null,
            "margin": null,
            "max_height": null,
            "max_width": null,
            "min_height": null,
            "min_width": null,
            "object_fit": null,
            "object_position": null,
            "order": null,
            "overflow": null,
            "overflow_x": null,
            "overflow_y": null,
            "padding": null,
            "right": null,
            "top": null,
            "visibility": null,
            "width": null
          }
        },
        "5892aac490d1465480bc7f993be57b58": {
          "model_module": "@jupyter-widgets/base",
          "model_name": "LayoutModel",
          "model_module_version": "1.2.0",
          "state": {
            "_model_module": "@jupyter-widgets/base",
            "_model_module_version": "1.2.0",
            "_model_name": "LayoutModel",
            "_view_count": null,
            "_view_module": "@jupyter-widgets/base",
            "_view_module_version": "1.2.0",
            "_view_name": "LayoutView",
            "align_content": null,
            "align_items": null,
            "align_self": null,
            "border": null,
            "bottom": null,
            "display": null,
            "flex": null,
            "flex_flow": null,
            "grid_area": null,
            "grid_auto_columns": null,
            "grid_auto_flow": null,
            "grid_auto_rows": null,
            "grid_column": null,
            "grid_gap": null,
            "grid_row": null,
            "grid_template_areas": null,
            "grid_template_columns": null,
            "grid_template_rows": null,
            "height": null,
            "justify_content": null,
            "justify_items": null,
            "left": null,
            "margin": null,
            "max_height": null,
            "max_width": null,
            "min_height": null,
            "min_width": null,
            "object_fit": null,
            "object_position": null,
            "order": null,
            "overflow": null,
            "overflow_x": null,
            "overflow_y": null,
            "padding": null,
            "right": null,
            "top": null,
            "visibility": null,
            "width": null
          }
        },
        "06cab4faf2424d99a919d365474d4897": {
          "model_module": "@jupyter-widgets/controls",
          "model_name": "DescriptionStyleModel",
          "model_module_version": "1.5.0",
          "state": {
            "_model_module": "@jupyter-widgets/controls",
            "_model_module_version": "1.5.0",
            "_model_name": "DescriptionStyleModel",
            "_view_count": null,
            "_view_module": "@jupyter-widgets/base",
            "_view_module_version": "1.2.0",
            "_view_name": "StyleView",
            "description_width": ""
          }
        },
        "5aa06639138148aab3fc16b5f5af4e09": {
          "model_module": "@jupyter-widgets/base",
          "model_name": "LayoutModel",
          "model_module_version": "1.2.0",
          "state": {
            "_model_module": "@jupyter-widgets/base",
            "_model_module_version": "1.2.0",
            "_model_name": "LayoutModel",
            "_view_count": null,
            "_view_module": "@jupyter-widgets/base",
            "_view_module_version": "1.2.0",
            "_view_name": "LayoutView",
            "align_content": null,
            "align_items": null,
            "align_self": null,
            "border": null,
            "bottom": null,
            "display": null,
            "flex": null,
            "flex_flow": null,
            "grid_area": null,
            "grid_auto_columns": null,
            "grid_auto_flow": null,
            "grid_auto_rows": null,
            "grid_column": null,
            "grid_gap": null,
            "grid_row": null,
            "grid_template_areas": null,
            "grid_template_columns": null,
            "grid_template_rows": null,
            "height": null,
            "justify_content": null,
            "justify_items": null,
            "left": null,
            "margin": null,
            "max_height": null,
            "max_width": null,
            "min_height": null,
            "min_width": null,
            "object_fit": null,
            "object_position": null,
            "order": null,
            "overflow": null,
            "overflow_x": null,
            "overflow_y": null,
            "padding": null,
            "right": null,
            "top": null,
            "visibility": null,
            "width": null
          }
        },
        "ae285afec560465ba84827b6cb80cb1e": {
          "model_module": "@jupyter-widgets/controls",
          "model_name": "ProgressStyleModel",
          "model_module_version": "1.5.0",
          "state": {
            "_model_module": "@jupyter-widgets/controls",
            "_model_module_version": "1.5.0",
            "_model_name": "ProgressStyleModel",
            "_view_count": null,
            "_view_module": "@jupyter-widgets/base",
            "_view_module_version": "1.2.0",
            "_view_name": "StyleView",
            "bar_color": null,
            "description_width": ""
          }
        },
        "2be33e8d22f94d9fbc954cbec7bd64f5": {
          "model_module": "@jupyter-widgets/base",
          "model_name": "LayoutModel",
          "model_module_version": "1.2.0",
          "state": {
            "_model_module": "@jupyter-widgets/base",
            "_model_module_version": "1.2.0",
            "_model_name": "LayoutModel",
            "_view_count": null,
            "_view_module": "@jupyter-widgets/base",
            "_view_module_version": "1.2.0",
            "_view_name": "LayoutView",
            "align_content": null,
            "align_items": null,
            "align_self": null,
            "border": null,
            "bottom": null,
            "display": null,
            "flex": null,
            "flex_flow": null,
            "grid_area": null,
            "grid_auto_columns": null,
            "grid_auto_flow": null,
            "grid_auto_rows": null,
            "grid_column": null,
            "grid_gap": null,
            "grid_row": null,
            "grid_template_areas": null,
            "grid_template_columns": null,
            "grid_template_rows": null,
            "height": null,
            "justify_content": null,
            "justify_items": null,
            "left": null,
            "margin": null,
            "max_height": null,
            "max_width": null,
            "min_height": null,
            "min_width": null,
            "object_fit": null,
            "object_position": null,
            "order": null,
            "overflow": null,
            "overflow_x": null,
            "overflow_y": null,
            "padding": null,
            "right": null,
            "top": null,
            "visibility": null,
            "width": null
          }
        },
        "04539324c7174163888dfd61b96bf1a6": {
          "model_module": "@jupyter-widgets/controls",
          "model_name": "DescriptionStyleModel",
          "model_module_version": "1.5.0",
          "state": {
            "_model_module": "@jupyter-widgets/controls",
            "_model_module_version": "1.5.0",
            "_model_name": "DescriptionStyleModel",
            "_view_count": null,
            "_view_module": "@jupyter-widgets/base",
            "_view_module_version": "1.2.0",
            "_view_name": "StyleView",
            "description_width": ""
          }
        },
        "b85cbc388dab49d88a12d4d968773b23": {
          "model_module": "@jupyter-widgets/controls",
          "model_name": "HBoxModel",
          "model_module_version": "1.5.0",
          "state": {
            "_dom_classes": [],
            "_model_module": "@jupyter-widgets/controls",
            "_model_module_version": "1.5.0",
            "_model_name": "HBoxModel",
            "_view_count": null,
            "_view_module": "@jupyter-widgets/controls",
            "_view_module_version": "1.5.0",
            "_view_name": "HBoxView",
            "box_style": "",
            "children": [
              "IPY_MODEL_576d3faad3dd4b1a84c1c7f160cc3759",
              "IPY_MODEL_379219fb486141c9b2435a122416b87d",
              "IPY_MODEL_d56f42914b5b49218306172a2105731d"
            ],
            "layout": "IPY_MODEL_d146ced1a6084f51856532d10d9793d9"
          }
        },
        "576d3faad3dd4b1a84c1c7f160cc3759": {
          "model_module": "@jupyter-widgets/controls",
          "model_name": "HTMLModel",
          "model_module_version": "1.5.0",
          "state": {
            "_dom_classes": [],
            "_model_module": "@jupyter-widgets/controls",
            "_model_module_version": "1.5.0",
            "_model_name": "HTMLModel",
            "_view_count": null,
            "_view_module": "@jupyter-widgets/controls",
            "_view_module_version": "1.5.0",
            "_view_name": "HTMLView",
            "description": "",
            "description_tooltip": null,
            "layout": "IPY_MODEL_165f01e8425b42fe94828f77bfe074f4",
            "placeholder": "​",
            "style": "IPY_MODEL_c7f12dc3c30044e29b4dbc8c31f8de3e",
            "value": "model-00005-of-00030.safetensors: 100%"
          }
        },
        "379219fb486141c9b2435a122416b87d": {
          "model_module": "@jupyter-widgets/controls",
          "model_name": "FloatProgressModel",
          "model_module_version": "1.5.0",
          "state": {
            "_dom_classes": [],
            "_model_module": "@jupyter-widgets/controls",
            "_model_module_version": "1.5.0",
            "_model_name": "FloatProgressModel",
            "_view_count": null,
            "_view_module": "@jupyter-widgets/controls",
            "_view_module_version": "1.5.0",
            "_view_name": "ProgressView",
            "bar_style": "success",
            "description": "",
            "description_tooltip": null,
            "layout": "IPY_MODEL_b222fdc6de04454fa3ac6448c8e4863e",
            "max": 4664134408,
            "min": 0,
            "orientation": "horizontal",
            "style": "IPY_MODEL_aac41bec756a43b98e40a23d37771dd3",
            "value": 4664134408
          }
        },
        "d56f42914b5b49218306172a2105731d": {
          "model_module": "@jupyter-widgets/controls",
          "model_name": "HTMLModel",
          "model_module_version": "1.5.0",
          "state": {
            "_dom_classes": [],
            "_model_module": "@jupyter-widgets/controls",
            "_model_module_version": "1.5.0",
            "_model_name": "HTMLModel",
            "_view_count": null,
            "_view_module": "@jupyter-widgets/controls",
            "_view_module_version": "1.5.0",
            "_view_name": "HTMLView",
            "description": "",
            "description_tooltip": null,
            "layout": "IPY_MODEL_e84222dd309a47f3b3c0f5bbb1600f99",
            "placeholder": "​",
            "style": "IPY_MODEL_35f9c1f1a3a246869f441265af5201e2",
            "value": " 4.66G/4.66G [00:19&lt;00:00, 214MB/s]"
          }
        },
        "d146ced1a6084f51856532d10d9793d9": {
          "model_module": "@jupyter-widgets/base",
          "model_name": "LayoutModel",
          "model_module_version": "1.2.0",
          "state": {
            "_model_module": "@jupyter-widgets/base",
            "_model_module_version": "1.2.0",
            "_model_name": "LayoutModel",
            "_view_count": null,
            "_view_module": "@jupyter-widgets/base",
            "_view_module_version": "1.2.0",
            "_view_name": "LayoutView",
            "align_content": null,
            "align_items": null,
            "align_self": null,
            "border": null,
            "bottom": null,
            "display": null,
            "flex": null,
            "flex_flow": null,
            "grid_area": null,
            "grid_auto_columns": null,
            "grid_auto_flow": null,
            "grid_auto_rows": null,
            "grid_column": null,
            "grid_gap": null,
            "grid_row": null,
            "grid_template_areas": null,
            "grid_template_columns": null,
            "grid_template_rows": null,
            "height": null,
            "justify_content": null,
            "justify_items": null,
            "left": null,
            "margin": null,
            "max_height": null,
            "max_width": null,
            "min_height": null,
            "min_width": null,
            "object_fit": null,
            "object_position": null,
            "order": null,
            "overflow": null,
            "overflow_x": null,
            "overflow_y": null,
            "padding": null,
            "right": null,
            "top": null,
            "visibility": null,
            "width": null
          }
        },
        "165f01e8425b42fe94828f77bfe074f4": {
          "model_module": "@jupyter-widgets/base",
          "model_name": "LayoutModel",
          "model_module_version": "1.2.0",
          "state": {
            "_model_module": "@jupyter-widgets/base",
            "_model_module_version": "1.2.0",
            "_model_name": "LayoutModel",
            "_view_count": null,
            "_view_module": "@jupyter-widgets/base",
            "_view_module_version": "1.2.0",
            "_view_name": "LayoutView",
            "align_content": null,
            "align_items": null,
            "align_self": null,
            "border": null,
            "bottom": null,
            "display": null,
            "flex": null,
            "flex_flow": null,
            "grid_area": null,
            "grid_auto_columns": null,
            "grid_auto_flow": null,
            "grid_auto_rows": null,
            "grid_column": null,
            "grid_gap": null,
            "grid_row": null,
            "grid_template_areas": null,
            "grid_template_columns": null,
            "grid_template_rows": null,
            "height": null,
            "justify_content": null,
            "justify_items": null,
            "left": null,
            "margin": null,
            "max_height": null,
            "max_width": null,
            "min_height": null,
            "min_width": null,
            "object_fit": null,
            "object_position": null,
            "order": null,
            "overflow": null,
            "overflow_x": null,
            "overflow_y": null,
            "padding": null,
            "right": null,
            "top": null,
            "visibility": null,
            "width": null
          }
        },
        "c7f12dc3c30044e29b4dbc8c31f8de3e": {
          "model_module": "@jupyter-widgets/controls",
          "model_name": "DescriptionStyleModel",
          "model_module_version": "1.5.0",
          "state": {
            "_model_module": "@jupyter-widgets/controls",
            "_model_module_version": "1.5.0",
            "_model_name": "DescriptionStyleModel",
            "_view_count": null,
            "_view_module": "@jupyter-widgets/base",
            "_view_module_version": "1.2.0",
            "_view_name": "StyleView",
            "description_width": ""
          }
        },
        "b222fdc6de04454fa3ac6448c8e4863e": {
          "model_module": "@jupyter-widgets/base",
          "model_name": "LayoutModel",
          "model_module_version": "1.2.0",
          "state": {
            "_model_module": "@jupyter-widgets/base",
            "_model_module_version": "1.2.0",
            "_model_name": "LayoutModel",
            "_view_count": null,
            "_view_module": "@jupyter-widgets/base",
            "_view_module_version": "1.2.0",
            "_view_name": "LayoutView",
            "align_content": null,
            "align_items": null,
            "align_self": null,
            "border": null,
            "bottom": null,
            "display": null,
            "flex": null,
            "flex_flow": null,
            "grid_area": null,
            "grid_auto_columns": null,
            "grid_auto_flow": null,
            "grid_auto_rows": null,
            "grid_column": null,
            "grid_gap": null,
            "grid_row": null,
            "grid_template_areas": null,
            "grid_template_columns": null,
            "grid_template_rows": null,
            "height": null,
            "justify_content": null,
            "justify_items": null,
            "left": null,
            "margin": null,
            "max_height": null,
            "max_width": null,
            "min_height": null,
            "min_width": null,
            "object_fit": null,
            "object_position": null,
            "order": null,
            "overflow": null,
            "overflow_x": null,
            "overflow_y": null,
            "padding": null,
            "right": null,
            "top": null,
            "visibility": null,
            "width": null
          }
        },
        "aac41bec756a43b98e40a23d37771dd3": {
          "model_module": "@jupyter-widgets/controls",
          "model_name": "ProgressStyleModel",
          "model_module_version": "1.5.0",
          "state": {
            "_model_module": "@jupyter-widgets/controls",
            "_model_module_version": "1.5.0",
            "_model_name": "ProgressStyleModel",
            "_view_count": null,
            "_view_module": "@jupyter-widgets/base",
            "_view_module_version": "1.2.0",
            "_view_name": "StyleView",
            "bar_color": null,
            "description_width": ""
          }
        },
        "e84222dd309a47f3b3c0f5bbb1600f99": {
          "model_module": "@jupyter-widgets/base",
          "model_name": "LayoutModel",
          "model_module_version": "1.2.0",
          "state": {
            "_model_module": "@jupyter-widgets/base",
            "_model_module_version": "1.2.0",
            "_model_name": "LayoutModel",
            "_view_count": null,
            "_view_module": "@jupyter-widgets/base",
            "_view_module_version": "1.2.0",
            "_view_name": "LayoutView",
            "align_content": null,
            "align_items": null,
            "align_self": null,
            "border": null,
            "bottom": null,
            "display": null,
            "flex": null,
            "flex_flow": null,
            "grid_area": null,
            "grid_auto_columns": null,
            "grid_auto_flow": null,
            "grid_auto_rows": null,
            "grid_column": null,
            "grid_gap": null,
            "grid_row": null,
            "grid_template_areas": null,
            "grid_template_columns": null,
            "grid_template_rows": null,
            "height": null,
            "justify_content": null,
            "justify_items": null,
            "left": null,
            "margin": null,
            "max_height": null,
            "max_width": null,
            "min_height": null,
            "min_width": null,
            "object_fit": null,
            "object_position": null,
            "order": null,
            "overflow": null,
            "overflow_x": null,
            "overflow_y": null,
            "padding": null,
            "right": null,
            "top": null,
            "visibility": null,
            "width": null
          }
        },
        "35f9c1f1a3a246869f441265af5201e2": {
          "model_module": "@jupyter-widgets/controls",
          "model_name": "DescriptionStyleModel",
          "model_module_version": "1.5.0",
          "state": {
            "_model_module": "@jupyter-widgets/controls",
            "_model_module_version": "1.5.0",
            "_model_name": "DescriptionStyleModel",
            "_view_count": null,
            "_view_module": "@jupyter-widgets/base",
            "_view_module_version": "1.2.0",
            "_view_name": "StyleView",
            "description_width": ""
          }
        },
        "cffc22021cf0460ba5ad424d38de43cd": {
          "model_module": "@jupyter-widgets/controls",
          "model_name": "HBoxModel",
          "model_module_version": "1.5.0",
          "state": {
            "_dom_classes": [],
            "_model_module": "@jupyter-widgets/controls",
            "_model_module_version": "1.5.0",
            "_model_name": "HBoxModel",
            "_view_count": null,
            "_view_module": "@jupyter-widgets/controls",
            "_view_module_version": "1.5.0",
            "_view_name": "HBoxView",
            "box_style": "",
            "children": [
              "IPY_MODEL_04eb155b6ab143d295fbddabf3e77def",
              "IPY_MODEL_8652b508d245456da32043b8de578482",
              "IPY_MODEL_8e2e8929084348d4b82076f34e8ab5a7"
            ],
            "layout": "IPY_MODEL_f27b6bf9fd7844e886c3745131366679"
          }
        },
        "04eb155b6ab143d295fbddabf3e77def": {
          "model_module": "@jupyter-widgets/controls",
          "model_name": "HTMLModel",
          "model_module_version": "1.5.0",
          "state": {
            "_dom_classes": [],
            "_model_module": "@jupyter-widgets/controls",
            "_model_module_version": "1.5.0",
            "_model_name": "HTMLModel",
            "_view_count": null,
            "_view_module": "@jupyter-widgets/controls",
            "_view_module_version": "1.5.0",
            "_view_name": "HTMLView",
            "description": "",
            "description_tooltip": null,
            "layout": "IPY_MODEL_ff894268e35d421abf097f14c653a822",
            "placeholder": "​",
            "style": "IPY_MODEL_ea575d630a5a4726ae038212d620cc74",
            "value": "model-00006-of-00030.safetensors: 100%"
          }
        },
        "8652b508d245456da32043b8de578482": {
          "model_module": "@jupyter-widgets/controls",
          "model_name": "FloatProgressModel",
          "model_module_version": "1.5.0",
          "state": {
            "_dom_classes": [],
            "_model_module": "@jupyter-widgets/controls",
            "_model_module_version": "1.5.0",
            "_model_name": "FloatProgressModel",
            "_view_count": null,
            "_view_module": "@jupyter-widgets/controls",
            "_view_module_version": "1.5.0",
            "_view_name": "ProgressView",
            "bar_style": "success",
            "description": "",
            "description_tooltip": null,
            "layout": "IPY_MODEL_74b5a364192f470b8958956b36e87058",
            "max": 4664167408,
            "min": 0,
            "orientation": "horizontal",
            "style": "IPY_MODEL_f373a252bc1e443791b2c6d36c87ff8a",
            "value": 4664167408
          }
        },
        "8e2e8929084348d4b82076f34e8ab5a7": {
          "model_module": "@jupyter-widgets/controls",
          "model_name": "HTMLModel",
          "model_module_version": "1.5.0",
          "state": {
            "_dom_classes": [],
            "_model_module": "@jupyter-widgets/controls",
            "_model_module_version": "1.5.0",
            "_model_name": "HTMLModel",
            "_view_count": null,
            "_view_module": "@jupyter-widgets/controls",
            "_view_module_version": "1.5.0",
            "_view_name": "HTMLView",
            "description": "",
            "description_tooltip": null,
            "layout": "IPY_MODEL_b9a9c77e613447c683458577117dd5d5",
            "placeholder": "​",
            "style": "IPY_MODEL_b5d70c3935f74ff79196daa692b16136",
            "value": " 4.66G/4.66G [00:20&lt;00:00, 423MB/s]"
          }
        },
        "f27b6bf9fd7844e886c3745131366679": {
          "model_module": "@jupyter-widgets/base",
          "model_name": "LayoutModel",
          "model_module_version": "1.2.0",
          "state": {
            "_model_module": "@jupyter-widgets/base",
            "_model_module_version": "1.2.0",
            "_model_name": "LayoutModel",
            "_view_count": null,
            "_view_module": "@jupyter-widgets/base",
            "_view_module_version": "1.2.0",
            "_view_name": "LayoutView",
            "align_content": null,
            "align_items": null,
            "align_self": null,
            "border": null,
            "bottom": null,
            "display": null,
            "flex": null,
            "flex_flow": null,
            "grid_area": null,
            "grid_auto_columns": null,
            "grid_auto_flow": null,
            "grid_auto_rows": null,
            "grid_column": null,
            "grid_gap": null,
            "grid_row": null,
            "grid_template_areas": null,
            "grid_template_columns": null,
            "grid_template_rows": null,
            "height": null,
            "justify_content": null,
            "justify_items": null,
            "left": null,
            "margin": null,
            "max_height": null,
            "max_width": null,
            "min_height": null,
            "min_width": null,
            "object_fit": null,
            "object_position": null,
            "order": null,
            "overflow": null,
            "overflow_x": null,
            "overflow_y": null,
            "padding": null,
            "right": null,
            "top": null,
            "visibility": null,
            "width": null
          }
        },
        "ff894268e35d421abf097f14c653a822": {
          "model_module": "@jupyter-widgets/base",
          "model_name": "LayoutModel",
          "model_module_version": "1.2.0",
          "state": {
            "_model_module": "@jupyter-widgets/base",
            "_model_module_version": "1.2.0",
            "_model_name": "LayoutModel",
            "_view_count": null,
            "_view_module": "@jupyter-widgets/base",
            "_view_module_version": "1.2.0",
            "_view_name": "LayoutView",
            "align_content": null,
            "align_items": null,
            "align_self": null,
            "border": null,
            "bottom": null,
            "display": null,
            "flex": null,
            "flex_flow": null,
            "grid_area": null,
            "grid_auto_columns": null,
            "grid_auto_flow": null,
            "grid_auto_rows": null,
            "grid_column": null,
            "grid_gap": null,
            "grid_row": null,
            "grid_template_areas": null,
            "grid_template_columns": null,
            "grid_template_rows": null,
            "height": null,
            "justify_content": null,
            "justify_items": null,
            "left": null,
            "margin": null,
            "max_height": null,
            "max_width": null,
            "min_height": null,
            "min_width": null,
            "object_fit": null,
            "object_position": null,
            "order": null,
            "overflow": null,
            "overflow_x": null,
            "overflow_y": null,
            "padding": null,
            "right": null,
            "top": null,
            "visibility": null,
            "width": null
          }
        },
        "ea575d630a5a4726ae038212d620cc74": {
          "model_module": "@jupyter-widgets/controls",
          "model_name": "DescriptionStyleModel",
          "model_module_version": "1.5.0",
          "state": {
            "_model_module": "@jupyter-widgets/controls",
            "_model_module_version": "1.5.0",
            "_model_name": "DescriptionStyleModel",
            "_view_count": null,
            "_view_module": "@jupyter-widgets/base",
            "_view_module_version": "1.2.0",
            "_view_name": "StyleView",
            "description_width": ""
          }
        },
        "74b5a364192f470b8958956b36e87058": {
          "model_module": "@jupyter-widgets/base",
          "model_name": "LayoutModel",
          "model_module_version": "1.2.0",
          "state": {
            "_model_module": "@jupyter-widgets/base",
            "_model_module_version": "1.2.0",
            "_model_name": "LayoutModel",
            "_view_count": null,
            "_view_module": "@jupyter-widgets/base",
            "_view_module_version": "1.2.0",
            "_view_name": "LayoutView",
            "align_content": null,
            "align_items": null,
            "align_self": null,
            "border": null,
            "bottom": null,
            "display": null,
            "flex": null,
            "flex_flow": null,
            "grid_area": null,
            "grid_auto_columns": null,
            "grid_auto_flow": null,
            "grid_auto_rows": null,
            "grid_column": null,
            "grid_gap": null,
            "grid_row": null,
            "grid_template_areas": null,
            "grid_template_columns": null,
            "grid_template_rows": null,
            "height": null,
            "justify_content": null,
            "justify_items": null,
            "left": null,
            "margin": null,
            "max_height": null,
            "max_width": null,
            "min_height": null,
            "min_width": null,
            "object_fit": null,
            "object_position": null,
            "order": null,
            "overflow": null,
            "overflow_x": null,
            "overflow_y": null,
            "padding": null,
            "right": null,
            "top": null,
            "visibility": null,
            "width": null
          }
        },
        "f373a252bc1e443791b2c6d36c87ff8a": {
          "model_module": "@jupyter-widgets/controls",
          "model_name": "ProgressStyleModel",
          "model_module_version": "1.5.0",
          "state": {
            "_model_module": "@jupyter-widgets/controls",
            "_model_module_version": "1.5.0",
            "_model_name": "ProgressStyleModel",
            "_view_count": null,
            "_view_module": "@jupyter-widgets/base",
            "_view_module_version": "1.2.0",
            "_view_name": "StyleView",
            "bar_color": null,
            "description_width": ""
          }
        },
        "b9a9c77e613447c683458577117dd5d5": {
          "model_module": "@jupyter-widgets/base",
          "model_name": "LayoutModel",
          "model_module_version": "1.2.0",
          "state": {
            "_model_module": "@jupyter-widgets/base",
            "_model_module_version": "1.2.0",
            "_model_name": "LayoutModel",
            "_view_count": null,
            "_view_module": "@jupyter-widgets/base",
            "_view_module_version": "1.2.0",
            "_view_name": "LayoutView",
            "align_content": null,
            "align_items": null,
            "align_self": null,
            "border": null,
            "bottom": null,
            "display": null,
            "flex": null,
            "flex_flow": null,
            "grid_area": null,
            "grid_auto_columns": null,
            "grid_auto_flow": null,
            "grid_auto_rows": null,
            "grid_column": null,
            "grid_gap": null,
            "grid_row": null,
            "grid_template_areas": null,
            "grid_template_columns": null,
            "grid_template_rows": null,
            "height": null,
            "justify_content": null,
            "justify_items": null,
            "left": null,
            "margin": null,
            "max_height": null,
            "max_width": null,
            "min_height": null,
            "min_width": null,
            "object_fit": null,
            "object_position": null,
            "order": null,
            "overflow": null,
            "overflow_x": null,
            "overflow_y": null,
            "padding": null,
            "right": null,
            "top": null,
            "visibility": null,
            "width": null
          }
        },
        "b5d70c3935f74ff79196daa692b16136": {
          "model_module": "@jupyter-widgets/controls",
          "model_name": "DescriptionStyleModel",
          "model_module_version": "1.5.0",
          "state": {
            "_model_module": "@jupyter-widgets/controls",
            "_model_module_version": "1.5.0",
            "_model_name": "DescriptionStyleModel",
            "_view_count": null,
            "_view_module": "@jupyter-widgets/base",
            "_view_module_version": "1.2.0",
            "_view_name": "StyleView",
            "description_width": ""
          }
        },
        "98800e2d4936424b849fbdb54e793abe": {
          "model_module": "@jupyter-widgets/controls",
          "model_name": "HBoxModel",
          "model_module_version": "1.5.0",
          "state": {
            "_dom_classes": [],
            "_model_module": "@jupyter-widgets/controls",
            "_model_module_version": "1.5.0",
            "_model_name": "HBoxModel",
            "_view_count": null,
            "_view_module": "@jupyter-widgets/controls",
            "_view_module_version": "1.5.0",
            "_view_name": "HBoxView",
            "box_style": "",
            "children": [
              "IPY_MODEL_50b1e6c7d6394d38a6eb73430cf5d161",
              "IPY_MODEL_1fb2978805f04c0c9ed7bb0f613f0dd1",
              "IPY_MODEL_7cb0b723e282498294ec944a5fa47482"
            ],
            "layout": "IPY_MODEL_f5612e76976a4e74b1ffe457df1091fc"
          }
        },
        "50b1e6c7d6394d38a6eb73430cf5d161": {
          "model_module": "@jupyter-widgets/controls",
          "model_name": "HTMLModel",
          "model_module_version": "1.5.0",
          "state": {
            "_dom_classes": [],
            "_model_module": "@jupyter-widgets/controls",
            "_model_module_version": "1.5.0",
            "_model_name": "HTMLModel",
            "_view_count": null,
            "_view_module": "@jupyter-widgets/controls",
            "_view_module_version": "1.5.0",
            "_view_name": "HTMLView",
            "description": "",
            "description_tooltip": null,
            "layout": "IPY_MODEL_2f1e209b5ace4cdda34f5b196d4a0c9e",
            "placeholder": "​",
            "style": "IPY_MODEL_fe898e56574f48d9bf35df48d3671da6",
            "value": "model-00007-of-00030.safetensors: 100%"
          }
        },
        "1fb2978805f04c0c9ed7bb0f613f0dd1": {
          "model_module": "@jupyter-widgets/controls",
          "model_name": "FloatProgressModel",
          "model_module_version": "1.5.0",
          "state": {
            "_dom_classes": [],
            "_model_module": "@jupyter-widgets/controls",
            "_model_module_version": "1.5.0",
            "_model_name": "FloatProgressModel",
            "_view_count": null,
            "_view_module": "@jupyter-widgets/controls",
            "_view_module_version": "1.5.0",
            "_view_name": "ProgressView",
            "bar_style": "success",
            "description": "",
            "description_tooltip": null,
            "layout": "IPY_MODEL_fdef7902ca034452bf8443642b38da58",
            "max": 4664167408,
            "min": 0,
            "orientation": "horizontal",
            "style": "IPY_MODEL_0c075cf1930c4e24817d80ceab58cf0f",
            "value": 4664167408
          }
        },
        "7cb0b723e282498294ec944a5fa47482": {
          "model_module": "@jupyter-widgets/controls",
          "model_name": "HTMLModel",
          "model_module_version": "1.5.0",
          "state": {
            "_dom_classes": [],
            "_model_module": "@jupyter-widgets/controls",
            "_model_module_version": "1.5.0",
            "_model_name": "HTMLModel",
            "_view_count": null,
            "_view_module": "@jupyter-widgets/controls",
            "_view_module_version": "1.5.0",
            "_view_name": "HTMLView",
            "description": "",
            "description_tooltip": null,
            "layout": "IPY_MODEL_1e809808dc024ab0b77c57e52f1b1d3a",
            "placeholder": "​",
            "style": "IPY_MODEL_32a38e3e00dd4d56b1c6b9cc6391c382",
            "value": " 4.66G/4.66G [00:15&lt;00:00, 399MB/s]"
          }
        },
        "f5612e76976a4e74b1ffe457df1091fc": {
          "model_module": "@jupyter-widgets/base",
          "model_name": "LayoutModel",
          "model_module_version": "1.2.0",
          "state": {
            "_model_module": "@jupyter-widgets/base",
            "_model_module_version": "1.2.0",
            "_model_name": "LayoutModel",
            "_view_count": null,
            "_view_module": "@jupyter-widgets/base",
            "_view_module_version": "1.2.0",
            "_view_name": "LayoutView",
            "align_content": null,
            "align_items": null,
            "align_self": null,
            "border": null,
            "bottom": null,
            "display": null,
            "flex": null,
            "flex_flow": null,
            "grid_area": null,
            "grid_auto_columns": null,
            "grid_auto_flow": null,
            "grid_auto_rows": null,
            "grid_column": null,
            "grid_gap": null,
            "grid_row": null,
            "grid_template_areas": null,
            "grid_template_columns": null,
            "grid_template_rows": null,
            "height": null,
            "justify_content": null,
            "justify_items": null,
            "left": null,
            "margin": null,
            "max_height": null,
            "max_width": null,
            "min_height": null,
            "min_width": null,
            "object_fit": null,
            "object_position": null,
            "order": null,
            "overflow": null,
            "overflow_x": null,
            "overflow_y": null,
            "padding": null,
            "right": null,
            "top": null,
            "visibility": null,
            "width": null
          }
        },
        "2f1e209b5ace4cdda34f5b196d4a0c9e": {
          "model_module": "@jupyter-widgets/base",
          "model_name": "LayoutModel",
          "model_module_version": "1.2.0",
          "state": {
            "_model_module": "@jupyter-widgets/base",
            "_model_module_version": "1.2.0",
            "_model_name": "LayoutModel",
            "_view_count": null,
            "_view_module": "@jupyter-widgets/base",
            "_view_module_version": "1.2.0",
            "_view_name": "LayoutView",
            "align_content": null,
            "align_items": null,
            "align_self": null,
            "border": null,
            "bottom": null,
            "display": null,
            "flex": null,
            "flex_flow": null,
            "grid_area": null,
            "grid_auto_columns": null,
            "grid_auto_flow": null,
            "grid_auto_rows": null,
            "grid_column": null,
            "grid_gap": null,
            "grid_row": null,
            "grid_template_areas": null,
            "grid_template_columns": null,
            "grid_template_rows": null,
            "height": null,
            "justify_content": null,
            "justify_items": null,
            "left": null,
            "margin": null,
            "max_height": null,
            "max_width": null,
            "min_height": null,
            "min_width": null,
            "object_fit": null,
            "object_position": null,
            "order": null,
            "overflow": null,
            "overflow_x": null,
            "overflow_y": null,
            "padding": null,
            "right": null,
            "top": null,
            "visibility": null,
            "width": null
          }
        },
        "fe898e56574f48d9bf35df48d3671da6": {
          "model_module": "@jupyter-widgets/controls",
          "model_name": "DescriptionStyleModel",
          "model_module_version": "1.5.0",
          "state": {
            "_model_module": "@jupyter-widgets/controls",
            "_model_module_version": "1.5.0",
            "_model_name": "DescriptionStyleModel",
            "_view_count": null,
            "_view_module": "@jupyter-widgets/base",
            "_view_module_version": "1.2.0",
            "_view_name": "StyleView",
            "description_width": ""
          }
        },
        "fdef7902ca034452bf8443642b38da58": {
          "model_module": "@jupyter-widgets/base",
          "model_name": "LayoutModel",
          "model_module_version": "1.2.0",
          "state": {
            "_model_module": "@jupyter-widgets/base",
            "_model_module_version": "1.2.0",
            "_model_name": "LayoutModel",
            "_view_count": null,
            "_view_module": "@jupyter-widgets/base",
            "_view_module_version": "1.2.0",
            "_view_name": "LayoutView",
            "align_content": null,
            "align_items": null,
            "align_self": null,
            "border": null,
            "bottom": null,
            "display": null,
            "flex": null,
            "flex_flow": null,
            "grid_area": null,
            "grid_auto_columns": null,
            "grid_auto_flow": null,
            "grid_auto_rows": null,
            "grid_column": null,
            "grid_gap": null,
            "grid_row": null,
            "grid_template_areas": null,
            "grid_template_columns": null,
            "grid_template_rows": null,
            "height": null,
            "justify_content": null,
            "justify_items": null,
            "left": null,
            "margin": null,
            "max_height": null,
            "max_width": null,
            "min_height": null,
            "min_width": null,
            "object_fit": null,
            "object_position": null,
            "order": null,
            "overflow": null,
            "overflow_x": null,
            "overflow_y": null,
            "padding": null,
            "right": null,
            "top": null,
            "visibility": null,
            "width": null
          }
        },
        "0c075cf1930c4e24817d80ceab58cf0f": {
          "model_module": "@jupyter-widgets/controls",
          "model_name": "ProgressStyleModel",
          "model_module_version": "1.5.0",
          "state": {
            "_model_module": "@jupyter-widgets/controls",
            "_model_module_version": "1.5.0",
            "_model_name": "ProgressStyleModel",
            "_view_count": null,
            "_view_module": "@jupyter-widgets/base",
            "_view_module_version": "1.2.0",
            "_view_name": "StyleView",
            "bar_color": null,
            "description_width": ""
          }
        },
        "1e809808dc024ab0b77c57e52f1b1d3a": {
          "model_module": "@jupyter-widgets/base",
          "model_name": "LayoutModel",
          "model_module_version": "1.2.0",
          "state": {
            "_model_module": "@jupyter-widgets/base",
            "_model_module_version": "1.2.0",
            "_model_name": "LayoutModel",
            "_view_count": null,
            "_view_module": "@jupyter-widgets/base",
            "_view_module_version": "1.2.0",
            "_view_name": "LayoutView",
            "align_content": null,
            "align_items": null,
            "align_self": null,
            "border": null,
            "bottom": null,
            "display": null,
            "flex": null,
            "flex_flow": null,
            "grid_area": null,
            "grid_auto_columns": null,
            "grid_auto_flow": null,
            "grid_auto_rows": null,
            "grid_column": null,
            "grid_gap": null,
            "grid_row": null,
            "grid_template_areas": null,
            "grid_template_columns": null,
            "grid_template_rows": null,
            "height": null,
            "justify_content": null,
            "justify_items": null,
            "left": null,
            "margin": null,
            "max_height": null,
            "max_width": null,
            "min_height": null,
            "min_width": null,
            "object_fit": null,
            "object_position": null,
            "order": null,
            "overflow": null,
            "overflow_x": null,
            "overflow_y": null,
            "padding": null,
            "right": null,
            "top": null,
            "visibility": null,
            "width": null
          }
        },
        "32a38e3e00dd4d56b1c6b9cc6391c382": {
          "model_module": "@jupyter-widgets/controls",
          "model_name": "DescriptionStyleModel",
          "model_module_version": "1.5.0",
          "state": {
            "_model_module": "@jupyter-widgets/controls",
            "_model_module_version": "1.5.0",
            "_model_name": "DescriptionStyleModel",
            "_view_count": null,
            "_view_module": "@jupyter-widgets/base",
            "_view_module_version": "1.2.0",
            "_view_name": "StyleView",
            "description_width": ""
          }
        },
        "0bc6c687515b41d18ecec9c84717ede2": {
          "model_module": "@jupyter-widgets/controls",
          "model_name": "HBoxModel",
          "model_module_version": "1.5.0",
          "state": {
            "_dom_classes": [],
            "_model_module": "@jupyter-widgets/controls",
            "_model_module_version": "1.5.0",
            "_model_name": "HBoxModel",
            "_view_count": null,
            "_view_module": "@jupyter-widgets/controls",
            "_view_module_version": "1.5.0",
            "_view_name": "HBoxView",
            "box_style": "",
            "children": [
              "IPY_MODEL_8758e50b4f3e40a297c698994b8d1026",
              "IPY_MODEL_be6176e8edde439e9e414a887b5636d9",
              "IPY_MODEL_dfa3e4e799734d839e99328568935487"
            ],
            "layout": "IPY_MODEL_e1678e76be594fff8cda051bc5427656"
          }
        },
        "8758e50b4f3e40a297c698994b8d1026": {
          "model_module": "@jupyter-widgets/controls",
          "model_name": "HTMLModel",
          "model_module_version": "1.5.0",
          "state": {
            "_dom_classes": [],
            "_model_module": "@jupyter-widgets/controls",
            "_model_module_version": "1.5.0",
            "_model_name": "HTMLModel",
            "_view_count": null,
            "_view_module": "@jupyter-widgets/controls",
            "_view_module_version": "1.5.0",
            "_view_name": "HTMLView",
            "description": "",
            "description_tooltip": null,
            "layout": "IPY_MODEL_b4e2cc47a25648b0a69577800bc1e59a",
            "placeholder": "​",
            "style": "IPY_MODEL_75e62696a30b4ff684696bb633a05846",
            "value": "model-00008-of-00030.safetensors: 100%"
          }
        },
        "be6176e8edde439e9e414a887b5636d9": {
          "model_module": "@jupyter-widgets/controls",
          "model_name": "FloatProgressModel",
          "model_module_version": "1.5.0",
          "state": {
            "_dom_classes": [],
            "_model_module": "@jupyter-widgets/controls",
            "_model_module_version": "1.5.0",
            "_model_name": "FloatProgressModel",
            "_view_count": null,
            "_view_module": "@jupyter-widgets/controls",
            "_view_module_version": "1.5.0",
            "_view_name": "ProgressView",
            "bar_style": "success",
            "description": "",
            "description_tooltip": null,
            "layout": "IPY_MODEL_c4f9f314e1e94f36ba4bb42c3619789f",
            "max": 4999711728,
            "min": 0,
            "orientation": "horizontal",
            "style": "IPY_MODEL_df8c80dffa6744ad92750c06eda19360",
            "value": 4999711728
          }
        },
        "dfa3e4e799734d839e99328568935487": {
          "model_module": "@jupyter-widgets/controls",
          "model_name": "HTMLModel",
          "model_module_version": "1.5.0",
          "state": {
            "_dom_classes": [],
            "_model_module": "@jupyter-widgets/controls",
            "_model_module_version": "1.5.0",
            "_model_name": "HTMLModel",
            "_view_count": null,
            "_view_module": "@jupyter-widgets/controls",
            "_view_module_version": "1.5.0",
            "_view_name": "HTMLView",
            "description": "",
            "description_tooltip": null,
            "layout": "IPY_MODEL_fd55df18a4dc46e9bf40139a2f00b219",
            "placeholder": "​",
            "style": "IPY_MODEL_dfefbabda55f4d16b2fa1a17739ca2e8",
            "value": " 5.00G/5.00G [00:15&lt;00:00, 209MB/s]"
          }
        },
        "e1678e76be594fff8cda051bc5427656": {
          "model_module": "@jupyter-widgets/base",
          "model_name": "LayoutModel",
          "model_module_version": "1.2.0",
          "state": {
            "_model_module": "@jupyter-widgets/base",
            "_model_module_version": "1.2.0",
            "_model_name": "LayoutModel",
            "_view_count": null,
            "_view_module": "@jupyter-widgets/base",
            "_view_module_version": "1.2.0",
            "_view_name": "LayoutView",
            "align_content": null,
            "align_items": null,
            "align_self": null,
            "border": null,
            "bottom": null,
            "display": null,
            "flex": null,
            "flex_flow": null,
            "grid_area": null,
            "grid_auto_columns": null,
            "grid_auto_flow": null,
            "grid_auto_rows": null,
            "grid_column": null,
            "grid_gap": null,
            "grid_row": null,
            "grid_template_areas": null,
            "grid_template_columns": null,
            "grid_template_rows": null,
            "height": null,
            "justify_content": null,
            "justify_items": null,
            "left": null,
            "margin": null,
            "max_height": null,
            "max_width": null,
            "min_height": null,
            "min_width": null,
            "object_fit": null,
            "object_position": null,
            "order": null,
            "overflow": null,
            "overflow_x": null,
            "overflow_y": null,
            "padding": null,
            "right": null,
            "top": null,
            "visibility": null,
            "width": null
          }
        },
        "b4e2cc47a25648b0a69577800bc1e59a": {
          "model_module": "@jupyter-widgets/base",
          "model_name": "LayoutModel",
          "model_module_version": "1.2.0",
          "state": {
            "_model_module": "@jupyter-widgets/base",
            "_model_module_version": "1.2.0",
            "_model_name": "LayoutModel",
            "_view_count": null,
            "_view_module": "@jupyter-widgets/base",
            "_view_module_version": "1.2.0",
            "_view_name": "LayoutView",
            "align_content": null,
            "align_items": null,
            "align_self": null,
            "border": null,
            "bottom": null,
            "display": null,
            "flex": null,
            "flex_flow": null,
            "grid_area": null,
            "grid_auto_columns": null,
            "grid_auto_flow": null,
            "grid_auto_rows": null,
            "grid_column": null,
            "grid_gap": null,
            "grid_row": null,
            "grid_template_areas": null,
            "grid_template_columns": null,
            "grid_template_rows": null,
            "height": null,
            "justify_content": null,
            "justify_items": null,
            "left": null,
            "margin": null,
            "max_height": null,
            "max_width": null,
            "min_height": null,
            "min_width": null,
            "object_fit": null,
            "object_position": null,
            "order": null,
            "overflow": null,
            "overflow_x": null,
            "overflow_y": null,
            "padding": null,
            "right": null,
            "top": null,
            "visibility": null,
            "width": null
          }
        },
        "75e62696a30b4ff684696bb633a05846": {
          "model_module": "@jupyter-widgets/controls",
          "model_name": "DescriptionStyleModel",
          "model_module_version": "1.5.0",
          "state": {
            "_model_module": "@jupyter-widgets/controls",
            "_model_module_version": "1.5.0",
            "_model_name": "DescriptionStyleModel",
            "_view_count": null,
            "_view_module": "@jupyter-widgets/base",
            "_view_module_version": "1.2.0",
            "_view_name": "StyleView",
            "description_width": ""
          }
        },
        "c4f9f314e1e94f36ba4bb42c3619789f": {
          "model_module": "@jupyter-widgets/base",
          "model_name": "LayoutModel",
          "model_module_version": "1.2.0",
          "state": {
            "_model_module": "@jupyter-widgets/base",
            "_model_module_version": "1.2.0",
            "_model_name": "LayoutModel",
            "_view_count": null,
            "_view_module": "@jupyter-widgets/base",
            "_view_module_version": "1.2.0",
            "_view_name": "LayoutView",
            "align_content": null,
            "align_items": null,
            "align_self": null,
            "border": null,
            "bottom": null,
            "display": null,
            "flex": null,
            "flex_flow": null,
            "grid_area": null,
            "grid_auto_columns": null,
            "grid_auto_flow": null,
            "grid_auto_rows": null,
            "grid_column": null,
            "grid_gap": null,
            "grid_row": null,
            "grid_template_areas": null,
            "grid_template_columns": null,
            "grid_template_rows": null,
            "height": null,
            "justify_content": null,
            "justify_items": null,
            "left": null,
            "margin": null,
            "max_height": null,
            "max_width": null,
            "min_height": null,
            "min_width": null,
            "object_fit": null,
            "object_position": null,
            "order": null,
            "overflow": null,
            "overflow_x": null,
            "overflow_y": null,
            "padding": null,
            "right": null,
            "top": null,
            "visibility": null,
            "width": null
          }
        },
        "df8c80dffa6744ad92750c06eda19360": {
          "model_module": "@jupyter-widgets/controls",
          "model_name": "ProgressStyleModel",
          "model_module_version": "1.5.0",
          "state": {
            "_model_module": "@jupyter-widgets/controls",
            "_model_module_version": "1.5.0",
            "_model_name": "ProgressStyleModel",
            "_view_count": null,
            "_view_module": "@jupyter-widgets/base",
            "_view_module_version": "1.2.0",
            "_view_name": "StyleView",
            "bar_color": null,
            "description_width": ""
          }
        },
        "fd55df18a4dc46e9bf40139a2f00b219": {
          "model_module": "@jupyter-widgets/base",
          "model_name": "LayoutModel",
          "model_module_version": "1.2.0",
          "state": {
            "_model_module": "@jupyter-widgets/base",
            "_model_module_version": "1.2.0",
            "_model_name": "LayoutModel",
            "_view_count": null,
            "_view_module": "@jupyter-widgets/base",
            "_view_module_version": "1.2.0",
            "_view_name": "LayoutView",
            "align_content": null,
            "align_items": null,
            "align_self": null,
            "border": null,
            "bottom": null,
            "display": null,
            "flex": null,
            "flex_flow": null,
            "grid_area": null,
            "grid_auto_columns": null,
            "grid_auto_flow": null,
            "grid_auto_rows": null,
            "grid_column": null,
            "grid_gap": null,
            "grid_row": null,
            "grid_template_areas": null,
            "grid_template_columns": null,
            "grid_template_rows": null,
            "height": null,
            "justify_content": null,
            "justify_items": null,
            "left": null,
            "margin": null,
            "max_height": null,
            "max_width": null,
            "min_height": null,
            "min_width": null,
            "object_fit": null,
            "object_position": null,
            "order": null,
            "overflow": null,
            "overflow_x": null,
            "overflow_y": null,
            "padding": null,
            "right": null,
            "top": null,
            "visibility": null,
            "width": null
          }
        },
        "dfefbabda55f4d16b2fa1a17739ca2e8": {
          "model_module": "@jupyter-widgets/controls",
          "model_name": "DescriptionStyleModel",
          "model_module_version": "1.5.0",
          "state": {
            "_model_module": "@jupyter-widgets/controls",
            "_model_module_version": "1.5.0",
            "_model_name": "DescriptionStyleModel",
            "_view_count": null,
            "_view_module": "@jupyter-widgets/base",
            "_view_module_version": "1.2.0",
            "_view_name": "StyleView",
            "description_width": ""
          }
        },
        "00082327ac954c29991ad4a156d4abce": {
          "model_module": "@jupyter-widgets/controls",
          "model_name": "HBoxModel",
          "model_module_version": "1.5.0",
          "state": {
            "_dom_classes": [],
            "_model_module": "@jupyter-widgets/controls",
            "_model_module_version": "1.5.0",
            "_model_name": "HBoxModel",
            "_view_count": null,
            "_view_module": "@jupyter-widgets/controls",
            "_view_module_version": "1.5.0",
            "_view_name": "HBoxView",
            "box_style": "",
            "children": [
              "IPY_MODEL_b0890487d38d4d8f88497722b862c787",
              "IPY_MODEL_6f8e64cfe6a4450c9f9b4d0f9011520d",
              "IPY_MODEL_ea13c41263cd4e96a9142a0ccdb52a9d"
            ],
            "layout": "IPY_MODEL_4ca6dd9457b0494d9a9055f2d6e3ba6f"
          }
        },
        "b0890487d38d4d8f88497722b862c787": {
          "model_module": "@jupyter-widgets/controls",
          "model_name": "HTMLModel",
          "model_module_version": "1.5.0",
          "state": {
            "_dom_classes": [],
            "_model_module": "@jupyter-widgets/controls",
            "_model_module_version": "1.5.0",
            "_model_name": "HTMLModel",
            "_view_count": null,
            "_view_module": "@jupyter-widgets/controls",
            "_view_module_version": "1.5.0",
            "_view_name": "HTMLView",
            "description": "",
            "description_tooltip": null,
            "layout": "IPY_MODEL_e1b2bd2d364340edaa4847d3593fac07",
            "placeholder": "​",
            "style": "IPY_MODEL_9e68fa95009a48bc813e5c63d1f9f37e",
            "value": "model-00009-of-00030.safetensors: 100%"
          }
        },
        "6f8e64cfe6a4450c9f9b4d0f9011520d": {
          "model_module": "@jupyter-widgets/controls",
          "model_name": "FloatProgressModel",
          "model_module_version": "1.5.0",
          "state": {
            "_dom_classes": [],
            "_model_module": "@jupyter-widgets/controls",
            "_model_module_version": "1.5.0",
            "_model_name": "FloatProgressModel",
            "_view_count": null,
            "_view_module": "@jupyter-widgets/controls",
            "_view_module_version": "1.5.0",
            "_view_name": "ProgressView",
            "bar_style": "success",
            "description": "",
            "description_tooltip": null,
            "layout": "IPY_MODEL_5f10ea19a03240d89cc021829b2d0647",
            "max": 4966157056,
            "min": 0,
            "orientation": "horizontal",
            "style": "IPY_MODEL_dc58b84d18ab45a38b36ce030b7ab216",
            "value": 4966157056
          }
        },
        "ea13c41263cd4e96a9142a0ccdb52a9d": {
          "model_module": "@jupyter-widgets/controls",
          "model_name": "HTMLModel",
          "model_module_version": "1.5.0",
          "state": {
            "_dom_classes": [],
            "_model_module": "@jupyter-widgets/controls",
            "_model_module_version": "1.5.0",
            "_model_name": "HTMLModel",
            "_view_count": null,
            "_view_module": "@jupyter-widgets/controls",
            "_view_module_version": "1.5.0",
            "_view_name": "HTMLView",
            "description": "",
            "description_tooltip": null,
            "layout": "IPY_MODEL_395dfa364d0943b8979df9cbe03b1a77",
            "placeholder": "​",
            "style": "IPY_MODEL_0a354f819e014d5b9471aeea637dc11c",
            "value": " 4.97G/4.97G [00:15&lt;00:00, 308MB/s]"
          }
        },
        "4ca6dd9457b0494d9a9055f2d6e3ba6f": {
          "model_module": "@jupyter-widgets/base",
          "model_name": "LayoutModel",
          "model_module_version": "1.2.0",
          "state": {
            "_model_module": "@jupyter-widgets/base",
            "_model_module_version": "1.2.0",
            "_model_name": "LayoutModel",
            "_view_count": null,
            "_view_module": "@jupyter-widgets/base",
            "_view_module_version": "1.2.0",
            "_view_name": "LayoutView",
            "align_content": null,
            "align_items": null,
            "align_self": null,
            "border": null,
            "bottom": null,
            "display": null,
            "flex": null,
            "flex_flow": null,
            "grid_area": null,
            "grid_auto_columns": null,
            "grid_auto_flow": null,
            "grid_auto_rows": null,
            "grid_column": null,
            "grid_gap": null,
            "grid_row": null,
            "grid_template_areas": null,
            "grid_template_columns": null,
            "grid_template_rows": null,
            "height": null,
            "justify_content": null,
            "justify_items": null,
            "left": null,
            "margin": null,
            "max_height": null,
            "max_width": null,
            "min_height": null,
            "min_width": null,
            "object_fit": null,
            "object_position": null,
            "order": null,
            "overflow": null,
            "overflow_x": null,
            "overflow_y": null,
            "padding": null,
            "right": null,
            "top": null,
            "visibility": null,
            "width": null
          }
        },
        "e1b2bd2d364340edaa4847d3593fac07": {
          "model_module": "@jupyter-widgets/base",
          "model_name": "LayoutModel",
          "model_module_version": "1.2.0",
          "state": {
            "_model_module": "@jupyter-widgets/base",
            "_model_module_version": "1.2.0",
            "_model_name": "LayoutModel",
            "_view_count": null,
            "_view_module": "@jupyter-widgets/base",
            "_view_module_version": "1.2.0",
            "_view_name": "LayoutView",
            "align_content": null,
            "align_items": null,
            "align_self": null,
            "border": null,
            "bottom": null,
            "display": null,
            "flex": null,
            "flex_flow": null,
            "grid_area": null,
            "grid_auto_columns": null,
            "grid_auto_flow": null,
            "grid_auto_rows": null,
            "grid_column": null,
            "grid_gap": null,
            "grid_row": null,
            "grid_template_areas": null,
            "grid_template_columns": null,
            "grid_template_rows": null,
            "height": null,
            "justify_content": null,
            "justify_items": null,
            "left": null,
            "margin": null,
            "max_height": null,
            "max_width": null,
            "min_height": null,
            "min_width": null,
            "object_fit": null,
            "object_position": null,
            "order": null,
            "overflow": null,
            "overflow_x": null,
            "overflow_y": null,
            "padding": null,
            "right": null,
            "top": null,
            "visibility": null,
            "width": null
          }
        },
        "9e68fa95009a48bc813e5c63d1f9f37e": {
          "model_module": "@jupyter-widgets/controls",
          "model_name": "DescriptionStyleModel",
          "model_module_version": "1.5.0",
          "state": {
            "_model_module": "@jupyter-widgets/controls",
            "_model_module_version": "1.5.0",
            "_model_name": "DescriptionStyleModel",
            "_view_count": null,
            "_view_module": "@jupyter-widgets/base",
            "_view_module_version": "1.2.0",
            "_view_name": "StyleView",
            "description_width": ""
          }
        },
        "5f10ea19a03240d89cc021829b2d0647": {
          "model_module": "@jupyter-widgets/base",
          "model_name": "LayoutModel",
          "model_module_version": "1.2.0",
          "state": {
            "_model_module": "@jupyter-widgets/base",
            "_model_module_version": "1.2.0",
            "_model_name": "LayoutModel",
            "_view_count": null,
            "_view_module": "@jupyter-widgets/base",
            "_view_module_version": "1.2.0",
            "_view_name": "LayoutView",
            "align_content": null,
            "align_items": null,
            "align_self": null,
            "border": null,
            "bottom": null,
            "display": null,
            "flex": null,
            "flex_flow": null,
            "grid_area": null,
            "grid_auto_columns": null,
            "grid_auto_flow": null,
            "grid_auto_rows": null,
            "grid_column": null,
            "grid_gap": null,
            "grid_row": null,
            "grid_template_areas": null,
            "grid_template_columns": null,
            "grid_template_rows": null,
            "height": null,
            "justify_content": null,
            "justify_items": null,
            "left": null,
            "margin": null,
            "max_height": null,
            "max_width": null,
            "min_height": null,
            "min_width": null,
            "object_fit": null,
            "object_position": null,
            "order": null,
            "overflow": null,
            "overflow_x": null,
            "overflow_y": null,
            "padding": null,
            "right": null,
            "top": null,
            "visibility": null,
            "width": null
          }
        },
        "dc58b84d18ab45a38b36ce030b7ab216": {
          "model_module": "@jupyter-widgets/controls",
          "model_name": "ProgressStyleModel",
          "model_module_version": "1.5.0",
          "state": {
            "_model_module": "@jupyter-widgets/controls",
            "_model_module_version": "1.5.0",
            "_model_name": "ProgressStyleModel",
            "_view_count": null,
            "_view_module": "@jupyter-widgets/base",
            "_view_module_version": "1.2.0",
            "_view_name": "StyleView",
            "bar_color": null,
            "description_width": ""
          }
        },
        "395dfa364d0943b8979df9cbe03b1a77": {
          "model_module": "@jupyter-widgets/base",
          "model_name": "LayoutModel",
          "model_module_version": "1.2.0",
          "state": {
            "_model_module": "@jupyter-widgets/base",
            "_model_module_version": "1.2.0",
            "_model_name": "LayoutModel",
            "_view_count": null,
            "_view_module": "@jupyter-widgets/base",
            "_view_module_version": "1.2.0",
            "_view_name": "LayoutView",
            "align_content": null,
            "align_items": null,
            "align_self": null,
            "border": null,
            "bottom": null,
            "display": null,
            "flex": null,
            "flex_flow": null,
            "grid_area": null,
            "grid_auto_columns": null,
            "grid_auto_flow": null,
            "grid_auto_rows": null,
            "grid_column": null,
            "grid_gap": null,
            "grid_row": null,
            "grid_template_areas": null,
            "grid_template_columns": null,
            "grid_template_rows": null,
            "height": null,
            "justify_content": null,
            "justify_items": null,
            "left": null,
            "margin": null,
            "max_height": null,
            "max_width": null,
            "min_height": null,
            "min_width": null,
            "object_fit": null,
            "object_position": null,
            "order": null,
            "overflow": null,
            "overflow_x": null,
            "overflow_y": null,
            "padding": null,
            "right": null,
            "top": null,
            "visibility": null,
            "width": null
          }
        },
        "0a354f819e014d5b9471aeea637dc11c": {
          "model_module": "@jupyter-widgets/controls",
          "model_name": "DescriptionStyleModel",
          "model_module_version": "1.5.0",
          "state": {
            "_model_module": "@jupyter-widgets/controls",
            "_model_module_version": "1.5.0",
            "_model_name": "DescriptionStyleModel",
            "_view_count": null,
            "_view_module": "@jupyter-widgets/base",
            "_view_module_version": "1.2.0",
            "_view_name": "StyleView",
            "description_width": ""
          }
        },
        "19d232047a784efca49d280a40902d60": {
          "model_module": "@jupyter-widgets/controls",
          "model_name": "HBoxModel",
          "model_module_version": "1.5.0",
          "state": {
            "_dom_classes": [],
            "_model_module": "@jupyter-widgets/controls",
            "_model_module_version": "1.5.0",
            "_model_name": "HBoxModel",
            "_view_count": null,
            "_view_module": "@jupyter-widgets/controls",
            "_view_module_version": "1.5.0",
            "_view_name": "HBoxView",
            "box_style": "",
            "children": [
              "IPY_MODEL_f087344b99024e9db1f76620917b0f40",
              "IPY_MODEL_b72b084c07aa48718d129e6089550424",
              "IPY_MODEL_2faf728306a34012a561c9faeb734a8b"
            ],
            "layout": "IPY_MODEL_921e4ad0c37f4265a6fd37a90005b619"
          }
        },
        "f087344b99024e9db1f76620917b0f40": {
          "model_module": "@jupyter-widgets/controls",
          "model_name": "HTMLModel",
          "model_module_version": "1.5.0",
          "state": {
            "_dom_classes": [],
            "_model_module": "@jupyter-widgets/controls",
            "_model_module_version": "1.5.0",
            "_model_name": "HTMLModel",
            "_view_count": null,
            "_view_module": "@jupyter-widgets/controls",
            "_view_module_version": "1.5.0",
            "_view_name": "HTMLView",
            "description": "",
            "description_tooltip": null,
            "layout": "IPY_MODEL_d268486d64b84c9c9bb1d6a46c76794d",
            "placeholder": "​",
            "style": "IPY_MODEL_b551db2bb029490a946fc5453e9f7b65",
            "value": "model-00010-of-00030.safetensors: 100%"
          }
        },
        "b72b084c07aa48718d129e6089550424": {
          "model_module": "@jupyter-widgets/controls",
          "model_name": "FloatProgressModel",
          "model_module_version": "1.5.0",
          "state": {
            "_dom_classes": [],
            "_model_module": "@jupyter-widgets/controls",
            "_model_module_version": "1.5.0",
            "_model_name": "FloatProgressModel",
            "_view_count": null,
            "_view_module": "@jupyter-widgets/controls",
            "_view_module_version": "1.5.0",
            "_view_name": "ProgressView",
            "bar_style": "success",
            "description": "",
            "description_tooltip": null,
            "layout": "IPY_MODEL_b4a26da031114571abd8323e90fe755e",
            "max": 4664134408,
            "min": 0,
            "orientation": "horizontal",
            "style": "IPY_MODEL_7b4bb36d2a584d4f845fb7494a0e9ab5",
            "value": 4664134408
          }
        },
        "2faf728306a34012a561c9faeb734a8b": {
          "model_module": "@jupyter-widgets/controls",
          "model_name": "HTMLModel",
          "model_module_version": "1.5.0",
          "state": {
            "_dom_classes": [],
            "_model_module": "@jupyter-widgets/controls",
            "_model_module_version": "1.5.0",
            "_model_name": "HTMLModel",
            "_view_count": null,
            "_view_module": "@jupyter-widgets/controls",
            "_view_module_version": "1.5.0",
            "_view_name": "HTMLView",
            "description": "",
            "description_tooltip": null,
            "layout": "IPY_MODEL_89e87d1d7602456d9c995f59b7b3047c",
            "placeholder": "​",
            "style": "IPY_MODEL_86d0dfea8cd14d08bf1e59fee5cd59a2",
            "value": " 4.66G/4.66G [00:15&lt;00:00, 255MB/s]"
          }
        },
        "921e4ad0c37f4265a6fd37a90005b619": {
          "model_module": "@jupyter-widgets/base",
          "model_name": "LayoutModel",
          "model_module_version": "1.2.0",
          "state": {
            "_model_module": "@jupyter-widgets/base",
            "_model_module_version": "1.2.0",
            "_model_name": "LayoutModel",
            "_view_count": null,
            "_view_module": "@jupyter-widgets/base",
            "_view_module_version": "1.2.0",
            "_view_name": "LayoutView",
            "align_content": null,
            "align_items": null,
            "align_self": null,
            "border": null,
            "bottom": null,
            "display": null,
            "flex": null,
            "flex_flow": null,
            "grid_area": null,
            "grid_auto_columns": null,
            "grid_auto_flow": null,
            "grid_auto_rows": null,
            "grid_column": null,
            "grid_gap": null,
            "grid_row": null,
            "grid_template_areas": null,
            "grid_template_columns": null,
            "grid_template_rows": null,
            "height": null,
            "justify_content": null,
            "justify_items": null,
            "left": null,
            "margin": null,
            "max_height": null,
            "max_width": null,
            "min_height": null,
            "min_width": null,
            "object_fit": null,
            "object_position": null,
            "order": null,
            "overflow": null,
            "overflow_x": null,
            "overflow_y": null,
            "padding": null,
            "right": null,
            "top": null,
            "visibility": null,
            "width": null
          }
        },
        "d268486d64b84c9c9bb1d6a46c76794d": {
          "model_module": "@jupyter-widgets/base",
          "model_name": "LayoutModel",
          "model_module_version": "1.2.0",
          "state": {
            "_model_module": "@jupyter-widgets/base",
            "_model_module_version": "1.2.0",
            "_model_name": "LayoutModel",
            "_view_count": null,
            "_view_module": "@jupyter-widgets/base",
            "_view_module_version": "1.2.0",
            "_view_name": "LayoutView",
            "align_content": null,
            "align_items": null,
            "align_self": null,
            "border": null,
            "bottom": null,
            "display": null,
            "flex": null,
            "flex_flow": null,
            "grid_area": null,
            "grid_auto_columns": null,
            "grid_auto_flow": null,
            "grid_auto_rows": null,
            "grid_column": null,
            "grid_gap": null,
            "grid_row": null,
            "grid_template_areas": null,
            "grid_template_columns": null,
            "grid_template_rows": null,
            "height": null,
            "justify_content": null,
            "justify_items": null,
            "left": null,
            "margin": null,
            "max_height": null,
            "max_width": null,
            "min_height": null,
            "min_width": null,
            "object_fit": null,
            "object_position": null,
            "order": null,
            "overflow": null,
            "overflow_x": null,
            "overflow_y": null,
            "padding": null,
            "right": null,
            "top": null,
            "visibility": null,
            "width": null
          }
        },
        "b551db2bb029490a946fc5453e9f7b65": {
          "model_module": "@jupyter-widgets/controls",
          "model_name": "DescriptionStyleModel",
          "model_module_version": "1.5.0",
          "state": {
            "_model_module": "@jupyter-widgets/controls",
            "_model_module_version": "1.5.0",
            "_model_name": "DescriptionStyleModel",
            "_view_count": null,
            "_view_module": "@jupyter-widgets/base",
            "_view_module_version": "1.2.0",
            "_view_name": "StyleView",
            "description_width": ""
          }
        },
        "b4a26da031114571abd8323e90fe755e": {
          "model_module": "@jupyter-widgets/base",
          "model_name": "LayoutModel",
          "model_module_version": "1.2.0",
          "state": {
            "_model_module": "@jupyter-widgets/base",
            "_model_module_version": "1.2.0",
            "_model_name": "LayoutModel",
            "_view_count": null,
            "_view_module": "@jupyter-widgets/base",
            "_view_module_version": "1.2.0",
            "_view_name": "LayoutView",
            "align_content": null,
            "align_items": null,
            "align_self": null,
            "border": null,
            "bottom": null,
            "display": null,
            "flex": null,
            "flex_flow": null,
            "grid_area": null,
            "grid_auto_columns": null,
            "grid_auto_flow": null,
            "grid_auto_rows": null,
            "grid_column": null,
            "grid_gap": null,
            "grid_row": null,
            "grid_template_areas": null,
            "grid_template_columns": null,
            "grid_template_rows": null,
            "height": null,
            "justify_content": null,
            "justify_items": null,
            "left": null,
            "margin": null,
            "max_height": null,
            "max_width": null,
            "min_height": null,
            "min_width": null,
            "object_fit": null,
            "object_position": null,
            "order": null,
            "overflow": null,
            "overflow_x": null,
            "overflow_y": null,
            "padding": null,
            "right": null,
            "top": null,
            "visibility": null,
            "width": null
          }
        },
        "7b4bb36d2a584d4f845fb7494a0e9ab5": {
          "model_module": "@jupyter-widgets/controls",
          "model_name": "ProgressStyleModel",
          "model_module_version": "1.5.0",
          "state": {
            "_model_module": "@jupyter-widgets/controls",
            "_model_module_version": "1.5.0",
            "_model_name": "ProgressStyleModel",
            "_view_count": null,
            "_view_module": "@jupyter-widgets/base",
            "_view_module_version": "1.2.0",
            "_view_name": "StyleView",
            "bar_color": null,
            "description_width": ""
          }
        },
        "89e87d1d7602456d9c995f59b7b3047c": {
          "model_module": "@jupyter-widgets/base",
          "model_name": "LayoutModel",
          "model_module_version": "1.2.0",
          "state": {
            "_model_module": "@jupyter-widgets/base",
            "_model_module_version": "1.2.0",
            "_model_name": "LayoutModel",
            "_view_count": null,
            "_view_module": "@jupyter-widgets/base",
            "_view_module_version": "1.2.0",
            "_view_name": "LayoutView",
            "align_content": null,
            "align_items": null,
            "align_self": null,
            "border": null,
            "bottom": null,
            "display": null,
            "flex": null,
            "flex_flow": null,
            "grid_area": null,
            "grid_auto_columns": null,
            "grid_auto_flow": null,
            "grid_auto_rows": null,
            "grid_column": null,
            "grid_gap": null,
            "grid_row": null,
            "grid_template_areas": null,
            "grid_template_columns": null,
            "grid_template_rows": null,
            "height": null,
            "justify_content": null,
            "justify_items": null,
            "left": null,
            "margin": null,
            "max_height": null,
            "max_width": null,
            "min_height": null,
            "min_width": null,
            "object_fit": null,
            "object_position": null,
            "order": null,
            "overflow": null,
            "overflow_x": null,
            "overflow_y": null,
            "padding": null,
            "right": null,
            "top": null,
            "visibility": null,
            "width": null
          }
        },
        "86d0dfea8cd14d08bf1e59fee5cd59a2": {
          "model_module": "@jupyter-widgets/controls",
          "model_name": "DescriptionStyleModel",
          "model_module_version": "1.5.0",
          "state": {
            "_model_module": "@jupyter-widgets/controls",
            "_model_module_version": "1.5.0",
            "_model_name": "DescriptionStyleModel",
            "_view_count": null,
            "_view_module": "@jupyter-widgets/base",
            "_view_module_version": "1.2.0",
            "_view_name": "StyleView",
            "description_width": ""
          }
        },
        "31a2822aa3714071a9ff0dff7227ed7c": {
          "model_module": "@jupyter-widgets/controls",
          "model_name": "HBoxModel",
          "model_module_version": "1.5.0",
          "state": {
            "_dom_classes": [],
            "_model_module": "@jupyter-widgets/controls",
            "_model_module_version": "1.5.0",
            "_model_name": "HBoxModel",
            "_view_count": null,
            "_view_module": "@jupyter-widgets/controls",
            "_view_module_version": "1.5.0",
            "_view_name": "HBoxView",
            "box_style": "",
            "children": [
              "IPY_MODEL_a897011e41b54cc2ab72e43b464beed5",
              "IPY_MODEL_da8a1b8e3af54ad18c21adb524653cd7",
              "IPY_MODEL_7bf12b8abf2148b29d2c2d3c469ee413"
            ],
            "layout": "IPY_MODEL_69e842804d4c4604b9b5a29a1f485b04"
          }
        },
        "a897011e41b54cc2ab72e43b464beed5": {
          "model_module": "@jupyter-widgets/controls",
          "model_name": "HTMLModel",
          "model_module_version": "1.5.0",
          "state": {
            "_dom_classes": [],
            "_model_module": "@jupyter-widgets/controls",
            "_model_module_version": "1.5.0",
            "_model_name": "HTMLModel",
            "_view_count": null,
            "_view_module": "@jupyter-widgets/controls",
            "_view_module_version": "1.5.0",
            "_view_name": "HTMLView",
            "description": "",
            "description_tooltip": null,
            "layout": "IPY_MODEL_c0e4dc7a8c574f11b756235eba1f2c9c",
            "placeholder": "​",
            "style": "IPY_MODEL_4f22f2b8f818495fad51e1b9d525e221",
            "value": "model-00011-of-00030.safetensors: 100%"
          }
        },
        "da8a1b8e3af54ad18c21adb524653cd7": {
          "model_module": "@jupyter-widgets/controls",
          "model_name": "FloatProgressModel",
          "model_module_version": "1.5.0",
          "state": {
            "_dom_classes": [],
            "_model_module": "@jupyter-widgets/controls",
            "_model_module_version": "1.5.0",
            "_model_name": "FloatProgressModel",
            "_view_count": null,
            "_view_module": "@jupyter-widgets/controls",
            "_view_module_version": "1.5.0",
            "_view_name": "ProgressView",
            "bar_style": "success",
            "description": "",
            "description_tooltip": null,
            "layout": "IPY_MODEL_7aeef795d70049a7bae2168c761176bb",
            "max": 4664167408,
            "min": 0,
            "orientation": "horizontal",
            "style": "IPY_MODEL_8eb1be790c8643599914623dfa12ab31",
            "value": 4664167408
          }
        },
        "7bf12b8abf2148b29d2c2d3c469ee413": {
          "model_module": "@jupyter-widgets/controls",
          "model_name": "HTMLModel",
          "model_module_version": "1.5.0",
          "state": {
            "_dom_classes": [],
            "_model_module": "@jupyter-widgets/controls",
            "_model_module_version": "1.5.0",
            "_model_name": "HTMLModel",
            "_view_count": null,
            "_view_module": "@jupyter-widgets/controls",
            "_view_module_version": "1.5.0",
            "_view_name": "HTMLView",
            "description": "",
            "description_tooltip": null,
            "layout": "IPY_MODEL_ff0ed8624fb9497782349c76295e5d66",
            "placeholder": "​",
            "style": "IPY_MODEL_23fd2abd5a444369b95cba30547b245a",
            "value": " 4.66G/4.66G [00:14&lt;00:00, 334MB/s]"
          }
        },
        "69e842804d4c4604b9b5a29a1f485b04": {
          "model_module": "@jupyter-widgets/base",
          "model_name": "LayoutModel",
          "model_module_version": "1.2.0",
          "state": {
            "_model_module": "@jupyter-widgets/base",
            "_model_module_version": "1.2.0",
            "_model_name": "LayoutModel",
            "_view_count": null,
            "_view_module": "@jupyter-widgets/base",
            "_view_module_version": "1.2.0",
            "_view_name": "LayoutView",
            "align_content": null,
            "align_items": null,
            "align_self": null,
            "border": null,
            "bottom": null,
            "display": null,
            "flex": null,
            "flex_flow": null,
            "grid_area": null,
            "grid_auto_columns": null,
            "grid_auto_flow": null,
            "grid_auto_rows": null,
            "grid_column": null,
            "grid_gap": null,
            "grid_row": null,
            "grid_template_areas": null,
            "grid_template_columns": null,
            "grid_template_rows": null,
            "height": null,
            "justify_content": null,
            "justify_items": null,
            "left": null,
            "margin": null,
            "max_height": null,
            "max_width": null,
            "min_height": null,
            "min_width": null,
            "object_fit": null,
            "object_position": null,
            "order": null,
            "overflow": null,
            "overflow_x": null,
            "overflow_y": null,
            "padding": null,
            "right": null,
            "top": null,
            "visibility": null,
            "width": null
          }
        },
        "c0e4dc7a8c574f11b756235eba1f2c9c": {
          "model_module": "@jupyter-widgets/base",
          "model_name": "LayoutModel",
          "model_module_version": "1.2.0",
          "state": {
            "_model_module": "@jupyter-widgets/base",
            "_model_module_version": "1.2.0",
            "_model_name": "LayoutModel",
            "_view_count": null,
            "_view_module": "@jupyter-widgets/base",
            "_view_module_version": "1.2.0",
            "_view_name": "LayoutView",
            "align_content": null,
            "align_items": null,
            "align_self": null,
            "border": null,
            "bottom": null,
            "display": null,
            "flex": null,
            "flex_flow": null,
            "grid_area": null,
            "grid_auto_columns": null,
            "grid_auto_flow": null,
            "grid_auto_rows": null,
            "grid_column": null,
            "grid_gap": null,
            "grid_row": null,
            "grid_template_areas": null,
            "grid_template_columns": null,
            "grid_template_rows": null,
            "height": null,
            "justify_content": null,
            "justify_items": null,
            "left": null,
            "margin": null,
            "max_height": null,
            "max_width": null,
            "min_height": null,
            "min_width": null,
            "object_fit": null,
            "object_position": null,
            "order": null,
            "overflow": null,
            "overflow_x": null,
            "overflow_y": null,
            "padding": null,
            "right": null,
            "top": null,
            "visibility": null,
            "width": null
          }
        },
        "4f22f2b8f818495fad51e1b9d525e221": {
          "model_module": "@jupyter-widgets/controls",
          "model_name": "DescriptionStyleModel",
          "model_module_version": "1.5.0",
          "state": {
            "_model_module": "@jupyter-widgets/controls",
            "_model_module_version": "1.5.0",
            "_model_name": "DescriptionStyleModel",
            "_view_count": null,
            "_view_module": "@jupyter-widgets/base",
            "_view_module_version": "1.2.0",
            "_view_name": "StyleView",
            "description_width": ""
          }
        },
        "7aeef795d70049a7bae2168c761176bb": {
          "model_module": "@jupyter-widgets/base",
          "model_name": "LayoutModel",
          "model_module_version": "1.2.0",
          "state": {
            "_model_module": "@jupyter-widgets/base",
            "_model_module_version": "1.2.0",
            "_model_name": "LayoutModel",
            "_view_count": null,
            "_view_module": "@jupyter-widgets/base",
            "_view_module_version": "1.2.0",
            "_view_name": "LayoutView",
            "align_content": null,
            "align_items": null,
            "align_self": null,
            "border": null,
            "bottom": null,
            "display": null,
            "flex": null,
            "flex_flow": null,
            "grid_area": null,
            "grid_auto_columns": null,
            "grid_auto_flow": null,
            "grid_auto_rows": null,
            "grid_column": null,
            "grid_gap": null,
            "grid_row": null,
            "grid_template_areas": null,
            "grid_template_columns": null,
            "grid_template_rows": null,
            "height": null,
            "justify_content": null,
            "justify_items": null,
            "left": null,
            "margin": null,
            "max_height": null,
            "max_width": null,
            "min_height": null,
            "min_width": null,
            "object_fit": null,
            "object_position": null,
            "order": null,
            "overflow": null,
            "overflow_x": null,
            "overflow_y": null,
            "padding": null,
            "right": null,
            "top": null,
            "visibility": null,
            "width": null
          }
        },
        "8eb1be790c8643599914623dfa12ab31": {
          "model_module": "@jupyter-widgets/controls",
          "model_name": "ProgressStyleModel",
          "model_module_version": "1.5.0",
          "state": {
            "_model_module": "@jupyter-widgets/controls",
            "_model_module_version": "1.5.0",
            "_model_name": "ProgressStyleModel",
            "_view_count": null,
            "_view_module": "@jupyter-widgets/base",
            "_view_module_version": "1.2.0",
            "_view_name": "StyleView",
            "bar_color": null,
            "description_width": ""
          }
        },
        "ff0ed8624fb9497782349c76295e5d66": {
          "model_module": "@jupyter-widgets/base",
          "model_name": "LayoutModel",
          "model_module_version": "1.2.0",
          "state": {
            "_model_module": "@jupyter-widgets/base",
            "_model_module_version": "1.2.0",
            "_model_name": "LayoutModel",
            "_view_count": null,
            "_view_module": "@jupyter-widgets/base",
            "_view_module_version": "1.2.0",
            "_view_name": "LayoutView",
            "align_content": null,
            "align_items": null,
            "align_self": null,
            "border": null,
            "bottom": null,
            "display": null,
            "flex": null,
            "flex_flow": null,
            "grid_area": null,
            "grid_auto_columns": null,
            "grid_auto_flow": null,
            "grid_auto_rows": null,
            "grid_column": null,
            "grid_gap": null,
            "grid_row": null,
            "grid_template_areas": null,
            "grid_template_columns": null,
            "grid_template_rows": null,
            "height": null,
            "justify_content": null,
            "justify_items": null,
            "left": null,
            "margin": null,
            "max_height": null,
            "max_width": null,
            "min_height": null,
            "min_width": null,
            "object_fit": null,
            "object_position": null,
            "order": null,
            "overflow": null,
            "overflow_x": null,
            "overflow_y": null,
            "padding": null,
            "right": null,
            "top": null,
            "visibility": null,
            "width": null
          }
        },
        "23fd2abd5a444369b95cba30547b245a": {
          "model_module": "@jupyter-widgets/controls",
          "model_name": "DescriptionStyleModel",
          "model_module_version": "1.5.0",
          "state": {
            "_model_module": "@jupyter-widgets/controls",
            "_model_module_version": "1.5.0",
            "_model_name": "DescriptionStyleModel",
            "_view_count": null,
            "_view_module": "@jupyter-widgets/base",
            "_view_module_version": "1.2.0",
            "_view_name": "StyleView",
            "description_width": ""
          }
        },
        "c153b29cf5474f02a46eb538d0f6cccc": {
          "model_module": "@jupyter-widgets/controls",
          "model_name": "HBoxModel",
          "model_module_version": "1.5.0",
          "state": {
            "_dom_classes": [],
            "_model_module": "@jupyter-widgets/controls",
            "_model_module_version": "1.5.0",
            "_model_name": "HBoxModel",
            "_view_count": null,
            "_view_module": "@jupyter-widgets/controls",
            "_view_module_version": "1.5.0",
            "_view_name": "HBoxView",
            "box_style": "",
            "children": [
              "IPY_MODEL_b94328c6658f4bfb834d41b3af4457ed",
              "IPY_MODEL_a5f9dd0d721646058696cc081ae5bc80",
              "IPY_MODEL_b63c07b7df4e4409ba2500ec46cbe1df"
            ],
            "layout": "IPY_MODEL_992a097471ed4f77932a70ade76b334a"
          }
        },
        "b94328c6658f4bfb834d41b3af4457ed": {
          "model_module": "@jupyter-widgets/controls",
          "model_name": "HTMLModel",
          "model_module_version": "1.5.0",
          "state": {
            "_dom_classes": [],
            "_model_module": "@jupyter-widgets/controls",
            "_model_module_version": "1.5.0",
            "_model_name": "HTMLModel",
            "_view_count": null,
            "_view_module": "@jupyter-widgets/controls",
            "_view_module_version": "1.5.0",
            "_view_name": "HTMLView",
            "description": "",
            "description_tooltip": null,
            "layout": "IPY_MODEL_4ca70b2033204d6e856c7240d0199ccc",
            "placeholder": "​",
            "style": "IPY_MODEL_e9d8e04a33c44776a10bd6b60bd3df4f",
            "value": "model-00012-of-00030.safetensors:  11%"
          }
        },
        "a5f9dd0d721646058696cc081ae5bc80": {
          "model_module": "@jupyter-widgets/controls",
          "model_name": "FloatProgressModel",
          "model_module_version": "1.5.0",
          "state": {
            "_dom_classes": [],
            "_model_module": "@jupyter-widgets/controls",
            "_model_module_version": "1.5.0",
            "_model_name": "FloatProgressModel",
            "_view_count": null,
            "_view_module": "@jupyter-widgets/controls",
            "_view_module_version": "1.5.0",
            "_view_name": "ProgressView",
            "bar_style": "danger",
            "description": "",
            "description_tooltip": null,
            "layout": "IPY_MODEL_0b679bffbcc147bf89580dd7ac8dccd7",
            "max": 4664167408,
            "min": 0,
            "orientation": "horizontal",
            "style": "IPY_MODEL_2b7254d142324080aaf39ee8735c7c1a",
            "value": 524288000
          }
        },
        "b63c07b7df4e4409ba2500ec46cbe1df": {
          "model_module": "@jupyter-widgets/controls",
          "model_name": "HTMLModel",
          "model_module_version": "1.5.0",
          "state": {
            "_dom_classes": [],
            "_model_module": "@jupyter-widgets/controls",
            "_model_module_version": "1.5.0",
            "_model_name": "HTMLModel",
            "_view_count": null,
            "_view_module": "@jupyter-widgets/controls",
            "_view_module_version": "1.5.0",
            "_view_name": "HTMLView",
            "description": "",
            "description_tooltip": null,
            "layout": "IPY_MODEL_f4af093cf1c349ddba992dc1baac58b0",
            "placeholder": "​",
            "style": "IPY_MODEL_0576247b112846c1bbea6ce3182a637b",
            "value": " 524M/4.66G [00:01&lt;00:09, 415MB/s]"
          }
        },
        "992a097471ed4f77932a70ade76b334a": {
          "model_module": "@jupyter-widgets/base",
          "model_name": "LayoutModel",
          "model_module_version": "1.2.0",
          "state": {
            "_model_module": "@jupyter-widgets/base",
            "_model_module_version": "1.2.0",
            "_model_name": "LayoutModel",
            "_view_count": null,
            "_view_module": "@jupyter-widgets/base",
            "_view_module_version": "1.2.0",
            "_view_name": "LayoutView",
            "align_content": null,
            "align_items": null,
            "align_self": null,
            "border": null,
            "bottom": null,
            "display": null,
            "flex": null,
            "flex_flow": null,
            "grid_area": null,
            "grid_auto_columns": null,
            "grid_auto_flow": null,
            "grid_auto_rows": null,
            "grid_column": null,
            "grid_gap": null,
            "grid_row": null,
            "grid_template_areas": null,
            "grid_template_columns": null,
            "grid_template_rows": null,
            "height": null,
            "justify_content": null,
            "justify_items": null,
            "left": null,
            "margin": null,
            "max_height": null,
            "max_width": null,
            "min_height": null,
            "min_width": null,
            "object_fit": null,
            "object_position": null,
            "order": null,
            "overflow": null,
            "overflow_x": null,
            "overflow_y": null,
            "padding": null,
            "right": null,
            "top": null,
            "visibility": null,
            "width": null
          }
        },
        "4ca70b2033204d6e856c7240d0199ccc": {
          "model_module": "@jupyter-widgets/base",
          "model_name": "LayoutModel",
          "model_module_version": "1.2.0",
          "state": {
            "_model_module": "@jupyter-widgets/base",
            "_model_module_version": "1.2.0",
            "_model_name": "LayoutModel",
            "_view_count": null,
            "_view_module": "@jupyter-widgets/base",
            "_view_module_version": "1.2.0",
            "_view_name": "LayoutView",
            "align_content": null,
            "align_items": null,
            "align_self": null,
            "border": null,
            "bottom": null,
            "display": null,
            "flex": null,
            "flex_flow": null,
            "grid_area": null,
            "grid_auto_columns": null,
            "grid_auto_flow": null,
            "grid_auto_rows": null,
            "grid_column": null,
            "grid_gap": null,
            "grid_row": null,
            "grid_template_areas": null,
            "grid_template_columns": null,
            "grid_template_rows": null,
            "height": null,
            "justify_content": null,
            "justify_items": null,
            "left": null,
            "margin": null,
            "max_height": null,
            "max_width": null,
            "min_height": null,
            "min_width": null,
            "object_fit": null,
            "object_position": null,
            "order": null,
            "overflow": null,
            "overflow_x": null,
            "overflow_y": null,
            "padding": null,
            "right": null,
            "top": null,
            "visibility": null,
            "width": null
          }
        },
        "e9d8e04a33c44776a10bd6b60bd3df4f": {
          "model_module": "@jupyter-widgets/controls",
          "model_name": "DescriptionStyleModel",
          "model_module_version": "1.5.0",
          "state": {
            "_model_module": "@jupyter-widgets/controls",
            "_model_module_version": "1.5.0",
            "_model_name": "DescriptionStyleModel",
            "_view_count": null,
            "_view_module": "@jupyter-widgets/base",
            "_view_module_version": "1.2.0",
            "_view_name": "StyleView",
            "description_width": ""
          }
        },
        "0b679bffbcc147bf89580dd7ac8dccd7": {
          "model_module": "@jupyter-widgets/base",
          "model_name": "LayoutModel",
          "model_module_version": "1.2.0",
          "state": {
            "_model_module": "@jupyter-widgets/base",
            "_model_module_version": "1.2.0",
            "_model_name": "LayoutModel",
            "_view_count": null,
            "_view_module": "@jupyter-widgets/base",
            "_view_module_version": "1.2.0",
            "_view_name": "LayoutView",
            "align_content": null,
            "align_items": null,
            "align_self": null,
            "border": null,
            "bottom": null,
            "display": null,
            "flex": null,
            "flex_flow": null,
            "grid_area": null,
            "grid_auto_columns": null,
            "grid_auto_flow": null,
            "grid_auto_rows": null,
            "grid_column": null,
            "grid_gap": null,
            "grid_row": null,
            "grid_template_areas": null,
            "grid_template_columns": null,
            "grid_template_rows": null,
            "height": null,
            "justify_content": null,
            "justify_items": null,
            "left": null,
            "margin": null,
            "max_height": null,
            "max_width": null,
            "min_height": null,
            "min_width": null,
            "object_fit": null,
            "object_position": null,
            "order": null,
            "overflow": null,
            "overflow_x": null,
            "overflow_y": null,
            "padding": null,
            "right": null,
            "top": null,
            "visibility": null,
            "width": null
          }
        },
        "2b7254d142324080aaf39ee8735c7c1a": {
          "model_module": "@jupyter-widgets/controls",
          "model_name": "ProgressStyleModel",
          "model_module_version": "1.5.0",
          "state": {
            "_model_module": "@jupyter-widgets/controls",
            "_model_module_version": "1.5.0",
            "_model_name": "ProgressStyleModel",
            "_view_count": null,
            "_view_module": "@jupyter-widgets/base",
            "_view_module_version": "1.2.0",
            "_view_name": "StyleView",
            "bar_color": null,
            "description_width": ""
          }
        },
        "f4af093cf1c349ddba992dc1baac58b0": {
          "model_module": "@jupyter-widgets/base",
          "model_name": "LayoutModel",
          "model_module_version": "1.2.0",
          "state": {
            "_model_module": "@jupyter-widgets/base",
            "_model_module_version": "1.2.0",
            "_model_name": "LayoutModel",
            "_view_count": null,
            "_view_module": "@jupyter-widgets/base",
            "_view_module_version": "1.2.0",
            "_view_name": "LayoutView",
            "align_content": null,
            "align_items": null,
            "align_self": null,
            "border": null,
            "bottom": null,
            "display": null,
            "flex": null,
            "flex_flow": null,
            "grid_area": null,
            "grid_auto_columns": null,
            "grid_auto_flow": null,
            "grid_auto_rows": null,
            "grid_column": null,
            "grid_gap": null,
            "grid_row": null,
            "grid_template_areas": null,
            "grid_template_columns": null,
            "grid_template_rows": null,
            "height": null,
            "justify_content": null,
            "justify_items": null,
            "left": null,
            "margin": null,
            "max_height": null,
            "max_width": null,
            "min_height": null,
            "min_width": null,
            "object_fit": null,
            "object_position": null,
            "order": null,
            "overflow": null,
            "overflow_x": null,
            "overflow_y": null,
            "padding": null,
            "right": null,
            "top": null,
            "visibility": null,
            "width": null
          }
        },
        "0576247b112846c1bbea6ce3182a637b": {
          "model_module": "@jupyter-widgets/controls",
          "model_name": "DescriptionStyleModel",
          "model_module_version": "1.5.0",
          "state": {
            "_model_module": "@jupyter-widgets/controls",
            "_model_module_version": "1.5.0",
            "_model_name": "DescriptionStyleModel",
            "_view_count": null,
            "_view_module": "@jupyter-widgets/base",
            "_view_module_version": "1.2.0",
            "_view_name": "StyleView",
            "description_width": ""
          }
        },
        "f328d5f084cb454b8c89a7e9e1cac012": {
          "model_module": "@jupyter-widgets/controls",
          "model_name": "HBoxModel",
          "model_module_version": "1.5.0",
          "state": {
            "_dom_classes": [],
            "_model_module": "@jupyter-widgets/controls",
            "_model_module_version": "1.5.0",
            "_model_name": "HBoxModel",
            "_view_count": null,
            "_view_module": "@jupyter-widgets/controls",
            "_view_module_version": "1.5.0",
            "_view_name": "HBoxView",
            "box_style": "",
            "children": [
              "IPY_MODEL_369d5e067ed24ea0a044914c794d51d3",
              "IPY_MODEL_f138bf973bf34dc9acef2f7cc731b654",
              "IPY_MODEL_8e7a4c995c5a44b7b255ec8f3940fd2e"
            ],
            "layout": "IPY_MODEL_c4cfa6cfd1e54affbce5204484d33e93"
          }
        },
        "369d5e067ed24ea0a044914c794d51d3": {
          "model_module": "@jupyter-widgets/controls",
          "model_name": "HTMLModel",
          "model_module_version": "1.5.0",
          "state": {
            "_dom_classes": [],
            "_model_module": "@jupyter-widgets/controls",
            "_model_module_version": "1.5.0",
            "_model_name": "HTMLModel",
            "_view_count": null,
            "_view_module": "@jupyter-widgets/controls",
            "_view_module_version": "1.5.0",
            "_view_name": "HTMLView",
            "description": "",
            "description_tooltip": null,
            "layout": "IPY_MODEL_ff35526b7d82494aa5f54e4f7e178b4b",
            "placeholder": "​",
            "style": "IPY_MODEL_14c24fdf1b134eebab7d95e9a7504b51",
            "value": "Downloading shards:  37%"
          }
        },
        "f138bf973bf34dc9acef2f7cc731b654": {
          "model_module": "@jupyter-widgets/controls",
          "model_name": "FloatProgressModel",
          "model_module_version": "1.5.0",
          "state": {
            "_dom_classes": [],
            "_model_module": "@jupyter-widgets/controls",
            "_model_module_version": "1.5.0",
            "_model_name": "FloatProgressModel",
            "_view_count": null,
            "_view_module": "@jupyter-widgets/controls",
            "_view_module_version": "1.5.0",
            "_view_name": "ProgressView",
            "bar_style": "danger",
            "description": "",
            "description_tooltip": null,
            "layout": "IPY_MODEL_50b980102b3f42fb96a0acc37f16c0b5",
            "max": 30,
            "min": 0,
            "orientation": "horizontal",
            "style": "IPY_MODEL_c4bac9125d6a44e2b532a46fe0e23537",
            "value": 11
          }
        },
        "8e7a4c995c5a44b7b255ec8f3940fd2e": {
          "model_module": "@jupyter-widgets/controls",
          "model_name": "HTMLModel",
          "model_module_version": "1.5.0",
          "state": {
            "_dom_classes": [],
            "_model_module": "@jupyter-widgets/controls",
            "_model_module_version": "1.5.0",
            "_model_name": "HTMLModel",
            "_view_count": null,
            "_view_module": "@jupyter-widgets/controls",
            "_view_module_version": "1.5.0",
            "_view_name": "HTMLView",
            "description": "",
            "description_tooltip": null,
            "layout": "IPY_MODEL_ef564d68a2314af0bbab526345d5ec1c",
            "placeholder": "​",
            "style": "IPY_MODEL_1d554c642b6e4ac8b94c38231e1edb05",
            "value": " 11/30 [00:00&lt;00:00, 27.04it/s]"
          }
        },
        "c4cfa6cfd1e54affbce5204484d33e93": {
          "model_module": "@jupyter-widgets/base",
          "model_name": "LayoutModel",
          "model_module_version": "1.2.0",
          "state": {
            "_model_module": "@jupyter-widgets/base",
            "_model_module_version": "1.2.0",
            "_model_name": "LayoutModel",
            "_view_count": null,
            "_view_module": "@jupyter-widgets/base",
            "_view_module_version": "1.2.0",
            "_view_name": "LayoutView",
            "align_content": null,
            "align_items": null,
            "align_self": null,
            "border": null,
            "bottom": null,
            "display": null,
            "flex": null,
            "flex_flow": null,
            "grid_area": null,
            "grid_auto_columns": null,
            "grid_auto_flow": null,
            "grid_auto_rows": null,
            "grid_column": null,
            "grid_gap": null,
            "grid_row": null,
            "grid_template_areas": null,
            "grid_template_columns": null,
            "grid_template_rows": null,
            "height": null,
            "justify_content": null,
            "justify_items": null,
            "left": null,
            "margin": null,
            "max_height": null,
            "max_width": null,
            "min_height": null,
            "min_width": null,
            "object_fit": null,
            "object_position": null,
            "order": null,
            "overflow": null,
            "overflow_x": null,
            "overflow_y": null,
            "padding": null,
            "right": null,
            "top": null,
            "visibility": null,
            "width": null
          }
        },
        "ff35526b7d82494aa5f54e4f7e178b4b": {
          "model_module": "@jupyter-widgets/base",
          "model_name": "LayoutModel",
          "model_module_version": "1.2.0",
          "state": {
            "_model_module": "@jupyter-widgets/base",
            "_model_module_version": "1.2.0",
            "_model_name": "LayoutModel",
            "_view_count": null,
            "_view_module": "@jupyter-widgets/base",
            "_view_module_version": "1.2.0",
            "_view_name": "LayoutView",
            "align_content": null,
            "align_items": null,
            "align_self": null,
            "border": null,
            "bottom": null,
            "display": null,
            "flex": null,
            "flex_flow": null,
            "grid_area": null,
            "grid_auto_columns": null,
            "grid_auto_flow": null,
            "grid_auto_rows": null,
            "grid_column": null,
            "grid_gap": null,
            "grid_row": null,
            "grid_template_areas": null,
            "grid_template_columns": null,
            "grid_template_rows": null,
            "height": null,
            "justify_content": null,
            "justify_items": null,
            "left": null,
            "margin": null,
            "max_height": null,
            "max_width": null,
            "min_height": null,
            "min_width": null,
            "object_fit": null,
            "object_position": null,
            "order": null,
            "overflow": null,
            "overflow_x": null,
            "overflow_y": null,
            "padding": null,
            "right": null,
            "top": null,
            "visibility": null,
            "width": null
          }
        },
        "14c24fdf1b134eebab7d95e9a7504b51": {
          "model_module": "@jupyter-widgets/controls",
          "model_name": "DescriptionStyleModel",
          "model_module_version": "1.5.0",
          "state": {
            "_model_module": "@jupyter-widgets/controls",
            "_model_module_version": "1.5.0",
            "_model_name": "DescriptionStyleModel",
            "_view_count": null,
            "_view_module": "@jupyter-widgets/base",
            "_view_module_version": "1.2.0",
            "_view_name": "StyleView",
            "description_width": ""
          }
        },
        "50b980102b3f42fb96a0acc37f16c0b5": {
          "model_module": "@jupyter-widgets/base",
          "model_name": "LayoutModel",
          "model_module_version": "1.2.0",
          "state": {
            "_model_module": "@jupyter-widgets/base",
            "_model_module_version": "1.2.0",
            "_model_name": "LayoutModel",
            "_view_count": null,
            "_view_module": "@jupyter-widgets/base",
            "_view_module_version": "1.2.0",
            "_view_name": "LayoutView",
            "align_content": null,
            "align_items": null,
            "align_self": null,
            "border": null,
            "bottom": null,
            "display": null,
            "flex": null,
            "flex_flow": null,
            "grid_area": null,
            "grid_auto_columns": null,
            "grid_auto_flow": null,
            "grid_auto_rows": null,
            "grid_column": null,
            "grid_gap": null,
            "grid_row": null,
            "grid_template_areas": null,
            "grid_template_columns": null,
            "grid_template_rows": null,
            "height": null,
            "justify_content": null,
            "justify_items": null,
            "left": null,
            "margin": null,
            "max_height": null,
            "max_width": null,
            "min_height": null,
            "min_width": null,
            "object_fit": null,
            "object_position": null,
            "order": null,
            "overflow": null,
            "overflow_x": null,
            "overflow_y": null,
            "padding": null,
            "right": null,
            "top": null,
            "visibility": null,
            "width": null
          }
        },
        "c4bac9125d6a44e2b532a46fe0e23537": {
          "model_module": "@jupyter-widgets/controls",
          "model_name": "ProgressStyleModel",
          "model_module_version": "1.5.0",
          "state": {
            "_model_module": "@jupyter-widgets/controls",
            "_model_module_version": "1.5.0",
            "_model_name": "ProgressStyleModel",
            "_view_count": null,
            "_view_module": "@jupyter-widgets/base",
            "_view_module_version": "1.2.0",
            "_view_name": "StyleView",
            "bar_color": null,
            "description_width": ""
          }
        },
        "ef564d68a2314af0bbab526345d5ec1c": {
          "model_module": "@jupyter-widgets/base",
          "model_name": "LayoutModel",
          "model_module_version": "1.2.0",
          "state": {
            "_model_module": "@jupyter-widgets/base",
            "_model_module_version": "1.2.0",
            "_model_name": "LayoutModel",
            "_view_count": null,
            "_view_module": "@jupyter-widgets/base",
            "_view_module_version": "1.2.0",
            "_view_name": "LayoutView",
            "align_content": null,
            "align_items": null,
            "align_self": null,
            "border": null,
            "bottom": null,
            "display": null,
            "flex": null,
            "flex_flow": null,
            "grid_area": null,
            "grid_auto_columns": null,
            "grid_auto_flow": null,
            "grid_auto_rows": null,
            "grid_column": null,
            "grid_gap": null,
            "grid_row": null,
            "grid_template_areas": null,
            "grid_template_columns": null,
            "grid_template_rows": null,
            "height": null,
            "justify_content": null,
            "justify_items": null,
            "left": null,
            "margin": null,
            "max_height": null,
            "max_width": null,
            "min_height": null,
            "min_width": null,
            "object_fit": null,
            "object_position": null,
            "order": null,
            "overflow": null,
            "overflow_x": null,
            "overflow_y": null,
            "padding": null,
            "right": null,
            "top": null,
            "visibility": null,
            "width": null
          }
        },
        "1d554c642b6e4ac8b94c38231e1edb05": {
          "model_module": "@jupyter-widgets/controls",
          "model_name": "DescriptionStyleModel",
          "model_module_version": "1.5.0",
          "state": {
            "_model_module": "@jupyter-widgets/controls",
            "_model_module_version": "1.5.0",
            "_model_name": "DescriptionStyleModel",
            "_view_count": null,
            "_view_module": "@jupyter-widgets/base",
            "_view_module_version": "1.2.0",
            "_view_name": "StyleView",
            "description_width": ""
          }
        },
        "b46f5edb33e34c69863e68c4d090423a": {
          "model_module": "@jupyter-widgets/controls",
          "model_name": "HBoxModel",
          "model_module_version": "1.5.0",
          "state": {
            "_dom_classes": [],
            "_model_module": "@jupyter-widgets/controls",
            "_model_module_version": "1.5.0",
            "_model_name": "HBoxModel",
            "_view_count": null,
            "_view_module": "@jupyter-widgets/controls",
            "_view_module_version": "1.5.0",
            "_view_name": "HBoxView",
            "box_style": "",
            "children": [
              "IPY_MODEL_49119b5285b047588a6932a2bc7117b9",
              "IPY_MODEL_d2b1436b43a548598b20e6688932c53b",
              "IPY_MODEL_c6b4b40de070469095006ce6406bdee2"
            ],
            "layout": "IPY_MODEL_a0391d18b6484378ae96155240c7b841"
          }
        },
        "49119b5285b047588a6932a2bc7117b9": {
          "model_module": "@jupyter-widgets/controls",
          "model_name": "HTMLModel",
          "model_module_version": "1.5.0",
          "state": {
            "_dom_classes": [],
            "_model_module": "@jupyter-widgets/controls",
            "_model_module_version": "1.5.0",
            "_model_name": "HTMLModel",
            "_view_count": null,
            "_view_module": "@jupyter-widgets/controls",
            "_view_module_version": "1.5.0",
            "_view_name": "HTMLView",
            "description": "",
            "description_tooltip": null,
            "layout": "IPY_MODEL_38abf2bf744042c58ccb6789016ef25d",
            "placeholder": "​",
            "style": "IPY_MODEL_0ef7b17b7c444859837328cf00bc3933",
            "value": "model-00012-of-00030.safetensors:   0%"
          }
        },
        "d2b1436b43a548598b20e6688932c53b": {
          "model_module": "@jupyter-widgets/controls",
          "model_name": "FloatProgressModel",
          "model_module_version": "1.5.0",
          "state": {
            "_dom_classes": [],
            "_model_module": "@jupyter-widgets/controls",
            "_model_module_version": "1.5.0",
            "_model_name": "FloatProgressModel",
            "_view_count": null,
            "_view_module": "@jupyter-widgets/controls",
            "_view_module_version": "1.5.0",
            "_view_name": "ProgressView",
            "bar_style": "",
            "description": "",
            "description_tooltip": null,
            "layout": "IPY_MODEL_95f5c1d293d145a4baf865823c9760f6",
            "max": 4664167408,
            "min": 0,
            "orientation": "horizontal",
            "style": "IPY_MODEL_64fddaebfbd34b40a411e3a2d27e5fe6",
            "value": 0
          }
        },
        "c6b4b40de070469095006ce6406bdee2": {
          "model_module": "@jupyter-widgets/controls",
          "model_name": "HTMLModel",
          "model_module_version": "1.5.0",
          "state": {
            "_dom_classes": [],
            "_model_module": "@jupyter-widgets/controls",
            "_model_module_version": "1.5.0",
            "_model_name": "HTMLModel",
            "_view_count": null,
            "_view_module": "@jupyter-widgets/controls",
            "_view_module_version": "1.5.0",
            "_view_name": "HTMLView",
            "description": "",
            "description_tooltip": null,
            "layout": "IPY_MODEL_77f8aad1f16c45e4ad8fd7f14d39489a",
            "placeholder": "​",
            "style": "IPY_MODEL_09a1cb82e3c24601af2557993757b8b1",
            "value": " 0.00/4.66G [00:00&lt;?, ?B/s]"
          }
        },
        "a0391d18b6484378ae96155240c7b841": {
          "model_module": "@jupyter-widgets/base",
          "model_name": "LayoutModel",
          "model_module_version": "1.2.0",
          "state": {
            "_model_module": "@jupyter-widgets/base",
            "_model_module_version": "1.2.0",
            "_model_name": "LayoutModel",
            "_view_count": null,
            "_view_module": "@jupyter-widgets/base",
            "_view_module_version": "1.2.0",
            "_view_name": "LayoutView",
            "align_content": null,
            "align_items": null,
            "align_self": null,
            "border": null,
            "bottom": null,
            "display": null,
            "flex": null,
            "flex_flow": null,
            "grid_area": null,
            "grid_auto_columns": null,
            "grid_auto_flow": null,
            "grid_auto_rows": null,
            "grid_column": null,
            "grid_gap": null,
            "grid_row": null,
            "grid_template_areas": null,
            "grid_template_columns": null,
            "grid_template_rows": null,
            "height": null,
            "justify_content": null,
            "justify_items": null,
            "left": null,
            "margin": null,
            "max_height": null,
            "max_width": null,
            "min_height": null,
            "min_width": null,
            "object_fit": null,
            "object_position": null,
            "order": null,
            "overflow": null,
            "overflow_x": null,
            "overflow_y": null,
            "padding": null,
            "right": null,
            "top": null,
            "visibility": null,
            "width": null
          }
        },
        "38abf2bf744042c58ccb6789016ef25d": {
          "model_module": "@jupyter-widgets/base",
          "model_name": "LayoutModel",
          "model_module_version": "1.2.0",
          "state": {
            "_model_module": "@jupyter-widgets/base",
            "_model_module_version": "1.2.0",
            "_model_name": "LayoutModel",
            "_view_count": null,
            "_view_module": "@jupyter-widgets/base",
            "_view_module_version": "1.2.0",
            "_view_name": "LayoutView",
            "align_content": null,
            "align_items": null,
            "align_self": null,
            "border": null,
            "bottom": null,
            "display": null,
            "flex": null,
            "flex_flow": null,
            "grid_area": null,
            "grid_auto_columns": null,
            "grid_auto_flow": null,
            "grid_auto_rows": null,
            "grid_column": null,
            "grid_gap": null,
            "grid_row": null,
            "grid_template_areas": null,
            "grid_template_columns": null,
            "grid_template_rows": null,
            "height": null,
            "justify_content": null,
            "justify_items": null,
            "left": null,
            "margin": null,
            "max_height": null,
            "max_width": null,
            "min_height": null,
            "min_width": null,
            "object_fit": null,
            "object_position": null,
            "order": null,
            "overflow": null,
            "overflow_x": null,
            "overflow_y": null,
            "padding": null,
            "right": null,
            "top": null,
            "visibility": null,
            "width": null
          }
        },
        "0ef7b17b7c444859837328cf00bc3933": {
          "model_module": "@jupyter-widgets/controls",
          "model_name": "DescriptionStyleModel",
          "model_module_version": "1.5.0",
          "state": {
            "_model_module": "@jupyter-widgets/controls",
            "_model_module_version": "1.5.0",
            "_model_name": "DescriptionStyleModel",
            "_view_count": null,
            "_view_module": "@jupyter-widgets/base",
            "_view_module_version": "1.2.0",
            "_view_name": "StyleView",
            "description_width": ""
          }
        },
        "95f5c1d293d145a4baf865823c9760f6": {
          "model_module": "@jupyter-widgets/base",
          "model_name": "LayoutModel",
          "model_module_version": "1.2.0",
          "state": {
            "_model_module": "@jupyter-widgets/base",
            "_model_module_version": "1.2.0",
            "_model_name": "LayoutModel",
            "_view_count": null,
            "_view_module": "@jupyter-widgets/base",
            "_view_module_version": "1.2.0",
            "_view_name": "LayoutView",
            "align_content": null,
            "align_items": null,
            "align_self": null,
            "border": null,
            "bottom": null,
            "display": null,
            "flex": null,
            "flex_flow": null,
            "grid_area": null,
            "grid_auto_columns": null,
            "grid_auto_flow": null,
            "grid_auto_rows": null,
            "grid_column": null,
            "grid_gap": null,
            "grid_row": null,
            "grid_template_areas": null,
            "grid_template_columns": null,
            "grid_template_rows": null,
            "height": null,
            "justify_content": null,
            "justify_items": null,
            "left": null,
            "margin": null,
            "max_height": null,
            "max_width": null,
            "min_height": null,
            "min_width": null,
            "object_fit": null,
            "object_position": null,
            "order": null,
            "overflow": null,
            "overflow_x": null,
            "overflow_y": null,
            "padding": null,
            "right": null,
            "top": null,
            "visibility": null,
            "width": null
          }
        },
        "64fddaebfbd34b40a411e3a2d27e5fe6": {
          "model_module": "@jupyter-widgets/controls",
          "model_name": "ProgressStyleModel",
          "model_module_version": "1.5.0",
          "state": {
            "_model_module": "@jupyter-widgets/controls",
            "_model_module_version": "1.5.0",
            "_model_name": "ProgressStyleModel",
            "_view_count": null,
            "_view_module": "@jupyter-widgets/base",
            "_view_module_version": "1.2.0",
            "_view_name": "StyleView",
            "bar_color": null,
            "description_width": ""
          }
        },
        "77f8aad1f16c45e4ad8fd7f14d39489a": {
          "model_module": "@jupyter-widgets/base",
          "model_name": "LayoutModel",
          "model_module_version": "1.2.0",
          "state": {
            "_model_module": "@jupyter-widgets/base",
            "_model_module_version": "1.2.0",
            "_model_name": "LayoutModel",
            "_view_count": null,
            "_view_module": "@jupyter-widgets/base",
            "_view_module_version": "1.2.0",
            "_view_name": "LayoutView",
            "align_content": null,
            "align_items": null,
            "align_self": null,
            "border": null,
            "bottom": null,
            "display": null,
            "flex": null,
            "flex_flow": null,
            "grid_area": null,
            "grid_auto_columns": null,
            "grid_auto_flow": null,
            "grid_auto_rows": null,
            "grid_column": null,
            "grid_gap": null,
            "grid_row": null,
            "grid_template_areas": null,
            "grid_template_columns": null,
            "grid_template_rows": null,
            "height": null,
            "justify_content": null,
            "justify_items": null,
            "left": null,
            "margin": null,
            "max_height": null,
            "max_width": null,
            "min_height": null,
            "min_width": null,
            "object_fit": null,
            "object_position": null,
            "order": null,
            "overflow": null,
            "overflow_x": null,
            "overflow_y": null,
            "padding": null,
            "right": null,
            "top": null,
            "visibility": null,
            "width": null
          }
        },
        "09a1cb82e3c24601af2557993757b8b1": {
          "model_module": "@jupyter-widgets/controls",
          "model_name": "DescriptionStyleModel",
          "model_module_version": "1.5.0",
          "state": {
            "_model_module": "@jupyter-widgets/controls",
            "_model_module_version": "1.5.0",
            "_model_name": "DescriptionStyleModel",
            "_view_count": null,
            "_view_module": "@jupyter-widgets/base",
            "_view_module_version": "1.2.0",
            "_view_name": "StyleView",
            "description_width": ""
          }
        }
      }
    }
  },
  "cells": [
    {
      "cell_type": "code",
      "execution_count": null,
      "metadata": {
        "colab": {
          "base_uri": "https://localhost:8080/"
        },
        "id": "QoW9wEqqQAoR",
        "outputId": "21d02350-d588-4a8b-a8f4-ceb6b103455e"
      },
      "outputs": [
        {
          "output_type": "stream",
          "name": "stdout",
          "text": [
            "Requirement already satisfied: openai in /usr/local/lib/python3.10/dist-packages (1.23.6)\n",
            "Requirement already satisfied: anyio<5,>=3.5.0 in /usr/local/lib/python3.10/dist-packages (from openai) (3.7.1)\n",
            "Requirement already satisfied: distro<2,>=1.7.0 in /usr/lib/python3/dist-packages (from openai) (1.7.0)\n",
            "Requirement already satisfied: httpx<1,>=0.23.0 in /usr/local/lib/python3.10/dist-packages (from openai) (0.27.0)\n",
            "Requirement already satisfied: pydantic<3,>=1.9.0 in /usr/local/lib/python3.10/dist-packages (from openai) (2.7.0)\n",
            "Requirement already satisfied: sniffio in /usr/local/lib/python3.10/dist-packages (from openai) (1.3.1)\n",
            "Requirement already satisfied: tqdm>4 in /usr/local/lib/python3.10/dist-packages (from openai) (4.66.2)\n",
            "Requirement already satisfied: typing-extensions<5,>=4.7 in /usr/local/lib/python3.10/dist-packages (from openai) (4.11.0)\n",
            "Requirement already satisfied: idna>=2.8 in /usr/local/lib/python3.10/dist-packages (from anyio<5,>=3.5.0->openai) (3.7)\n",
            "Requirement already satisfied: exceptiongroup in /usr/local/lib/python3.10/dist-packages (from anyio<5,>=3.5.0->openai) (1.2.1)\n",
            "Requirement already satisfied: certifi in /usr/local/lib/python3.10/dist-packages (from httpx<1,>=0.23.0->openai) (2024.2.2)\n",
            "Requirement already satisfied: httpcore==1.* in /usr/local/lib/python3.10/dist-packages (from httpx<1,>=0.23.0->openai) (1.0.5)\n",
            "Requirement already satisfied: h11<0.15,>=0.13 in /usr/local/lib/python3.10/dist-packages (from httpcore==1.*->httpx<1,>=0.23.0->openai) (0.14.0)\n",
            "Requirement already satisfied: annotated-types>=0.4.0 in /usr/local/lib/python3.10/dist-packages (from pydantic<3,>=1.9.0->openai) (0.6.0)\n",
            "Requirement already satisfied: pydantic-core==2.18.1 in /usr/local/lib/python3.10/dist-packages (from pydantic<3,>=1.9.0->openai) (2.18.1)\n"
          ]
        }
      ],
      "source": [
        "!pip install openai\n"
      ]
    },
    {
      "cell_type": "code",
      "source": [
        "import openai\n",
        "openai.api_key = ''"
      ],
      "metadata": {
        "id": "ojlfWsuyQsU5"
      },
      "execution_count": null,
      "outputs": []
    },
    {
      "cell_type": "code",
      "source": [
        "!pip install git+https://github.com/huggingface/transformers.git sentencepiece\n"
      ],
      "metadata": {
        "colab": {
          "base_uri": "https://localhost:8080/"
        },
        "id": "cdIMpWX2SFc5",
        "outputId": "452f7973-10c5-4883-8550-d36c81926442"
      },
      "execution_count": null,
      "outputs": [
        {
          "output_type": "stream",
          "name": "stdout",
          "text": [
            "Collecting git+https://github.com/huggingface/transformers.git\n",
            "  Cloning https://github.com/huggingface/transformers.git to /tmp/pip-req-build-n08wa3ab\n",
            "  Running command git clone --filter=blob:none --quiet https://github.com/huggingface/transformers.git /tmp/pip-req-build-n08wa3ab\n",
            "  Resolved https://github.com/huggingface/transformers.git to commit f39627125b3778f98bbb202525790cf33a684c54\n",
            "  Installing build dependencies ... \u001b[?25l\u001b[?25hdone\n",
            "  Getting requirements to build wheel ... \u001b[?25l\u001b[?25hdone\n",
            "  Preparing metadata (pyproject.toml) ... \u001b[?25l\u001b[?25hdone\n",
            "Requirement already satisfied: sentencepiece in /usr/local/lib/python3.10/dist-packages (0.1.99)\n",
            "Requirement already satisfied: filelock in /usr/local/lib/python3.10/dist-packages (from transformers==4.41.0.dev0) (3.13.4)\n",
            "Requirement already satisfied: huggingface-hub<1.0,>=0.19.3 in /usr/local/lib/python3.10/dist-packages (from transformers==4.41.0.dev0) (0.22.2)\n",
            "Requirement already satisfied: numpy>=1.17 in /usr/local/lib/python3.10/dist-packages (from transformers==4.41.0.dev0) (1.25.2)\n",
            "Requirement already satisfied: packaging>=20.0 in /usr/local/lib/python3.10/dist-packages (from transformers==4.41.0.dev0) (24.0)\n",
            "Requirement already satisfied: pyyaml>=5.1 in /usr/local/lib/python3.10/dist-packages (from transformers==4.41.0.dev0) (6.0.1)\n",
            "Requirement already satisfied: regex!=2019.12.17 in /usr/local/lib/python3.10/dist-packages (from transformers==4.41.0.dev0) (2023.12.25)\n",
            "Requirement already satisfied: requests in /usr/local/lib/python3.10/dist-packages (from transformers==4.41.0.dev0) (2.31.0)\n",
            "Requirement already satisfied: tokenizers<0.20,>=0.19 in /usr/local/lib/python3.10/dist-packages (from transformers==4.41.0.dev0) (0.19.1)\n",
            "Requirement already satisfied: safetensors>=0.4.1 in /usr/local/lib/python3.10/dist-packages (from transformers==4.41.0.dev0) (0.4.3)\n",
            "Requirement already satisfied: tqdm>=4.27 in /usr/local/lib/python3.10/dist-packages (from transformers==4.41.0.dev0) (4.66.2)\n",
            "Requirement already satisfied: fsspec>=2023.5.0 in /usr/local/lib/python3.10/dist-packages (from huggingface-hub<1.0,>=0.19.3->transformers==4.41.0.dev0) (2023.6.0)\n",
            "Requirement already satisfied: typing-extensions>=3.7.4.3 in /usr/local/lib/python3.10/dist-packages (from huggingface-hub<1.0,>=0.19.3->transformers==4.41.0.dev0) (4.11.0)\n",
            "Requirement already satisfied: charset-normalizer<4,>=2 in /usr/local/lib/python3.10/dist-packages (from requests->transformers==4.41.0.dev0) (3.3.2)\n",
            "Requirement already satisfied: idna<4,>=2.5 in /usr/local/lib/python3.10/dist-packages (from requests->transformers==4.41.0.dev0) (3.7)\n",
            "Requirement already satisfied: urllib3<3,>=1.21.1 in /usr/local/lib/python3.10/dist-packages (from requests->transformers==4.41.0.dev0) (2.0.7)\n",
            "Requirement already satisfied: certifi>=2017.4.17 in /usr/local/lib/python3.10/dist-packages (from requests->transformers==4.41.0.dev0) (2024.2.2)\n"
          ]
        }
      ]
    },
    {
      "cell_type": "code",
      "source": [
        "import torch"
      ],
      "metadata": {
        "id": "ewZSwCqwC3_K"
      },
      "execution_count": 1,
      "outputs": []
    },
    {
      "cell_type": "code",
      "source": [
        "from transformers import SeamlessM4Tv2Model, AutoProcessor\n",
        "\n",
        "\n",
        "# Load the processor and model\n",
        "processor = AutoProcessor.from_pretrained(\"facebook/seamless-m4t-v2-large\")\n",
        "model = SeamlessM4Tv2Model.from_pretrained(\"facebook/seamless-m4t-v2-large\")\n",
        "\n",
        "# Setup device\n",
        "device = \"cuda:0\" if torch.cuda.is_available() else \"cpu\"\n",
        "model.to(device)"
      ],
      "metadata": {
        "colab": {
          "base_uri": "https://localhost:8080/",
          "height": 1000,
          "referenced_widgets": [
            "934df1635f3a42c99e941be4a40756bf",
            "60900d7dc41042b0b24fe005a35f2781",
            "e3e9c0ff56264ab5951e7e0ae7572080",
            "fc29886e0b574259a4f658b2a710f87c",
            "11970c5f351e42bdb8c7ca06cb3c0483",
            "db68c0eda14f47cebc4eeb529a1d8c6b",
            "3fd8ffed852b42dfb5e2b49552323dfd",
            "a6ae80b362334338ba012de3ff01bf5a",
            "8704f063caa4434a8c1198ca9267c556",
            "43d40ba459b84b2baa50157543eb1d48",
            "9ff8536911bc4e3db58f2621cf035d27"
          ]
        },
        "id": "ZlY6kCq9Q1M-",
        "outputId": "6ea85d31-bcb3-4c66-e07d-026ffcb1062c"
      },
      "execution_count": null,
      "outputs": [
        {
          "output_type": "stream",
          "name": "stderr",
          "text": [
            "/usr/local/lib/python3.10/dist-packages/transformers/deepspeed.py:23: FutureWarning: transformers.deepspeed module is deprecated and will be removed in a future version. Please import deepspeed modules directly from transformers.integrations\n",
            "  warnings.warn(\n",
            "/usr/local/lib/python3.10/dist-packages/huggingface_hub/utils/_token.py:89: UserWarning: \n",
            "The secret `HF_TOKEN` does not exist in your Colab secrets.\n",
            "To authenticate with the Hugging Face Hub, create a token in your settings tab (https://huggingface.co/settings/tokens), set it as secret in your Google Colab and restart your session.\n",
            "You will be able to reuse this secret in all of your notebooks.\n",
            "Please note that authentication is recommended but still optional to access public models or datasets.\n",
            "  warnings.warn(\n",
            "Special tokens have been added in the vocabulary, make sure the associated word embeddings are fine-tuned or trained.\n",
            "Special tokens have been added in the vocabulary, make sure the associated word embeddings are fine-tuned or trained.\n"
          ]
        },
        {
          "output_type": "display_data",
          "data": {
            "text/plain": [
              "Loading checkpoint shards:   0%|          | 0/2 [00:00<?, ?it/s]"
            ],
            "application/vnd.jupyter.widget-view+json": {
              "version_major": 2,
              "version_minor": 0,
              "model_id": "934df1635f3a42c99e941be4a40756bf"
            }
          },
          "metadata": {}
        },
        {
          "output_type": "execute_result",
          "data": {
            "text/plain": [
              "SeamlessM4Tv2Model(\n",
              "  (shared): Embedding(256102, 1024, padding_idx=0)\n",
              "  (text_encoder): SeamlessM4Tv2Encoder(\n",
              "    (embed_tokens): Embedding(256102, 1024, padding_idx=0)\n",
              "    (embed_positions): SeamlessM4Tv2SinusoidalPositionalEmbedding()\n",
              "    (layers): ModuleList(\n",
              "      (0-23): 24 x SeamlessM4Tv2EncoderLayer(\n",
              "        (self_attn): SeamlessM4Tv2Attention(\n",
              "          (k_proj): Linear(in_features=1024, out_features=1024, bias=True)\n",
              "          (v_proj): Linear(in_features=1024, out_features=1024, bias=True)\n",
              "          (q_proj): Linear(in_features=1024, out_features=1024, bias=True)\n",
              "          (out_proj): Linear(in_features=1024, out_features=1024, bias=True)\n",
              "        )\n",
              "        (attn_dropout): Dropout(p=0.1, inplace=False)\n",
              "        (self_attn_layer_norm): LayerNorm((1024,), eps=1e-05, elementwise_affine=True)\n",
              "        (ffn): SeamlessM4Tv2FeedForwardNetwork(\n",
              "          (fc1): Linear(in_features=1024, out_features=8192, bias=True)\n",
              "          (fc2): Linear(in_features=8192, out_features=1024, bias=True)\n",
              "          (dropout): Dropout(p=0.0, inplace=False)\n",
              "          (act): ReLU()\n",
              "        )\n",
              "        (ffn_layer_norm): LayerNorm((1024,), eps=1e-05, elementwise_affine=True)\n",
              "        (ffn_dropout): Dropout(p=0.0, inplace=False)\n",
              "      )\n",
              "    )\n",
              "    (layer_norm): LayerNorm((1024,), eps=1e-05, elementwise_affine=True)\n",
              "  )\n",
              "  (speech_encoder): SeamlessM4Tv2SpeechEncoder(\n",
              "    (feature_projection): SeamlessM4Tv2ConformerFeatureProjection(\n",
              "      (layer_norm): LayerNorm((160,), eps=1e-05, elementwise_affine=True)\n",
              "      (projection): Linear(in_features=160, out_features=1024, bias=True)\n",
              "      (dropout): Dropout(p=0.0, inplace=False)\n",
              "    )\n",
              "    (encoder): SeamlessM4Tv2ConformerEncoder(\n",
              "      (dropout): Dropout(p=0.0, inplace=False)\n",
              "      (layers): ModuleList(\n",
              "        (0-23): 24 x SeamlessM4Tv2ConformerEncoderLayer(\n",
              "          (ffn1_layer_norm): LayerNorm((1024,), eps=1e-05, elementwise_affine=True)\n",
              "          (ffn1): SeamlessM4Tv2ConformerFeedForward(\n",
              "            (intermediate_dropout): Dropout(p=0.0, inplace=False)\n",
              "            (intermediate_dense): Linear(in_features=1024, out_features=4096, bias=True)\n",
              "            (intermediate_act_fn): SiLU()\n",
              "            (output_dense): Linear(in_features=4096, out_features=1024, bias=True)\n",
              "            (output_dropout): Dropout(p=0.0, inplace=False)\n",
              "          )\n",
              "          (self_attn_layer_norm): LayerNorm((1024,), eps=1e-05, elementwise_affine=True)\n",
              "          (self_attn_dropout): Dropout(p=0.0, inplace=False)\n",
              "          (self_attn): SeamlessM4Tv2ConformerSelfAttention(\n",
              "            (linear_q): Linear(in_features=1024, out_features=1024, bias=True)\n",
              "            (linear_k): Linear(in_features=1024, out_features=1024, bias=True)\n",
              "            (linear_v): Linear(in_features=1024, out_features=1024, bias=True)\n",
              "            (linear_out): Linear(in_features=1024, out_features=1024, bias=True)\n",
              "            (dropout): Dropout(p=0.0, inplace=False)\n",
              "            (distance_embedding): Embedding(73, 64)\n",
              "          )\n",
              "          (conv_module): SeamlessM4Tv2ConformerConvolutionModule(\n",
              "            (layer_norm): LayerNorm((1024,), eps=1e-05, elementwise_affine=True)\n",
              "            (pointwise_conv1): Conv1d(1024, 2048, kernel_size=(1,), stride=(1,), bias=False)\n",
              "            (glu): GLU(dim=1)\n",
              "            (depthwise_conv): Conv1d(1024, 1024, kernel_size=(31,), stride=(1,), groups=1024, bias=False)\n",
              "            (depthwise_layer_norm): LayerNorm((1024,), eps=1e-05, elementwise_affine=True)\n",
              "            (activation): SiLU()\n",
              "            (pointwise_conv2): Conv1d(1024, 1024, kernel_size=(1,), stride=(1,), bias=False)\n",
              "            (dropout): Dropout(p=0.0, inplace=False)\n",
              "          )\n",
              "          (ffn2_layer_norm): LayerNorm((1024,), eps=1e-05, elementwise_affine=True)\n",
              "          (ffn2): SeamlessM4Tv2ConformerFeedForward(\n",
              "            (intermediate_dropout): Dropout(p=0.0, inplace=False)\n",
              "            (intermediate_dense): Linear(in_features=1024, out_features=4096, bias=True)\n",
              "            (intermediate_act_fn): SiLU()\n",
              "            (output_dense): Linear(in_features=4096, out_features=1024, bias=True)\n",
              "            (output_dropout): Dropout(p=0.0, inplace=False)\n",
              "          )\n",
              "          (final_layer_norm): LayerNorm((1024,), eps=1e-05, elementwise_affine=True)\n",
              "        )\n",
              "      )\n",
              "      (layer_norm): LayerNorm((1024,), eps=1e-05, elementwise_affine=True)\n",
              "    )\n",
              "    (intermediate_ffn): SeamlessM4Tv2ConformerFeedForward(\n",
              "      (intermediate_dropout): Dropout(p=0.0, inplace=False)\n",
              "      (intermediate_dense): Linear(in_features=1024, out_features=4096, bias=True)\n",
              "      (intermediate_act_fn): ReLU()\n",
              "      (output_dense): Linear(in_features=4096, out_features=1024, bias=True)\n",
              "      (output_dropout): Dropout(p=0.0, inplace=False)\n",
              "    )\n",
              "    (adapter): SeamlessM4Tv2ConformerAdapter(\n",
              "      (layers): ModuleList(\n",
              "        (0): SeamlessM4Tv2ConformerAdapterLayer(\n",
              "          (residual_layer_norm): LayerNorm((1024,), eps=1e-05, elementwise_affine=True)\n",
              "          (residual_conv): Conv1d(1024, 2048, kernel_size=(8,), stride=(8,), padding=(4,))\n",
              "          (activation): GLU(dim=1)\n",
              "          (self_attn_layer_norm): LayerNorm((1024,), eps=1e-05, elementwise_affine=True)\n",
              "          (self_attn_conv): Conv1d(1024, 2048, kernel_size=(8,), stride=(8,), padding=(4,))\n",
              "          (self_attn): SeamlessM4Tv2ConformerSelfAttention(\n",
              "            (linear_q): Linear(in_features=1024, out_features=1024, bias=True)\n",
              "            (linear_k): Linear(in_features=1024, out_features=1024, bias=True)\n",
              "            (linear_v): Linear(in_features=1024, out_features=1024, bias=True)\n",
              "            (linear_out): Linear(in_features=1024, out_features=1024, bias=True)\n",
              "            (dropout): Dropout(p=0.0, inplace=False)\n",
              "          )\n",
              "          (self_attn_dropout): Dropout(p=0.1, inplace=False)\n",
              "          (ffn_layer_norm): LayerNorm((1024,), eps=1e-05, elementwise_affine=True)\n",
              "          (ffn): SeamlessM4Tv2ConformerFeedForward(\n",
              "            (intermediate_dropout): Dropout(p=0.1, inplace=False)\n",
              "            (intermediate_dense): Linear(in_features=1024, out_features=4096, bias=True)\n",
              "            (intermediate_act_fn): ReLU()\n",
              "            (output_dense): Linear(in_features=4096, out_features=1024, bias=True)\n",
              "            (output_dropout): Dropout(p=0.1, inplace=False)\n",
              "          )\n",
              "        )\n",
              "      )\n",
              "    )\n",
              "    (inner_layer_norm): LayerNorm((1024,), eps=1e-05, elementwise_affine=True)\n",
              "  )\n",
              "  (text_decoder): SeamlessM4Tv2Decoder(\n",
              "    (embed_tokens): Embedding(256102, 1024, padding_idx=0)\n",
              "    (embed_positions): SeamlessM4Tv2SinusoidalPositionalEmbedding()\n",
              "    (layers): ModuleList(\n",
              "      (0-23): 24 x SeamlessM4Tv2DecoderLayer(\n",
              "        (self_attn): SeamlessM4Tv2Attention(\n",
              "          (k_proj): Linear(in_features=1024, out_features=1024, bias=True)\n",
              "          (v_proj): Linear(in_features=1024, out_features=1024, bias=True)\n",
              "          (q_proj): Linear(in_features=1024, out_features=1024, bias=True)\n",
              "          (out_proj): Linear(in_features=1024, out_features=1024, bias=True)\n",
              "        )\n",
              "        (activation_fn): ReLU()\n",
              "        (attn_dropout): Dropout(p=0.1, inplace=False)\n",
              "        (self_attn_layer_norm): LayerNorm((1024,), eps=1e-05, elementwise_affine=True)\n",
              "        (cross_attention): SeamlessM4Tv2Attention(\n",
              "          (k_proj): Linear(in_features=1024, out_features=1024, bias=True)\n",
              "          (v_proj): Linear(in_features=1024, out_features=1024, bias=True)\n",
              "          (q_proj): Linear(in_features=1024, out_features=1024, bias=True)\n",
              "          (out_proj): Linear(in_features=1024, out_features=1024, bias=True)\n",
              "        )\n",
              "        (cross_attention_layer_norm): LayerNorm((1024,), eps=1e-05, elementwise_affine=True)\n",
              "        (ffn): SeamlessM4Tv2FeedForwardNetwork(\n",
              "          (fc1): Linear(in_features=1024, out_features=8192, bias=True)\n",
              "          (fc2): Linear(in_features=8192, out_features=1024, bias=True)\n",
              "          (dropout): Dropout(p=0.0, inplace=False)\n",
              "          (act): ReLU()\n",
              "        )\n",
              "        (ffn_layer_norm): LayerNorm((1024,), eps=1e-05, elementwise_affine=True)\n",
              "        (ffn_dropout): Dropout(p=0.0, inplace=False)\n",
              "      )\n",
              "    )\n",
              "    (layer_norm): LayerNorm((1024,), eps=1e-05, elementwise_affine=True)\n",
              "  )\n",
              "  (lm_head): Linear(in_features=1024, out_features=256102, bias=False)\n",
              "  (t2u_model): SeamlessM4Tv2TextToUnitForConditionalGeneration(\n",
              "    (model): SeamlessM4Tv2TextToUnitModel(\n",
              "      (encoder): SeamlessM4Tv2Encoder(\n",
              "        (layers): ModuleList(\n",
              "          (0-5): 6 x SeamlessM4Tv2EncoderLayer(\n",
              "            (self_attn): SeamlessM4Tv2Attention(\n",
              "              (k_proj): Linear(in_features=1024, out_features=1024, bias=True)\n",
              "              (v_proj): Linear(in_features=1024, out_features=1024, bias=True)\n",
              "              (q_proj): Linear(in_features=1024, out_features=1024, bias=True)\n",
              "              (out_proj): Linear(in_features=1024, out_features=1024, bias=True)\n",
              "            )\n",
              "            (attn_dropout): Dropout(p=0.1, inplace=False)\n",
              "            (self_attn_layer_norm): LayerNorm((1024,), eps=1e-05, elementwise_affine=True)\n",
              "            (ffn): SeamlessM4Tv2FeedForwardNetwork(\n",
              "              (fc1): Linear(in_features=1024, out_features=8192, bias=True)\n",
              "              (fc2): Linear(in_features=8192, out_features=1024, bias=True)\n",
              "              (dropout): Dropout(p=0.0, inplace=False)\n",
              "              (act): ReLU()\n",
              "            )\n",
              "            (ffn_layer_norm): LayerNorm((1024,), eps=1e-05, elementwise_affine=True)\n",
              "            (ffn_dropout): Dropout(p=0.0, inplace=False)\n",
              "          )\n",
              "        )\n",
              "        (layer_norm): LayerNorm((1024,), eps=1e-05, elementwise_affine=True)\n",
              "      )\n",
              "      (decoder): SeamlessM4Tv2TextToUnitDecoder(\n",
              "        (embed_tokens): Embedding(10082, 1024, padding_idx=1)\n",
              "        (embed_char): Embedding(10943, 1024)\n",
              "        (embed_char_positions): SeamlessM4Tv2SinusoidalPositionalEmbedding()\n",
              "        (duration_predictor): SeamlessM4Tv2VariancePredictor(\n",
              "          (conv1): Conv1d(1024, 256, kernel_size=(3,), stride=(1,), padding=same)\n",
              "          (activation_fuction): ReLU()\n",
              "          (ln1): LayerNorm((256,), eps=1e-05, elementwise_affine=True)\n",
              "          (dropout_module): Dropout(p=0.5, inplace=False)\n",
              "          (conv2): Conv1d(256, 256, kernel_size=(3,), stride=(1,), padding=same)\n",
              "          (ln2): LayerNorm((256,), eps=1e-05, elementwise_affine=True)\n",
              "          (proj): Linear(in_features=256, out_features=1, bias=True)\n",
              "        )\n",
              "        (embed_positions): SeamlessM4Tv2SinusoidalPositionalEmbedding()\n",
              "        (layers): ModuleList(\n",
              "          (0-5): 6 x SeamlessM4Tv2TextToUnitDecoderLayer(\n",
              "            (self_attn): SeamlessM4Tv2Attention(\n",
              "              (k_proj): Linear(in_features=1024, out_features=1024, bias=True)\n",
              "              (v_proj): Linear(in_features=1024, out_features=1024, bias=True)\n",
              "              (q_proj): Linear(in_features=1024, out_features=1024, bias=True)\n",
              "              (out_proj): Linear(in_features=1024, out_features=1024, bias=True)\n",
              "            )\n",
              "            (self_attn_layer_norm): LayerNorm((1024,), eps=1e-05, elementwise_affine=True)\n",
              "            (conv1): Conv1d(1024, 1024, kernel_size=(7,), stride=(1,), padding=same)\n",
              "            (activation_fn): ReLU()\n",
              "            (conv2): Conv1d(1024, 1024, kernel_size=(7,), stride=(1,), padding=same)\n",
              "            (conv_layer_norm): LayerNorm((1024,), eps=1e-05, elementwise_affine=True)\n",
              "            (conv_dropout): Dropout(p=0.1, inplace=False)\n",
              "          )\n",
              "        )\n",
              "        (layer_norm): LayerNorm((1024,), eps=1e-05, elementwise_affine=True)\n",
              "      )\n",
              "    )\n",
              "    (lm_head): Linear(in_features=1024, out_features=10082, bias=False)\n",
              "  )\n",
              "  (vocoder): SeamlessM4Tv2CodeHifiGan(\n",
              "    (dur_predictor): SeamlessM4Tv2VariancePredictor(\n",
              "      (conv1): Conv1d(1280, 1280, kernel_size=(3,), stride=(1,), padding=same)\n",
              "      (activation_fuction): ReLU()\n",
              "      (ln1): LayerNorm((1280,), eps=1e-05, elementwise_affine=True)\n",
              "      (dropout_module): Dropout(p=0.5, inplace=False)\n",
              "      (conv2): Conv1d(1280, 1280, kernel_size=(3,), stride=(1,), padding=same)\n",
              "      (ln2): LayerNorm((1280,), eps=1e-05, elementwise_affine=True)\n",
              "      (proj): Linear(in_features=1280, out_features=1, bias=True)\n",
              "    )\n",
              "    (unit_embedding): Embedding(10000, 1280)\n",
              "    (speaker_embedding): Embedding(200, 256)\n",
              "    (language_embedding): Embedding(36, 256)\n",
              "    (hifi_gan): SeamlessM4Tv2HifiGan(\n",
              "      (conv_pre): Conv1d(1792, 512, kernel_size=(7,), stride=(1,), padding=(3,))\n",
              "      (upsampler): ModuleList(\n",
              "        (0): ConvTranspose1d(512, 256, kernel_size=(11,), stride=(5,), padding=(3,))\n",
              "        (1): ConvTranspose1d(256, 128, kernel_size=(8,), stride=(4,), padding=(2,))\n",
              "        (2): ConvTranspose1d(128, 64, kernel_size=(8,), stride=(4,), padding=(2,))\n",
              "        (3): ConvTranspose1d(64, 32, kernel_size=(4,), stride=(2,), padding=(1,))\n",
              "        (4): ConvTranspose1d(32, 16, kernel_size=(4,), stride=(2,), padding=(1,))\n",
              "      )\n",
              "      (resblocks): ModuleList(\n",
              "        (0): HifiGanResidualBlock(\n",
              "          (convs1): ModuleList(\n",
              "            (0): Conv1d(256, 256, kernel_size=(3,), stride=(1,), padding=(1,))\n",
              "            (1): Conv1d(256, 256, kernel_size=(3,), stride=(1,), padding=(3,), dilation=(3,))\n",
              "            (2): Conv1d(256, 256, kernel_size=(3,), stride=(1,), padding=(5,), dilation=(5,))\n",
              "          )\n",
              "          (convs2): ModuleList(\n",
              "            (0-2): 3 x Conv1d(256, 256, kernel_size=(3,), stride=(1,), padding=(1,))\n",
              "          )\n",
              "        )\n",
              "        (1): HifiGanResidualBlock(\n",
              "          (convs1): ModuleList(\n",
              "            (0): Conv1d(256, 256, kernel_size=(7,), stride=(1,), padding=(3,))\n",
              "            (1): Conv1d(256, 256, kernel_size=(7,), stride=(1,), padding=(9,), dilation=(3,))\n",
              "            (2): Conv1d(256, 256, kernel_size=(7,), stride=(1,), padding=(15,), dilation=(5,))\n",
              "          )\n",
              "          (convs2): ModuleList(\n",
              "            (0-2): 3 x Conv1d(256, 256, kernel_size=(7,), stride=(1,), padding=(3,))\n",
              "          )\n",
              "        )\n",
              "        (2): HifiGanResidualBlock(\n",
              "          (convs1): ModuleList(\n",
              "            (0): Conv1d(256, 256, kernel_size=(11,), stride=(1,), padding=(5,))\n",
              "            (1): Conv1d(256, 256, kernel_size=(11,), stride=(1,), padding=(15,), dilation=(3,))\n",
              "            (2): Conv1d(256, 256, kernel_size=(11,), stride=(1,), padding=(25,), dilation=(5,))\n",
              "          )\n",
              "          (convs2): ModuleList(\n",
              "            (0-2): 3 x Conv1d(256, 256, kernel_size=(11,), stride=(1,), padding=(5,))\n",
              "          )\n",
              "        )\n",
              "        (3): HifiGanResidualBlock(\n",
              "          (convs1): ModuleList(\n",
              "            (0): Conv1d(128, 128, kernel_size=(3,), stride=(1,), padding=(1,))\n",
              "            (1): Conv1d(128, 128, kernel_size=(3,), stride=(1,), padding=(3,), dilation=(3,))\n",
              "            (2): Conv1d(128, 128, kernel_size=(3,), stride=(1,), padding=(5,), dilation=(5,))\n",
              "          )\n",
              "          (convs2): ModuleList(\n",
              "            (0-2): 3 x Conv1d(128, 128, kernel_size=(3,), stride=(1,), padding=(1,))\n",
              "          )\n",
              "        )\n",
              "        (4): HifiGanResidualBlock(\n",
              "          (convs1): ModuleList(\n",
              "            (0): Conv1d(128, 128, kernel_size=(7,), stride=(1,), padding=(3,))\n",
              "            (1): Conv1d(128, 128, kernel_size=(7,), stride=(1,), padding=(9,), dilation=(3,))\n",
              "            (2): Conv1d(128, 128, kernel_size=(7,), stride=(1,), padding=(15,), dilation=(5,))\n",
              "          )\n",
              "          (convs2): ModuleList(\n",
              "            (0-2): 3 x Conv1d(128, 128, kernel_size=(7,), stride=(1,), padding=(3,))\n",
              "          )\n",
              "        )\n",
              "        (5): HifiGanResidualBlock(\n",
              "          (convs1): ModuleList(\n",
              "            (0): Conv1d(128, 128, kernel_size=(11,), stride=(1,), padding=(5,))\n",
              "            (1): Conv1d(128, 128, kernel_size=(11,), stride=(1,), padding=(15,), dilation=(3,))\n",
              "            (2): Conv1d(128, 128, kernel_size=(11,), stride=(1,), padding=(25,), dilation=(5,))\n",
              "          )\n",
              "          (convs2): ModuleList(\n",
              "            (0-2): 3 x Conv1d(128, 128, kernel_size=(11,), stride=(1,), padding=(5,))\n",
              "          )\n",
              "        )\n",
              "        (6): HifiGanResidualBlock(\n",
              "          (convs1): ModuleList(\n",
              "            (0): Conv1d(64, 64, kernel_size=(3,), stride=(1,), padding=(1,))\n",
              "            (1): Conv1d(64, 64, kernel_size=(3,), stride=(1,), padding=(3,), dilation=(3,))\n",
              "            (2): Conv1d(64, 64, kernel_size=(3,), stride=(1,), padding=(5,), dilation=(5,))\n",
              "          )\n",
              "          (convs2): ModuleList(\n",
              "            (0-2): 3 x Conv1d(64, 64, kernel_size=(3,), stride=(1,), padding=(1,))\n",
              "          )\n",
              "        )\n",
              "        (7): HifiGanResidualBlock(\n",
              "          (convs1): ModuleList(\n",
              "            (0): Conv1d(64, 64, kernel_size=(7,), stride=(1,), padding=(3,))\n",
              "            (1): Conv1d(64, 64, kernel_size=(7,), stride=(1,), padding=(9,), dilation=(3,))\n",
              "            (2): Conv1d(64, 64, kernel_size=(7,), stride=(1,), padding=(15,), dilation=(5,))\n",
              "          )\n",
              "          (convs2): ModuleList(\n",
              "            (0-2): 3 x Conv1d(64, 64, kernel_size=(7,), stride=(1,), padding=(3,))\n",
              "          )\n",
              "        )\n",
              "        (8): HifiGanResidualBlock(\n",
              "          (convs1): ModuleList(\n",
              "            (0): Conv1d(64, 64, kernel_size=(11,), stride=(1,), padding=(5,))\n",
              "            (1): Conv1d(64, 64, kernel_size=(11,), stride=(1,), padding=(15,), dilation=(3,))\n",
              "            (2): Conv1d(64, 64, kernel_size=(11,), stride=(1,), padding=(25,), dilation=(5,))\n",
              "          )\n",
              "          (convs2): ModuleList(\n",
              "            (0-2): 3 x Conv1d(64, 64, kernel_size=(11,), stride=(1,), padding=(5,))\n",
              "          )\n",
              "        )\n",
              "        (9): HifiGanResidualBlock(\n",
              "          (convs1): ModuleList(\n",
              "            (0): Conv1d(32, 32, kernel_size=(3,), stride=(1,), padding=(1,))\n",
              "            (1): Conv1d(32, 32, kernel_size=(3,), stride=(1,), padding=(3,), dilation=(3,))\n",
              "            (2): Conv1d(32, 32, kernel_size=(3,), stride=(1,), padding=(5,), dilation=(5,))\n",
              "          )\n",
              "          (convs2): ModuleList(\n",
              "            (0-2): 3 x Conv1d(32, 32, kernel_size=(3,), stride=(1,), padding=(1,))\n",
              "          )\n",
              "        )\n",
              "        (10): HifiGanResidualBlock(\n",
              "          (convs1): ModuleList(\n",
              "            (0): Conv1d(32, 32, kernel_size=(7,), stride=(1,), padding=(3,))\n",
              "            (1): Conv1d(32, 32, kernel_size=(7,), stride=(1,), padding=(9,), dilation=(3,))\n",
              "            (2): Conv1d(32, 32, kernel_size=(7,), stride=(1,), padding=(15,), dilation=(5,))\n",
              "          )\n",
              "          (convs2): ModuleList(\n",
              "            (0-2): 3 x Conv1d(32, 32, kernel_size=(7,), stride=(1,), padding=(3,))\n",
              "          )\n",
              "        )\n",
              "        (11): HifiGanResidualBlock(\n",
              "          (convs1): ModuleList(\n",
              "            (0): Conv1d(32, 32, kernel_size=(11,), stride=(1,), padding=(5,))\n",
              "            (1): Conv1d(32, 32, kernel_size=(11,), stride=(1,), padding=(15,), dilation=(3,))\n",
              "            (2): Conv1d(32, 32, kernel_size=(11,), stride=(1,), padding=(25,), dilation=(5,))\n",
              "          )\n",
              "          (convs2): ModuleList(\n",
              "            (0-2): 3 x Conv1d(32, 32, kernel_size=(11,), stride=(1,), padding=(5,))\n",
              "          )\n",
              "        )\n",
              "        (12): HifiGanResidualBlock(\n",
              "          (convs1): ModuleList(\n",
              "            (0): Conv1d(16, 16, kernel_size=(3,), stride=(1,), padding=(1,))\n",
              "            (1): Conv1d(16, 16, kernel_size=(3,), stride=(1,), padding=(3,), dilation=(3,))\n",
              "            (2): Conv1d(16, 16, kernel_size=(3,), stride=(1,), padding=(5,), dilation=(5,))\n",
              "          )\n",
              "          (convs2): ModuleList(\n",
              "            (0-2): 3 x Conv1d(16, 16, kernel_size=(3,), stride=(1,), padding=(1,))\n",
              "          )\n",
              "        )\n",
              "        (13): HifiGanResidualBlock(\n",
              "          (convs1): ModuleList(\n",
              "            (0): Conv1d(16, 16, kernel_size=(7,), stride=(1,), padding=(3,))\n",
              "            (1): Conv1d(16, 16, kernel_size=(7,), stride=(1,), padding=(9,), dilation=(3,))\n",
              "            (2): Conv1d(16, 16, kernel_size=(7,), stride=(1,), padding=(15,), dilation=(5,))\n",
              "          )\n",
              "          (convs2): ModuleList(\n",
              "            (0-2): 3 x Conv1d(16, 16, kernel_size=(7,), stride=(1,), padding=(3,))\n",
              "          )\n",
              "        )\n",
              "        (14): HifiGanResidualBlock(\n",
              "          (convs1): ModuleList(\n",
              "            (0): Conv1d(16, 16, kernel_size=(11,), stride=(1,), padding=(5,))\n",
              "            (1): Conv1d(16, 16, kernel_size=(11,), stride=(1,), padding=(15,), dilation=(3,))\n",
              "            (2): Conv1d(16, 16, kernel_size=(11,), stride=(1,), padding=(25,), dilation=(5,))\n",
              "          )\n",
              "          (convs2): ModuleList(\n",
              "            (0-2): 3 x Conv1d(16, 16, kernel_size=(11,), stride=(1,), padding=(5,))\n",
              "          )\n",
              "        )\n",
              "      )\n",
              "      (conv_post): Conv1d(16, 1, kernel_size=(7,), stride=(1,), padding=(3,))\n",
              "    )\n",
              "  )\n",
              ")"
            ]
          },
          "metadata": {},
          "execution_count": 4
        }
      ]
    },
    {
      "cell_type": "code",
      "source": [
        "!pip install datasets"
      ],
      "metadata": {
        "colab": {
          "base_uri": "https://localhost:8080/"
        },
        "id": "i4t6NJn5l1JB",
        "outputId": "9a399d57-e36e-4408-99c7-65c879121302"
      },
      "execution_count": 3,
      "outputs": [
        {
          "output_type": "stream",
          "name": "stdout",
          "text": [
            "Collecting datasets\n",
            "  Downloading datasets-2.19.0-py3-none-any.whl (542 kB)\n",
            "\u001b[2K     \u001b[90m━━━━━━━━━━━━━━━━━━━━━━━━━━━━━━━━━━━━━━━━\u001b[0m \u001b[32m542.0/542.0 kB\u001b[0m \u001b[31m11.0 MB/s\u001b[0m eta \u001b[36m0:00:00\u001b[0m\n",
            "\u001b[?25hRequirement already satisfied: filelock in /usr/local/lib/python3.10/dist-packages (from datasets) (3.13.4)\n",
            "Requirement already satisfied: numpy>=1.17 in /usr/local/lib/python3.10/dist-packages (from datasets) (1.25.2)\n",
            "Requirement already satisfied: pyarrow>=12.0.0 in /usr/local/lib/python3.10/dist-packages (from datasets) (14.0.2)\n",
            "Requirement already satisfied: pyarrow-hotfix in /usr/local/lib/python3.10/dist-packages (from datasets) (0.6)\n",
            "Collecting dill<0.3.9,>=0.3.0 (from datasets)\n",
            "  Downloading dill-0.3.8-py3-none-any.whl (116 kB)\n",
            "\u001b[2K     \u001b[90m━━━━━━━━━━━━━━━━━━━━━━━━━━━━━━━━━━━━━━━━\u001b[0m \u001b[32m116.3/116.3 kB\u001b[0m \u001b[31m18.2 MB/s\u001b[0m eta \u001b[36m0:00:00\u001b[0m\n",
            "\u001b[?25hRequirement already satisfied: pandas in /usr/local/lib/python3.10/dist-packages (from datasets) (2.0.3)\n",
            "Requirement already satisfied: requests>=2.19.0 in /usr/local/lib/python3.10/dist-packages (from datasets) (2.31.0)\n",
            "Requirement already satisfied: tqdm>=4.62.1 in /usr/local/lib/python3.10/dist-packages (from datasets) (4.66.2)\n",
            "Collecting xxhash (from datasets)\n",
            "  Downloading xxhash-3.4.1-cp310-cp310-manylinux_2_17_x86_64.manylinux2014_x86_64.whl (194 kB)\n",
            "\u001b[2K     \u001b[90m━━━━━━━━━━━━━━━━━━━━━━━━━━━━━━━━━━━━━━━━\u001b[0m \u001b[32m194.1/194.1 kB\u001b[0m \u001b[31m25.6 MB/s\u001b[0m eta \u001b[36m0:00:00\u001b[0m\n",
            "\u001b[?25hCollecting multiprocess (from datasets)\n",
            "  Downloading multiprocess-0.70.16-py310-none-any.whl (134 kB)\n",
            "\u001b[2K     \u001b[90m━━━━━━━━━━━━━━━━━━━━━━━━━━━━━━━━━━━━━━━━\u001b[0m \u001b[32m134.8/134.8 kB\u001b[0m \u001b[31m19.4 MB/s\u001b[0m eta \u001b[36m0:00:00\u001b[0m\n",
            "\u001b[?25hRequirement already satisfied: fsspec[http]<=2024.3.1,>=2023.1.0 in /usr/local/lib/python3.10/dist-packages (from datasets) (2023.6.0)\n",
            "Requirement already satisfied: aiohttp in /usr/local/lib/python3.10/dist-packages (from datasets) (3.9.5)\n",
            "Collecting huggingface-hub>=0.21.2 (from datasets)\n",
            "  Downloading huggingface_hub-0.22.2-py3-none-any.whl (388 kB)\n",
            "\u001b[2K     \u001b[90m━━━━━━━━━━━━━━━━━━━━━━━━━━━━━━━━━━━━━━━━\u001b[0m \u001b[32m388.9/388.9 kB\u001b[0m \u001b[31m40.0 MB/s\u001b[0m eta \u001b[36m0:00:00\u001b[0m\n",
            "\u001b[?25hRequirement already satisfied: packaging in /usr/local/lib/python3.10/dist-packages (from datasets) (24.0)\n",
            "Requirement already satisfied: pyyaml>=5.1 in /usr/local/lib/python3.10/dist-packages (from datasets) (6.0.1)\n",
            "Requirement already satisfied: aiosignal>=1.1.2 in /usr/local/lib/python3.10/dist-packages (from aiohttp->datasets) (1.3.1)\n",
            "Requirement already satisfied: attrs>=17.3.0 in /usr/local/lib/python3.10/dist-packages (from aiohttp->datasets) (23.2.0)\n",
            "Requirement already satisfied: frozenlist>=1.1.1 in /usr/local/lib/python3.10/dist-packages (from aiohttp->datasets) (1.4.1)\n",
            "Requirement already satisfied: multidict<7.0,>=4.5 in /usr/local/lib/python3.10/dist-packages (from aiohttp->datasets) (6.0.5)\n",
            "Requirement already satisfied: yarl<2.0,>=1.0 in /usr/local/lib/python3.10/dist-packages (from aiohttp->datasets) (1.9.4)\n",
            "Requirement already satisfied: async-timeout<5.0,>=4.0 in /usr/local/lib/python3.10/dist-packages (from aiohttp->datasets) (4.0.3)\n",
            "Requirement already satisfied: typing-extensions>=3.7.4.3 in /usr/local/lib/python3.10/dist-packages (from huggingface-hub>=0.21.2->datasets) (4.11.0)\n",
            "Requirement already satisfied: charset-normalizer<4,>=2 in /usr/local/lib/python3.10/dist-packages (from requests>=2.19.0->datasets) (3.3.2)\n",
            "Requirement already satisfied: idna<4,>=2.5 in /usr/local/lib/python3.10/dist-packages (from requests>=2.19.0->datasets) (3.7)\n",
            "Requirement already satisfied: urllib3<3,>=1.21.1 in /usr/local/lib/python3.10/dist-packages (from requests>=2.19.0->datasets) (2.0.7)\n",
            "Requirement already satisfied: certifi>=2017.4.17 in /usr/local/lib/python3.10/dist-packages (from requests>=2.19.0->datasets) (2024.2.2)\n",
            "Requirement already satisfied: python-dateutil>=2.8.2 in /usr/local/lib/python3.10/dist-packages (from pandas->datasets) (2.8.2)\n",
            "Requirement already satisfied: pytz>=2020.1 in /usr/local/lib/python3.10/dist-packages (from pandas->datasets) (2023.4)\n",
            "Requirement already satisfied: tzdata>=2022.1 in /usr/local/lib/python3.10/dist-packages (from pandas->datasets) (2024.1)\n",
            "Requirement already satisfied: six>=1.5 in /usr/local/lib/python3.10/dist-packages (from python-dateutil>=2.8.2->pandas->datasets) (1.16.0)\n",
            "Installing collected packages: xxhash, dill, multiprocess, huggingface-hub, datasets\n",
            "  Attempting uninstall: huggingface-hub\n",
            "    Found existing installation: huggingface-hub 0.20.3\n",
            "    Uninstalling huggingface-hub-0.20.3:\n",
            "      Successfully uninstalled huggingface-hub-0.20.3\n",
            "Successfully installed datasets-2.19.0 dill-0.3.8 huggingface-hub-0.22.2 multiprocess-0.70.16 xxhash-3.4.1\n"
          ]
        }
      ]
    },
    {
      "cell_type": "code",
      "source": [
        "from datasets import load_dataset\n"
      ],
      "metadata": {
        "id": "9l6P764Nl38-"
      },
      "execution_count": 4,
      "outputs": []
    },
    {
      "cell_type": "code",
      "source": [
        "dataset = load_dataset(\"Ehtisham1328/urdu-idioms-with-english-translation\", split='train')\n"
      ],
      "metadata": {
        "id": "DPhXNJ70l5wI",
        "colab": {
          "base_uri": "https://localhost:8080/",
          "height": 240,
          "referenced_widgets": [
            "a88a63b763bc4a62a47a4bf7fb63a4d5",
            "24016621988642b299fec63f58c621b9",
            "b979bc51223846ab83deb9b61ae66202",
            "081db412a0f048ee81e90c18b178eaff",
            "eb6dd3b7ee194ff9a9cb5d192d5a53d8",
            "29dc29b26bc546b7a41a300a00f67b04",
            "6f34400186e447ce8f400d48996fbb43",
            "426c3bd4c51a4098a976aa128d91fcdb",
            "d0dbdff410df487bbd18c0cbafdc45c9",
            "4a7b1befb584406797f404ec74dc251e",
            "a5c0f1e3666d439a8d9a391badbcf7d3",
            "eed8d594822940dfbde4a58b3a2ce645",
            "52bc1669df6b4de183d0d6b875656648",
            "290bf783a2ff4f4d990b78b6186d82fd",
            "24bd2612f99749f191c00dc7b587df33",
            "03456d9f722e467fbde5dc9210d5af85",
            "4034495c0f97440b8b81b4e0d994fe3e",
            "64cd2f67c3ae43339aef9d9e9751b15b",
            "d3fb8e33f3414e1982749befef5611b8",
            "6c47a52bd37b40a0a8b8b5fbd2037e0f",
            "6ce3fcebdac24ca9bf43c2f3dabe1594",
            "07ae50344744411aaf13667b277687f5",
            "e89f24b5d06a42cfaed7ae3eb12c5fb3",
            "99a65fe6637a4115a67d88452fa3aee3",
            "e3959edd5dc445d1bddf3d966f42fb3c",
            "f7af9ce0268641eab1f046b39b52b6cf",
            "737e1eb337d645de94c64cf3245ceb8a",
            "1815a08b6bdf4bc68e16c0910f9df80f",
            "060f8ac974674b71befe6ec4e7469b7c",
            "a8e7c782f9dc4a3799a9445e9fb7e72a",
            "0f18fef820024f4197d7100816504b92",
            "f8abc795b169440da2a2dd297ed52677",
            "fc92560e962741a2ae78abb449513d45"
          ]
        },
        "outputId": "03c05400-1b15-4169-aac0-6fa7460fbb2c"
      },
      "execution_count": 5,
      "outputs": [
        {
          "output_type": "stream",
          "name": "stderr",
          "text": [
            "/usr/local/lib/python3.10/dist-packages/huggingface_hub/utils/_token.py:89: UserWarning: \n",
            "The secret `HF_TOKEN` does not exist in your Colab secrets.\n",
            "To authenticate with the Hugging Face Hub, create a token in your settings tab (https://huggingface.co/settings/tokens), set it as secret in your Google Colab and restart your session.\n",
            "You will be able to reuse this secret in all of your notebooks.\n",
            "Please note that authentication is recommended but still optional to access public models or datasets.\n",
            "  warnings.warn(\n"
          ]
        },
        {
          "output_type": "display_data",
          "data": {
            "text/plain": [
              "Downloading readme:   0%|          | 0.00/235 [00:00<?, ?B/s]"
            ],
            "application/vnd.jupyter.widget-view+json": {
              "version_major": 2,
              "version_minor": 0,
              "model_id": "a88a63b763bc4a62a47a4bf7fb63a4d5"
            }
          },
          "metadata": {}
        },
        {
          "output_type": "display_data",
          "data": {
            "text/plain": [
              "Downloading data:   0%|          | 0.00/192k [00:00<?, ?B/s]"
            ],
            "application/vnd.jupyter.widget-view+json": {
              "version_major": 2,
              "version_minor": 0,
              "model_id": "eed8d594822940dfbde4a58b3a2ce645"
            }
          },
          "metadata": {}
        },
        {
          "output_type": "display_data",
          "data": {
            "text/plain": [
              "Generating train split:   0%|          | 0/2111 [00:00<?, ? examples/s]"
            ],
            "application/vnd.jupyter.widget-view+json": {
              "version_major": 2,
              "version_minor": 0,
              "model_id": "e89f24b5d06a42cfaed7ae3eb12c5fb3"
            }
          },
          "metadata": {}
        }
      ]
    },
    {
      "cell_type": "code",
      "source": [
        "print(dataset.features);"
      ],
      "metadata": {
        "colab": {
          "base_uri": "https://localhost:8080/"
        },
        "id": "H5CVI1JWoF7h",
        "outputId": "d7f60f9c-6b68-4976-ec5a-1de3a80b91cd"
      },
      "execution_count": null,
      "outputs": [
        {
          "output_type": "stream",
          "name": "stdout",
          "text": [
            "{'محنت کامیابی کی کنجی ہے۔': Value(dtype='string', id=None), 'Hard work is the key to success.': Value(dtype='string', id=None)}\n"
          ]
        }
      ]
    },
    {
      "cell_type": "code",
      "source": [
        "urdu_key = 'محنت کامیابی کی کنجی ہے۔'\n",
        "english_key = 'Hard work is the key to success.'"
      ],
      "metadata": {
        "id": "i1A-sX8VohE_"
      },
      "execution_count": 6,
      "outputs": []
    },
    {
      "cell_type": "code",
      "source": [
        "idioms = [(entry[urdu_key], entry[english_key]) for entry in dataset]"
      ],
      "metadata": {
        "id": "hHYhHDx2kSGq"
      },
      "execution_count": 7,
      "outputs": []
    },
    {
      "cell_type": "code",
      "source": [
        "translated_idioms = []\n",
        "count = 0\n",
        "for urdu_idiom, expected_english in idioms:\n",
        "  if count == 500:\n",
        "    break\n",
        "  count+=1\n",
        "  print(count)\n",
        "  # Process the English idiom\n",
        "  text_inputs = processor(text=urdu_idiom, src_lang=\"urd\", return_tensors=\"pt\").to(device)\n",
        "\n",
        "  # Generate translation to english without generating speech\n",
        "  output_tokens = model.generate(**text_inputs, tgt_lang=\"eng\", generate_speech=False)\n",
        "  #print(output_tokens[0].tolist())\n",
        "  translated_text = processor.decode(output_tokens[0].tolist()[0], skip_special_tokens=True)\n",
        "\n",
        "  translated_idioms.append((urdu_idiom, translated_text, expected_english))"
      ],
      "metadata": {
        "colab": {
          "base_uri": "https://localhost:8080/"
        },
        "id": "DfePZDcLh_gd",
        "outputId": "f6b151d5-31d6-42bc-e702-c34ec475d68b"
      },
      "execution_count": null,
      "outputs": [
        {
          "output_type": "stream",
          "name": "stdout",
          "text": [
            "1\n",
            "2\n",
            "3\n",
            "4\n",
            "5\n",
            "6\n",
            "7\n",
            "8\n",
            "9\n",
            "10\n",
            "11\n",
            "12\n",
            "13\n",
            "14\n",
            "15\n",
            "16\n",
            "17\n",
            "18\n",
            "19\n",
            "20\n",
            "21\n",
            "22\n",
            "23\n",
            "24\n",
            "25\n",
            "26\n",
            "27\n",
            "28\n",
            "29\n",
            "30\n",
            "31\n",
            "32\n",
            "33\n",
            "34\n",
            "35\n",
            "36\n",
            "37\n",
            "38\n",
            "39\n",
            "40\n",
            "41\n",
            "42\n",
            "43\n",
            "44\n",
            "45\n",
            "46\n",
            "47\n",
            "48\n",
            "49\n",
            "50\n",
            "51\n",
            "52\n",
            "53\n",
            "54\n",
            "55\n",
            "56\n",
            "57\n",
            "58\n",
            "59\n",
            "60\n",
            "61\n",
            "62\n",
            "63\n",
            "64\n",
            "65\n",
            "66\n",
            "67\n",
            "68\n",
            "69\n",
            "70\n",
            "71\n",
            "72\n",
            "73\n",
            "74\n",
            "75\n",
            "76\n",
            "77\n",
            "78\n",
            "79\n",
            "80\n",
            "81\n",
            "82\n",
            "83\n",
            "84\n",
            "85\n",
            "86\n",
            "87\n",
            "88\n",
            "89\n",
            "90\n",
            "91\n",
            "92\n",
            "93\n",
            "94\n",
            "95\n",
            "96\n",
            "97\n",
            "98\n",
            "99\n",
            "100\n",
            "101\n",
            "102\n",
            "103\n",
            "104\n",
            "105\n",
            "106\n",
            "107\n",
            "108\n",
            "109\n",
            "110\n",
            "111\n",
            "112\n",
            "113\n",
            "114\n",
            "115\n",
            "116\n",
            "117\n",
            "118\n",
            "119\n",
            "120\n",
            "121\n",
            "122\n",
            "123\n",
            "124\n",
            "125\n",
            "126\n",
            "127\n",
            "128\n",
            "129\n",
            "130\n",
            "131\n",
            "132\n",
            "133\n",
            "134\n",
            "135\n",
            "136\n",
            "137\n",
            "138\n",
            "139\n",
            "140\n",
            "141\n",
            "142\n",
            "143\n",
            "144\n",
            "145\n",
            "146\n",
            "147\n",
            "148\n",
            "149\n",
            "150\n",
            "151\n",
            "152\n",
            "153\n",
            "154\n",
            "155\n",
            "156\n",
            "157\n",
            "158\n",
            "159\n",
            "160\n",
            "161\n",
            "162\n",
            "163\n",
            "164\n",
            "165\n",
            "166\n",
            "167\n",
            "168\n",
            "169\n",
            "170\n",
            "171\n",
            "172\n",
            "173\n",
            "174\n",
            "175\n",
            "176\n",
            "177\n",
            "178\n",
            "179\n",
            "180\n",
            "181\n",
            "182\n",
            "183\n",
            "184\n",
            "185\n",
            "186\n",
            "187\n",
            "188\n",
            "189\n",
            "190\n",
            "191\n",
            "192\n",
            "193\n",
            "194\n",
            "195\n",
            "196\n",
            "197\n",
            "198\n",
            "199\n",
            "200\n",
            "201\n",
            "202\n",
            "203\n",
            "204\n",
            "205\n",
            "206\n",
            "207\n",
            "208\n",
            "209\n",
            "210\n",
            "211\n",
            "212\n",
            "213\n",
            "214\n",
            "215\n",
            "216\n",
            "217\n",
            "218\n",
            "219\n",
            "220\n",
            "221\n",
            "222\n",
            "223\n",
            "224\n",
            "225\n",
            "226\n",
            "227\n",
            "228\n",
            "229\n",
            "230\n",
            "231\n",
            "232\n",
            "233\n",
            "234\n",
            "235\n",
            "236\n",
            "237\n",
            "238\n",
            "239\n",
            "240\n",
            "241\n",
            "242\n",
            "243\n",
            "244\n",
            "245\n",
            "246\n",
            "247\n",
            "248\n",
            "249\n",
            "250\n",
            "251\n",
            "252\n",
            "253\n",
            "254\n",
            "255\n",
            "256\n",
            "257\n",
            "258\n",
            "259\n",
            "260\n",
            "261\n",
            "262\n",
            "263\n",
            "264\n",
            "265\n",
            "266\n",
            "267\n",
            "268\n",
            "269\n",
            "270\n",
            "271\n",
            "272\n",
            "273\n",
            "274\n",
            "275\n",
            "276\n",
            "277\n",
            "278\n",
            "279\n",
            "280\n",
            "281\n",
            "282\n",
            "283\n",
            "284\n",
            "285\n",
            "286\n",
            "287\n",
            "288\n",
            "289\n",
            "290\n",
            "291\n",
            "292\n",
            "293\n",
            "294\n",
            "295\n",
            "296\n",
            "297\n",
            "298\n",
            "299\n",
            "300\n",
            "301\n",
            "302\n",
            "303\n",
            "304\n",
            "305\n",
            "306\n",
            "307\n",
            "308\n",
            "309\n",
            "310\n",
            "311\n",
            "312\n",
            "313\n",
            "314\n",
            "315\n",
            "316\n",
            "317\n",
            "318\n",
            "319\n",
            "320\n",
            "321\n",
            "322\n",
            "323\n",
            "324\n",
            "325\n",
            "326\n",
            "327\n",
            "328\n",
            "329\n",
            "330\n",
            "331\n",
            "332\n",
            "333\n",
            "334\n",
            "335\n",
            "336\n",
            "337\n",
            "338\n",
            "339\n",
            "340\n",
            "341\n",
            "342\n",
            "343\n",
            "344\n",
            "345\n",
            "346\n",
            "347\n",
            "348\n",
            "349\n",
            "350\n",
            "351\n",
            "352\n",
            "353\n",
            "354\n",
            "355\n",
            "356\n",
            "357\n",
            "358\n",
            "359\n",
            "360\n",
            "361\n",
            "362\n",
            "363\n",
            "364\n",
            "365\n",
            "366\n",
            "367\n",
            "368\n",
            "369\n",
            "370\n",
            "371\n",
            "372\n",
            "373\n",
            "374\n",
            "375\n",
            "376\n",
            "377\n",
            "378\n",
            "379\n",
            "380\n",
            "381\n",
            "382\n",
            "383\n",
            "384\n",
            "385\n",
            "386\n",
            "387\n",
            "388\n",
            "389\n",
            "390\n",
            "391\n",
            "392\n",
            "393\n",
            "394\n",
            "395\n",
            "396\n",
            "397\n",
            "398\n",
            "399\n",
            "400\n",
            "401\n",
            "402\n",
            "403\n",
            "404\n",
            "405\n",
            "406\n",
            "407\n",
            "408\n",
            "409\n",
            "410\n",
            "411\n",
            "412\n",
            "413\n",
            "414\n",
            "415\n",
            "416\n",
            "417\n",
            "418\n",
            "419\n",
            "420\n",
            "421\n",
            "422\n",
            "423\n",
            "424\n",
            "425\n",
            "426\n",
            "427\n",
            "428\n",
            "429\n",
            "430\n",
            "431\n",
            "432\n",
            "433\n",
            "434\n",
            "435\n",
            "436\n",
            "437\n",
            "438\n",
            "439\n",
            "440\n",
            "441\n",
            "442\n",
            "443\n",
            "444\n",
            "445\n",
            "446\n",
            "447\n",
            "448\n",
            "449\n",
            "450\n",
            "451\n",
            "452\n",
            "453\n",
            "454\n",
            "455\n",
            "456\n",
            "457\n",
            "458\n",
            "459\n",
            "460\n",
            "461\n",
            "462\n",
            "463\n",
            "464\n",
            "465\n",
            "466\n",
            "467\n",
            "468\n",
            "469\n",
            "470\n",
            "471\n",
            "472\n",
            "473\n",
            "474\n",
            "475\n",
            "476\n",
            "477\n",
            "478\n",
            "479\n",
            "480\n",
            "481\n",
            "482\n",
            "483\n",
            "484\n",
            "485\n",
            "486\n",
            "487\n",
            "488\n",
            "489\n",
            "490\n",
            "491\n",
            "492\n",
            "493\n",
            "494\n",
            "495\n",
            "496\n",
            "497\n",
            "498\n",
            "499\n",
            "500\n"
          ]
        }
      ]
    },
    {
      "cell_type": "code",
      "source": [
        "!pip install huggingface_hub\n",
        "\n",
        "from huggingface_hub import notebook_login\n",
        "\n",
        "notebook_login()"
      ],
      "metadata": {
        "colab": {
          "base_uri": "https://localhost:8080/",
          "height": 379,
          "referenced_widgets": [
            "6714d29207f7416180118c1d3ce5edf1",
            "5307db1aaccd4986acc32951fc143a98",
            "5101987b11904baf8d29dd0fc9be0e4c",
            "c440d409588f4d5baa7a9d39906ed098",
            "9556e382d0be4e379ee68c05575dcb4d",
            "902acfad56b74753a8e9d182d52e2695",
            "e754fdc09ee345bab5130bb999faf8c1",
            "512bdf4cc1c44b97b17afb2d6050aa82",
            "e5f88fa6f7fe43519f08721f6642069d",
            "9fba147f8cda4cf09b106678fd090bef",
            "ac1d17977a3f477687f5a8394ab5acd4",
            "009306ab68834a63be1c6c689c7bb54f",
            "8a228c03ea0f4a44bcfc97b1e3b0f8b4",
            "9e9df0881f0049128b3ef87e6ec062ae",
            "0da286b468ee4f63936d00fcba76d84d",
            "caad559ead6a48c4ae21d7a255f339e9",
            "00617adbe1dc4891bb13683a6615feb5",
            "40568e58cde047f9b768fe7830a6062d",
            "3b93d1ecae7947ee8ff46510f9347f18",
            "6e1a4d4d97c54ffd88649948c16997c4",
            "40715198c0d340ea91e3c6754548d9e3",
            "a6f835c5b312474590e926189df82395",
            "9c9a4f1c45034b2e8fc5674669ac8b50",
            "bf8886d506dc405eb04274900c17d1f6",
            "7861e6f908af47e886145834582ec16c",
            "0a9e17ae47614cfc81938c6e14540dca",
            "ba248bbcf5bc43fe86a1b36d07e55a80",
            "fb46cc89d94540c8bb2818022c1d3250",
            "d4c6b0330bb44a40a51d99ed038f5d76",
            "42cd70203a9245138adcded1e2f93edb",
            "e5e40c738abe4ceab4ac3578d9f195a8",
            "7b9185b6d8f04300b153941e1db09a34"
          ]
        },
        "id": "GmtPHhfPvjhX",
        "outputId": "10157fd5-6961-424c-f984-f61fd108ba67"
      },
      "execution_count": 8,
      "outputs": [
        {
          "output_type": "stream",
          "name": "stdout",
          "text": [
            "Requirement already satisfied: huggingface_hub in /usr/local/lib/python3.10/dist-packages (0.22.2)\n",
            "Requirement already satisfied: filelock in /usr/local/lib/python3.10/dist-packages (from huggingface_hub) (3.13.4)\n",
            "Requirement already satisfied: fsspec>=2023.5.0 in /usr/local/lib/python3.10/dist-packages (from huggingface_hub) (2023.6.0)\n",
            "Requirement already satisfied: packaging>=20.9 in /usr/local/lib/python3.10/dist-packages (from huggingface_hub) (24.0)\n",
            "Requirement already satisfied: pyyaml>=5.1 in /usr/local/lib/python3.10/dist-packages (from huggingface_hub) (6.0.1)\n",
            "Requirement already satisfied: requests in /usr/local/lib/python3.10/dist-packages (from huggingface_hub) (2.31.0)\n",
            "Requirement already satisfied: tqdm>=4.42.1 in /usr/local/lib/python3.10/dist-packages (from huggingface_hub) (4.66.2)\n",
            "Requirement already satisfied: typing-extensions>=3.7.4.3 in /usr/local/lib/python3.10/dist-packages (from huggingface_hub) (4.11.0)\n",
            "Requirement already satisfied: charset-normalizer<4,>=2 in /usr/local/lib/python3.10/dist-packages (from requests->huggingface_hub) (3.3.2)\n",
            "Requirement already satisfied: idna<4,>=2.5 in /usr/local/lib/python3.10/dist-packages (from requests->huggingface_hub) (3.7)\n",
            "Requirement already satisfied: urllib3<3,>=1.21.1 in /usr/local/lib/python3.10/dist-packages (from requests->huggingface_hub) (2.0.7)\n",
            "Requirement already satisfied: certifi>=2017.4.17 in /usr/local/lib/python3.10/dist-packages (from requests->huggingface_hub) (2024.2.2)\n"
          ]
        },
        {
          "output_type": "display_data",
          "data": {
            "text/plain": [
              "VBox(children=(HTML(value='<center> <img\\nsrc=https://huggingface.co/front/assets/huggingface_logo-noborder.sv…"
            ],
            "application/vnd.jupyter.widget-view+json": {
              "version_major": 2,
              "version_minor": 0,
              "model_id": "6714d29207f7416180118c1d3ce5edf1"
            }
          },
          "metadata": {}
        }
      ]
    },
    {
      "cell_type": "code",
      "source": [
        "!pip install accelerate"
      ],
      "metadata": {
        "colab": {
          "base_uri": "https://localhost:8080/"
        },
        "id": "OKEArFEnwpP-",
        "outputId": "61b009ba-b043-4802-dbe1-2da00b56f3a7"
      },
      "execution_count": 9,
      "outputs": [
        {
          "output_type": "stream",
          "name": "stdout",
          "text": [
            "Collecting accelerate\n",
            "  Downloading accelerate-0.29.3-py3-none-any.whl (297 kB)\n",
            "\u001b[?25l     \u001b[90m━━━━━━━━━━━━━━━━━━━━━━━━━━━━━━━━━━━━━━━━\u001b[0m \u001b[32m0.0/297.6 kB\u001b[0m \u001b[31m?\u001b[0m eta \u001b[36m-:--:--\u001b[0m\r\u001b[2K     \u001b[91m━━━━━━━━━━━━━━━━━━━━━━━━━━━━━━\u001b[0m\u001b[90m╺\u001b[0m\u001b[90m━━━━━━━━━\u001b[0m \u001b[32m225.3/297.6 kB\u001b[0m \u001b[31m6.5 MB/s\u001b[0m eta \u001b[36m0:00:01\u001b[0m\r\u001b[2K     \u001b[90m━━━━━━━━━━━━━━━━━━━━━━━━━━━━━━━━━━━━━━━━\u001b[0m \u001b[32m297.6/297.6 kB\u001b[0m \u001b[31m6.9 MB/s\u001b[0m eta \u001b[36m0:00:00\u001b[0m\n",
            "\u001b[?25hRequirement already satisfied: numpy>=1.17 in /usr/local/lib/python3.10/dist-packages (from accelerate) (1.25.2)\n",
            "Requirement already satisfied: packaging>=20.0 in /usr/local/lib/python3.10/dist-packages (from accelerate) (24.0)\n",
            "Requirement already satisfied: psutil in /usr/local/lib/python3.10/dist-packages (from accelerate) (5.9.5)\n",
            "Requirement already satisfied: pyyaml in /usr/local/lib/python3.10/dist-packages (from accelerate) (6.0.1)\n",
            "Requirement already satisfied: torch>=1.10.0 in /usr/local/lib/python3.10/dist-packages (from accelerate) (2.2.1+cu121)\n",
            "Requirement already satisfied: huggingface-hub in /usr/local/lib/python3.10/dist-packages (from accelerate) (0.22.2)\n",
            "Requirement already satisfied: safetensors>=0.3.1 in /usr/local/lib/python3.10/dist-packages (from accelerate) (0.4.3)\n",
            "Requirement already satisfied: filelock in /usr/local/lib/python3.10/dist-packages (from torch>=1.10.0->accelerate) (3.13.4)\n",
            "Requirement already satisfied: typing-extensions>=4.8.0 in /usr/local/lib/python3.10/dist-packages (from torch>=1.10.0->accelerate) (4.11.0)\n",
            "Requirement already satisfied: sympy in /usr/local/lib/python3.10/dist-packages (from torch>=1.10.0->accelerate) (1.12)\n",
            "Requirement already satisfied: networkx in /usr/local/lib/python3.10/dist-packages (from torch>=1.10.0->accelerate) (3.3)\n",
            "Requirement already satisfied: jinja2 in /usr/local/lib/python3.10/dist-packages (from torch>=1.10.0->accelerate) (3.1.3)\n",
            "Requirement already satisfied: fsspec in /usr/local/lib/python3.10/dist-packages (from torch>=1.10.0->accelerate) (2023.6.0)\n",
            "Collecting nvidia-cuda-nvrtc-cu12==12.1.105 (from torch>=1.10.0->accelerate)\n",
            "  Using cached nvidia_cuda_nvrtc_cu12-12.1.105-py3-none-manylinux1_x86_64.whl (23.7 MB)\n",
            "Collecting nvidia-cuda-runtime-cu12==12.1.105 (from torch>=1.10.0->accelerate)\n",
            "  Using cached nvidia_cuda_runtime_cu12-12.1.105-py3-none-manylinux1_x86_64.whl (823 kB)\n",
            "Collecting nvidia-cuda-cupti-cu12==12.1.105 (from torch>=1.10.0->accelerate)\n",
            "  Using cached nvidia_cuda_cupti_cu12-12.1.105-py3-none-manylinux1_x86_64.whl (14.1 MB)\n",
            "Collecting nvidia-cudnn-cu12==8.9.2.26 (from torch>=1.10.0->accelerate)\n",
            "  Using cached nvidia_cudnn_cu12-8.9.2.26-py3-none-manylinux1_x86_64.whl (731.7 MB)\n",
            "Collecting nvidia-cublas-cu12==12.1.3.1 (from torch>=1.10.0->accelerate)\n",
            "  Using cached nvidia_cublas_cu12-12.1.3.1-py3-none-manylinux1_x86_64.whl (410.6 MB)\n",
            "Collecting nvidia-cufft-cu12==11.0.2.54 (from torch>=1.10.0->accelerate)\n",
            "  Using cached nvidia_cufft_cu12-11.0.2.54-py3-none-manylinux1_x86_64.whl (121.6 MB)\n",
            "Collecting nvidia-curand-cu12==10.3.2.106 (from torch>=1.10.0->accelerate)\n",
            "  Using cached nvidia_curand_cu12-10.3.2.106-py3-none-manylinux1_x86_64.whl (56.5 MB)\n",
            "Collecting nvidia-cusolver-cu12==11.4.5.107 (from torch>=1.10.0->accelerate)\n",
            "  Using cached nvidia_cusolver_cu12-11.4.5.107-py3-none-manylinux1_x86_64.whl (124.2 MB)\n",
            "Collecting nvidia-cusparse-cu12==12.1.0.106 (from torch>=1.10.0->accelerate)\n",
            "  Using cached nvidia_cusparse_cu12-12.1.0.106-py3-none-manylinux1_x86_64.whl (196.0 MB)\n",
            "Collecting nvidia-nccl-cu12==2.19.3 (from torch>=1.10.0->accelerate)\n",
            "  Using cached nvidia_nccl_cu12-2.19.3-py3-none-manylinux1_x86_64.whl (166.0 MB)\n",
            "Collecting nvidia-nvtx-cu12==12.1.105 (from torch>=1.10.0->accelerate)\n",
            "  Using cached nvidia_nvtx_cu12-12.1.105-py3-none-manylinux1_x86_64.whl (99 kB)\n",
            "Requirement already satisfied: triton==2.2.0 in /usr/local/lib/python3.10/dist-packages (from torch>=1.10.0->accelerate) (2.2.0)\n",
            "Collecting nvidia-nvjitlink-cu12 (from nvidia-cusolver-cu12==11.4.5.107->torch>=1.10.0->accelerate)\n",
            "  Using cached nvidia_nvjitlink_cu12-12.4.127-py3-none-manylinux2014_x86_64.whl (21.1 MB)\n",
            "Requirement already satisfied: requests in /usr/local/lib/python3.10/dist-packages (from huggingface-hub->accelerate) (2.31.0)\n",
            "Requirement already satisfied: tqdm>=4.42.1 in /usr/local/lib/python3.10/dist-packages (from huggingface-hub->accelerate) (4.66.2)\n",
            "Requirement already satisfied: MarkupSafe>=2.0 in /usr/local/lib/python3.10/dist-packages (from jinja2->torch>=1.10.0->accelerate) (2.1.5)\n",
            "Requirement already satisfied: charset-normalizer<4,>=2 in /usr/local/lib/python3.10/dist-packages (from requests->huggingface-hub->accelerate) (3.3.2)\n",
            "Requirement already satisfied: idna<4,>=2.5 in /usr/local/lib/python3.10/dist-packages (from requests->huggingface-hub->accelerate) (3.7)\n",
            "Requirement already satisfied: urllib3<3,>=1.21.1 in /usr/local/lib/python3.10/dist-packages (from requests->huggingface-hub->accelerate) (2.0.7)\n",
            "Requirement already satisfied: certifi>=2017.4.17 in /usr/local/lib/python3.10/dist-packages (from requests->huggingface-hub->accelerate) (2024.2.2)\n",
            "Requirement already satisfied: mpmath>=0.19 in /usr/local/lib/python3.10/dist-packages (from sympy->torch>=1.10.0->accelerate) (1.3.0)\n",
            "Installing collected packages: nvidia-nvtx-cu12, nvidia-nvjitlink-cu12, nvidia-nccl-cu12, nvidia-curand-cu12, nvidia-cufft-cu12, nvidia-cuda-runtime-cu12, nvidia-cuda-nvrtc-cu12, nvidia-cuda-cupti-cu12, nvidia-cublas-cu12, nvidia-cusparse-cu12, nvidia-cudnn-cu12, nvidia-cusolver-cu12, accelerate\n",
            "Successfully installed accelerate-0.29.3 nvidia-cublas-cu12-12.1.3.1 nvidia-cuda-cupti-cu12-12.1.105 nvidia-cuda-nvrtc-cu12-12.1.105 nvidia-cuda-runtime-cu12-12.1.105 nvidia-cudnn-cu12-8.9.2.26 nvidia-cufft-cu12-11.0.2.54 nvidia-curand-cu12-10.3.2.106 nvidia-cusolver-cu12-11.4.5.107 nvidia-cusparse-cu12-12.1.0.106 nvidia-nccl-cu12-2.19.3 nvidia-nvjitlink-cu12-12.4.127 nvidia-nvtx-cu12-12.1.105\n"
          ]
        }
      ]
    },
    {
      "cell_type": "code",
      "source": [
        "from transformers import pipeline\n",
        "\n",
        "model_id = \"meta-llama/Meta-Llama-3-8B-Instruct\"\n",
        "translate_pipeline = pipeline(\n",
        "  \"text-generation\",\n",
        "  model=model_id,\n",
        "  model_kwargs={\"torch_dtype\": torch.bfloat16},\n",
        "  device_map=\"auto\",\n",
        ")"
      ],
      "metadata": {
        "colab": {
          "base_uri": "https://localhost:8080/",
          "height": 1000,
          "referenced_widgets": [
            "96b5fc4f41bf4586a95d1cee74aca376",
            "4f3aabf88216438daedb62ace7d56894",
            "c782bbcee0494da28eba7c43fd899c3e",
            "930684b597b241e58e56f71f2b593864",
            "146e2cf1b4e04e98add5c3368a46e640",
            "f1007b4ed08f415c98818ae8eef3c847",
            "41151b39c9a84574b366309f2c18a00d",
            "5a000e8c3e1e4e919fa74ff6e09644f1",
            "edadc0e4eadb4f4f8930d9ab385ae385",
            "b35eeb112cdd45218b40fb28c926980b",
            "4a30584a652049ec99fda130d21b6e53",
            "ea3d6e64148b40968b5771a1d88560e9",
            "d9deced46ffe431790250928e7d42a5d",
            "f6cc4ca8b08b4ef8ae6591380aee0b61",
            "4142d0f962b64d6bad2e794806a9555c",
            "2d08e5b17aac4eae9d39d0ca31dd8924",
            "c9fcafc735734f63b86cc5eacd66a76c",
            "61f7a8d1da824fd28463a7dcc43a7b99",
            "62b5382bb4504c6fba09523d8d80d19a",
            "392394943e864e4488f8e37dea733886",
            "7f948966b7874817898a9524e3b3178e",
            "7360759d9ef14858a1cb35792fe25bd0",
            "fcaab62318304c73812cf68fade89e82",
            "b1b7716d1ffc464b8ee3f5f8a8bcb761",
            "5bf5c97321e44912911190fd8a9c8e28",
            "646d630dfbea45ba86216966450cc46a",
            "c986b3a0ab6147fba44e24dacdf52579",
            "6fe9549b6f414ae881d3b2b9f73edbe8",
            "61575386fc1045518faa6b480f1d4cba",
            "0dacf0bd2cc84900949d83099af5515a",
            "11a28033c99b4d8888f27192b59f0f53",
            "7ee28e5d0de84dffb1b540c03bf59da2",
            "26991700693946cc8db1948d361a7b40",
            "d6582de3375f496f8b992ce9255b68e9",
            "dfd393493a184889a1596afd20d909f8",
            "a0a5207b71984c59b77e0347d3df09d3",
            "4cf3625a79994c8f94476d4641da8209",
            "d150cd542d5144a7961c3161b0c75d34",
            "21010f286bec41fea3cd1158da18a552",
            "cdcbfba7c4714909bd843b33a88de232",
            "24766571ffb74273a71acc8a905e3bbf",
            "45a056ba8b90478a9fca2339327468a5",
            "0b8b8f12085d4a48a59c3b49e8c777d2",
            "c5dcb54635584451a7bbe29bf24e4cbe",
            "8b8a33a68aee49389de9c69594b0c6c4",
            "711864d8f1d64d12ad502c2f6856b4e9",
            "6ac679be61614310bffad6ab43087950",
            "9e9413974cd44577a28aa1d01a6c5d1e",
            "f5f0eab9f1eb4425b156d1a8f0727b20",
            "f18225cd454a4e999cf80e44c88883d4",
            "20684a08199f487d9d823928fe03e7f7",
            "49164e3a6fc149a085c5fb70de65fcbb",
            "0c502cfcf836417d8a5baf0e5e3d6d59",
            "5a060321a2e8486b91a1dfc5ced4d49f",
            "7c5a457d752a442f9c4ba22ab269d617",
            "3072afcbe6874b46ab108bd9c0ea4172",
            "7bbfcc5270014ce887b6d687a852c5c9",
            "12f1a547b03c4ad7947a293a7908ca70",
            "400b29b039b2441ba04e7284217ec6a4",
            "2c6aeef67c7a4195b208cce731b06d2e",
            "db5393e64deb4855a119a85ffd93b966",
            "cd709074ca294407830479810b3a271f",
            "a8fe3e87b50d488e9d8fd045b9ca5c3d",
            "b010402ea577422eb9b95901a34ee07a",
            "5c169ccff61b4cb6a2f3bdfca1cd681d",
            "f988d4a7987a4955a022e52808bb4806",
            "771e96e39cb649b69f47004b4f0f617e",
            "26b976a301414b4fbc54d2f56d84369e",
            "6814c61eeab644439f5ed3e8a770b792",
            "0d4ea67074e247fd84bc78dfd77a599d",
            "bb5c60d327324a54836473710f25b9cc",
            "5892aac490d1465480bc7f993be57b58",
            "06cab4faf2424d99a919d365474d4897",
            "5aa06639138148aab3fc16b5f5af4e09",
            "ae285afec560465ba84827b6cb80cb1e",
            "2be33e8d22f94d9fbc954cbec7bd64f5",
            "04539324c7174163888dfd61b96bf1a6",
            "b85cbc388dab49d88a12d4d968773b23",
            "576d3faad3dd4b1a84c1c7f160cc3759",
            "379219fb486141c9b2435a122416b87d",
            "d56f42914b5b49218306172a2105731d",
            "d146ced1a6084f51856532d10d9793d9",
            "165f01e8425b42fe94828f77bfe074f4",
            "c7f12dc3c30044e29b4dbc8c31f8de3e",
            "b222fdc6de04454fa3ac6448c8e4863e",
            "aac41bec756a43b98e40a23d37771dd3",
            "e84222dd309a47f3b3c0f5bbb1600f99",
            "35f9c1f1a3a246869f441265af5201e2",
            "cffc22021cf0460ba5ad424d38de43cd",
            "04eb155b6ab143d295fbddabf3e77def",
            "8652b508d245456da32043b8de578482",
            "8e2e8929084348d4b82076f34e8ab5a7",
            "f27b6bf9fd7844e886c3745131366679",
            "ff894268e35d421abf097f14c653a822",
            "ea575d630a5a4726ae038212d620cc74",
            "74b5a364192f470b8958956b36e87058",
            "f373a252bc1e443791b2c6d36c87ff8a",
            "b9a9c77e613447c683458577117dd5d5",
            "b5d70c3935f74ff79196daa692b16136",
            "98800e2d4936424b849fbdb54e793abe",
            "50b1e6c7d6394d38a6eb73430cf5d161",
            "1fb2978805f04c0c9ed7bb0f613f0dd1",
            "7cb0b723e282498294ec944a5fa47482",
            "f5612e76976a4e74b1ffe457df1091fc",
            "2f1e209b5ace4cdda34f5b196d4a0c9e",
            "fe898e56574f48d9bf35df48d3671da6",
            "fdef7902ca034452bf8443642b38da58",
            "0c075cf1930c4e24817d80ceab58cf0f",
            "1e809808dc024ab0b77c57e52f1b1d3a",
            "32a38e3e00dd4d56b1c6b9cc6391c382",
            "0bc6c687515b41d18ecec9c84717ede2",
            "8758e50b4f3e40a297c698994b8d1026",
            "be6176e8edde439e9e414a887b5636d9",
            "dfa3e4e799734d839e99328568935487",
            "e1678e76be594fff8cda051bc5427656",
            "b4e2cc47a25648b0a69577800bc1e59a",
            "75e62696a30b4ff684696bb633a05846",
            "c4f9f314e1e94f36ba4bb42c3619789f",
            "df8c80dffa6744ad92750c06eda19360",
            "fd55df18a4dc46e9bf40139a2f00b219",
            "dfefbabda55f4d16b2fa1a17739ca2e8",
            "00082327ac954c29991ad4a156d4abce",
            "b0890487d38d4d8f88497722b862c787",
            "6f8e64cfe6a4450c9f9b4d0f9011520d",
            "ea13c41263cd4e96a9142a0ccdb52a9d",
            "4ca6dd9457b0494d9a9055f2d6e3ba6f",
            "e1b2bd2d364340edaa4847d3593fac07",
            "9e68fa95009a48bc813e5c63d1f9f37e",
            "5f10ea19a03240d89cc021829b2d0647",
            "dc58b84d18ab45a38b36ce030b7ab216",
            "395dfa364d0943b8979df9cbe03b1a77",
            "0a354f819e014d5b9471aeea637dc11c",
            "19d232047a784efca49d280a40902d60",
            "f087344b99024e9db1f76620917b0f40",
            "b72b084c07aa48718d129e6089550424",
            "2faf728306a34012a561c9faeb734a8b",
            "921e4ad0c37f4265a6fd37a90005b619",
            "d268486d64b84c9c9bb1d6a46c76794d",
            "b551db2bb029490a946fc5453e9f7b65",
            "b4a26da031114571abd8323e90fe755e",
            "7b4bb36d2a584d4f845fb7494a0e9ab5",
            "89e87d1d7602456d9c995f59b7b3047c",
            "86d0dfea8cd14d08bf1e59fee5cd59a2",
            "31a2822aa3714071a9ff0dff7227ed7c",
            "a897011e41b54cc2ab72e43b464beed5",
            "da8a1b8e3af54ad18c21adb524653cd7",
            "7bf12b8abf2148b29d2c2d3c469ee413",
            "69e842804d4c4604b9b5a29a1f485b04",
            "c0e4dc7a8c574f11b756235eba1f2c9c",
            "4f22f2b8f818495fad51e1b9d525e221",
            "7aeef795d70049a7bae2168c761176bb",
            "8eb1be790c8643599914623dfa12ab31",
            "ff0ed8624fb9497782349c76295e5d66",
            "23fd2abd5a444369b95cba30547b245a",
            "c153b29cf5474f02a46eb538d0f6cccc",
            "b94328c6658f4bfb834d41b3af4457ed",
            "a5f9dd0d721646058696cc081ae5bc80",
            "b63c07b7df4e4409ba2500ec46cbe1df",
            "992a097471ed4f77932a70ade76b334a",
            "4ca70b2033204d6e856c7240d0199ccc",
            "e9d8e04a33c44776a10bd6b60bd3df4f",
            "0b679bffbcc147bf89580dd7ac8dccd7",
            "2b7254d142324080aaf39ee8735c7c1a",
            "f4af093cf1c349ddba992dc1baac58b0",
            "0576247b112846c1bbea6ce3182a637b",
            "f328d5f084cb454b8c89a7e9e1cac012",
            "369d5e067ed24ea0a044914c794d51d3",
            "f138bf973bf34dc9acef2f7cc731b654",
            "8e7a4c995c5a44b7b255ec8f3940fd2e",
            "c4cfa6cfd1e54affbce5204484d33e93",
            "ff35526b7d82494aa5f54e4f7e178b4b",
            "14c24fdf1b134eebab7d95e9a7504b51",
            "50b980102b3f42fb96a0acc37f16c0b5",
            "c4bac9125d6a44e2b532a46fe0e23537",
            "ef564d68a2314af0bbab526345d5ec1c",
            "1d554c642b6e4ac8b94c38231e1edb05",
            "b46f5edb33e34c69863e68c4d090423a",
            "49119b5285b047588a6932a2bc7117b9",
            "d2b1436b43a548598b20e6688932c53b",
            "c6b4b40de070469095006ce6406bdee2",
            "a0391d18b6484378ae96155240c7b841",
            "38abf2bf744042c58ccb6789016ef25d",
            "0ef7b17b7c444859837328cf00bc3933",
            "95f5c1d293d145a4baf865823c9760f6",
            "64fddaebfbd34b40a411e3a2d27e5fe6",
            "77f8aad1f16c45e4ad8fd7f14d39489a",
            "09a1cb82e3c24601af2557993757b8b1"
          ]
        },
        "id": "2P6teRvAqEYH",
        "outputId": "52809b74-5f48-4e29-8956-1a7dfe72494c"
      },
      "execution_count": 10,
      "outputs": [
        {
          "output_type": "display_data",
          "data": {
            "text/plain": [
              "config.json:   0%|          | 0.00/654 [00:00<?, ?B/s]"
            ],
            "application/vnd.jupyter.widget-view+json": {
              "version_major": 2,
              "version_minor": 0,
              "model_id": "96b5fc4f41bf4586a95d1cee74aca376"
            }
          },
          "metadata": {}
        },
        {
          "output_type": "display_data",
          "data": {
            "text/plain": [
              "model.safetensors.index.json:   0%|          | 0.00/59.6k [00:00<?, ?B/s]"
            ],
            "application/vnd.jupyter.widget-view+json": {
              "version_major": 2,
              "version_minor": 0,
              "model_id": "ea3d6e64148b40968b5771a1d88560e9"
            }
          },
          "metadata": {}
        },
        {
          "output_type": "display_data",
          "data": {
            "text/plain": [
              "Downloading shards:   0%|          | 0/30 [00:00<?, ?it/s]"
            ],
            "application/vnd.jupyter.widget-view+json": {
              "version_major": 2,
              "version_minor": 0,
              "model_id": "fcaab62318304c73812cf68fade89e82"
            }
          },
          "metadata": {}
        },
        {
          "output_type": "display_data",
          "data": {
            "text/plain": [
              "model-00001-of-00030.safetensors:   0%|          | 0.00/4.58G [00:00<?, ?B/s]"
            ],
            "application/vnd.jupyter.widget-view+json": {
              "version_major": 2,
              "version_minor": 0,
              "model_id": "d6582de3375f496f8b992ce9255b68e9"
            }
          },
          "metadata": {}
        },
        {
          "output_type": "display_data",
          "data": {
            "text/plain": [
              "model-00002-of-00030.safetensors:   0%|          | 0.00/4.66G [00:00<?, ?B/s]"
            ],
            "application/vnd.jupyter.widget-view+json": {
              "version_major": 2,
              "version_minor": 0,
              "model_id": "8b8a33a68aee49389de9c69594b0c6c4"
            }
          },
          "metadata": {}
        },
        {
          "output_type": "display_data",
          "data": {
            "text/plain": [
              "model-00003-of-00030.safetensors:   0%|          | 0.00/5.00G [00:00<?, ?B/s]"
            ],
            "application/vnd.jupyter.widget-view+json": {
              "version_major": 2,
              "version_minor": 0,
              "model_id": "3072afcbe6874b46ab108bd9c0ea4172"
            }
          },
          "metadata": {}
        },
        {
          "output_type": "display_data",
          "data": {
            "text/plain": [
              "model-00004-of-00030.safetensors:   0%|          | 0.00/4.97G [00:00<?, ?B/s]"
            ],
            "application/vnd.jupyter.widget-view+json": {
              "version_major": 2,
              "version_minor": 0,
              "model_id": "771e96e39cb649b69f47004b4f0f617e"
            }
          },
          "metadata": {}
        },
        {
          "output_type": "display_data",
          "data": {
            "text/plain": [
              "model-00005-of-00030.safetensors:   0%|          | 0.00/4.66G [00:00<?, ?B/s]"
            ],
            "application/vnd.jupyter.widget-view+json": {
              "version_major": 2,
              "version_minor": 0,
              "model_id": "b85cbc388dab49d88a12d4d968773b23"
            }
          },
          "metadata": {}
        },
        {
          "output_type": "display_data",
          "data": {
            "text/plain": [
              "model-00006-of-00030.safetensors:   0%|          | 0.00/4.66G [00:00<?, ?B/s]"
            ],
            "application/vnd.jupyter.widget-view+json": {
              "version_major": 2,
              "version_minor": 0,
              "model_id": "cffc22021cf0460ba5ad424d38de43cd"
            }
          },
          "metadata": {}
        },
        {
          "output_type": "display_data",
          "data": {
            "text/plain": [
              "model-00007-of-00030.safetensors:   0%|          | 0.00/4.66G [00:00<?, ?B/s]"
            ],
            "application/vnd.jupyter.widget-view+json": {
              "version_major": 2,
              "version_minor": 0,
              "model_id": "98800e2d4936424b849fbdb54e793abe"
            }
          },
          "metadata": {}
        },
        {
          "output_type": "display_data",
          "data": {
            "text/plain": [
              "model-00008-of-00030.safetensors:   0%|          | 0.00/5.00G [00:00<?, ?B/s]"
            ],
            "application/vnd.jupyter.widget-view+json": {
              "version_major": 2,
              "version_minor": 0,
              "model_id": "0bc6c687515b41d18ecec9c84717ede2"
            }
          },
          "metadata": {}
        },
        {
          "output_type": "display_data",
          "data": {
            "text/plain": [
              "model-00009-of-00030.safetensors:   0%|          | 0.00/4.97G [00:00<?, ?B/s]"
            ],
            "application/vnd.jupyter.widget-view+json": {
              "version_major": 2,
              "version_minor": 0,
              "model_id": "00082327ac954c29991ad4a156d4abce"
            }
          },
          "metadata": {}
        },
        {
          "output_type": "display_data",
          "data": {
            "text/plain": [
              "model-00010-of-00030.safetensors:   0%|          | 0.00/4.66G [00:00<?, ?B/s]"
            ],
            "application/vnd.jupyter.widget-view+json": {
              "version_major": 2,
              "version_minor": 0,
              "model_id": "19d232047a784efca49d280a40902d60"
            }
          },
          "metadata": {}
        },
        {
          "output_type": "display_data",
          "data": {
            "text/plain": [
              "model-00011-of-00030.safetensors:   0%|          | 0.00/4.66G [00:00<?, ?B/s]"
            ],
            "application/vnd.jupyter.widget-view+json": {
              "version_major": 2,
              "version_minor": 0,
              "model_id": "31a2822aa3714071a9ff0dff7227ed7c"
            }
          },
          "metadata": {}
        },
        {
          "output_type": "stream",
          "name": "stderr",
          "text": [
            "/usr/local/lib/python3.10/dist-packages/huggingface_hub/file_download.py:1003: UserWarning: Not enough free disk space to download the file. The expected file size is: 4664.17 MB. The target location /root/.cache/huggingface/hub only has 523.06 MB free disk space.\n",
            "  warnings.warn(\n",
            "/usr/local/lib/python3.10/dist-packages/huggingface_hub/file_download.py:1003: UserWarning: Not enough free disk space to download the file. The expected file size is: 4664.17 MB. The target location /root/.cache/huggingface/hub/models--meta-llama--Meta-Llama-3-70B-Instruct/blobs only has 523.06 MB free disk space.\n",
            "  warnings.warn(\n"
          ]
        },
        {
          "output_type": "display_data",
          "data": {
            "text/plain": [
              "model-00012-of-00030.safetensors:   0%|          | 0.00/4.66G [00:00<?, ?B/s]"
            ],
            "application/vnd.jupyter.widget-view+json": {
              "version_major": 2,
              "version_minor": 0,
              "model_id": "c153b29cf5474f02a46eb538d0f6cccc"
            }
          },
          "metadata": {}
        },
        {
          "output_type": "display_data",
          "data": {
            "text/plain": [
              "Downloading shards:   0%|          | 0/30 [00:00<?, ?it/s]"
            ],
            "application/vnd.jupyter.widget-view+json": {
              "version_major": 2,
              "version_minor": 0,
              "model_id": "f328d5f084cb454b8c89a7e9e1cac012"
            }
          },
          "metadata": {}
        },
        {
          "output_type": "stream",
          "name": "stderr",
          "text": [
            "/usr/local/lib/python3.10/dist-packages/huggingface_hub/file_download.py:1003: UserWarning: Not enough free disk space to download the file. The expected file size is: 4664.17 MB. The target location /root/.cache/huggingface/hub only has 0.00 MB free disk space.\n",
            "  warnings.warn(\n",
            "/usr/local/lib/python3.10/dist-packages/huggingface_hub/file_download.py:1003: UserWarning: Not enough free disk space to download the file. The expected file size is: 4664.17 MB. The target location /root/.cache/huggingface/hub/models--meta-llama--Meta-Llama-3-70B-Instruct/blobs only has 0.00 MB free disk space.\n",
            "  warnings.warn(\n"
          ]
        },
        {
          "output_type": "display_data",
          "data": {
            "text/plain": [
              "model-00012-of-00030.safetensors:   0%|          | 0.00/4.66G [00:00<?, ?B/s]"
            ],
            "application/vnd.jupyter.widget-view+json": {
              "version_major": 2,
              "version_minor": 0,
              "model_id": "b46f5edb33e34c69863e68c4d090423a"
            }
          },
          "metadata": {}
        },
        {
          "output_type": "error",
          "ename": "ValueError",
          "evalue": "Could not load model meta-llama/Meta-Llama-3-70B-Instruct with any of the following classes: (<class 'transformers.models.auto.modeling_auto.AutoModelForCausalLM'>, <class 'transformers.models.auto.modeling_tf_auto.TFAutoModelForCausalLM'>, <class 'transformers.models.llama.modeling_llama.LlamaForCausalLM'>). See the original errors:\n\nwhile loading with AutoModelForCausalLM, an error is thrown:\nTraceback (most recent call last):\n  File \"/usr/local/lib/python3.10/dist-packages/transformers/pipelines/base.py\", line 283, in infer_framework_load_model\n    model = model_class.from_pretrained(model, **kwargs)\n  File \"/usr/local/lib/python3.10/dist-packages/transformers/models/auto/auto_factory.py\", line 563, in from_pretrained\n    return model_class.from_pretrained(\n  File \"/usr/local/lib/python3.10/dist-packages/transformers/modeling_utils.py\", line 3436, in from_pretrained\n    resolved_archive_file, sharded_metadata = get_checkpoint_shard_files(\n  File \"/usr/local/lib/python3.10/dist-packages/transformers/utils/hub.py\", line 1038, in get_checkpoint_shard_files\n    cached_filename = cached_file(\n  File \"/usr/local/lib/python3.10/dist-packages/transformers/utils/hub.py\", line 398, in cached_file\n    resolved_file = hf_hub_download(\n  File \"/usr/local/lib/python3.10/dist-packages/huggingface_hub/utils/_validators.py\", line 119, in _inner_fn\n    return fn(*args, **kwargs)\n  File \"/usr/local/lib/python3.10/dist-packages/huggingface_hub/file_download.py\", line 1492, in hf_hub_download\n    http_get(\n  File \"/usr/local/lib/python3.10/dist-packages/huggingface_hub/file_download.py\", line 538, in http_get\n    temp_file.write(chunk)\n  File \"/usr/lib/python3.10/tempfile.py\", line 622, in func_wrapper\n    return func(*args, **kwargs)\nOSError: [Errno 28] No space left on device\n\nwhile loading with TFAutoModelForCausalLM, an error is thrown:\nTraceback (most recent call last):\n  File \"/usr/local/lib/python3.10/dist-packages/transformers/pipelines/base.py\", line 283, in infer_framework_load_model\n    model = model_class.from_pretrained(model, **kwargs)\n  File \"/usr/local/lib/python3.10/dist-packages/transformers/models/auto/auto_factory.py\", line 566, in from_pretrained\n    raise ValueError(\nValueError: Unrecognized configuration class <class 'transformers.models.llama.configuration_llama.LlamaConfig'> for this kind of AutoModel: TFAutoModelForCausalLM.\nModel type should be one of BertConfig, CamembertConfig, CTRLConfig, GPT2Config, GPT2Config, GPTJConfig, OpenAIGPTConfig, OPTConfig, RemBertConfig, RobertaConfig, RobertaPreLayerNormConfig, RoFormerConfig, TransfoXLConfig, XGLMConfig, XLMConfig, XLMRobertaConfig, XLNetConfig.\n\nwhile loading with LlamaForCausalLM, an error is thrown:\nTraceback (most recent call last):\n  File \"/usr/local/lib/python3.10/dist-packages/transformers/pipelines/base.py\", line 283, in infer_framework_load_model\n    model = model_class.from_pretrained(model, **kwargs)\n  File \"/usr/local/lib/python3.10/dist-packages/transformers/modeling_utils.py\", line 3436, in from_pretrained\n    resolved_archive_file, sharded_metadata = get_checkpoint_shard_files(\n  File \"/usr/local/lib/python3.10/dist-packages/transformers/utils/hub.py\", line 1038, in get_checkpoint_shard_files\n    cached_filename = cached_file(\n  File \"/usr/local/lib/python3.10/dist-packages/transformers/utils/hub.py\", line 398, in cached_file\n    resolved_file = hf_hub_download(\n  File \"/usr/local/lib/python3.10/dist-packages/huggingface_hub/utils/_validators.py\", line 119, in _inner_fn\n    return fn(*args, **kwargs)\n  File \"/usr/local/lib/python3.10/dist-packages/huggingface_hub/file_download.py\", line 1492, in hf_hub_download\n    http_get(\n  File \"/usr/local/lib/python3.10/dist-packages/huggingface_hub/file_download.py\", line 538, in http_get\n    temp_file.write(chunk)\n  File \"/usr/lib/python3.10/tempfile.py\", line 622, in func_wrapper\n    return func(*args, **kwargs)\nOSError: [Errno 28] No space left on device\n\n\n",
          "traceback": [
            "\u001b[0;31m---------------------------------------------------------------------------\u001b[0m",
            "\u001b[0;31mValueError\u001b[0m                                Traceback (most recent call last)",
            "\u001b[0;32m<ipython-input-10-56340015673f>\u001b[0m in \u001b[0;36m<cell line: 4>\u001b[0;34m()\u001b[0m\n\u001b[1;32m      2\u001b[0m \u001b[0;34m\u001b[0m\u001b[0m\n\u001b[1;32m      3\u001b[0m \u001b[0mmodel_id\u001b[0m \u001b[0;34m=\u001b[0m \u001b[0;34m\"meta-llama/Meta-Llama-3-70B-Instruct\"\u001b[0m\u001b[0;34m\u001b[0m\u001b[0;34m\u001b[0m\u001b[0m\n\u001b[0;32m----> 4\u001b[0;31m translate_pipeline = pipeline(\n\u001b[0m\u001b[1;32m      5\u001b[0m   \u001b[0;34m\"text-generation\"\u001b[0m\u001b[0;34m,\u001b[0m\u001b[0;34m\u001b[0m\u001b[0;34m\u001b[0m\u001b[0m\n\u001b[1;32m      6\u001b[0m   \u001b[0mmodel\u001b[0m\u001b[0;34m=\u001b[0m\u001b[0mmodel_id\u001b[0m\u001b[0;34m,\u001b[0m\u001b[0;34m\u001b[0m\u001b[0;34m\u001b[0m\u001b[0m\n",
            "\u001b[0;32m/usr/local/lib/python3.10/dist-packages/transformers/pipelines/__init__.py\u001b[0m in \u001b[0;36mpipeline\u001b[0;34m(task, model, config, tokenizer, feature_extractor, image_processor, framework, revision, use_fast, token, device, device_map, torch_dtype, trust_remote_code, model_kwargs, pipeline_class, **kwargs)\u001b[0m\n\u001b[1;32m    904\u001b[0m     \u001b[0;32mif\u001b[0m \u001b[0misinstance\u001b[0m\u001b[0;34m(\u001b[0m\u001b[0mmodel\u001b[0m\u001b[0;34m,\u001b[0m \u001b[0mstr\u001b[0m\u001b[0;34m)\u001b[0m \u001b[0;32mor\u001b[0m \u001b[0mframework\u001b[0m \u001b[0;32mis\u001b[0m \u001b[0;32mNone\u001b[0m\u001b[0;34m:\u001b[0m\u001b[0;34m\u001b[0m\u001b[0;34m\u001b[0m\u001b[0m\n\u001b[1;32m    905\u001b[0m         \u001b[0mmodel_classes\u001b[0m \u001b[0;34m=\u001b[0m \u001b[0;34m{\u001b[0m\u001b[0;34m\"tf\"\u001b[0m\u001b[0;34m:\u001b[0m \u001b[0mtargeted_task\u001b[0m\u001b[0;34m[\u001b[0m\u001b[0;34m\"tf\"\u001b[0m\u001b[0;34m]\u001b[0m\u001b[0;34m,\u001b[0m \u001b[0;34m\"pt\"\u001b[0m\u001b[0;34m:\u001b[0m \u001b[0mtargeted_task\u001b[0m\u001b[0;34m[\u001b[0m\u001b[0;34m\"pt\"\u001b[0m\u001b[0;34m]\u001b[0m\u001b[0;34m}\u001b[0m\u001b[0;34m\u001b[0m\u001b[0;34m\u001b[0m\u001b[0m\n\u001b[0;32m--> 906\u001b[0;31m         framework, model = infer_framework_load_model(\n\u001b[0m\u001b[1;32m    907\u001b[0m             \u001b[0mmodel\u001b[0m\u001b[0;34m,\u001b[0m\u001b[0;34m\u001b[0m\u001b[0;34m\u001b[0m\u001b[0m\n\u001b[1;32m    908\u001b[0m             \u001b[0mmodel_classes\u001b[0m\u001b[0;34m=\u001b[0m\u001b[0mmodel_classes\u001b[0m\u001b[0;34m,\u001b[0m\u001b[0;34m\u001b[0m\u001b[0;34m\u001b[0m\u001b[0m\n",
            "\u001b[0;32m/usr/local/lib/python3.10/dist-packages/transformers/pipelines/base.py\u001b[0m in \u001b[0;36minfer_framework_load_model\u001b[0;34m(model, config, model_classes, task, framework, **model_kwargs)\u001b[0m\n\u001b[1;32m    294\u001b[0m             \u001b[0;32mfor\u001b[0m \u001b[0mclass_name\u001b[0m\u001b[0;34m,\u001b[0m \u001b[0mtrace\u001b[0m \u001b[0;32min\u001b[0m \u001b[0mall_traceback\u001b[0m\u001b[0;34m.\u001b[0m\u001b[0mitems\u001b[0m\u001b[0;34m(\u001b[0m\u001b[0;34m)\u001b[0m\u001b[0;34m:\u001b[0m\u001b[0;34m\u001b[0m\u001b[0;34m\u001b[0m\u001b[0m\n\u001b[1;32m    295\u001b[0m                 \u001b[0merror\u001b[0m \u001b[0;34m+=\u001b[0m \u001b[0;34mf\"while loading with {class_name}, an error is thrown:\\n{trace}\\n\"\u001b[0m\u001b[0;34m\u001b[0m\u001b[0;34m\u001b[0m\u001b[0m\n\u001b[0;32m--> 296\u001b[0;31m             raise ValueError(\n\u001b[0m\u001b[1;32m    297\u001b[0m                 \u001b[0;34mf\"Could not load model {model} with any of the following classes: {class_tuple}. See the original errors:\\n\\n{error}\\n\"\u001b[0m\u001b[0;34m\u001b[0m\u001b[0;34m\u001b[0m\u001b[0m\n\u001b[1;32m    298\u001b[0m             )\n",
            "\u001b[0;31mValueError\u001b[0m: Could not load model meta-llama/Meta-Llama-3-70B-Instruct with any of the following classes: (<class 'transformers.models.auto.modeling_auto.AutoModelForCausalLM'>, <class 'transformers.models.auto.modeling_tf_auto.TFAutoModelForCausalLM'>, <class 'transformers.models.llama.modeling_llama.LlamaForCausalLM'>). See the original errors:\n\nwhile loading with AutoModelForCausalLM, an error is thrown:\nTraceback (most recent call last):\n  File \"/usr/local/lib/python3.10/dist-packages/transformers/pipelines/base.py\", line 283, in infer_framework_load_model\n    model = model_class.from_pretrained(model, **kwargs)\n  File \"/usr/local/lib/python3.10/dist-packages/transformers/models/auto/auto_factory.py\", line 563, in from_pretrained\n    return model_class.from_pretrained(\n  File \"/usr/local/lib/python3.10/dist-packages/transformers/modeling_utils.py\", line 3436, in from_pretrained\n    resolved_archive_file, sharded_metadata = get_checkpoint_shard_files(\n  File \"/usr/local/lib/python3.10/dist-packages/transformers/utils/hub.py\", line 1038, in get_checkpoint_shard_files\n    cached_filename = cached_file(\n  File \"/usr/local/lib/python3.10/dist-packages/transformers/utils/hub.py\", line 398, in cached_file\n    resolved_file = hf_hub_download(\n  File \"/usr/local/lib/python3.10/dist-packages/huggingface_hub/utils/_validators.py\", line 119, in _inner_fn\n    return fn(*args, **kwargs)\n  File \"/usr/local/lib/python3.10/dist-packages/huggingface_hub/file_download.py\", line 1492, in hf_hub_download\n    http_get(\n  File \"/usr/local/lib/python3.10/dist-packages/huggingface_hub/file_download.py\", line 538, in http_get\n    temp_file.write(chunk)\n  File \"/usr/lib/python3.10/tempfile.py\", line 622, in func_wrapper\n    return func(*args, **kwargs)\nOSError: [Errno 28] No space left on device\n\nwhile loading with TFAutoModelForCausalLM, an error is thrown:\nTraceback (most recent call last):\n  File \"/usr/local/lib/python3.10/dist-packages/transformers/pipelines/base.py\", line 283, in infer_framework_load_model\n    model = model_class.from_pretrained(model, **kwargs)\n  File \"/usr/local/lib/python3.10/dist-packages/transformers/models/auto/auto_factory.py\", line 566, in from_pretrained\n    raise ValueError(\nValueError: Unrecognized configuration class <class 'transformers.models.llama.configuration_llama.LlamaConfig'> for this kind of AutoModel: TFAutoModelForCausalLM.\nModel type should be one of BertConfig, CamembertConfig, CTRLConfig, GPT2Config, GPT2Config, GPTJConfig, OpenAIGPTConfig, OPTConfig, RemBertConfig, RobertaConfig, RobertaPreLayerNormConfig, RoFormerConfig, TransfoXLConfig, XGLMConfig, XLMConfig, XLMRobertaConfig, XLNetConfig.\n\nwhile loading with LlamaForCausalLM, an error is thrown:\nTraceback (most recent call last):\n  File \"/usr/local/lib/python3.10/dist-packages/transformers/pipelines/base.py\", line 283, in infer_framework_load_model\n    model = model_class.from_pretrained(model, **kwargs)\n  File \"/usr/local/lib/python3.10/dist-packages/transformers/modeling_utils.py\", line 3436, in from_pretrained\n    resolved_archive_file, sharded_metadata = get_checkpoint_shard_files(\n  File \"/usr/local/lib/python3.10/dist-packages/transformers/utils/hub.py\", line 1038, in get_checkpoint_shard_files\n    cached_filename = cached_file(\n  File \"/usr/local/lib/python3.10/dist-packages/transformers/utils/hub.py\", line 398, in cached_file\n    resolved_file = hf_hub_download(\n  File \"/usr/local/lib/python3.10/dist-packages/huggingface_hub/utils/_validators.py\", line 119, in _inner_fn\n    return fn(*args, **kwargs)\n  File \"/usr/local/lib/python3.10/dist-packages/huggingface_hub/file_download.py\", line 1492, in hf_hub_download\n    http_get(\n  File \"/usr/local/lib/python3.10/dist-packages/huggingface_hub/file_download.py\", line 538, in http_get\n    temp_file.write(chunk)\n  File \"/usr/lib/python3.10/tempfile.py\", line 622, in func_wrapper\n    return func(*args, **kwargs)\nOSError: [Errno 28] No space left on device\n\n\n"
          ]
        }
      ]
    },
    {
      "cell_type": "code",
      "source": [
        "def translate(text, pipeline):\n",
        "  messages = [\n",
        "      {\"role\": \"system\", \"content\": \"You are a translator that is aware of idioms, colloquialisms, and figurative language. You take the input and Only output the English Translation. NOTHING ELSE!\"},\n",
        "      {\"role\": \"user\", \"content\": text}\n",
        "  ]\n",
        "  prompt = pipeline.tokenizer.apply_chat_template(\n",
        "    messages,\n",
        "    tokenize=False,\n",
        "    add_generation_prompt=True\n",
        "  )\n",
        "\n",
        "  # Define end-of-sentence terminators\n",
        "  terminators = [\n",
        "    pipeline.tokenizer.eos_token_id,\n",
        "    pipeline.tokenizer.convert_tokens_to_ids(\"<|eot_id|>\")  # Adjust or remove as necessary\n",
        "  ]\n",
        "\n",
        "  # Generate output with specific control on sampling\n",
        "  results = pipeline(\n",
        "    prompt,\n",
        "    max_new_tokens=256,\n",
        "    eos_token_id=terminators,\n",
        "    do_sample=True,\n",
        "    temperature=0.6,\n",
        "    top_p=0.9\n",
        "  )\n",
        "  # prompt = f\"Translate this to English: {text}\"\n",
        "  # results = pipeline(messages, max_length=60, num_return_sequences=1)\n",
        "  translated_text = results[0][\"generated_text\"][len(prompt):]\n",
        "  print(translated_text)\n",
        "  return translated_text"
      ],
      "metadata": {
        "id": "OS6vdHs4qLt4"
      },
      "execution_count": 39,
      "outputs": []
    },
    {
      "cell_type": "code",
      "source": [
        "translated_idioms_llama = []\n",
        "count = 0\n",
        "\n",
        "for urdu_idiom, expected_english in idioms:\n",
        "  if count == 500:\n",
        "    break\n",
        "  count+=1\n",
        "  print(count)\n",
        "  translated_text = translate(urdu_idiom, translate_pipeline)\n",
        "  translated_idioms_llama.append((urdu_idiom, translated_text, expected_english))"
      ],
      "metadata": {
        "id": "XGlsmmPYQe0J",
        "colab": {
          "base_uri": "https://localhost:8080/"
        },
        "outputId": "66c9f007-0be4-4b54-d56a-f365963fd7a5"
      },
      "execution_count": 52,
      "outputs": [
        {
          "output_type": "stream",
          "name": "stderr",
          "text": [
            "Setting `pad_token_id` to `eos_token_id`:128001 for open-end generation.\n"
          ]
        },
        {
          "output_type": "stream",
          "name": "stdout",
          "text": [
            "1\n"
          ]
        },
        {
          "output_type": "stream",
          "name": "stderr",
          "text": [
            "Setting `pad_token_id` to `eos_token_id`:128001 for open-end generation.\n"
          ]
        },
        {
          "output_type": "stream",
          "name": "stdout",
          "text": [
            "Men's courage is God's help.\n",
            "2\n"
          ]
        },
        {
          "output_type": "stream",
          "name": "stderr",
          "text": [
            "Setting `pad_token_id` to `eos_token_id`:128001 for open-end generation.\n"
          ]
        },
        {
          "output_type": "stream",
          "name": "stdout",
          "text": [
            "It's all or nothing.\n",
            "3\n"
          ]
        },
        {
          "output_type": "stream",
          "name": "stderr",
          "text": [
            "Setting `pad_token_id` to `eos_token_id`:128001 for open-end generation.\n"
          ]
        },
        {
          "output_type": "stream",
          "name": "stdout",
          "text": [
            "Human life is built around hard work.\n",
            "4\n"
          ]
        },
        {
          "output_type": "stream",
          "name": "stderr",
          "text": [
            "Setting `pad_token_id` to `eos_token_id`:128001 for open-end generation.\n"
          ]
        },
        {
          "output_type": "stream",
          "name": "stdout",
          "text": [
            "Where there's a will, there's a way.\n",
            "5\n"
          ]
        },
        {
          "output_type": "stream",
          "name": "stderr",
          "text": [
            "Setting `pad_token_id` to `eos_token_id`:128001 for open-end generation.\n"
          ]
        },
        {
          "output_type": "stream",
          "name": "stdout",
          "text": [
            "You're as good as everyone else.\n",
            "6\n"
          ]
        },
        {
          "output_type": "stream",
          "name": "stderr",
          "text": [
            "Setting `pad_token_id` to `eos_token_id`:128001 for open-end generation.\n"
          ]
        },
        {
          "output_type": "stream",
          "name": "stdout",
          "text": [
            "Life is not a bed of roses.\n",
            "7\n"
          ]
        },
        {
          "output_type": "stream",
          "name": "stderr",
          "text": [
            "Setting `pad_token_id` to `eos_token_id`:128001 for open-end generation.\n"
          ]
        },
        {
          "output_type": "stream",
          "name": "stdout",
          "text": [
            "Life is the name of the heart.\n",
            "8\n"
          ]
        },
        {
          "output_type": "stream",
          "name": "stderr",
          "text": [
            "Setting `pad_token_id` to `eos_token_id`:128001 for open-end generation.\n"
          ]
        },
        {
          "output_type": "stream",
          "name": "stdout",
          "text": [
            "Experience is the greatest teacher.\n",
            "9\n"
          ]
        },
        {
          "output_type": "stream",
          "name": "stderr",
          "text": [
            "Setting `pad_token_id` to `eos_token_id`:128001 for open-end generation.\n"
          ]
        },
        {
          "output_type": "stream",
          "name": "stdout",
          "text": [
            "The milk is being gulped down with a loud slurping sound.\n",
            "10\n"
          ]
        },
        {
          "output_type": "stream",
          "name": "stderr",
          "text": [
            "Setting `pad_token_id` to `eos_token_id`:128001 for open-end generation.\n"
          ]
        },
        {
          "output_type": "stream",
          "name": "stdout",
          "text": [
            "Time waits for no one.\n",
            "11\n"
          ]
        },
        {
          "output_type": "stream",
          "name": "stderr",
          "text": [
            "Setting `pad_token_id` to `eos_token_id`:128001 for open-end generation.\n"
          ]
        },
        {
          "output_type": "stream",
          "name": "stdout",
          "text": [
            "He's busy as a bee.\n",
            "12\n"
          ]
        },
        {
          "output_type": "stream",
          "name": "stderr",
          "text": [
            "Setting `pad_token_id` to `eos_token_id`:128001 for open-end generation.\n"
          ]
        },
        {
          "output_type": "stream",
          "name": "stdout",
          "text": [
            "Time is money.\n",
            "13\n"
          ]
        },
        {
          "output_type": "stream",
          "name": "stderr",
          "text": [
            "Setting `pad_token_id` to `eos_token_id`:128001 for open-end generation.\n"
          ]
        },
        {
          "output_type": "stream",
          "name": "stdout",
          "text": [
            "It's always a good time.\n",
            "14\n"
          ]
        },
        {
          "output_type": "stream",
          "name": "stderr",
          "text": [
            "Setting `pad_token_id` to `eos_token_id`:128001 for open-end generation.\n"
          ]
        },
        {
          "output_type": "stream",
          "name": "stdout",
          "text": [
            "When the time comes, we'll make a donkey's father.\n",
            "15\n"
          ]
        },
        {
          "output_type": "stream",
          "name": "stderr",
          "text": [
            "Setting `pad_token_id` to `eos_token_id`:128001 for open-end generation.\n"
          ]
        },
        {
          "output_type": "stream",
          "name": "stdout",
          "text": [
            "Better late than never.\n",
            "16\n"
          ]
        },
        {
          "output_type": "stream",
          "name": "stderr",
          "text": [
            "Setting `pad_token_id` to `eos_token_id`:128001 for open-end generation.\n"
          ]
        },
        {
          "output_type": "stream",
          "name": "stdout",
          "text": [
            "Leave all your work for tomorrow.\n",
            "17\n"
          ]
        },
        {
          "output_type": "stream",
          "name": "stderr",
          "text": [
            "Setting `pad_token_id` to `eos_token_id`:128001 for open-end generation.\n"
          ]
        },
        {
          "output_type": "stream",
          "name": "stdout",
          "text": [
            "It's a burning passion.\n",
            "18\n"
          ]
        },
        {
          "output_type": "stream",
          "name": "stderr",
          "text": [
            "Setting `pad_token_id` to `eos_token_id`:128001 for open-end generation.\n"
          ]
        },
        {
          "output_type": "stream",
          "name": "stdout",
          "text": [
            "In love and war, all's fair.\n",
            "19\n"
          ]
        },
        {
          "output_type": "stream",
          "name": "stderr",
          "text": [
            "Setting `pad_token_id` to `eos_token_id`:128001 for open-end generation.\n"
          ]
        },
        {
          "output_type": "stream",
          "name": "stdout",
          "text": [
            "The heart finds its way with the heart.\n",
            "20\n"
          ]
        },
        {
          "output_type": "stream",
          "name": "stderr",
          "text": [
            "Setting `pad_token_id` to `eos_token_id`:128001 for open-end generation.\n"
          ]
        },
        {
          "output_type": "stream",
          "name": "stdout",
          "text": [
            "When the heart is at peace, all is well.\n",
            "21\n"
          ]
        },
        {
          "output_type": "stream",
          "name": "stderr",
          "text": [
            "Setting `pad_token_id` to `eos_token_id`:128001 for open-end generation.\n"
          ]
        },
        {
          "output_type": "stream",
          "name": "stdout",
          "text": [
            "A friend in need is a friend indeed.\n",
            "22\n"
          ]
        },
        {
          "output_type": "stream",
          "name": "stderr",
          "text": [
            "Setting `pad_token_id` to `eos_token_id`:128001 for open-end generation.\n"
          ]
        },
        {
          "output_type": "stream",
          "name": "stdout",
          "text": [
            "It's your own, it's your own, it's not anyone else's.\n",
            "23\n"
          ]
        },
        {
          "output_type": "stream",
          "name": "stderr",
          "text": [
            "Setting `pad_token_id` to `eos_token_id`:128001 for open-end generation.\n"
          ]
        },
        {
          "output_type": "stream",
          "name": "stdout",
          "text": [
            "He's not a friend who can be won over with every hand.\n",
            "24\n"
          ]
        },
        {
          "output_type": "stream",
          "name": "stderr",
          "text": [
            "Setting `pad_token_id` to `eos_token_id`:128001 for open-end generation.\n"
          ]
        },
        {
          "output_type": "stream",
          "name": "stdout",
          "text": [
            "The enemy of my enemy is my friend.\n",
            "25\n"
          ]
        },
        {
          "output_type": "stream",
          "name": "stderr",
          "text": [
            "Setting `pad_token_id` to `eos_token_id`:128001 for open-end generation.\n"
          ]
        },
        {
          "output_type": "stream",
          "name": "stdout",
          "text": [
            "A dear friend is still alive and well.\n",
            "26\n"
          ]
        },
        {
          "output_type": "stream",
          "name": "stderr",
          "text": [
            "Setting `pad_token_id` to `eos_token_id`:128001 for open-end generation.\n"
          ]
        },
        {
          "output_type": "stream",
          "name": "stdout",
          "text": [
            "My mother's prayer is the breeze of paradise.\n",
            "27\n"
          ]
        },
        {
          "output_type": "stream",
          "name": "stderr",
          "text": [
            "Setting `pad_token_id` to `eos_token_id`:128001 for open-end generation.\n"
          ]
        },
        {
          "output_type": "stream",
          "name": "stdout",
          "text": [
            "Keep your friends close, but your enemies closer.\n",
            "28\n"
          ]
        },
        {
          "output_type": "stream",
          "name": "stderr",
          "text": [
            "Setting `pad_token_id` to `eos_token_id`:128001 for open-end generation.\n"
          ]
        },
        {
          "output_type": "stream",
          "name": "stdout",
          "text": [
            "Good health is a thousand blessings.\n",
            "29\n"
          ]
        },
        {
          "output_type": "stream",
          "name": "stderr",
          "text": [
            "Setting `pad_token_id` to `eos_token_id`:128001 for open-end generation.\n"
          ]
        },
        {
          "output_type": "stream",
          "name": "stdout",
          "text": [
            "When I know, you know.\n",
            "30\n"
          ]
        },
        {
          "output_type": "stream",
          "name": "stderr",
          "text": [
            "Setting `pad_token_id` to `eos_token_id`:128001 for open-end generation.\n"
          ]
        },
        {
          "output_type": "stream",
          "name": "stdout",
          "text": [
            "Prevention is better than cure.\n",
            "31\n"
          ]
        },
        {
          "output_type": "stream",
          "name": "stderr",
          "text": [
            "Setting `pad_token_id` to `eos_token_id`:128001 for open-end generation.\n"
          ]
        },
        {
          "output_type": "stream",
          "name": "stdout",
          "text": [
            "He who is cautious does not get into trouble.\n",
            "32\n"
          ]
        },
        {
          "output_type": "stream",
          "name": "stderr",
          "text": [
            "Setting `pad_token_id` to `eos_token_id`:128001 for open-end generation.\n"
          ]
        },
        {
          "output_type": "stream",
          "name": "stdout",
          "text": [
            "The cat is getting on the wrong side of the dog.\n",
            "33\n"
          ]
        },
        {
          "output_type": "stream",
          "name": "stderr",
          "text": [
            "Setting `pad_token_id` to `eos_token_id`:128001 for open-end generation.\n"
          ]
        },
        {
          "output_type": "stream",
          "name": "stdout",
          "text": [
            "The cat is out of the bag.\n",
            "34\n"
          ]
        },
        {
          "output_type": "stream",
          "name": "stderr",
          "text": [
            "Setting `pad_token_id` to `eos_token_id`:128001 for open-end generation.\n"
          ]
        },
        {
          "output_type": "stream",
          "name": "stdout",
          "text": [
            "A hen that stays at home is equal to a grain of barley.\n",
            "35\n"
          ]
        },
        {
          "output_type": "stream",
          "name": "stderr",
          "text": [
            "Setting `pad_token_id` to `eos_token_id`:128001 for open-end generation.\n"
          ]
        },
        {
          "output_type": "stream",
          "name": "stdout",
          "text": [
            "To be in the same boat with someone.\n",
            "36\n"
          ]
        },
        {
          "output_type": "stream",
          "name": "stderr",
          "text": [
            "Setting `pad_token_id` to `eos_token_id`:128001 for open-end generation.\n"
          ]
        },
        {
          "output_type": "stream",
          "name": "stdout",
          "text": [
            "Don't pay attention to idle chatter.\n",
            "37\n"
          ]
        },
        {
          "output_type": "stream",
          "name": "stderr",
          "text": [
            "Setting `pad_token_id` to `eos_token_id`:128001 for open-end generation.\n"
          ]
        },
        {
          "output_type": "stream",
          "name": "stdout",
          "text": [
            "My heart's desire.\n",
            "38\n"
          ]
        },
        {
          "output_type": "stream",
          "name": "stderr",
          "text": [
            "Setting `pad_token_id` to `eos_token_id`:128001 for open-end generation.\n"
          ]
        },
        {
          "output_type": "stream",
          "name": "stdout",
          "text": [
            "There is no cure for death.\n",
            "39\n"
          ]
        },
        {
          "output_type": "stream",
          "name": "stderr",
          "text": [
            "Setting `pad_token_id` to `eos_token_id`:128001 for open-end generation.\n"
          ]
        },
        {
          "output_type": "stream",
          "name": "stdout",
          "text": [
            "That's a Hindi idiom! The English translation is: \"Each to their own.\"\n",
            "40\n"
          ]
        },
        {
          "output_type": "stream",
          "name": "stderr",
          "text": [
            "Setting `pad_token_id` to `eos_token_id`:128001 for open-end generation.\n"
          ]
        },
        {
          "output_type": "stream",
          "name": "stdout",
          "text": [
            "Fell from the sky into a walnut.\n",
            "41\n"
          ]
        },
        {
          "output_type": "stream",
          "name": "stderr",
          "text": [
            "Setting `pad_token_id` to `eos_token_id`:128001 for open-end generation.\n"
          ]
        },
        {
          "output_type": "stream",
          "name": "stdout",
          "text": [
            "To reach the sky.\n",
            "42\n"
          ]
        },
        {
          "output_type": "stream",
          "name": "stderr",
          "text": [
            "Setting `pad_token_id` to `eos_token_id`:128001 for open-end generation.\n"
          ]
        },
        {
          "output_type": "stream",
          "name": "stdout",
          "text": [
            "Half a loaf is better than no bread.\n",
            "43\n"
          ]
        },
        {
          "output_type": "stream",
          "name": "stderr",
          "text": [
            "Setting `pad_token_id` to `eos_token_id`:128001 for open-end generation.\n"
          ]
        },
        {
          "output_type": "stream",
          "name": "stdout",
          "text": [
            "It's a blessing in disguise.\n",
            "44\n"
          ]
        },
        {
          "output_type": "stream",
          "name": "stderr",
          "text": [
            "Setting `pad_token_id` to `eos_token_id`:128001 for open-end generation.\n"
          ]
        },
        {
          "output_type": "stream",
          "name": "stdout",
          "text": [
            "Eye for an eye.\n",
            "45\n"
          ]
        },
        {
          "output_type": "stream",
          "name": "stderr",
          "text": [
            "Setting `pad_token_id` to `eos_token_id`:128001 for open-end generation.\n"
          ]
        },
        {
          "output_type": "stream",
          "name": "stdout",
          "text": [
            "Sweet as honey.\n",
            "46\n"
          ]
        },
        {
          "output_type": "stream",
          "name": "stderr",
          "text": [
            "Setting `pad_token_id` to `eos_token_id`:128001 for open-end generation.\n"
          ]
        },
        {
          "output_type": "stream",
          "name": "stdout",
          "text": [
            "Silence is golden.\n",
            "47\n"
          ]
        },
        {
          "output_type": "stream",
          "name": "stderr",
          "text": [
            "Setting `pad_token_id` to `eos_token_id`:128001 for open-end generation.\n"
          ]
        },
        {
          "output_type": "stream",
          "name": "stdout",
          "text": [
            "You're a good person.\n",
            "48\n"
          ]
        },
        {
          "output_type": "stream",
          "name": "stderr",
          "text": [
            "Setting `pad_token_id` to `eos_token_id`:128001 for open-end generation.\n"
          ]
        },
        {
          "output_type": "stream",
          "name": "stdout",
          "text": [
            "A human is prone to mistakes.\n",
            "49\n"
          ]
        },
        {
          "output_type": "stream",
          "name": "stderr",
          "text": [
            "Setting `pad_token_id` to `eos_token_id`:128001 for open-end generation.\n"
          ]
        },
        {
          "output_type": "stream",
          "name": "stdout",
          "text": [
            "The more you know, the more you realize how little you know.\n",
            "50\n"
          ]
        },
        {
          "output_type": "stream",
          "name": "stderr",
          "text": [
            "Setting `pad_token_id` to `eos_token_id`:128001 for open-end generation.\n"
          ]
        },
        {
          "output_type": "stream",
          "name": "stdout",
          "text": [
            "As many faces, so many stories.\n",
            "51\n"
          ]
        },
        {
          "output_type": "stream",
          "name": "stderr",
          "text": [
            "Setting `pad_token_id` to `eos_token_id`:128001 for open-end generation.\n"
          ]
        },
        {
          "output_type": "stream",
          "name": "stdout",
          "text": [
            "In circles\n",
            "52\n"
          ]
        },
        {
          "output_type": "stream",
          "name": "stderr",
          "text": [
            "Setting `pad_token_id` to `eos_token_id`:128001 for open-end generation.\n"
          ]
        },
        {
          "output_type": "stream",
          "name": "stdout",
          "text": [
            "To wash one's hands of something.\n",
            "53\n"
          ]
        },
        {
          "output_type": "stream",
          "name": "stderr",
          "text": [
            "Setting `pad_token_id` to `eos_token_id`:128001 for open-end generation.\n"
          ]
        },
        {
          "output_type": "stream",
          "name": "stdout",
          "text": [
            "The hen pecks at what the fox doesn't eat when the bird has flown away.\n",
            "54\n"
          ]
        },
        {
          "output_type": "stream",
          "name": "stderr",
          "text": [
            "Setting `pad_token_id` to `eos_token_id`:128001 for open-end generation.\n"
          ]
        },
        {
          "output_type": "stream",
          "name": "stdout",
          "text": [
            "The moon's beauty is hidden in the dark night.\n",
            "55\n"
          ]
        },
        {
          "output_type": "stream",
          "name": "stderr",
          "text": [
            "Setting `pad_token_id` to `eos_token_id`:128001 for open-end generation.\n"
          ]
        },
        {
          "output_type": "stream",
          "name": "stdout",
          "text": [
            "Courage is the help of God.\n",
            "56\n"
          ]
        },
        {
          "output_type": "stream",
          "name": "stderr",
          "text": [
            "Setting `pad_token_id` to `eos_token_id`:128001 for open-end generation.\n"
          ]
        },
        {
          "output_type": "stream",
          "name": "stdout",
          "text": [
            "When the breath remains, the soul remains.\n",
            "57\n"
          ]
        },
        {
          "output_type": "stream",
          "name": "stderr",
          "text": [
            "Setting `pad_token_id` to `eos_token_id`:128001 for open-end generation.\n"
          ]
        },
        {
          "output_type": "stream",
          "name": "stdout",
          "text": [
            "Where there are flowers, there are thorns.\n",
            "58\n"
          ]
        },
        {
          "output_type": "stream",
          "name": "stderr",
          "text": [
            "Setting `pad_token_id` to `eos_token_id`:128001 for open-end generation.\n"
          ]
        },
        {
          "output_type": "stream",
          "name": "stdout",
          "text": [
            "To live off the fat of the land.\n",
            "59\n"
          ]
        },
        {
          "output_type": "stream",
          "name": "stderr",
          "text": [
            "Setting `pad_token_id` to `eos_token_id`:128001 for open-end generation.\n"
          ]
        },
        {
          "output_type": "stream",
          "name": "stdout",
          "text": [
            "The walls have ears.\n",
            "60\n"
          ]
        },
        {
          "output_type": "stream",
          "name": "stderr",
          "text": [
            "Setting `pad_token_id` to `eos_token_id`:128001 for open-end generation.\n"
          ]
        },
        {
          "output_type": "stream",
          "name": "stdout",
          "text": [
            "A nod is enough for someone who is intelligent.\n",
            "61\n"
          ]
        },
        {
          "output_type": "stream",
          "name": "stderr",
          "text": [
            "Setting `pad_token_id` to `eos_token_id`:128001 for open-end generation.\n"
          ]
        },
        {
          "output_type": "stream",
          "name": "stdout",
          "text": [
            "How are you?\n",
            "62\n"
          ]
        },
        {
          "output_type": "stream",
          "name": "stderr",
          "text": [
            "Setting `pad_token_id` to `eos_token_id`:128001 for open-end generation.\n"
          ]
        },
        {
          "output_type": "stream",
          "name": "stdout",
          "text": [
            "This idiom translates to \"There's no honey on the palm.\"\n",
            "63\n"
          ]
        },
        {
          "output_type": "stream",
          "name": "stderr",
          "text": [
            "Setting `pad_token_id` to `eos_token_id`:128001 for open-end generation.\n"
          ]
        },
        {
          "output_type": "stream",
          "name": "stdout",
          "text": [
            "A handful is worth more than an ass's mouth.\n",
            "64\n"
          ]
        },
        {
          "output_type": "stream",
          "name": "stderr",
          "text": [
            "Setting `pad_token_id` to `eos_token_id`:128001 for open-end generation.\n"
          ]
        },
        {
          "output_type": "stream",
          "name": "stdout",
          "text": [
            "A messy shop is a reflection of a messy mind.\n",
            "65\n"
          ]
        },
        {
          "output_type": "stream",
          "name": "stderr",
          "text": [
            "Setting `pad_token_id` to `eos_token_id`:128001 for open-end generation.\n"
          ]
        },
        {
          "output_type": "stream",
          "name": "stdout",
          "text": [
            "The first to take care of oneself is better than the one who takes care of a dervish.\n",
            "66\n"
          ]
        },
        {
          "output_type": "stream",
          "name": "stderr",
          "text": [
            "Setting `pad_token_id` to `eos_token_id`:128001 for open-end generation.\n"
          ]
        },
        {
          "output_type": "stream",
          "name": "stdout",
          "text": [
            "It doesn't ring a bell.\n",
            "67\n"
          ]
        },
        {
          "output_type": "stream",
          "name": "stderr",
          "text": [
            "Setting `pad_token_id` to `eos_token_id`:128001 for open-end generation.\n"
          ]
        },
        {
          "output_type": "stream",
          "name": "stdout",
          "text": [
            "A master of the bow.\n",
            "68\n"
          ]
        },
        {
          "output_type": "stream",
          "name": "stderr",
          "text": [
            "Setting `pad_token_id` to `eos_token_id`:128001 for open-end generation.\n"
          ]
        },
        {
          "output_type": "stream",
          "name": "stdout",
          "text": [
            "To play with the lion is to have a sword in one's mouth.\n",
            "69\n"
          ]
        },
        {
          "output_type": "stream",
          "name": "stderr",
          "text": [
            "Setting `pad_token_id` to `eos_token_id`:128001 for open-end generation.\n"
          ]
        },
        {
          "output_type": "stream",
          "name": "stdout",
          "text": [
            "To beat around the bush.\n",
            "70\n"
          ]
        },
        {
          "output_type": "stream",
          "name": "stderr",
          "text": [
            "Setting `pad_token_id` to `eos_token_id`:128001 for open-end generation.\n"
          ]
        },
        {
          "output_type": "stream",
          "name": "stdout",
          "text": [
            "A thief's language is his best companion.\n",
            "71\n"
          ]
        },
        {
          "output_type": "stream",
          "name": "stderr",
          "text": [
            "Setting `pad_token_id` to `eos_token_id`:128001 for open-end generation.\n"
          ]
        },
        {
          "output_type": "stream",
          "name": "stdout",
          "text": [
            "Abstinence is better than treatment.\n",
            "72\n"
          ]
        },
        {
          "output_type": "stream",
          "name": "stderr",
          "text": [
            "Setting `pad_token_id` to `eos_token_id`:128001 for open-end generation.\n"
          ]
        },
        {
          "output_type": "stream",
          "name": "stdout",
          "text": [
            "First say it then do it.\n",
            "73\n"
          ]
        },
        {
          "output_type": "stream",
          "name": "stderr",
          "text": [
            "Setting `pad_token_id` to `eos_token_id`:128001 for open-end generation.\n"
          ]
        },
        {
          "output_type": "stream",
          "name": "stdout",
          "text": [
            "A person is known by their speech.\n",
            "74\n"
          ]
        },
        {
          "output_type": "stream",
          "name": "stderr",
          "text": [
            "Setting `pad_token_id` to `eos_token_id`:128001 for open-end generation.\n"
          ]
        },
        {
          "output_type": "stream",
          "name": "stdout",
          "text": [
            "To take the back seat.\n",
            "75\n"
          ]
        },
        {
          "output_type": "stream",
          "name": "stderr",
          "text": [
            "Setting `pad_token_id` to `eos_token_id`:128001 for open-end generation.\n"
          ]
        },
        {
          "output_type": "stream",
          "name": "stdout",
          "text": [
            "To make a good impression.\n",
            "76\n"
          ]
        },
        {
          "output_type": "stream",
          "name": "stderr",
          "text": [
            "Setting `pad_token_id` to `eos_token_id`:128001 for open-end generation.\n"
          ]
        },
        {
          "output_type": "stream",
          "name": "stdout",
          "text": [
            "In the dark, a king's ear.\n",
            "77\n"
          ]
        },
        {
          "output_type": "stream",
          "name": "stderr",
          "text": [
            "Setting `pad_token_id` to `eos_token_id`:128001 for open-end generation.\n"
          ]
        },
        {
          "output_type": "stream",
          "name": "stdout",
          "text": [
            "Bad to the bone\n",
            "78\n"
          ]
        },
        {
          "output_type": "stream",
          "name": "stderr",
          "text": [
            "Setting `pad_token_id` to `eos_token_id`:128001 for open-end generation.\n"
          ]
        },
        {
          "output_type": "stream",
          "name": "stdout",
          "text": [
            "Two birds with one stone.\n",
            "79\n"
          ]
        },
        {
          "output_type": "stream",
          "name": "stderr",
          "text": [
            "Setting `pad_token_id` to `eos_token_id`:128001 for open-end generation.\n"
          ]
        },
        {
          "output_type": "stream",
          "name": "stdout",
          "text": [
            "To play with fire.\n",
            "80\n"
          ]
        },
        {
          "output_type": "stream",
          "name": "stderr",
          "text": [
            "Setting `pad_token_id` to `eos_token_id`:128001 for open-end generation.\n"
          ]
        },
        {
          "output_type": "stream",
          "name": "stdout",
          "text": [
            "To cry over spilt milk.\n",
            "81\n"
          ]
        },
        {
          "output_type": "stream",
          "name": "stderr",
          "text": [
            "Setting `pad_token_id` to `eos_token_id`:128001 for open-end generation.\n"
          ]
        },
        {
          "output_type": "stream",
          "name": "stdout",
          "text": [
            "Old horse with a red halter.\n",
            "82\n"
          ]
        },
        {
          "output_type": "stream",
          "name": "stderr",
          "text": [
            "Setting `pad_token_id` to `eos_token_id`:128001 for open-end generation.\n"
          ]
        },
        {
          "output_type": "stream",
          "name": "stdout",
          "text": [
            "Good health is a thousand blessings.\n",
            "83\n"
          ]
        },
        {
          "output_type": "stream",
          "name": "stderr",
          "text": [
            "Setting `pad_token_id` to `eos_token_id`:128001 for open-end generation.\n"
          ]
        },
        {
          "output_type": "stream",
          "name": "stdout",
          "text": [
            "To be in a fix.\n",
            "84\n"
          ]
        },
        {
          "output_type": "stream",
          "name": "stderr",
          "text": [
            "Setting `pad_token_id` to `eos_token_id`:128001 for open-end generation.\n"
          ]
        },
        {
          "output_type": "stream",
          "name": "stdout",
          "text": [
            "In my eyes, you are not in my eyes.\n",
            "85\n"
          ]
        },
        {
          "output_type": "stream",
          "name": "stderr",
          "text": [
            "Setting `pad_token_id` to `eos_token_id`:128001 for open-end generation.\n"
          ]
        },
        {
          "output_type": "stream",
          "name": "stdout",
          "text": [
            "Until the breath remains.\n",
            "86\n"
          ]
        },
        {
          "output_type": "stream",
          "name": "stderr",
          "text": [
            "Setting `pad_token_id` to `eos_token_id`:128001 for open-end generation.\n"
          ]
        },
        {
          "output_type": "stream",
          "name": "stdout",
          "text": [
            "The one who holds the reins, owns the ox.\n",
            "87\n"
          ]
        },
        {
          "output_type": "stream",
          "name": "stderr",
          "text": [
            "Setting `pad_token_id` to `eos_token_id`:128001 for open-end generation.\n"
          ]
        },
        {
          "output_type": "stream",
          "name": "stdout",
          "text": [
            "The devil's work is in vain.\n",
            "88\n"
          ]
        },
        {
          "output_type": "stream",
          "name": "stderr",
          "text": [
            "Setting `pad_token_id` to `eos_token_id`:128001 for open-end generation.\n"
          ]
        },
        {
          "output_type": "stream",
          "name": "stdout",
          "text": [
            "They are getting old, but they are not getting bitter.\n",
            "89\n"
          ]
        },
        {
          "output_type": "stream",
          "name": "stderr",
          "text": [
            "Setting `pad_token_id` to `eos_token_id`:128001 for open-end generation.\n"
          ]
        },
        {
          "output_type": "stream",
          "name": "stdout",
          "text": [
            "Wherever you want, that's the way.\n",
            "90\n"
          ]
        },
        {
          "output_type": "stream",
          "name": "stderr",
          "text": [
            "Setting `pad_token_id` to `eos_token_id`:128001 for open-end generation.\n"
          ]
        },
        {
          "output_type": "stream",
          "name": "stdout",
          "text": [
            "As you sow, so shall you reap.\n",
            "91\n"
          ]
        },
        {
          "output_type": "stream",
          "name": "stderr",
          "text": [
            "Setting `pad_token_id` to `eos_token_id`:128001 for open-end generation.\n"
          ]
        },
        {
          "output_type": "stream",
          "name": "stdout",
          "text": [
            "Our backs are against the wall.\n",
            "92\n"
          ]
        },
        {
          "output_type": "stream",
          "name": "stderr",
          "text": [
            "Setting `pad_token_id` to `eos_token_id`:128001 for open-end generation.\n"
          ]
        },
        {
          "output_type": "stream",
          "name": "stdout",
          "text": [
            "The game is fair, but the umpire is not.\n",
            "93\n"
          ]
        },
        {
          "output_type": "stream",
          "name": "stderr",
          "text": [
            "Setting `pad_token_id` to `eos_token_id`:128001 for open-end generation.\n"
          ]
        },
        {
          "output_type": "stream",
          "name": "stdout",
          "text": [
            "He's eating away at the day.\n",
            "94\n"
          ]
        },
        {
          "output_type": "stream",
          "name": "stderr",
          "text": [
            "Setting `pad_token_id` to `eos_token_id`:128001 for open-end generation.\n"
          ]
        },
        {
          "output_type": "stream",
          "name": "stdout",
          "text": [
            "Don't ask about love.\n",
            "95\n"
          ]
        },
        {
          "output_type": "stream",
          "name": "stderr",
          "text": [
            "Setting `pad_token_id` to `eos_token_id`:128001 for open-end generation.\n"
          ]
        },
        {
          "output_type": "stream",
          "name": "stdout",
          "text": [
            "A storm in a teacup.\n",
            "96\n"
          ]
        },
        {
          "output_type": "stream",
          "name": "stderr",
          "text": [
            "Setting `pad_token_id` to `eos_token_id`:128001 for open-end generation.\n"
          ]
        },
        {
          "output_type": "stream",
          "name": "stdout",
          "text": [
            "It's not worth the effort.\n",
            "97\n"
          ]
        },
        {
          "output_type": "stream",
          "name": "stderr",
          "text": [
            "Setting `pad_token_id` to `eos_token_id`:128001 for open-end generation.\n"
          ]
        },
        {
          "output_type": "stream",
          "name": "stdout",
          "text": [
            "The cat of the washerman is not at home, it's at the riverbank.\n",
            "98\n"
          ]
        },
        {
          "output_type": "stream",
          "name": "stderr",
          "text": [
            "Setting `pad_token_id` to `eos_token_id`:128001 for open-end generation.\n"
          ]
        },
        {
          "output_type": "stream",
          "name": "stdout",
          "text": [
            "Faith is the best strategy.\n",
            "99\n"
          ]
        },
        {
          "output_type": "stream",
          "name": "stderr",
          "text": [
            "Setting `pad_token_id` to `eos_token_id`:128001 for open-end generation.\n"
          ]
        },
        {
          "output_type": "stream",
          "name": "stdout",
          "text": [
            "He's drinking milk with a loud slurping sound.\n",
            "100\n"
          ]
        },
        {
          "output_type": "stream",
          "name": "stderr",
          "text": [
            "Setting `pad_token_id` to `eos_token_id`:128001 for open-end generation.\n"
          ]
        },
        {
          "output_type": "stream",
          "name": "stdout",
          "text": [
            "There's something fishy going on.\n",
            "101\n"
          ]
        },
        {
          "output_type": "stream",
          "name": "stderr",
          "text": [
            "Setting `pad_token_id` to `eos_token_id`:128001 for open-end generation.\n"
          ]
        },
        {
          "output_type": "stream",
          "name": "stdout",
          "text": [
            "When I see a mulberry, I turn mulberry-red.\n",
            "102\n"
          ]
        },
        {
          "output_type": "stream",
          "name": "stderr",
          "text": [
            "Setting `pad_token_id` to `eos_token_id`:128001 for open-end generation.\n"
          ]
        },
        {
          "output_type": "stream",
          "name": "stdout",
          "text": [
            "The heart gets tired of its own pain.\n",
            "103\n"
          ]
        },
        {
          "output_type": "stream",
          "name": "stderr",
          "text": [
            "Setting `pad_token_id` to `eos_token_id`:128001 for open-end generation.\n"
          ]
        },
        {
          "output_type": "stream",
          "name": "stdout",
          "text": [
            "A helping hand for the drowning.\n",
            "104\n"
          ]
        },
        {
          "output_type": "stream",
          "name": "stderr",
          "text": [
            "Setting `pad_token_id` to `eos_token_id`:128001 for open-end generation.\n"
          ]
        },
        {
          "output_type": "stream",
          "name": "stdout",
          "text": [
            "Nothing that shines is gold.\n",
            "105\n"
          ]
        },
        {
          "output_type": "stream",
          "name": "stderr",
          "text": [
            "Setting `pad_token_id` to `eos_token_id`:128001 for open-end generation.\n"
          ]
        },
        {
          "output_type": "stream",
          "name": "stdout",
          "text": [
            "This is not my cup of tea.\n",
            "106\n"
          ]
        },
        {
          "output_type": "stream",
          "name": "stderr",
          "text": [
            "Setting `pad_token_id` to `eos_token_id`:128001 for open-end generation.\n"
          ]
        },
        {
          "output_type": "stream",
          "name": "stdout",
          "text": [
            "Pride goes before a fall.\n",
            "107\n"
          ]
        },
        {
          "output_type": "stream",
          "name": "stderr",
          "text": [
            "Setting `pad_token_id` to `eos_token_id`:128001 for open-end generation.\n"
          ]
        },
        {
          "output_type": "stream",
          "name": "stdout",
          "text": [
            "The necessity is the mother of invention.\n",
            "108\n"
          ]
        },
        {
          "output_type": "stream",
          "name": "stderr",
          "text": [
            "Setting `pad_token_id` to `eos_token_id`:128001 for open-end generation.\n"
          ]
        },
        {
          "output_type": "stream",
          "name": "stdout",
          "text": [
            "Iron sharpens iron.\n",
            "109\n"
          ]
        },
        {
          "output_type": "stream",
          "name": "stderr",
          "text": [
            "Setting `pad_token_id` to `eos_token_id`:128001 for open-end generation.\n"
          ]
        },
        {
          "output_type": "stream",
          "name": "stdout",
          "text": [
            "It's raining cats and dogs.\n",
            "110\n"
          ]
        },
        {
          "output_type": "stream",
          "name": "stderr",
          "text": [
            "Setting `pad_token_id` to `eos_token_id`:128001 for open-end generation.\n"
          ]
        },
        {
          "output_type": "stream",
          "name": "stdout",
          "text": [
            "To be in a pickle.\n",
            "111\n"
          ]
        },
        {
          "output_type": "stream",
          "name": "stderr",
          "text": [
            "Setting `pad_token_id` to `eos_token_id`:128001 for open-end generation.\n"
          ]
        },
        {
          "output_type": "stream",
          "name": "stdout",
          "text": [
            "No credit is given for half-done work.\n",
            "112\n"
          ]
        },
        {
          "output_type": "stream",
          "name": "stderr",
          "text": [
            "Setting `pad_token_id` to `eos_token_id`:128001 for open-end generation.\n"
          ]
        },
        {
          "output_type": "stream",
          "name": "stdout",
          "text": [
            "I don't need ornaments that God has given me goodness.\n",
            "113\n"
          ]
        },
        {
          "output_type": "stream",
          "name": "stderr",
          "text": [
            "Setting `pad_token_id` to `eos_token_id`:128001 for open-end generation.\n"
          ]
        },
        {
          "output_type": "stream",
          "name": "stdout",
          "text": [
            "He threw a nice punch.\n",
            "114\n"
          ]
        },
        {
          "output_type": "stream",
          "name": "stderr",
          "text": [
            "Setting `pad_token_id` to `eos_token_id`:128001 for open-end generation.\n"
          ]
        },
        {
          "output_type": "stream",
          "name": "stdout",
          "text": [
            "Time waits for no one.\n",
            "115\n"
          ]
        },
        {
          "output_type": "stream",
          "name": "stderr",
          "text": [
            "Setting `pad_token_id` to `eos_token_id`:128001 for open-end generation.\n"
          ]
        },
        {
          "output_type": "stream",
          "name": "stdout",
          "text": [
            "To hold someone's hand.\n",
            "116\n"
          ]
        },
        {
          "output_type": "stream",
          "name": "stderr",
          "text": [
            "Setting `pad_token_id` to `eos_token_id`:128001 for open-end generation.\n"
          ]
        },
        {
          "output_type": "stream",
          "name": "stdout",
          "text": [
            "The grapes are sour.\n",
            "117\n"
          ]
        },
        {
          "output_type": "stream",
          "name": "stderr",
          "text": [
            "Setting `pad_token_id` to `eos_token_id`:128001 for open-end generation.\n"
          ]
        },
        {
          "output_type": "stream",
          "name": "stdout",
          "text": [
            "This idiom translates to \"A handful of lentils and a mouthful of words\" which means to speak a lot without accomplishing anything.\n",
            "118\n"
          ]
        },
        {
          "output_type": "stream",
          "name": "stderr",
          "text": [
            "Setting `pad_token_id` to `eos_token_id`:128001 for open-end generation.\n"
          ]
        },
        {
          "output_type": "stream",
          "name": "stdout",
          "text": [
            "A minute of time saves an hour of trouble.\n",
            "119\n"
          ]
        },
        {
          "output_type": "stream",
          "name": "stderr",
          "text": [
            "Setting `pad_token_id` to `eos_token_id`:128001 for open-end generation.\n"
          ]
        },
        {
          "output_type": "stream",
          "name": "stdout",
          "text": [
            "One half of a wise person is afraid of death, one half of a scholar is afraid of unbelief.\n",
            "120\n"
          ]
        },
        {
          "output_type": "stream",
          "name": "stderr",
          "text": [
            "Setting `pad_token_id` to `eos_token_id`:128001 for open-end generation.\n"
          ]
        },
        {
          "output_type": "stream",
          "name": "stdout",
          "text": [
            "I'm not convinced, you're my guest.\n",
            "121\n"
          ]
        },
        {
          "output_type": "stream",
          "name": "stderr",
          "text": [
            "Setting `pad_token_id` to `eos_token_id`:128001 for open-end generation.\n"
          ]
        },
        {
          "output_type": "stream",
          "name": "stdout",
          "text": [
            "A poor man's pen.\n",
            "122\n"
          ]
        },
        {
          "output_type": "stream",
          "name": "stderr",
          "text": [
            "Setting `pad_token_id` to `eos_token_id`:128001 for open-end generation.\n"
          ]
        },
        {
          "output_type": "stream",
          "name": "stdout",
          "text": [
            "As many faces, so many lies.\n",
            "123\n"
          ]
        },
        {
          "output_type": "stream",
          "name": "stderr",
          "text": [
            "Setting `pad_token_id` to `eos_token_id`:128001 for open-end generation.\n"
          ]
        },
        {
          "output_type": "stream",
          "name": "stdout",
          "text": [
            "Whoever God keeps, no one can snatch.\n",
            "124\n"
          ]
        },
        {
          "output_type": "stream",
          "name": "stderr",
          "text": [
            "Setting `pad_token_id` to `eos_token_id`:128001 for open-end generation.\n"
          ]
        },
        {
          "output_type": "stream",
          "name": "stdout",
          "text": [
            "A hungry person will accept a dry blanket as a gift.\n",
            "125\n"
          ]
        },
        {
          "output_type": "stream",
          "name": "stderr",
          "text": [
            "Setting `pad_token_id` to `eos_token_id`:128001 for open-end generation.\n"
          ]
        },
        {
          "output_type": "stream",
          "name": "stdout",
          "text": [
            "To wash one's hands of something.\n",
            "126\n"
          ]
        },
        {
          "output_type": "stream",
          "name": "stderr",
          "text": [
            "Setting `pad_token_id` to `eos_token_id`:128001 for open-end generation.\n"
          ]
        },
        {
          "output_type": "stream",
          "name": "stdout",
          "text": [
            "To put the cart before the horse.\n",
            "127\n"
          ]
        },
        {
          "output_type": "stream",
          "name": "stderr",
          "text": [
            "Setting `pad_token_id` to `eos_token_id`:128001 for open-end generation.\n"
          ]
        },
        {
          "output_type": "stream",
          "name": "stdout",
          "text": [
            "To understand the flavor of the port.\n",
            "128\n"
          ]
        },
        {
          "output_type": "stream",
          "name": "stderr",
          "text": [
            "Setting `pad_token_id` to `eos_token_id`:128001 for open-end generation.\n"
          ]
        },
        {
          "output_type": "stream",
          "name": "stdout",
          "text": [
            "To take a step forward and then to eat one's words.\n",
            "129\n"
          ]
        },
        {
          "output_type": "stream",
          "name": "stderr",
          "text": [
            "Setting `pad_token_id` to `eos_token_id`:128001 for open-end generation.\n"
          ]
        },
        {
          "output_type": "stream",
          "name": "stdout",
          "text": [
            "To cry over spilt milk.\n",
            "130\n"
          ]
        },
        {
          "output_type": "stream",
          "name": "stderr",
          "text": [
            "Setting `pad_token_id` to `eos_token_id`:128001 for open-end generation.\n"
          ]
        },
        {
          "output_type": "stream",
          "name": "stdout",
          "text": [
            "Everything is fine if you are fine.\n",
            "131\n"
          ]
        },
        {
          "output_type": "stream",
          "name": "stderr",
          "text": [
            "Setting `pad_token_id` to `eos_token_id`:128001 for open-end generation.\n"
          ]
        },
        {
          "output_type": "stream",
          "name": "stdout",
          "text": [
            "It doesn't pay to do something with one hand.\n",
            "132\n"
          ]
        },
        {
          "output_type": "stream",
          "name": "stderr",
          "text": [
            "Setting `pad_token_id` to `eos_token_id`:128001 for open-end generation.\n"
          ]
        },
        {
          "output_type": "stream",
          "name": "stdout",
          "text": [
            "What's the point of giving eyes to the blind?\n",
            "133\n"
          ]
        },
        {
          "output_type": "stream",
          "name": "stderr",
          "text": [
            "Setting `pad_token_id` to `eos_token_id`:128001 for open-end generation.\n"
          ]
        },
        {
          "output_type": "stream",
          "name": "stdout",
          "text": [
            "The eyes have no sight, but the name is Nain.\n",
            "134\n"
          ]
        },
        {
          "output_type": "stream",
          "name": "stderr",
          "text": [
            "Setting `pad_token_id` to `eos_token_id`:128001 for open-end generation.\n"
          ]
        },
        {
          "output_type": "stream",
          "name": "stdout",
          "text": [
            "Where is Raja Bhuj, where is Gangotri?\n",
            "135\n"
          ]
        },
        {
          "output_type": "stream",
          "name": "stderr",
          "text": [
            "Setting `pad_token_id` to `eos_token_id`:128001 for open-end generation.\n"
          ]
        },
        {
          "output_type": "stream",
          "name": "stdout",
          "text": [
            "To cry over spilled milk.\n",
            "136\n"
          ]
        },
        {
          "output_type": "stream",
          "name": "stderr",
          "text": [
            "Setting `pad_token_id` to `eos_token_id`:128001 for open-end generation.\n"
          ]
        },
        {
          "output_type": "stream",
          "name": "stdout",
          "text": [
            "A bird in the hand is worth two in the bush.\n",
            "137\n"
          ]
        },
        {
          "output_type": "stream",
          "name": "stderr",
          "text": [
            "Setting `pad_token_id` to `eos_token_id`:128001 for open-end generation.\n"
          ]
        },
        {
          "output_type": "stream",
          "name": "stdout",
          "text": [
            "Small mouth, big talk.\n",
            "138\n"
          ]
        },
        {
          "output_type": "stream",
          "name": "stderr",
          "text": [
            "Setting `pad_token_id` to `eos_token_id`:128001 for open-end generation.\n"
          ]
        },
        {
          "output_type": "stream",
          "name": "stdout",
          "text": [
            "As many faces, so many stories.\n",
            "139\n"
          ]
        },
        {
          "output_type": "stream",
          "name": "stderr",
          "text": [
            "Setting `pad_token_id` to `eos_token_id`:128001 for open-end generation.\n"
          ]
        },
        {
          "output_type": "stream",
          "name": "stdout",
          "text": [
            "To wash one's hands of something.\n",
            "140\n"
          ]
        },
        {
          "output_type": "stream",
          "name": "stderr",
          "text": [
            "Setting `pad_token_id` to `eos_token_id`:128001 for open-end generation.\n"
          ]
        },
        {
          "output_type": "stream",
          "name": "stdout",
          "text": [
            "I'm not convinced, you're my guest.\n",
            "141\n"
          ]
        },
        {
          "output_type": "stream",
          "name": "stderr",
          "text": [
            "Setting `pad_token_id` to `eos_token_id`:128001 for open-end generation.\n"
          ]
        },
        {
          "output_type": "stream",
          "name": "stdout",
          "text": [
            "Around the corner.\n",
            "142\n"
          ]
        },
        {
          "output_type": "stream",
          "name": "stderr",
          "text": [
            "Setting `pad_token_id` to `eos_token_id`:128001 for open-end generation.\n"
          ]
        },
        {
          "output_type": "stream",
          "name": "stdout",
          "text": [
            "The Ganges River flows to the Ganges' banks, the Jamuna River flows to the Jamuna's banks.\n",
            "143\n"
          ]
        },
        {
          "output_type": "stream",
          "name": "stderr",
          "text": [
            "Setting `pad_token_id` to `eos_token_id`:128001 for open-end generation.\n"
          ]
        },
        {
          "output_type": "stream",
          "name": "stdout",
          "text": [
            "Home sweet home.\n",
            "144\n"
          ]
        },
        {
          "output_type": "stream",
          "name": "stderr",
          "text": [
            "Setting `pad_token_id` to `eos_token_id`:128001 for open-end generation.\n"
          ]
        },
        {
          "output_type": "stream",
          "name": "stdout",
          "text": [
            "In a pickle.\n",
            "145\n"
          ]
        },
        {
          "output_type": "stream",
          "name": "stderr",
          "text": [
            "Setting `pad_token_id` to `eos_token_id`:128001 for open-end generation.\n"
          ]
        },
        {
          "output_type": "stream",
          "name": "stdout",
          "text": [
            "To take it easy.\n",
            "146\n"
          ]
        },
        {
          "output_type": "stream",
          "name": "stderr",
          "text": [
            "Setting `pad_token_id` to `eos_token_id`:128001 for open-end generation.\n"
          ]
        },
        {
          "output_type": "stream",
          "name": "stdout",
          "text": [
            "A vagabond's dog, neither at home nor at the ferry landing.\n",
            "147\n"
          ]
        },
        {
          "output_type": "stream",
          "name": "stderr",
          "text": [
            "Setting `pad_token_id` to `eos_token_id`:128001 for open-end generation.\n"
          ]
        },
        {
          "output_type": "stream",
          "name": "stdout",
          "text": [
            "To make a mountain out of a molehill.\n",
            "148\n"
          ]
        },
        {
          "output_type": "stream",
          "name": "stderr",
          "text": [
            "Setting `pad_token_id` to `eos_token_id`:128001 for open-end generation.\n"
          ]
        },
        {
          "output_type": "stream",
          "name": "stdout",
          "text": [
            "The grapes are sour.\n",
            "149\n"
          ]
        },
        {
          "output_type": "stream",
          "name": "stderr",
          "text": [
            "Setting `pad_token_id` to `eos_token_id`:128001 for open-end generation.\n"
          ]
        },
        {
          "output_type": "stream",
          "name": "stdout",
          "text": [
            "To know the value of a port.\n",
            "150\n"
          ]
        },
        {
          "output_type": "stream",
          "name": "stderr",
          "text": [
            "Setting `pad_token_id` to `eos_token_id`:128001 for open-end generation.\n"
          ]
        },
        {
          "output_type": "stream",
          "name": "stdout",
          "text": [
            "A black dot in the eye.\n",
            "151\n"
          ]
        },
        {
          "output_type": "stream",
          "name": "stderr",
          "text": [
            "Setting `pad_token_id` to `eos_token_id`:128001 for open-end generation.\n"
          ]
        },
        {
          "output_type": "stream",
          "name": "stdout",
          "text": [
            "To know nothing is to be like a blind man.\n",
            "152\n"
          ]
        },
        {
          "output_type": "stream",
          "name": "stderr",
          "text": [
            "Setting `pad_token_id` to `eos_token_id`:128001 for open-end generation.\n"
          ]
        },
        {
          "output_type": "stream",
          "name": "stdout",
          "text": [
            "To cry over spilt milk.\n",
            "153\n"
          ]
        },
        {
          "output_type": "stream",
          "name": "stderr",
          "text": [
            "Setting `pad_token_id` to `eos_token_id`:128001 for open-end generation.\n"
          ]
        },
        {
          "output_type": "stream",
          "name": "stdout",
          "text": [
            "To take a step forward and then to take a step back.\n",
            "154\n"
          ]
        },
        {
          "output_type": "stream",
          "name": "stderr",
          "text": [
            "Setting `pad_token_id` to `eos_token_id`:128001 for open-end generation.\n"
          ]
        },
        {
          "output_type": "stream",
          "name": "stdout",
          "text": [
            "The more the tent, the more the rope is stretched.\n",
            "155\n"
          ]
        },
        {
          "output_type": "stream",
          "name": "stderr",
          "text": [
            "Setting `pad_token_id` to `eos_token_id`:128001 for open-end generation.\n"
          ]
        },
        {
          "output_type": "stream",
          "name": "stdout",
          "text": [
            "When the cat's away, the mice will play.\n",
            "156\n"
          ]
        },
        {
          "output_type": "stream",
          "name": "stderr",
          "text": [
            "Setting `pad_token_id` to `eos_token_id`:128001 for open-end generation.\n"
          ]
        },
        {
          "output_type": "stream",
          "name": "stdout",
          "text": [
            "All is well, everything is fine.\n",
            "157\n"
          ]
        },
        {
          "output_type": "stream",
          "name": "stderr",
          "text": [
            "Setting `pad_token_id` to `eos_token_id`:128001 for open-end generation.\n"
          ]
        },
        {
          "output_type": "stream",
          "name": "stdout",
          "text": [
            "It doesn't take off by itself.\n",
            "158\n"
          ]
        },
        {
          "output_type": "stream",
          "name": "stderr",
          "text": [
            "Setting `pad_token_id` to `eos_token_id`:128001 for open-end generation.\n"
          ]
        },
        {
          "output_type": "stream",
          "name": "stdout",
          "text": [
            "Wherever you wish, that's where you'll stay.\n",
            "159\n"
          ]
        },
        {
          "output_type": "stream",
          "name": "stderr",
          "text": [
            "Setting `pad_token_id` to `eos_token_id`:128001 for open-end generation.\n"
          ]
        },
        {
          "output_type": "stream",
          "name": "stdout",
          "text": [
            "He is drinking his tea with a lot of sugar.\n",
            "160\n"
          ]
        },
        {
          "output_type": "stream",
          "name": "stderr",
          "text": [
            "Setting `pad_token_id` to `eos_token_id`:128001 for open-end generation.\n"
          ]
        },
        {
          "output_type": "stream",
          "name": "stdout",
          "text": [
            "As you wish.\n",
            "161\n"
          ]
        },
        {
          "output_type": "stream",
          "name": "stderr",
          "text": [
            "Setting `pad_token_id` to `eos_token_id`:128001 for open-end generation.\n"
          ]
        },
        {
          "output_type": "stream",
          "name": "stdout",
          "text": [
            "You can't have two swords in one scabbard.\n",
            "162\n"
          ]
        },
        {
          "output_type": "stream",
          "name": "stderr",
          "text": [
            "Setting `pad_token_id` to `eos_token_id`:128001 for open-end generation.\n"
          ]
        },
        {
          "output_type": "stream",
          "name": "stdout",
          "text": [
            "A tricky one!\n",
            "\n",
            "\"Bajna ghar na khota chhina\" is a Hindi idiom that translates to \"The thief will not get away with it\" or \"The guilty one will not escape punishment\".\n",
            "163\n"
          ]
        },
        {
          "output_type": "stream",
          "name": "stderr",
          "text": [
            "Setting `pad_token_id` to `eos_token_id`:128001 for open-end generation.\n"
          ]
        },
        {
          "output_type": "stream",
          "name": "stdout",
          "text": [
            "The thirst is not quenched by talking nonsense.\n",
            "164\n"
          ]
        },
        {
          "output_type": "stream",
          "name": "stderr",
          "text": [
            "Setting `pad_token_id` to `eos_token_id`:128001 for open-end generation.\n"
          ]
        },
        {
          "output_type": "stream",
          "name": "stdout",
          "text": [
            "A tricky one! \"Chor chor masire bhai\" is a common Pakistani idiom, which translates to \"Thief, thief, brother\" in English. It's often used to express that someone is being unfair or taking advantage of the situation.\n",
            "165\n"
          ]
        },
        {
          "output_type": "stream",
          "name": "stderr",
          "text": [
            "Setting `pad_token_id` to `eos_token_id`:128001 for open-end generation.\n"
          ]
        },
        {
          "output_type": "stream",
          "name": "stdout",
          "text": [
            "You're in trouble.\n",
            "166\n"
          ]
        },
        {
          "output_type": "stream",
          "name": "stderr",
          "text": [
            "Setting `pad_token_id` to `eos_token_id`:128001 for open-end generation.\n"
          ]
        },
        {
          "output_type": "stream",
          "name": "stdout",
          "text": [
            "Sweet-talk.\n",
            "167\n"
          ]
        },
        {
          "output_type": "stream",
          "name": "stderr",
          "text": [
            "Setting `pad_token_id` to `eos_token_id`:128001 for open-end generation.\n"
          ]
        },
        {
          "output_type": "stream",
          "name": "stdout",
          "text": [
            "If you are good, the world will be good.\n",
            "168\n"
          ]
        },
        {
          "output_type": "stream",
          "name": "stderr",
          "text": [
            "Setting `pad_token_id` to `eos_token_id`:128001 for open-end generation.\n"
          ]
        },
        {
          "output_type": "stream",
          "name": "stdout",
          "text": [
            "He's gone out of his mind.\n",
            "169\n"
          ]
        },
        {
          "output_type": "stream",
          "name": "stderr",
          "text": [
            "Setting `pad_token_id` to `eos_token_id`:128001 for open-end generation.\n"
          ]
        },
        {
          "output_type": "stream",
          "name": "stdout",
          "text": [
            "They are crying, but they won't stop.\n",
            "170\n"
          ]
        },
        {
          "output_type": "stream",
          "name": "stderr",
          "text": [
            "Setting `pad_token_id` to `eos_token_id`:128001 for open-end generation.\n"
          ]
        },
        {
          "output_type": "stream",
          "name": "stdout",
          "text": [
            "It's a big mess!\n",
            "171\n"
          ]
        },
        {
          "output_type": "stream",
          "name": "stderr",
          "text": [
            "Setting `pad_token_id` to `eos_token_id`:128001 for open-end generation.\n"
          ]
        },
        {
          "output_type": "stream",
          "name": "stdout",
          "text": [
            "From where did the children of the potato plant come?\n",
            "172\n"
          ]
        },
        {
          "output_type": "stream",
          "name": "stderr",
          "text": [
            "Setting `pad_token_id` to `eos_token_id`:128001 for open-end generation.\n"
          ]
        },
        {
          "output_type": "stream",
          "name": "stdout",
          "text": [
            "To fall back on one's laurels.\n",
            "173\n"
          ]
        },
        {
          "output_type": "stream",
          "name": "stderr",
          "text": [
            "Setting `pad_token_id` to `eos_token_id`:128001 for open-end generation.\n"
          ]
        },
        {
          "output_type": "stream",
          "name": "stdout",
          "text": [
            "To crack the whip\n",
            "174\n"
          ]
        },
        {
          "output_type": "stream",
          "name": "stderr",
          "text": [
            "Setting `pad_token_id` to `eos_token_id`:128001 for open-end generation.\n"
          ]
        },
        {
          "output_type": "stream",
          "name": "stdout",
          "text": [
            "As the king, so the subjects.\n",
            "175\n"
          ]
        },
        {
          "output_type": "stream",
          "name": "stderr",
          "text": [
            "Setting `pad_token_id` to `eos_token_id`:128001 for open-end generation.\n"
          ]
        },
        {
          "output_type": "stream",
          "name": "stdout",
          "text": [
            "It's not my cup of tea.\n",
            "176\n"
          ]
        },
        {
          "output_type": "stream",
          "name": "stderr",
          "text": [
            "Setting `pad_token_id` to `eos_token_id`:128001 for open-end generation.\n"
          ]
        },
        {
          "output_type": "stream",
          "name": "stdout",
          "text": [
            "A messy shop with a lot of unnecessary things.\n",
            "177\n"
          ]
        },
        {
          "output_type": "stream",
          "name": "stderr",
          "text": [
            "Setting `pad_token_id` to `eos_token_id`:128001 for open-end generation.\n"
          ]
        },
        {
          "output_type": "stream",
          "name": "stdout",
          "text": [
            "A tongue in cheek!\n",
            "178\n"
          ]
        },
        {
          "output_type": "stream",
          "name": "stderr",
          "text": [
            "Setting `pad_token_id` to `eos_token_id`:128001 for open-end generation.\n"
          ]
        },
        {
          "output_type": "stream",
          "name": "stdout",
          "text": [
            "A beautiful phrase!\n",
            "\n",
            "The English translation is: \"The moonlight of four days, then a dark night.\"\n",
            "179\n"
          ]
        },
        {
          "output_type": "stream",
          "name": "stderr",
          "text": [
            "Setting `pad_token_id` to `eos_token_id`:128001 for open-end generation.\n"
          ]
        },
        {
          "output_type": "stream",
          "name": "stdout",
          "text": [
            "To beat around the bush.\n",
            "180\n"
          ]
        },
        {
          "output_type": "stream",
          "name": "stderr",
          "text": [
            "Setting `pad_token_id` to `eos_token_id`:128001 for open-end generation.\n"
          ]
        },
        {
          "output_type": "stream",
          "name": "stdout",
          "text": [
            "To throw good money into the sea.\n",
            "181\n"
          ]
        },
        {
          "output_type": "stream",
          "name": "stderr",
          "text": [
            "Setting `pad_token_id` to `eos_token_id`:128001 for open-end generation.\n"
          ]
        },
        {
          "output_type": "stream",
          "name": "stdout",
          "text": [
            "The iron sharpens the iron.\n",
            "182\n"
          ]
        },
        {
          "output_type": "stream",
          "name": "stderr",
          "text": [
            "Setting `pad_token_id` to `eos_token_id`:128001 for open-end generation.\n"
          ]
        },
        {
          "output_type": "stream",
          "name": "stdout",
          "text": [
            "In the dark, the ear is king.\n",
            "183\n"
          ]
        },
        {
          "output_type": "stream",
          "name": "stderr",
          "text": [
            "Setting `pad_token_id` to `eos_token_id`:128001 for open-end generation.\n"
          ]
        },
        {
          "output_type": "stream",
          "name": "stdout",
          "text": [
            "A half-wise person is in danger.\n",
            "184\n"
          ]
        },
        {
          "output_type": "stream",
          "name": "stderr",
          "text": [
            "Setting `pad_token_id` to `eos_token_id`:128001 for open-end generation.\n"
          ]
        },
        {
          "output_type": "stream",
          "name": "stdout",
          "text": [
            "To be stingy is to cut one's nose off with a razor.\n",
            "185\n"
          ]
        },
        {
          "output_type": "stream",
          "name": "stderr",
          "text": [
            "Setting `pad_token_id` to `eos_token_id`:128001 for open-end generation.\n"
          ]
        },
        {
          "output_type": "stream",
          "name": "stdout",
          "text": [
            "When there is a head, there is a body.\n",
            "186\n"
          ]
        },
        {
          "output_type": "stream",
          "name": "stderr",
          "text": [
            "Setting `pad_token_id` to `eos_token_id`:128001 for open-end generation.\n"
          ]
        },
        {
          "output_type": "stream",
          "name": "stdout",
          "text": [
            "Like God has kept it, who can see it?\n",
            "187\n"
          ]
        },
        {
          "output_type": "stream",
          "name": "stderr",
          "text": [
            "Setting `pad_token_id` to `eos_token_id`:128001 for open-end generation.\n"
          ]
        },
        {
          "output_type": "stream",
          "name": "stdout",
          "text": [
            "A poor man with a pen.\n",
            "188\n"
          ]
        },
        {
          "output_type": "stream",
          "name": "stderr",
          "text": [
            "Setting `pad_token_id` to `eos_token_id`:128001 for open-end generation.\n"
          ]
        },
        {
          "output_type": "stream",
          "name": "stdout",
          "text": [
            "In a pickle in the city.\n",
            "189\n"
          ]
        },
        {
          "output_type": "stream",
          "name": "stderr",
          "text": [
            "Setting `pad_token_id` to `eos_token_id`:128001 for open-end generation.\n"
          ]
        },
        {
          "output_type": "stream",
          "name": "stdout",
          "text": [
            "Look at the oil, see the oil's flow.\n",
            "190\n"
          ]
        },
        {
          "output_type": "stream",
          "name": "stderr",
          "text": [
            "Setting `pad_token_id` to `eos_token_id`:128001 for open-end generation.\n"
          ]
        },
        {
          "output_type": "stream",
          "name": "stdout",
          "text": [
            "The dog may die, but the stick won't break.\n",
            "191\n"
          ]
        },
        {
          "output_type": "stream",
          "name": "stderr",
          "text": [
            "Setting `pad_token_id` to `eos_token_id`:128001 for open-end generation.\n"
          ]
        },
        {
          "output_type": "stream",
          "name": "stdout",
          "text": [
            "Two birds with one stone.\n",
            "192\n"
          ]
        },
        {
          "output_type": "stream",
          "name": "stderr",
          "text": [
            "Setting `pad_token_id` to `eos_token_id`:128001 for open-end generation.\n"
          ]
        },
        {
          "output_type": "stream",
          "name": "stdout",
          "text": [
            "Old horse with a red bridle.\n",
            "193\n"
          ]
        },
        {
          "output_type": "stream",
          "name": "stderr",
          "text": [
            "Setting `pad_token_id` to `eos_token_id`:128001 for open-end generation.\n"
          ]
        },
        {
          "output_type": "stream",
          "name": "stdout",
          "text": [
            "Water is water, milk is milk.\n",
            "194\n"
          ]
        },
        {
          "output_type": "stream",
          "name": "stderr",
          "text": [
            "Setting `pad_token_id` to `eos_token_id`:128001 for open-end generation.\n"
          ]
        },
        {
          "output_type": "stream",
          "name": "stdout",
          "text": [
            "Rock bottom\n",
            "195\n"
          ]
        },
        {
          "output_type": "stream",
          "name": "stderr",
          "text": [
            "Setting `pad_token_id` to `eos_token_id`:128001 for open-end generation.\n"
          ]
        },
        {
          "output_type": "stream",
          "name": "stdout",
          "text": [
            "A thief's tongue is his best cloak.\n",
            "196\n"
          ]
        },
        {
          "output_type": "stream",
          "name": "stderr",
          "text": [
            "Setting `pad_token_id` to `eos_token_id`:128001 for open-end generation.\n"
          ]
        },
        {
          "output_type": "stream",
          "name": "stdout",
          "text": [
            "The need is the mother of invention.\n",
            "197\n"
          ]
        },
        {
          "output_type": "stream",
          "name": "stderr",
          "text": [
            "Setting `pad_token_id` to `eos_token_id`:128001 for open-end generation.\n"
          ]
        },
        {
          "output_type": "stream",
          "name": "stdout",
          "text": [
            "A brother-in-law is a thorn in the side!\n",
            "198\n"
          ]
        },
        {
          "output_type": "stream",
          "name": "stderr",
          "text": [
            "Setting `pad_token_id` to `eos_token_id`:128001 for open-end generation.\n"
          ]
        },
        {
          "output_type": "stream",
          "name": "stdout",
          "text": [
            "A hungry person would accept a dry blanket as a gift.\n",
            "199\n"
          ]
        },
        {
          "output_type": "stream",
          "name": "stderr",
          "text": [
            "Setting `pad_token_id` to `eos_token_id`:128001 for open-end generation.\n"
          ]
        },
        {
          "output_type": "stream",
          "name": "stdout",
          "text": [
            "Where there's water, there's a well; where there's a well, there's a master.\n",
            "200\n"
          ]
        },
        {
          "output_type": "stream",
          "name": "stderr",
          "text": [
            "Setting `pad_token_id` to `eos_token_id`:128001 for open-end generation.\n"
          ]
        },
        {
          "output_type": "stream",
          "name": "stdout",
          "text": [
            "To make a mountain out of a molehill.\n",
            "201\n"
          ]
        },
        {
          "output_type": "stream",
          "name": "stderr",
          "text": [
            "Setting `pad_token_id` to `eos_token_id`:128001 for open-end generation.\n"
          ]
        },
        {
          "output_type": "stream",
          "name": "stdout",
          "text": [
            "\"Pearls are not valued in the jungle.\"\n",
            "202\n"
          ]
        },
        {
          "output_type": "stream",
          "name": "stderr",
          "text": [
            "Setting `pad_token_id` to `eos_token_id`:128001 for open-end generation.\n"
          ]
        },
        {
          "output_type": "stream",
          "name": "stdout",
          "text": [
            "You're as good as gold.\n",
            "203\n"
          ]
        },
        {
          "output_type": "stream",
          "name": "stderr",
          "text": [
            "Setting `pad_token_id` to `eos_token_id`:128001 for open-end generation.\n"
          ]
        },
        {
          "output_type": "stream",
          "name": "stdout",
          "text": [
            "To break a leg!\n",
            "204\n"
          ]
        },
        {
          "output_type": "stream",
          "name": "stderr",
          "text": [
            "Setting `pad_token_id` to `eos_token_id`:128001 for open-end generation.\n"
          ]
        },
        {
          "output_type": "stream",
          "name": "stdout",
          "text": [
            "Good health is a thousand blessings.\n",
            "205\n"
          ]
        },
        {
          "output_type": "stream",
          "name": "stderr",
          "text": [
            "Setting `pad_token_id` to `eos_token_id`:128001 for open-end generation.\n"
          ]
        },
        {
          "output_type": "stream",
          "name": "stdout",
          "text": [
            "Nothing gets done without showing one's face.\n",
            "206\n"
          ]
        },
        {
          "output_type": "stream",
          "name": "stderr",
          "text": [
            "Setting `pad_token_id` to `eos_token_id`:128001 for open-end generation.\n"
          ]
        },
        {
          "output_type": "stream",
          "name": "stdout",
          "text": [
            "It's time to cut your losses.\n",
            "207\n"
          ]
        },
        {
          "output_type": "stream",
          "name": "stderr",
          "text": [
            "Setting `pad_token_id` to `eos_token_id`:128001 for open-end generation.\n"
          ]
        },
        {
          "output_type": "stream",
          "name": "stdout",
          "text": [
            "When I see a peach, I turn peachy.\n",
            "208\n"
          ]
        },
        {
          "output_type": "stream",
          "name": "stderr",
          "text": [
            "Setting `pad_token_id` to `eos_token_id`:128001 for open-end generation.\n"
          ]
        },
        {
          "output_type": "stream",
          "name": "stdout",
          "text": [
            "One or eleven.\n",
            "209\n"
          ]
        },
        {
          "output_type": "stream",
          "name": "stderr",
          "text": [
            "Setting `pad_token_id` to `eos_token_id`:128001 for open-end generation.\n"
          ]
        },
        {
          "output_type": "stream",
          "name": "stdout",
          "text": [
            "He's beating around the bush.\n",
            "210\n"
          ]
        },
        {
          "output_type": "stream",
          "name": "stderr",
          "text": [
            "Setting `pad_token_id` to `eos_token_id`:128001 for open-end generation.\n"
          ]
        },
        {
          "output_type": "stream",
          "name": "stdout",
          "text": [
            "Each to their own flute, each to their own tune.\n",
            "211\n"
          ]
        },
        {
          "output_type": "stream",
          "name": "stderr",
          "text": [
            "Setting `pad_token_id` to `eos_token_id`:128001 for open-end generation.\n"
          ]
        },
        {
          "output_type": "stream",
          "name": "stdout",
          "text": [
            "They are crying, but not weeping.\n",
            "212\n"
          ]
        },
        {
          "output_type": "stream",
          "name": "stderr",
          "text": [
            "Setting `pad_token_id` to `eos_token_id`:128001 for open-end generation.\n"
          ]
        },
        {
          "output_type": "stream",
          "name": "stdout",
          "text": [
            "The hunger of the poor is not satiated.\n",
            "213\n"
          ]
        },
        {
          "output_type": "stream",
          "name": "stderr",
          "text": [
            "Setting `pad_token_id` to `eos_token_id`:128001 for open-end generation.\n"
          ]
        },
        {
          "output_type": "stream",
          "name": "stdout",
          "text": [
            "No criticism is worth your attention.\n",
            "214\n"
          ]
        },
        {
          "output_type": "stream",
          "name": "stderr",
          "text": [
            "Setting `pad_token_id` to `eos_token_id`:128001 for open-end generation.\n"
          ]
        },
        {
          "output_type": "stream",
          "name": "stdout",
          "text": [
            "Take the high road and leave the enemy to themselves.\n",
            "215\n"
          ]
        },
        {
          "output_type": "stream",
          "name": "stderr",
          "text": [
            "Setting `pad_token_id` to `eos_token_id`:128001 for open-end generation.\n"
          ]
        },
        {
          "output_type": "stream",
          "name": "stdout",
          "text": [
            "A piece of cake.\n",
            "216\n"
          ]
        },
        {
          "output_type": "stream",
          "name": "stderr",
          "text": [
            "Setting `pad_token_id` to `eos_token_id`:128001 for open-end generation.\n"
          ]
        },
        {
          "output_type": "stream",
          "name": "stdout",
          "text": [
            "Wherever you wish, there is a way.\n",
            "217\n"
          ]
        },
        {
          "output_type": "stream",
          "name": "stderr",
          "text": [
            "Setting `pad_token_id` to `eos_token_id`:128001 for open-end generation.\n"
          ]
        },
        {
          "output_type": "stream",
          "name": "stdout",
          "text": [
            "To be in a fix or in a predicament.\n",
            "218\n"
          ]
        },
        {
          "output_type": "stream",
          "name": "stderr",
          "text": [
            "Setting `pad_token_id` to `eos_token_id`:128001 for open-end generation.\n"
          ]
        },
        {
          "output_type": "stream",
          "name": "stdout",
          "text": [
            "Silence is golden.\n",
            "219\n"
          ]
        },
        {
          "output_type": "stream",
          "name": "stderr",
          "text": [
            "Setting `pad_token_id` to `eos_token_id`:128001 for open-end generation.\n"
          ]
        },
        {
          "output_type": "stream",
          "name": "stdout",
          "text": [
            "He's a great dancer.\n",
            "220\n"
          ]
        },
        {
          "output_type": "stream",
          "name": "stderr",
          "text": [
            "Setting `pad_token_id` to `eos_token_id`:128001 for open-end generation.\n"
          ]
        },
        {
          "output_type": "stream",
          "name": "stdout",
          "text": [
            "A slave to one's stomach.\n",
            "221\n"
          ]
        },
        {
          "output_type": "stream",
          "name": "stderr",
          "text": [
            "Setting `pad_token_id` to `eos_token_id`:128001 for open-end generation.\n"
          ]
        },
        {
          "output_type": "stream",
          "name": "stdout",
          "text": [
            "To run ahead and leave behind.\n",
            "222\n"
          ]
        },
        {
          "output_type": "stream",
          "name": "stderr",
          "text": [
            "Setting `pad_token_id` to `eos_token_id`:128001 for open-end generation.\n"
          ]
        },
        {
          "output_type": "stream",
          "name": "stdout",
          "text": [
            "He's drinking like a camel at an oasis.\n",
            "223\n"
          ]
        },
        {
          "output_type": "stream",
          "name": "stderr",
          "text": [
            "Setting `pad_token_id` to `eos_token_id`:128001 for open-end generation.\n"
          ]
        },
        {
          "output_type": "stream",
          "name": "stdout",
          "text": [
            "To cut a long story short.\n",
            "224\n"
          ]
        },
        {
          "output_type": "stream",
          "name": "stderr",
          "text": [
            "Setting `pad_token_id` to `eos_token_id`:128001 for open-end generation.\n"
          ]
        },
        {
          "output_type": "stream",
          "name": "stdout",
          "text": [
            "A half-wise person is in danger.\n",
            "225\n"
          ]
        },
        {
          "output_type": "stream",
          "name": "stderr",
          "text": [
            "Setting `pad_token_id` to `eos_token_id`:128001 for open-end generation.\n"
          ]
        },
        {
          "output_type": "stream",
          "name": "stdout",
          "text": [
            "All's well that ends well.\n",
            "226\n"
          ]
        },
        {
          "output_type": "stream",
          "name": "stderr",
          "text": [
            "Setting `pad_token_id` to `eos_token_id`:128001 for open-end generation.\n"
          ]
        },
        {
          "output_type": "stream",
          "name": "stdout",
          "text": [
            "Clothes make the man.\n",
            "227\n"
          ]
        },
        {
          "output_type": "stream",
          "name": "stderr",
          "text": [
            "Setting `pad_token_id` to `eos_token_id`:128001 for open-end generation.\n"
          ]
        },
        {
          "output_type": "stream",
          "name": "stdout",
          "text": [
            "It's a thorn that sprouts another thorn.\n",
            "228\n"
          ]
        },
        {
          "output_type": "stream",
          "name": "stderr",
          "text": [
            "Setting `pad_token_id` to `eos_token_id`:128001 for open-end generation.\n"
          ]
        },
        {
          "output_type": "stream",
          "name": "stdout",
          "text": [
            "It's deep down in the water.\n",
            "229\n"
          ]
        },
        {
          "output_type": "stream",
          "name": "stderr",
          "text": [
            "Setting `pad_token_id` to `eos_token_id`:128001 for open-end generation.\n"
          ]
        },
        {
          "output_type": "stream",
          "name": "stdout",
          "text": [
            "There is a time for every task.\n",
            "230\n"
          ]
        },
        {
          "output_type": "stream",
          "name": "stderr",
          "text": [
            "Setting `pad_token_id` to `eos_token_id`:128001 for open-end generation.\n"
          ]
        },
        {
          "output_type": "stream",
          "name": "stdout",
          "text": [
            "The Limit of Lies\n",
            "231\n"
          ]
        },
        {
          "output_type": "stream",
          "name": "stderr",
          "text": [
            "Setting `pad_token_id` to `eos_token_id`:128001 for open-end generation.\n"
          ]
        },
        {
          "output_type": "stream",
          "name": "stdout",
          "text": [
            "There are all sorts of people in this world.\n",
            "232\n"
          ]
        },
        {
          "output_type": "stream",
          "name": "stderr",
          "text": [
            "Setting `pad_token_id` to `eos_token_id`:128001 for open-end generation.\n"
          ]
        },
        {
          "output_type": "stream",
          "name": "stdout",
          "text": [
            "It's a two-edged sword.\n",
            "233\n"
          ]
        },
        {
          "output_type": "stream",
          "name": "stderr",
          "text": [
            "Setting `pad_token_id` to `eos_token_id`:128001 for open-end generation.\n"
          ]
        },
        {
          "output_type": "stream",
          "name": "stdout",
          "text": [
            "A friend in need is a friend indeed.\n",
            "234\n"
          ]
        },
        {
          "output_type": "stream",
          "name": "stderr",
          "text": [
            "Setting `pad_token_id` to `eos_token_id`:128001 for open-end generation.\n"
          ]
        },
        {
          "output_type": "stream",
          "name": "stdout",
          "text": [
            "Who God keeps, no one can take.\n",
            "235\n"
          ]
        },
        {
          "output_type": "stream",
          "name": "stderr",
          "text": [
            "Setting `pad_token_id` to `eos_token_id`:128001 for open-end generation.\n"
          ]
        },
        {
          "output_type": "stream",
          "name": "stdout",
          "text": [
            "A hungry person will even consider a dry leaf as a blanket.\n",
            "236\n"
          ]
        },
        {
          "output_type": "stream",
          "name": "stderr",
          "text": [
            "Setting `pad_token_id` to `eos_token_id`:128001 for open-end generation.\n"
          ]
        },
        {
          "output_type": "stream",
          "name": "stdout",
          "text": [
            "What a blind man wants, give him two eyes.\n",
            "237\n"
          ]
        },
        {
          "output_type": "stream",
          "name": "stderr",
          "text": [
            "Setting `pad_token_id` to `eos_token_id`:128001 for open-end generation.\n"
          ]
        },
        {
          "output_type": "stream",
          "name": "stdout",
          "text": [
            "The eye's blind name is ignorance.\n",
            "238\n"
          ]
        },
        {
          "output_type": "stream",
          "name": "stderr",
          "text": [
            "Setting `pad_token_id` to `eos_token_id`:128001 for open-end generation.\n"
          ]
        },
        {
          "output_type": "stream",
          "name": "stdout",
          "text": [
            "A bunch of foolish people are making a ruckus.\n",
            "239\n"
          ]
        },
        {
          "output_type": "stream",
          "name": "stderr",
          "text": [
            "Setting `pad_token_id` to `eos_token_id`:128001 for open-end generation.\n"
          ]
        },
        {
          "output_type": "stream",
          "name": "stdout",
          "text": [
            "Where is Raja Bhuj, where is Gangotri?\n",
            "240\n"
          ]
        },
        {
          "output_type": "stream",
          "name": "stderr",
          "text": [
            "Setting `pad_token_id` to `eos_token_id`:128001 for open-end generation.\n"
          ]
        },
        {
          "output_type": "stream",
          "name": "stdout",
          "text": [
            "As many mouths as talks.\n",
            "241\n"
          ]
        },
        {
          "output_type": "stream",
          "name": "stderr",
          "text": [
            "Setting `pad_token_id` to `eos_token_id`:128001 for open-end generation.\n"
          ]
        },
        {
          "output_type": "stream",
          "name": "stdout",
          "text": [
            "Big mouth, big trouble.\n",
            "242\n"
          ]
        },
        {
          "output_type": "stream",
          "name": "stderr",
          "text": [
            "Setting `pad_token_id` to `eos_token_id`:128001 for open-end generation.\n"
          ]
        },
        {
          "output_type": "stream",
          "name": "stdout",
          "text": [
            "A waste of time is a waste of money.\n",
            "243\n"
          ]
        },
        {
          "output_type": "stream",
          "name": "stderr",
          "text": [
            "Setting `pad_token_id` to `eos_token_id`:128001 for open-end generation.\n"
          ]
        },
        {
          "output_type": "stream",
          "name": "stdout",
          "text": [
            "In circles.\n",
            "244\n"
          ]
        },
        {
          "output_type": "stream",
          "name": "stderr",
          "text": [
            "Setting `pad_token_id` to `eos_token_id`:128001 for open-end generation.\n"
          ]
        },
        {
          "output_type": "stream",
          "name": "stdout",
          "text": [
            "I'm a guest in your mind, not a guest in your home.\n",
            "245\n"
          ]
        },
        {
          "output_type": "stream",
          "name": "stderr",
          "text": [
            "Setting `pad_token_id` to `eos_token_id`:128001 for open-end generation.\n"
          ]
        },
        {
          "output_type": "stream",
          "name": "stdout",
          "text": [
            "To wash one's hands of something.\n",
            "246\n"
          ]
        },
        {
          "output_type": "stream",
          "name": "stderr",
          "text": [
            "Setting `pad_token_id` to `eos_token_id`:128001 for open-end generation.\n"
          ]
        },
        {
          "output_type": "stream",
          "name": "stdout",
          "text": [
            "The rivers of the Ganges and Jamuna are the Ganges and Jamuna's servants.\n",
            "247\n"
          ]
        },
        {
          "output_type": "stream",
          "name": "stderr",
          "text": [
            "Setting `pad_token_id` to `eos_token_id`:128001 for open-end generation.\n"
          ]
        },
        {
          "output_type": "stream",
          "name": "stdout",
          "text": [
            "The cat is out of the bag.\n",
            "248\n"
          ]
        },
        {
          "output_type": "stream",
          "name": "stderr",
          "text": [
            "Setting `pad_token_id` to `eos_token_id`:128001 for open-end generation.\n"
          ]
        },
        {
          "output_type": "stream",
          "name": "stdout",
          "text": [
            "To cut one's hair too short.\n",
            "249\n"
          ]
        },
        {
          "output_type": "stream",
          "name": "stderr",
          "text": [
            "Setting `pad_token_id` to `eos_token_id`:128001 for open-end generation.\n"
          ]
        },
        {
          "output_type": "stream",
          "name": "stdout",
          "text": [
            "To make a mountain out of a molehill.\n",
            "250\n"
          ]
        },
        {
          "output_type": "stream",
          "name": "stderr",
          "text": [
            "Setting `pad_token_id` to `eos_token_id`:128001 for open-end generation.\n"
          ]
        },
        {
          "output_type": "stream",
          "name": "stdout",
          "text": [
            "A stray dog, neither of the household nor of the street.\n",
            "251\n"
          ]
        },
        {
          "output_type": "stream",
          "name": "stderr",
          "text": [
            "Setting `pad_token_id` to `eos_token_id`:128001 for open-end generation.\n"
          ]
        },
        {
          "output_type": "stream",
          "name": "stdout",
          "text": [
            "To put the cart before the horse.\n",
            "252\n"
          ]
        },
        {
          "output_type": "stream",
          "name": "stderr",
          "text": [
            "Setting `pad_token_id` to `eos_token_id`:128001 for open-end generation.\n"
          ]
        },
        {
          "output_type": "stream",
          "name": "stdout",
          "text": [
            "The grapes are sour.\n",
            "253\n"
          ]
        },
        {
          "output_type": "stream",
          "name": "stderr",
          "text": [
            "Setting `pad_token_id` to `eos_token_id`:128001 for open-end generation.\n"
          ]
        },
        {
          "output_type": "stream",
          "name": "stdout",
          "text": [
            "To understand the mind of a port.\n",
            "254\n"
          ]
        },
        {
          "output_type": "stream",
          "name": "stderr",
          "text": [
            "Setting `pad_token_id` to `eos_token_id`:128001 for open-end generation.\n"
          ]
        },
        {
          "output_type": "stream",
          "name": "stdout",
          "text": [
            "Blackboard.\n",
            "255\n"
          ]
        },
        {
          "output_type": "stream",
          "name": "stderr",
          "text": [
            "Setting `pad_token_id` to `eos_token_id`:128001 for open-end generation.\n"
          ]
        },
        {
          "output_type": "stream",
          "name": "stdout",
          "text": [
            "To take the back seat.\n",
            "256\n"
          ]
        },
        {
          "output_type": "stream",
          "name": "stderr",
          "text": [
            "Setting `pad_token_id` to `eos_token_id`:128001 for open-end generation.\n"
          ]
        },
        {
          "output_type": "stream",
          "name": "stdout",
          "text": [
            "To cry over spilt milk.\n",
            "257\n"
          ]
        },
        {
          "output_type": "stream",
          "name": "stderr",
          "text": [
            "Setting `pad_token_id` to `eos_token_id`:128001 for open-end generation.\n"
          ]
        },
        {
          "output_type": "stream",
          "name": "stdout",
          "text": [
            "To be in a fix.\n",
            "258\n"
          ]
        },
        {
          "output_type": "stream",
          "name": "stderr",
          "text": [
            "Setting `pad_token_id` to `eos_token_id`:128001 for open-end generation.\n"
          ]
        },
        {
          "output_type": "stream",
          "name": "stdout",
          "text": [
            "All is well, everything is fine.\n",
            "259\n"
          ]
        },
        {
          "output_type": "stream",
          "name": "stderr",
          "text": [
            "Setting `pad_token_id` to `eos_token_id`:128001 for open-end generation.\n"
          ]
        },
        {
          "output_type": "stream",
          "name": "stdout",
          "text": [
            "When the cat's away, the mice will play.\n",
            "260\n"
          ]
        },
        {
          "output_type": "stream",
          "name": "stderr",
          "text": [
            "Setting `pad_token_id` to `eos_token_id`:128001 for open-end generation.\n"
          ]
        },
        {
          "output_type": "stream",
          "name": "stdout",
          "text": [
            "As long as the tent is, spread out your feet that much.\n",
            "261\n"
          ]
        },
        {
          "output_type": "stream",
          "name": "stderr",
          "text": [
            "Setting `pad_token_id` to `eos_token_id`:128001 for open-end generation.\n"
          ]
        },
        {
          "output_type": "stream",
          "name": "stdout",
          "text": [
            "It doesn't run in one's hand.\n",
            "262\n"
          ]
        },
        {
          "output_type": "stream",
          "name": "stderr",
          "text": [
            "Setting `pad_token_id` to `eos_token_id`:128001 for open-end generation.\n"
          ]
        },
        {
          "output_type": "stream",
          "name": "stdout",
          "text": [
            "Wherever you want, that's where you'll stay.\n",
            "263\n"
          ]
        },
        {
          "output_type": "stream",
          "name": "stderr",
          "text": [
            "Setting `pad_token_id` to `eos_token_id`:128001 for open-end generation.\n"
          ]
        },
        {
          "output_type": "stream",
          "name": "stdout",
          "text": [
            "He's drinking tea with a lot of sugar.\n",
            "264\n"
          ]
        },
        {
          "output_type": "stream",
          "name": "stderr",
          "text": [
            "Setting `pad_token_id` to `eos_token_id`:128001 for open-end generation.\n"
          ]
        },
        {
          "output_type": "stream",
          "name": "stdout",
          "text": [
            "A tricky one!\n",
            "\n",
            "The English translation is: \"To cry over spilt milk.\"\n",
            "265\n"
          ]
        },
        {
          "output_type": "stream",
          "name": "stderr",
          "text": [
            "Setting `pad_token_id` to `eos_token_id`:128001 for open-end generation.\n"
          ]
        },
        {
          "output_type": "stream",
          "name": "stdout",
          "text": [
            "You can't put two swords in one scabbard.\n",
            "266\n"
          ]
        },
        {
          "output_type": "stream",
          "name": "stderr",
          "text": [
            "Setting `pad_token_id` to `eos_token_id`:128001 for open-end generation.\n"
          ]
        },
        {
          "output_type": "stream",
          "name": "stdout",
          "text": [
            "As you wish.\n",
            "267\n"
          ]
        },
        {
          "output_type": "stream",
          "name": "stderr",
          "text": [
            "Setting `pad_token_id` to `eos_token_id`:128001 for open-end generation.\n"
          ]
        },
        {
          "output_type": "stream",
          "name": "stdout",
          "text": [
            "The thirst is not quenched by talking.\n",
            "268\n"
          ]
        },
        {
          "output_type": "stream",
          "name": "stderr",
          "text": [
            "Setting `pad_token_id` to `eos_token_id`:128001 for open-end generation.\n"
          ]
        },
        {
          "output_type": "stream",
          "name": "stdout",
          "text": [
            "A mess!\n",
            "269\n"
          ]
        },
        {
          "output_type": "stream",
          "name": "stderr",
          "text": [
            "Setting `pad_token_id` to `eos_token_id`:128001 for open-end generation.\n"
          ]
        },
        {
          "output_type": "stream",
          "name": "stdout",
          "text": [
            "You're in trouble.\n",
            "270\n"
          ]
        },
        {
          "output_type": "stream",
          "name": "stderr",
          "text": [
            "Setting `pad_token_id` to `eos_token_id`:128001 for open-end generation.\n"
          ]
        },
        {
          "output_type": "stream",
          "name": "stdout",
          "text": [
            "He's lost his marbles.\n",
            "271\n"
          ]
        },
        {
          "output_type": "stream",
          "name": "stderr",
          "text": [
            "Setting `pad_token_id` to `eos_token_id`:128001 for open-end generation.\n"
          ]
        },
        {
          "output_type": "stream",
          "name": "stdout",
          "text": [
            "You're a good person, the whole world is good.\n",
            "272\n"
          ]
        },
        {
          "output_type": "stream",
          "name": "stderr",
          "text": [
            "Setting `pad_token_id` to `eos_token_id`:128001 for open-end generation.\n"
          ]
        },
        {
          "output_type": "stream",
          "name": "stdout",
          "text": [
            "Sweet talk.\n",
            "273\n"
          ]
        },
        {
          "output_type": "stream",
          "name": "stderr",
          "text": [
            "Setting `pad_token_id` to `eos_token_id`:128001 for open-end generation.\n"
          ]
        },
        {
          "output_type": "stream",
          "name": "stdout",
          "text": [
            "They who are busy with someone else's work, will not get tired.\n",
            "274\n"
          ]
        },
        {
          "output_type": "stream",
          "name": "stderr",
          "text": [
            "Setting `pad_token_id` to `eos_token_id`:128001 for open-end generation.\n"
          ]
        },
        {
          "output_type": "stream",
          "name": "stdout",
          "text": [
            "It's raining cats and dogs.\n",
            "275\n"
          ]
        },
        {
          "output_type": "stream",
          "name": "stderr",
          "text": [
            "Setting `pad_token_id` to `eos_token_id`:128001 for open-end generation.\n"
          ]
        },
        {
          "output_type": "stream",
          "name": "stdout",
          "text": [
            "To bend like a piece of iron.\n",
            "276\n"
          ]
        },
        {
          "output_type": "stream",
          "name": "stderr",
          "text": [
            "Setting `pad_token_id` to `eos_token_id`:128001 for open-end generation.\n"
          ]
        },
        {
          "output_type": "stream",
          "name": "stdout",
          "text": [
            "To fall back on a lifeline.\n",
            "277\n"
          ]
        },
        {
          "output_type": "stream",
          "name": "stderr",
          "text": [
            "Setting `pad_token_id` to `eos_token_id`:128001 for open-end generation.\n"
          ]
        },
        {
          "output_type": "stream",
          "name": "stdout",
          "text": [
            "From where did the children of the village come?\n",
            "278\n"
          ]
        },
        {
          "output_type": "stream",
          "name": "stderr",
          "text": [
            "Setting `pad_token_id` to `eos_token_id`:128001 for open-end generation.\n"
          ]
        },
        {
          "output_type": "stream",
          "name": "stdout",
          "text": [
            "Like a king, so the people.\n",
            "279\n"
          ]
        },
        {
          "output_type": "stream",
          "name": "stderr",
          "text": [
            "Setting `pad_token_id` to `eos_token_id`:128001 for open-end generation.\n"
          ]
        },
        {
          "output_type": "stream",
          "name": "stdout",
          "text": [
            "It's not my cup of tea.\n",
            "280\n"
          ]
        },
        {
          "output_type": "stream",
          "name": "stderr",
          "text": [
            "Setting `pad_token_id` to `eos_token_id`:128001 for open-end generation.\n"
          ]
        },
        {
          "output_type": "stream",
          "name": "stdout",
          "text": [
            "High-class restaurant with fancy dishes.\n",
            "281\n"
          ]
        },
        {
          "output_type": "stream",
          "name": "stderr",
          "text": [
            "Setting `pad_token_id` to `eos_token_id`:128001 for open-end generation.\n"
          ]
        },
        {
          "output_type": "stream",
          "name": "stdout",
          "text": [
            "To beat around the bush.\n",
            "282\n"
          ]
        },
        {
          "output_type": "stream",
          "name": "stderr",
          "text": [
            "Setting `pad_token_id` to `eos_token_id`:128001 for open-end generation.\n"
          ]
        },
        {
          "output_type": "stream",
          "name": "stdout",
          "text": [
            "The beauty of a 20-year-old's moonlit night is then a dark night.\n",
            "283\n"
          ]
        },
        {
          "output_type": "stream",
          "name": "stderr",
          "text": [
            "Setting `pad_token_id` to `eos_token_id`:128001 for open-end generation.\n"
          ]
        },
        {
          "output_type": "stream",
          "name": "stdout",
          "text": [
            "A fig in a donkey's mouth.\n",
            "284\n"
          ]
        },
        {
          "output_type": "stream",
          "name": "stderr",
          "text": [
            "Setting `pad_token_id` to `eos_token_id`:128001 for open-end generation.\n"
          ]
        },
        {
          "output_type": "stream",
          "name": "stdout",
          "text": [
            "To throw nice things into the sea.\n",
            "285\n"
          ]
        },
        {
          "output_type": "stream",
          "name": "stderr",
          "text": [
            "Setting `pad_token_id` to `eos_token_id`:128001 for open-end generation.\n"
          ]
        },
        {
          "output_type": "stream",
          "name": "stdout",
          "text": [
            "The iron is beating the iron.\n",
            "286\n"
          ]
        },
        {
          "output_type": "stream",
          "name": "stderr",
          "text": [
            "Setting `pad_token_id` to `eos_token_id`:128001 for open-end generation.\n"
          ]
        },
        {
          "output_type": "stream",
          "name": "stdout",
          "text": [
            "In the dark, there is no king.\n",
            "287\n"
          ]
        },
        {
          "output_type": "stream",
          "name": "stderr",
          "text": [
            "Setting `pad_token_id` to `eos_token_id`:128001 for open-end generation.\n"
          ]
        },
        {
          "output_type": "stream",
          "name": "stdout",
          "text": [
            "When there's life, there's hope.\n",
            "288\n"
          ]
        },
        {
          "output_type": "stream",
          "name": "stderr",
          "text": [
            "Setting `pad_token_id` to `eos_token_id`:128001 for open-end generation.\n"
          ]
        },
        {
          "output_type": "stream",
          "name": "stdout",
          "text": [
            "To be stingy is to hold a razor to one's mouth.\n",
            "289\n"
          ]
        },
        {
          "output_type": "stream",
          "name": "stderr",
          "text": [
            "Setting `pad_token_id` to `eos_token_id`:128001 for open-end generation.\n"
          ]
        },
        {
          "output_type": "stream",
          "name": "stdout",
          "text": [
            "A half-wise person is in danger.\n",
            "290\n"
          ]
        },
        {
          "output_type": "stream",
          "name": "stderr",
          "text": [
            "Setting `pad_token_id` to `eos_token_id`:128001 for open-end generation.\n"
          ]
        },
        {
          "output_type": "stream",
          "name": "stdout",
          "text": [
            "A poor man's pencil.\n",
            "291\n"
          ]
        },
        {
          "output_type": "stream",
          "name": "stderr",
          "text": [
            "Setting `pad_token_id` to `eos_token_id`:128001 for open-end generation.\n"
          ]
        },
        {
          "output_type": "stream",
          "name": "stdout",
          "text": [
            "In a nutshell, in the city.\n",
            "292\n"
          ]
        },
        {
          "output_type": "stream",
          "name": "stderr",
          "text": [
            "Setting `pad_token_id` to `eos_token_id`:128001 for open-end generation.\n"
          ]
        },
        {
          "output_type": "stream",
          "name": "stdout",
          "text": [
            "Look at the oil, see the oil's thread.\n",
            "293\n"
          ]
        },
        {
          "output_type": "stream",
          "name": "stderr",
          "text": [
            "Setting `pad_token_id` to `eos_token_id`:128001 for open-end generation.\n"
          ]
        },
        {
          "output_type": "stream",
          "name": "stdout",
          "text": [
            "Even a snake will die, but the stick won't break.\n",
            "294\n"
          ]
        },
        {
          "output_type": "stream",
          "name": "stderr",
          "text": [
            "Setting `pad_token_id` to `eos_token_id`:128001 for open-end generation.\n"
          ]
        },
        {
          "output_type": "stream",
          "name": "stdout",
          "text": [
            "One arrow, two targets.\n",
            "295\n"
          ]
        },
        {
          "output_type": "stream",
          "name": "stderr",
          "text": [
            "Setting `pad_token_id` to `eos_token_id`:128001 for open-end generation.\n"
          ]
        },
        {
          "output_type": "stream",
          "name": "stdout",
          "text": [
            "Old horse with a red halter.\n",
            "296\n"
          ]
        },
        {
          "output_type": "stream",
          "name": "stderr",
          "text": [
            "Setting `pad_token_id` to `eos_token_id`:128001 for open-end generation.\n"
          ]
        },
        {
          "output_type": "stream",
          "name": "stdout",
          "text": [
            "The thief's conscience is his only punishment.\n",
            "297\n"
          ]
        },
        {
          "output_type": "stream",
          "name": "stderr",
          "text": [
            "Setting `pad_token_id` to `eos_token_id`:128001 for open-end generation.\n"
          ]
        },
        {
          "output_type": "stream",
          "name": "stdout",
          "text": [
            "To break the ice.\n",
            "298\n"
          ]
        },
        {
          "output_type": "stream",
          "name": "stderr",
          "text": [
            "Setting `pad_token_id` to `eos_token_id`:128001 for open-end generation.\n"
          ]
        },
        {
          "output_type": "stream",
          "name": "stdout",
          "text": [
            "The same thing over and over again.\n",
            "299\n"
          ]
        },
        {
          "output_type": "stream",
          "name": "stderr",
          "text": [
            "Setting `pad_token_id` to `eos_token_id`:128001 for open-end generation.\n"
          ]
        },
        {
          "output_type": "stream",
          "name": "stdout",
          "text": [
            "The necessity is the mother of invention.\n",
            "300\n"
          ]
        },
        {
          "output_type": "stream",
          "name": "stderr",
          "text": [
            "Setting `pad_token_id` to `eos_token_id`:128001 for open-end generation.\n"
          ]
        },
        {
          "output_type": "stream",
          "name": "stdout",
          "text": [
            "Auntie's brother is a thorn in the side.\n",
            "301\n"
          ]
        },
        {
          "output_type": "stream",
          "name": "stderr",
          "text": [
            "Setting `pad_token_id` to `eos_token_id`:128001 for open-end generation.\n"
          ]
        },
        {
          "output_type": "stream",
          "name": "stdout",
          "text": [
            "He is not caught in his own trap.\n",
            "302\n"
          ]
        },
        {
          "output_type": "stream",
          "name": "stderr",
          "text": [
            "Setting `pad_token_id` to `eos_token_id`:128001 for open-end generation.\n"
          ]
        },
        {
          "output_type": "stream",
          "name": "stdout",
          "text": [
            "A book is a friend that never betrays.\n",
            "303\n"
          ]
        },
        {
          "output_type": "stream",
          "name": "stderr",
          "text": [
            "Setting `pad_token_id` to `eos_token_id`:128001 for open-end generation.\n"
          ]
        },
        {
          "output_type": "stream",
          "name": "stdout",
          "text": [
            "Those who think less talk more.\n",
            "304\n"
          ]
        },
        {
          "output_type": "stream",
          "name": "stderr",
          "text": [
            "Setting `pad_token_id` to `eos_token_id`:128001 for open-end generation.\n"
          ]
        },
        {
          "output_type": "stream",
          "name": "stdout",
          "text": [
            "Words can be bitter in one's heart and sweet on one's tongue.\n",
            "305\n"
          ]
        },
        {
          "output_type": "stream",
          "name": "stderr",
          "text": [
            "Setting `pad_token_id` to `eos_token_id`:128001 for open-end generation.\n"
          ]
        },
        {
          "output_type": "stream",
          "name": "stdout",
          "text": [
            "The milk doesn't come out of the buffalo.\n",
            "306\n"
          ]
        },
        {
          "output_type": "stream",
          "name": "stderr",
          "text": [
            "Setting `pad_token_id` to `eos_token_id`:128001 for open-end generation.\n"
          ]
        },
        {
          "output_type": "stream",
          "name": "stdout",
          "text": [
            "One aloe vera is sick.\n",
            "307\n"
          ]
        },
        {
          "output_type": "stream",
          "name": "stderr",
          "text": [
            "Setting `pad_token_id` to `eos_token_id`:128001 for open-end generation.\n"
          ]
        },
        {
          "output_type": "stream",
          "name": "stdout",
          "text": [
            "Don't burn your bridges.\n",
            "308\n"
          ]
        },
        {
          "output_type": "stream",
          "name": "stderr",
          "text": [
            "Setting `pad_token_id` to `eos_token_id`:128001 for open-end generation.\n"
          ]
        },
        {
          "output_type": "stream",
          "name": "stdout",
          "text": [
            "They will get exposed.\n",
            "309\n"
          ]
        },
        {
          "output_type": "stream",
          "name": "stderr",
          "text": [
            "Setting `pad_token_id` to `eos_token_id`:128001 for open-end generation.\n"
          ]
        },
        {
          "output_type": "stream",
          "name": "stdout",
          "text": [
            "The one who has shame will have their pride burst.\n",
            "310\n"
          ]
        },
        {
          "output_type": "stream",
          "name": "stderr",
          "text": [
            "Setting `pad_token_id` to `eos_token_id`:128001 for open-end generation.\n"
          ]
        },
        {
          "output_type": "stream",
          "name": "stdout",
          "text": [
            "It's from the heart.\n",
            "311\n"
          ]
        },
        {
          "output_type": "stream",
          "name": "stderr",
          "text": [
            "Setting `pad_token_id` to `eos_token_id`:128001 for open-end generation.\n"
          ]
        },
        {
          "output_type": "stream",
          "name": "stdout",
          "text": [
            "It's a devil of a job.\n",
            "312\n"
          ]
        },
        {
          "output_type": "stream",
          "name": "stderr",
          "text": [
            "Setting `pad_token_id` to `eos_token_id`:128001 for open-end generation.\n"
          ]
        },
        {
          "output_type": "stream",
          "name": "stdout",
          "text": [
            "One is a lamp, the other is the wick.\n",
            "313\n"
          ]
        },
        {
          "output_type": "stream",
          "name": "stderr",
          "text": [
            "Setting `pad_token_id` to `eos_token_id`:128001 for open-end generation.\n"
          ]
        },
        {
          "output_type": "stream",
          "name": "stdout",
          "text": [
            "She's spoiling the whole show.\n",
            "314\n"
          ]
        },
        {
          "output_type": "stream",
          "name": "stderr",
          "text": [
            "Setting `pad_token_id` to `eos_token_id`:128001 for open-end generation.\n"
          ]
        },
        {
          "output_type": "stream",
          "name": "stdout",
          "text": [
            "No criticism is above correction.\n",
            "315\n"
          ]
        },
        {
          "output_type": "stream",
          "name": "stderr",
          "text": [
            "Setting `pad_token_id` to `eos_token_id`:128001 for open-end generation.\n"
          ]
        },
        {
          "output_type": "stream",
          "name": "stdout",
          "text": [
            "Whatever you want, don't hold back your father's money.\n",
            "316\n"
          ]
        },
        {
          "output_type": "stream",
          "name": "stderr",
          "text": [
            "Setting `pad_token_id` to `eos_token_id`:128001 for open-end generation.\n"
          ]
        },
        {
          "output_type": "stream",
          "name": "stdout",
          "text": [
            "The idiom is \"بھٹ پڑے وہ سونا جِس سے ٹوٹیں کان\" which translates to \"Bite the dust, the one who breaks the earthen pot\".\n",
            "317\n"
          ]
        },
        {
          "output_type": "stream",
          "name": "stderr",
          "text": [
            "Setting `pad_token_id` to `eos_token_id`:128001 for open-end generation.\n"
          ]
        },
        {
          "output_type": "stream",
          "name": "stdout",
          "text": [
            "There's a thorn in the rose.\n",
            "318\n"
          ]
        },
        {
          "output_type": "stream",
          "name": "stderr",
          "text": [
            "Setting `pad_token_id` to `eos_token_id`:128001 for open-end generation.\n"
          ]
        },
        {
          "output_type": "stream",
          "name": "stdout",
          "text": [
            "\"Where is the way out?\"\n",
            "319\n"
          ]
        },
        {
          "output_type": "stream",
          "name": "stderr",
          "text": [
            "Setting `pad_token_id` to `eos_token_id`:128001 for open-end generation.\n"
          ]
        },
        {
          "output_type": "stream",
          "name": "stdout",
          "text": [
            "A poor man's brother.\n",
            "320\n"
          ]
        },
        {
          "output_type": "stream",
          "name": "stderr",
          "text": [
            "Setting `pad_token_id` to `eos_token_id`:128001 for open-end generation.\n"
          ]
        },
        {
          "output_type": "stream",
          "name": "stdout",
          "text": [
            "Without a head, there is no body.\n",
            "321\n"
          ]
        },
        {
          "output_type": "stream",
          "name": "stderr",
          "text": [
            "Setting `pad_token_id` to `eos_token_id`:128001 for open-end generation.\n"
          ]
        },
        {
          "output_type": "stream",
          "name": "stdout",
          "text": [
            "Get a head start before the race!\n",
            "322\n"
          ]
        },
        {
          "output_type": "stream",
          "name": "stderr",
          "text": [
            "Setting `pad_token_id` to `eos_token_id`:128001 for open-end generation.\n"
          ]
        },
        {
          "output_type": "stream",
          "name": "stdout",
          "text": [
            "You're not convinced, but I'm still your guest.\n",
            "323\n"
          ]
        },
        {
          "output_type": "stream",
          "name": "stderr",
          "text": [
            "Setting `pad_token_id` to `eos_token_id`:128001 for open-end generation.\n"
          ]
        },
        {
          "output_type": "stream",
          "name": "stdout",
          "text": [
            "The clever one!\n",
            "324\n"
          ]
        },
        {
          "output_type": "stream",
          "name": "stderr",
          "text": [
            "Setting `pad_token_id` to `eos_token_id`:128001 for open-end generation.\n"
          ]
        },
        {
          "output_type": "stream",
          "name": "stdout",
          "text": [
            "It's a hungry belly that can be filled with empty words.\n",
            "325\n"
          ]
        },
        {
          "output_type": "stream",
          "name": "stderr",
          "text": [
            "Setting `pad_token_id` to `eos_token_id`:128001 for open-end generation.\n"
          ]
        },
        {
          "output_type": "stream",
          "name": "stdout",
          "text": [
            "A judge's wine is halal.\n",
            "326\n"
          ]
        },
        {
          "output_type": "stream",
          "name": "stderr",
          "text": [
            "Setting `pad_token_id` to `eos_token_id`:128001 for open-end generation.\n"
          ]
        },
        {
          "output_type": "stream",
          "name": "stdout",
          "text": [
            "One or eleven.\n",
            "327\n"
          ]
        },
        {
          "output_type": "stream",
          "name": "stderr",
          "text": [
            "Setting `pad_token_id` to `eos_token_id`:128001 for open-end generation.\n"
          ]
        },
        {
          "output_type": "stream",
          "name": "stdout",
          "text": [
            "There's a snag.\n",
            "328\n"
          ]
        },
        {
          "output_type": "stream",
          "name": "stderr",
          "text": [
            "Setting `pad_token_id` to `eos_token_id`:128001 for open-end generation.\n"
          ]
        },
        {
          "output_type": "stream",
          "name": "stdout",
          "text": [
            "Don't put all your eggs in one basket.\n",
            "329\n"
          ]
        },
        {
          "output_type": "stream",
          "name": "stderr",
          "text": [
            "Setting `pad_token_id` to `eos_token_id`:128001 for open-end generation.\n"
          ]
        },
        {
          "output_type": "stream",
          "name": "stdout",
          "text": [
            "It's raining cats and dogs.\n",
            "330\n"
          ]
        },
        {
          "output_type": "stream",
          "name": "stderr",
          "text": [
            "Setting `pad_token_id` to `eos_token_id`:128001 for open-end generation.\n"
          ]
        },
        {
          "output_type": "stream",
          "name": "stdout",
          "text": [
            "Old age is the greatest poverty.\n",
            "331\n"
          ]
        },
        {
          "output_type": "stream",
          "name": "stderr",
          "text": [
            "Setting `pad_token_id` to `eos_token_id`:128001 for open-end generation.\n"
          ]
        },
        {
          "output_type": "stream",
          "name": "stdout",
          "text": [
            "This is a phrase in Urdu, and it translates to \"This is a mixture of good and bad\" in English.\n",
            "332\n"
          ]
        },
        {
          "output_type": "stream",
          "name": "stderr",
          "text": [
            "Setting `pad_token_id` to `eos_token_id`:128001 for open-end generation.\n"
          ]
        },
        {
          "output_type": "stream",
          "name": "stdout",
          "text": [
            "Courage is the help of God.\n",
            "333\n"
          ]
        },
        {
          "output_type": "stream",
          "name": "stderr",
          "text": [
            "Setting `pad_token_id` to `eos_token_id`:128001 for open-end generation.\n"
          ]
        },
        {
          "output_type": "stream",
          "name": "stdout",
          "text": [
            "Fell into a nut from the sky.\n",
            "334\n"
          ]
        },
        {
          "output_type": "stream",
          "name": "stderr",
          "text": [
            "Setting `pad_token_id` to `eos_token_id`:128001 for open-end generation.\n"
          ]
        },
        {
          "output_type": "stream",
          "name": "stdout",
          "text": [
            "To make a good impression.\n",
            "335\n"
          ]
        },
        {
          "output_type": "stream",
          "name": "stderr",
          "text": [
            "Setting `pad_token_id` to `eos_token_id`:128001 for open-end generation.\n"
          ]
        },
        {
          "output_type": "stream",
          "name": "stdout",
          "text": [
            "To understand the depth of the sea.\n",
            "336\n"
          ]
        },
        {
          "output_type": "stream",
          "name": "stderr",
          "text": [
            "Setting `pad_token_id` to `eos_token_id`:128001 for open-end generation.\n"
          ]
        },
        {
          "output_type": "stream",
          "name": "stdout",
          "text": [
            "This is a idiomatic expression in Urdu. The translation is:\n",
            "\n",
            "\"The horse is yours, but the bridle is mine.\"\n",
            "337\n"
          ]
        },
        {
          "output_type": "stream",
          "name": "stderr",
          "text": [
            "Setting `pad_token_id` to `eos_token_id`:128001 for open-end generation.\n"
          ]
        },
        {
          "output_type": "stream",
          "name": "stdout",
          "text": [
            "One pomegranate is enough for a sick person.\n",
            "338\n"
          ]
        },
        {
          "output_type": "stream",
          "name": "stderr",
          "text": [
            "Setting `pad_token_id` to `eos_token_id`:128001 for open-end generation.\n"
          ]
        },
        {
          "output_type": "stream",
          "name": "stdout",
          "text": [
            "A messy and cluttered shop.\n",
            "339\n"
          ]
        },
        {
          "output_type": "stream",
          "name": "stderr",
          "text": [
            "Setting `pad_token_id` to `eos_token_id`:128001 for open-end generation.\n"
          ]
        },
        {
          "output_type": "stream",
          "name": "stdout",
          "text": [
            "To cry over spilt milk.\n",
            "340\n"
          ]
        },
        {
          "output_type": "stream",
          "name": "stderr",
          "text": [
            "Setting `pad_token_id` to `eos_token_id`:128001 for open-end generation.\n"
          ]
        },
        {
          "output_type": "stream",
          "name": "stdout",
          "text": [
            "A snake in the grass.\n",
            "341\n"
          ]
        },
        {
          "output_type": "stream",
          "name": "stderr",
          "text": [
            "Setting `pad_token_id` to `eos_token_id`:128001 for open-end generation.\n"
          ]
        },
        {
          "output_type": "stream",
          "name": "stdout",
          "text": [
            "You're going to kill me with a bill!\n",
            "342\n"
          ]
        },
        {
          "output_type": "stream",
          "name": "stderr",
          "text": [
            "Setting `pad_token_id` to `eos_token_id`:128001 for open-end generation.\n"
          ]
        },
        {
          "output_type": "stream",
          "name": "stdout",
          "text": [
            "Fell into a pit of trouble.\n",
            "343\n"
          ]
        },
        {
          "output_type": "stream",
          "name": "stderr",
          "text": [
            "Setting `pad_token_id` to `eos_token_id`:128001 for open-end generation.\n"
          ]
        },
        {
          "output_type": "stream",
          "name": "stdout",
          "text": [
            "There is no cure for death.\n",
            "344\n"
          ]
        },
        {
          "output_type": "stream",
          "name": "stderr",
          "text": [
            "Setting `pad_token_id` to `eos_token_id`:128001 for open-end generation.\n"
          ]
        },
        {
          "output_type": "stream",
          "name": "stdout",
          "text": [
            "Death has no credit.\n",
            "345\n"
          ]
        },
        {
          "output_type": "stream",
          "name": "stderr",
          "text": [
            "Setting `pad_token_id` to `eos_token_id`:128001 for open-end generation.\n"
          ]
        },
        {
          "output_type": "stream",
          "name": "stdout",
          "text": [
            "In times of trouble, nobody stands by your side.\n",
            "346\n"
          ]
        },
        {
          "output_type": "stream",
          "name": "stderr",
          "text": [
            "Setting `pad_token_id` to `eos_token_id`:128001 for open-end generation.\n"
          ]
        },
        {
          "output_type": "stream",
          "name": "stdout",
          "text": [
            "To pull someone's leg.\n",
            "347\n"
          ]
        },
        {
          "output_type": "stream",
          "name": "stderr",
          "text": [
            "Setting `pad_token_id` to `eos_token_id`:128001 for open-end generation.\n"
          ]
        },
        {
          "output_type": "stream",
          "name": "stdout",
          "text": [
            "To be alone with one's thoughts is good.\n",
            "348\n"
          ]
        },
        {
          "output_type": "stream",
          "name": "stderr",
          "text": [
            "Setting `pad_token_id` to `eos_token_id`:128001 for open-end generation.\n"
          ]
        },
        {
          "output_type": "stream",
          "name": "stdout",
          "text": [
            "Sweet-talk!\n",
            "349\n"
          ]
        },
        {
          "output_type": "stream",
          "name": "stderr",
          "text": [
            "Setting `pad_token_id` to `eos_token_id`:128001 for open-end generation.\n"
          ]
        },
        {
          "output_type": "stream",
          "name": "stdout",
          "text": [
            "Bad omen, bad name, bad luck.\n",
            "350\n"
          ]
        },
        {
          "output_type": "stream",
          "name": "stderr",
          "text": [
            "Setting `pad_token_id` to `eos_token_id`:128001 for open-end generation.\n"
          ]
        },
        {
          "output_type": "stream",
          "name": "stdout",
          "text": [
            "To play with fire and then cry out to Lord Rama.\n",
            "351\n"
          ]
        },
        {
          "output_type": "stream",
          "name": "stderr",
          "text": [
            "Setting `pad_token_id` to `eos_token_id`:128001 for open-end generation.\n"
          ]
        },
        {
          "output_type": "stream",
          "name": "stdout",
          "text": [
            "Abstinence is better than a cure.\n",
            "352\n"
          ]
        },
        {
          "output_type": "stream",
          "name": "stderr",
          "text": [
            "Setting `pad_token_id` to `eos_token_id`:128001 for open-end generation.\n"
          ]
        },
        {
          "output_type": "stream",
          "name": "stdout",
          "text": [
            "It doesn't ring a bell.\n",
            "353\n"
          ]
        },
        {
          "output_type": "stream",
          "name": "stderr",
          "text": [
            "Setting `pad_token_id` to `eos_token_id`:128001 for open-end generation.\n"
          ]
        },
        {
          "output_type": "stream",
          "name": "stdout",
          "text": [
            "As many faces, as many stories.\n",
            "354\n"
          ]
        },
        {
          "output_type": "stream",
          "name": "stderr",
          "text": [
            "Setting `pad_token_id` to `eos_token_id`:128001 for open-end generation.\n"
          ]
        },
        {
          "output_type": "stream",
          "name": "stdout",
          "text": [
            "To light up the darkness.\n",
            "355\n"
          ]
        },
        {
          "output_type": "stream",
          "name": "stderr",
          "text": [
            "Setting `pad_token_id` to `eos_token_id`:128001 for open-end generation.\n"
          ]
        },
        {
          "output_type": "stream",
          "name": "stdout",
          "text": [
            "A tangled mess!\n",
            "356\n"
          ]
        },
        {
          "output_type": "stream",
          "name": "stderr",
          "text": [
            "Setting `pad_token_id` to `eos_token_id`:128001 for open-end generation.\n"
          ]
        },
        {
          "output_type": "stream",
          "name": "stdout",
          "text": [
            "Plans will come to fruition, but not without a plan.\n",
            "357\n"
          ]
        },
        {
          "output_type": "stream",
          "name": "stderr",
          "text": [
            "Setting `pad_token_id` to `eos_token_id`:128001 for open-end generation.\n"
          ]
        },
        {
          "output_type": "stream",
          "name": "stdout",
          "text": [
            "Pride goes before a fall.\n",
            "358\n"
          ]
        },
        {
          "output_type": "stream",
          "name": "stderr",
          "text": [
            "Setting `pad_token_id` to `eos_token_id`:128001 for open-end generation.\n"
          ]
        },
        {
          "output_type": "stream",
          "name": "stdout",
          "text": [
            "A person recognizes their friend.\n",
            "359\n"
          ]
        },
        {
          "output_type": "stream",
          "name": "stderr",
          "text": [
            "Setting `pad_token_id` to `eos_token_id`:128001 for open-end generation.\n"
          ]
        },
        {
          "output_type": "stream",
          "name": "stdout",
          "text": [
            "A tree is recognized by its fruit.\n",
            "360\n"
          ]
        },
        {
          "output_type": "stream",
          "name": "stderr",
          "text": [
            "Setting `pad_token_id` to `eos_token_id`:128001 for open-end generation.\n"
          ]
        },
        {
          "output_type": "stream",
          "name": "stdout",
          "text": [
            "Blood does not hide, it shows.\n",
            "361\n"
          ]
        },
        {
          "output_type": "stream",
          "name": "stderr",
          "text": [
            "Setting `pad_token_id` to `eos_token_id`:128001 for open-end generation.\n"
          ]
        },
        {
          "output_type": "stream",
          "name": "stdout",
          "text": [
            "God doesn't give a donkey to ride.\n",
            "362\n"
          ]
        },
        {
          "output_type": "stream",
          "name": "stderr",
          "text": [
            "Setting `pad_token_id` to `eos_token_id`:128001 for open-end generation.\n"
          ]
        },
        {
          "output_type": "stream",
          "name": "stdout",
          "text": [
            "A hint is enough for a wise person.\n",
            "363\n"
          ]
        },
        {
          "output_type": "stream",
          "name": "stderr",
          "text": [
            "Setting `pad_token_id` to `eos_token_id`:128001 for open-end generation.\n"
          ]
        },
        {
          "output_type": "stream",
          "name": "stdout",
          "text": [
            "One arrow, two targets.\n",
            "364\n"
          ]
        },
        {
          "output_type": "stream",
          "name": "stderr",
          "text": [
            "Setting `pad_token_id` to `eos_token_id`:128001 for open-end generation.\n"
          ]
        },
        {
          "output_type": "stream",
          "name": "stdout",
          "text": [
            "What a blind man wishes for, two eyes.\n",
            "365\n"
          ]
        },
        {
          "output_type": "stream",
          "name": "stderr",
          "text": [
            "Setting `pad_token_id` to `eos_token_id`:128001 for open-end generation.\n"
          ]
        },
        {
          "output_type": "stream",
          "name": "stdout",
          "text": [
            "The Blind Spot of the Eye is Ignorance.\n",
            "366\n"
          ]
        },
        {
          "output_type": "stream",
          "name": "stderr",
          "text": [
            "Setting `pad_token_id` to `eos_token_id`:128001 for open-end generation.\n"
          ]
        },
        {
          "output_type": "stream",
          "name": "stdout",
          "text": [
            "He's lost his mind, going crazy!\n",
            "367\n"
          ]
        },
        {
          "output_type": "stream",
          "name": "stderr",
          "text": [
            "Setting `pad_token_id` to `eos_token_id`:128001 for open-end generation.\n"
          ]
        },
        {
          "output_type": "stream",
          "name": "stdout",
          "text": [
            "The grapes are sour.\n",
            "368\n"
          ]
        },
        {
          "output_type": "stream",
          "name": "stderr",
          "text": [
            "Setting `pad_token_id` to `eos_token_id`:128001 for open-end generation.\n"
          ]
        },
        {
          "output_type": "stream",
          "name": "stdout",
          "text": [
            "Everything is fine, then everything is fine.\n",
            "369\n"
          ]
        },
        {
          "output_type": "stream",
          "name": "stderr",
          "text": [
            "Setting `pad_token_id` to `eos_token_id`:128001 for open-end generation.\n"
          ]
        },
        {
          "output_type": "stream",
          "name": "stdout",
          "text": [
            "A messy shop!\n",
            "370\n"
          ]
        },
        {
          "output_type": "stream",
          "name": "stderr",
          "text": [
            "Setting `pad_token_id` to `eos_token_id`:128001 for open-end generation.\n"
          ]
        },
        {
          "output_type": "stream",
          "name": "stdout",
          "text": [
            "The thirst is not quenched by talking about it.\n",
            "371\n"
          ]
        },
        {
          "output_type": "stream",
          "name": "stderr",
          "text": [
            "Setting `pad_token_id` to `eos_token_id`:128001 for open-end generation.\n"
          ]
        },
        {
          "output_type": "stream",
          "name": "stdout",
          "text": [
            "A mouthful of nonsense.\n",
            "372\n"
          ]
        },
        {
          "output_type": "stream",
          "name": "stderr",
          "text": [
            "Setting `pad_token_id` to `eos_token_id`:128001 for open-end generation.\n"
          ]
        },
        {
          "output_type": "stream",
          "name": "stdout",
          "text": [
            "The blind spot in the eye.\n",
            "373\n"
          ]
        },
        {
          "output_type": "stream",
          "name": "stderr",
          "text": [
            "Setting `pad_token_id` to `eos_token_id`:128001 for open-end generation.\n"
          ]
        },
        {
          "output_type": "stream",
          "name": "stdout",
          "text": [
            "You're a good person, the whole world is good.\n",
            "374\n"
          ]
        },
        {
          "output_type": "stream",
          "name": "stderr",
          "text": [
            "Setting `pad_token_id` to `eos_token_id`:128001 for open-end generation.\n"
          ]
        },
        {
          "output_type": "stream",
          "name": "stdout",
          "text": [
            "To take a step forward and then take a step back.\n",
            "375\n"
          ]
        },
        {
          "output_type": "stream",
          "name": "stderr",
          "text": [
            "Setting `pad_token_id` to `eos_token_id`:128001 for open-end generation.\n"
          ]
        },
        {
          "output_type": "stream",
          "name": "stdout",
          "text": [
            "Sweet talk.\n",
            "376\n"
          ]
        },
        {
          "output_type": "stream",
          "name": "stderr",
          "text": [
            "Setting `pad_token_id` to `eos_token_id`:128001 for open-end generation.\n"
          ]
        },
        {
          "output_type": "stream",
          "name": "stdout",
          "text": [
            "You can't be in two places at once.\n",
            "377\n"
          ]
        },
        {
          "output_type": "stream",
          "name": "stderr",
          "text": [
            "Setting `pad_token_id` to `eos_token_id`:128001 for open-end generation.\n"
          ]
        },
        {
          "output_type": "stream",
          "name": "stdout",
          "text": [
            "It doesn't ring a bell.\n",
            "378\n"
          ]
        },
        {
          "output_type": "stream",
          "name": "stderr",
          "text": [
            "Setting `pad_token_id` to `eos_token_id`:128001 for open-end generation.\n"
          ]
        },
        {
          "output_type": "stream",
          "name": "stdout",
          "text": [
            "To have a taste of the sea.\n",
            "379\n"
          ]
        },
        {
          "output_type": "stream",
          "name": "stderr",
          "text": [
            "Setting `pad_token_id` to `eos_token_id`:128001 for open-end generation.\n"
          ]
        },
        {
          "output_type": "stream",
          "name": "stdout",
          "text": [
            "A thief's tongue is sweet.\n",
            "380\n"
          ]
        },
        {
          "output_type": "stream",
          "name": "stderr",
          "text": [
            "Setting `pad_token_id` to `eos_token_id`:128001 for open-end generation.\n"
          ]
        },
        {
          "output_type": "stream",
          "name": "stdout",
          "text": [
            "Where did the seeds of the bitter gourd come from?\n",
            "381\n"
          ]
        },
        {
          "output_type": "stream",
          "name": "stderr",
          "text": [
            "Setting `pad_token_id` to `eos_token_id`:128001 for open-end generation.\n"
          ]
        },
        {
          "output_type": "stream",
          "name": "stdout",
          "text": [
            "To beat around the bush.\n",
            "382\n"
          ]
        },
        {
          "output_type": "stream",
          "name": "stderr",
          "text": [
            "Setting `pad_token_id` to `eos_token_id`:128001 for open-end generation.\n"
          ]
        },
        {
          "output_type": "stream",
          "name": "stdout",
          "text": [
            "To wash one's hands of something.\n",
            "383\n"
          ]
        },
        {
          "output_type": "stream",
          "name": "stderr",
          "text": [
            "Setting `pad_token_id` to `eos_token_id`:128001 for open-end generation.\n"
          ]
        },
        {
          "output_type": "stream",
          "name": "stdout",
          "text": [
            "The more the tent, the more the rope is stretched.\n",
            "384\n"
          ]
        },
        {
          "output_type": "stream",
          "name": "stderr",
          "text": [
            "Setting `pad_token_id` to `eos_token_id`:128001 for open-end generation.\n"
          ]
        },
        {
          "output_type": "stream",
          "name": "stdout",
          "text": [
            "As many faces as there are stories.\n",
            "385\n"
          ]
        },
        {
          "output_type": "stream",
          "name": "stderr",
          "text": [
            "Setting `pad_token_id` to `eos_token_id`:128001 for open-end generation.\n"
          ]
        },
        {
          "output_type": "stream",
          "name": "stdout",
          "text": [
            "To cry over spilt milk.\n",
            "386\n"
          ]
        },
        {
          "output_type": "stream",
          "name": "stderr",
          "text": [
            "Setting `pad_token_id` to `eos_token_id`:128001 for open-end generation.\n"
          ]
        },
        {
          "output_type": "stream",
          "name": "stdout",
          "text": [
            "They are crying, but not weeping.\n",
            "387\n"
          ]
        },
        {
          "output_type": "stream",
          "name": "stderr",
          "text": [
            "Setting `pad_token_id` to `eos_token_id`:128001 for open-end generation.\n"
          ]
        },
        {
          "output_type": "stream",
          "name": "stdout",
          "text": [
            "As you wish.\n",
            "388\n"
          ]
        },
        {
          "output_type": "stream",
          "name": "stderr",
          "text": [
            "Setting `pad_token_id` to `eos_token_id`:128001 for open-end generation.\n"
          ]
        },
        {
          "output_type": "stream",
          "name": "stdout",
          "text": [
            "Like a king, so the people.\n",
            "389\n"
          ]
        },
        {
          "output_type": "stream",
          "name": "stderr",
          "text": [
            "Setting `pad_token_id` to `eos_token_id`:128001 for open-end generation.\n"
          ]
        },
        {
          "output_type": "stream",
          "name": "stdout",
          "text": [
            "As if God has kept it, who can see it?\n",
            "390\n"
          ]
        },
        {
          "output_type": "stream",
          "name": "stderr",
          "text": [
            "Setting `pad_token_id` to `eos_token_id`:128001 for open-end generation.\n"
          ]
        },
        {
          "output_type": "stream",
          "name": "stdout",
          "text": [
            "To make a mountain out of a molehill.\n",
            "391\n"
          ]
        },
        {
          "output_type": "stream",
          "name": "stderr",
          "text": [
            "Setting `pad_token_id` to `eos_token_id`:128001 for open-end generation.\n"
          ]
        },
        {
          "output_type": "stream",
          "name": "stdout",
          "text": [
            "In the palm of my hand.\n",
            "392\n"
          ]
        },
        {
          "output_type": "stream",
          "name": "stderr",
          "text": [
            "Setting `pad_token_id` to `eos_token_id`:128001 for open-end generation.\n"
          ]
        },
        {
          "output_type": "stream",
          "name": "stdout",
          "text": [
            "He's drinking his tea with a loud slurp.\n",
            "393\n"
          ]
        },
        {
          "output_type": "stream",
          "name": "stderr",
          "text": [
            "Setting `pad_token_id` to `eos_token_id`:128001 for open-end generation.\n"
          ]
        },
        {
          "output_type": "stream",
          "name": "stdout",
          "text": [
            "On the other side of the coin.\n",
            "394\n"
          ]
        },
        {
          "output_type": "stream",
          "name": "stderr",
          "text": [
            "Setting `pad_token_id` to `eos_token_id`:128001 for open-end generation.\n"
          ]
        },
        {
          "output_type": "stream",
          "name": "stdout",
          "text": [
            "A stray dog, neither of a household nor of a ferry landing.\n",
            "395\n"
          ]
        },
        {
          "output_type": "stream",
          "name": "stderr",
          "text": [
            "Setting `pad_token_id` to `eos_token_id`:128001 for open-end generation.\n"
          ]
        },
        {
          "output_type": "stream",
          "name": "stdout",
          "text": [
            "He's not in the same league.\n",
            "396\n"
          ]
        },
        {
          "output_type": "stream",
          "name": "stderr",
          "text": [
            "Setting `pad_token_id` to `eos_token_id`:128001 for open-end generation.\n"
          ]
        },
        {
          "output_type": "stream",
          "name": "stdout",
          "text": [
            "A poor wretch!\n",
            "397\n"
          ]
        },
        {
          "output_type": "stream",
          "name": "stderr",
          "text": [
            "Setting `pad_token_id` to `eos_token_id`:128001 for open-end generation.\n"
          ]
        },
        {
          "output_type": "stream",
          "name": "stdout",
          "text": [
            "To bend like iron.\n",
            "398\n"
          ]
        },
        {
          "output_type": "stream",
          "name": "stderr",
          "text": [
            "Setting `pad_token_id` to `eos_token_id`:128001 for open-end generation.\n"
          ]
        },
        {
          "output_type": "stream",
          "name": "stdout",
          "text": [
            "I'm not convinced, you're my guest.\n",
            "399\n"
          ]
        },
        {
          "output_type": "stream",
          "name": "stderr",
          "text": [
            "Setting `pad_token_id` to `eos_token_id`:128001 for open-end generation.\n"
          ]
        },
        {
          "output_type": "stream",
          "name": "stdout",
          "text": [
            "To be at a loss.\n",
            "400\n"
          ]
        },
        {
          "output_type": "stream",
          "name": "stderr",
          "text": [
            "Setting `pad_token_id` to `eos_token_id`:128001 for open-end generation.\n"
          ]
        },
        {
          "output_type": "stream",
          "name": "stdout",
          "text": [
            "A fleeting moment of joy followed by darkness.\n",
            "401\n"
          ]
        },
        {
          "output_type": "stream",
          "name": "stderr",
          "text": [
            "Setting `pad_token_id` to `eos_token_id`:128001 for open-end generation.\n"
          ]
        },
        {
          "output_type": "stream",
          "name": "stdout",
          "text": [
            "A tangled mess!\n",
            "402\n"
          ]
        },
        {
          "output_type": "stream",
          "name": "stderr",
          "text": [
            "Setting `pad_token_id` to `eos_token_id`:128001 for open-end generation.\n"
          ]
        },
        {
          "output_type": "stream",
          "name": "stdout",
          "text": [
            "A small mouth, big talk.\n",
            "403\n"
          ]
        },
        {
          "output_type": "stream",
          "name": "stderr",
          "text": [
            "Setting `pad_token_id` to `eos_token_id`:128001 for open-end generation.\n"
          ]
        },
        {
          "output_type": "stream",
          "name": "stdout",
          "text": [
            "A helping hand to those who are drowning.\n",
            "404\n"
          ]
        },
        {
          "output_type": "stream",
          "name": "stderr",
          "text": [
            "Setting `pad_token_id` to `eos_token_id`:128001 for open-end generation.\n"
          ]
        },
        {
          "output_type": "stream",
          "name": "stdout",
          "text": [
            "It's a dog-eat-dog world.\n",
            "405\n"
          ]
        },
        {
          "output_type": "stream",
          "name": "stderr",
          "text": [
            "Setting `pad_token_id` to `eos_token_id`:128001 for open-end generation.\n"
          ]
        },
        {
          "output_type": "stream",
          "name": "stdout",
          "text": [
            "A bunch of foolish people are arguing.\n",
            "406\n"
          ]
        },
        {
          "output_type": "stream",
          "name": "stderr",
          "text": [
            "Setting `pad_token_id` to `eos_token_id`:128001 for open-end generation.\n"
          ]
        },
        {
          "output_type": "stream",
          "name": "stdout",
          "text": [
            "Where is Raja Bhuj, where is Gangu Tili?\n",
            "407\n"
          ]
        },
        {
          "output_type": "stream",
          "name": "stderr",
          "text": [
            "Setting `pad_token_id` to `eos_token_id`:128001 for open-end generation.\n"
          ]
        },
        {
          "output_type": "stream",
          "name": "stdout",
          "text": [
            "Home sweet home.\n",
            "408\n"
          ]
        },
        {
          "output_type": "stream",
          "name": "stderr",
          "text": [
            "Setting `pad_token_id` to `eos_token_id`:128001 for open-end generation.\n"
          ]
        },
        {
          "output_type": "stream",
          "name": "stdout",
          "text": [
            "To take something with a long spoon.\n",
            "409\n"
          ]
        },
        {
          "output_type": "stream",
          "name": "stderr",
          "text": [
            "Setting `pad_token_id` to `eos_token_id`:128001 for open-end generation.\n"
          ]
        },
        {
          "output_type": "stream",
          "name": "stdout",
          "text": [
            "The cat got out when the chickens went to the field.\n",
            "410\n"
          ]
        },
        {
          "output_type": "stream",
          "name": "stderr",
          "text": [
            "Setting `pad_token_id` to `eos_token_id`:128001 for open-end generation.\n"
          ]
        },
        {
          "output_type": "stream",
          "name": "stdout",
          "text": [
            "It's not necessary to be rich to be pious.\n",
            "411\n"
          ]
        },
        {
          "output_type": "stream",
          "name": "stderr",
          "text": [
            "Setting `pad_token_id` to `eos_token_id`:128001 for open-end generation.\n"
          ]
        },
        {
          "output_type": "stream",
          "name": "stdout",
          "text": [
            "Don't trust someone who has once betrayed you.\n",
            "412\n"
          ]
        },
        {
          "output_type": "stream",
          "name": "stderr",
          "text": [
            "Setting `pad_token_id` to `eos_token_id`:128001 for open-end generation.\n"
          ]
        },
        {
          "output_type": "stream",
          "name": "stdout",
          "text": [
            "A good for nothing turns into a good husband.\n",
            "413\n"
          ]
        },
        {
          "output_type": "stream",
          "name": "stderr",
          "text": [
            "Setting `pad_token_id` to `eos_token_id`:128001 for open-end generation.\n"
          ]
        },
        {
          "output_type": "stream",
          "name": "stdout",
          "text": [
            "It's always coming up last.\n",
            "414\n"
          ]
        },
        {
          "output_type": "stream",
          "name": "stderr",
          "text": [
            "Setting `pad_token_id` to `eos_token_id`:128001 for open-end generation.\n"
          ]
        },
        {
          "output_type": "stream",
          "name": "stdout",
          "text": [
            "A small mouth, big talk.\n",
            "415\n"
          ]
        },
        {
          "output_type": "stream",
          "name": "stderr",
          "text": [
            "Setting `pad_token_id` to `eos_token_id`:128001 for open-end generation.\n"
          ]
        },
        {
          "output_type": "stream",
          "name": "stdout",
          "text": [
            "Everyone looks bad to everyone.\n",
            "416\n"
          ]
        },
        {
          "output_type": "stream",
          "name": "stderr",
          "text": [
            "Setting `pad_token_id` to `eos_token_id`:128001 for open-end generation.\n"
          ]
        },
        {
          "output_type": "stream",
          "name": "stdout",
          "text": [
            "As alike as two peas in a pod.\n",
            "417\n"
          ]
        },
        {
          "output_type": "stream",
          "name": "stderr",
          "text": [
            "Setting `pad_token_id` to `eos_token_id`:128001 for open-end generation.\n"
          ]
        },
        {
          "output_type": "stream",
          "name": "stdout",
          "text": [
            "\"Like for like\"\n",
            "418\n"
          ]
        },
        {
          "output_type": "stream",
          "name": "stderr",
          "text": [
            "Setting `pad_token_id` to `eos_token_id`:128001 for open-end generation.\n"
          ]
        },
        {
          "output_type": "stream",
          "name": "stdout",
          "text": [
            "A stray dog, neither of the house nor of the street.\n",
            "419\n"
          ]
        },
        {
          "output_type": "stream",
          "name": "stderr",
          "text": [
            "Setting `pad_token_id` to `eos_token_id`:128001 for open-end generation.\n"
          ]
        },
        {
          "output_type": "stream",
          "name": "stdout",
          "text": [
            "A dirty pot always spoils the soil.\n",
            "420\n"
          ]
        },
        {
          "output_type": "stream",
          "name": "stderr",
          "text": [
            "Setting `pad_token_id` to `eos_token_id`:128001 for open-end generation.\n"
          ]
        },
        {
          "output_type": "stream",
          "name": "stdout",
          "text": [
            "A connection or a link.\n",
            "421\n"
          ]
        },
        {
          "output_type": "stream",
          "name": "stderr",
          "text": [
            "Setting `pad_token_id` to `eos_token_id`:128001 for open-end generation.\n"
          ]
        },
        {
          "output_type": "stream",
          "name": "stdout",
          "text": [
            "One little fish is spoiling the whole broth.\n",
            "422\n"
          ]
        },
        {
          "output_type": "stream",
          "name": "stderr",
          "text": [
            "Setting `pad_token_id` to `eos_token_id`:128001 for open-end generation.\n"
          ]
        },
        {
          "output_type": "stream",
          "name": "stdout",
          "text": [
            "The world teaches you everything.\n",
            "423\n"
          ]
        },
        {
          "output_type": "stream",
          "name": "stderr",
          "text": [
            "Setting `pad_token_id` to `eos_token_id`:128001 for open-end generation.\n"
          ]
        },
        {
          "output_type": "stream",
          "name": "stdout",
          "text": [
            "Tooth and nail.\n",
            "424\n"
          ]
        },
        {
          "output_type": "stream",
          "name": "stderr",
          "text": [
            "Setting `pad_token_id` to `eos_token_id`:128001 for open-end generation.\n"
          ]
        },
        {
          "output_type": "stream",
          "name": "stdout",
          "text": [
            "The coexistence of good and evil.\n",
            "425\n"
          ]
        },
        {
          "output_type": "stream",
          "name": "stderr",
          "text": [
            "Setting `pad_token_id` to `eos_token_id`:128001 for open-end generation.\n"
          ]
        },
        {
          "output_type": "stream",
          "name": "stdout",
          "text": [
            "What's the point of crying over spilt milk?\n",
            "426\n"
          ]
        },
        {
          "output_type": "stream",
          "name": "stderr",
          "text": [
            "Setting `pad_token_id` to `eos_token_id`:128001 for open-end generation.\n"
          ]
        },
        {
          "output_type": "stream",
          "name": "stdout",
          "text": [
            "A difficult situation.\n",
            "427\n"
          ]
        },
        {
          "output_type": "stream",
          "name": "stderr",
          "text": [
            "Setting `pad_token_id` to `eos_token_id`:128001 for open-end generation.\n"
          ]
        },
        {
          "output_type": "stream",
          "name": "stdout",
          "text": [
            "Master and servant have a big difference.\n",
            "428\n"
          ]
        },
        {
          "output_type": "stream",
          "name": "stderr",
          "text": [
            "Setting `pad_token_id` to `eos_token_id`:128001 for open-end generation.\n"
          ]
        },
        {
          "output_type": "stream",
          "name": "stdout",
          "text": [
            "There's always a catch.\n",
            "429\n"
          ]
        },
        {
          "output_type": "stream",
          "name": "stderr",
          "text": [
            "Setting `pad_token_id` to `eos_token_id`:128001 for open-end generation.\n"
          ]
        },
        {
          "output_type": "stream",
          "name": "stdout",
          "text": [
            "To keep one's secret safe is dear to one.\n",
            "430\n"
          ]
        },
        {
          "output_type": "stream",
          "name": "stderr",
          "text": [
            "Setting `pad_token_id` to `eos_token_id`:128001 for open-end generation.\n"
          ]
        },
        {
          "output_type": "stream",
          "name": "stdout",
          "text": [
            "That's a clever one! The English translation is: \"To hold someone's hand and take them somewhere!\"\n",
            "431\n"
          ]
        },
        {
          "output_type": "stream",
          "name": "stderr",
          "text": [
            "Setting `pad_token_id` to `eos_token_id`:128001 for open-end generation.\n"
          ]
        },
        {
          "output_type": "stream",
          "name": "stdout",
          "text": [
            "A wise person learns from experience.\n",
            "432\n"
          ]
        },
        {
          "output_type": "stream",
          "name": "stderr",
          "text": [
            "Setting `pad_token_id` to `eos_token_id`:128001 for open-end generation.\n"
          ]
        },
        {
          "output_type": "stream",
          "name": "stdout",
          "text": [
            "How long do you take to heed the whispers of the ghosts of latons?\n",
            "433\n"
          ]
        },
        {
          "output_type": "stream",
          "name": "stderr",
          "text": [
            "Setting `pad_token_id` to `eos_token_id`:128001 for open-end generation.\n"
          ]
        },
        {
          "output_type": "stream",
          "name": "stdout",
          "text": [
            "Experience is the best teacher.\n",
            "434\n"
          ]
        },
        {
          "output_type": "stream",
          "name": "stderr",
          "text": [
            "Setting `pad_token_id` to `eos_token_id`:128001 for open-end generation.\n"
          ]
        },
        {
          "output_type": "stream",
          "name": "stdout",
          "text": [
            "Severe pain\n",
            "435\n"
          ]
        },
        {
          "output_type": "stream",
          "name": "stderr",
          "text": [
            "Setting `pad_token_id` to `eos_token_id`:128001 for open-end generation.\n"
          ]
        },
        {
          "output_type": "stream",
          "name": "stdout",
          "text": [
            "A sudden pang of pain.\n",
            "436\n"
          ]
        },
        {
          "output_type": "stream",
          "name": "stderr",
          "text": [
            "Setting `pad_token_id` to `eos_token_id`:128001 for open-end generation.\n"
          ]
        },
        {
          "output_type": "stream",
          "name": "stdout",
          "text": [
            "To go straight and take the long route.\n",
            "437\n"
          ]
        },
        {
          "output_type": "stream",
          "name": "stderr",
          "text": [
            "Setting `pad_token_id` to `eos_token_id`:128001 for open-end generation.\n"
          ]
        },
        {
          "output_type": "stream",
          "name": "stdout",
          "text": [
            "It's not going anywhere with me when I'm dead!\n",
            "438\n"
          ]
        },
        {
          "output_type": "stream",
          "name": "stderr",
          "text": [
            "Setting `pad_token_id` to `eos_token_id`:128001 for open-end generation.\n"
          ]
        },
        {
          "output_type": "stream",
          "name": "stdout",
          "text": [
            "As bright as silver in the moonlight.\n",
            "439\n"
          ]
        },
        {
          "output_type": "stream",
          "name": "stderr",
          "text": [
            "Setting `pad_token_id` to `eos_token_id`:128001 for open-end generation.\n"
          ]
        },
        {
          "output_type": "stream",
          "name": "stdout",
          "text": [
            "He's cracking up.\n",
            "440\n"
          ]
        },
        {
          "output_type": "stream",
          "name": "stderr",
          "text": [
            "Setting `pad_token_id` to `eos_token_id`:128001 for open-end generation.\n"
          ]
        },
        {
          "output_type": "stream",
          "name": "stdout",
          "text": [
            "A spendthrift will soon lose all his wealth.\n",
            "441\n"
          ]
        },
        {
          "output_type": "stream",
          "name": "stderr",
          "text": [
            "Setting `pad_token_id` to `eos_token_id`:128001 for open-end generation.\n"
          ]
        },
        {
          "output_type": "stream",
          "name": "stdout",
          "text": [
            "A fool's message.\n",
            "442\n"
          ]
        },
        {
          "output_type": "stream",
          "name": "stderr",
          "text": [
            "Setting `pad_token_id` to `eos_token_id`:128001 for open-end generation.\n"
          ]
        },
        {
          "output_type": "stream",
          "name": "stdout",
          "text": [
            "Many excuses are made.\n",
            "443\n"
          ]
        },
        {
          "output_type": "stream",
          "name": "stderr",
          "text": [
            "Setting `pad_token_id` to `eos_token_id`:128001 for open-end generation.\n"
          ]
        },
        {
          "output_type": "stream",
          "name": "stdout",
          "text": [
            "A crying shame.\n",
            "444\n"
          ]
        },
        {
          "output_type": "stream",
          "name": "stderr",
          "text": [
            "Setting `pad_token_id` to `eos_token_id`:128001 for open-end generation.\n"
          ]
        },
        {
          "output_type": "stream",
          "name": "stdout",
          "text": [
            "Sweet as sugar.\n",
            "445\n"
          ]
        },
        {
          "output_type": "stream",
          "name": "stderr",
          "text": [
            "Setting `pad_token_id` to `eos_token_id`:128001 for open-end generation.\n"
          ]
        },
        {
          "output_type": "stream",
          "name": "stdout",
          "text": [
            "Name is big. Darsan is small.\n",
            "446\n"
          ]
        },
        {
          "output_type": "stream",
          "name": "stderr",
          "text": [
            "Setting `pad_token_id` to `eos_token_id`:128001 for open-end generation.\n"
          ]
        },
        {
          "output_type": "stream",
          "name": "stdout",
          "text": [
            "Where there is no tree, even a bird is a tree.\n",
            "447\n"
          ]
        },
        {
          "output_type": "stream",
          "name": "stderr",
          "text": [
            "Setting `pad_token_id` to `eos_token_id`:128001 for open-end generation.\n"
          ]
        },
        {
          "output_type": "stream",
          "name": "stdout",
          "text": [
            "We'll add as much sugar as needed, it will be sweet enough.\n",
            "448\n"
          ]
        },
        {
          "output_type": "stream",
          "name": "stderr",
          "text": [
            "Setting `pad_token_id` to `eos_token_id`:128001 for open-end generation.\n"
          ]
        },
        {
          "output_type": "stream",
          "name": "stdout",
          "text": [
            "It's a piece of cake.\n",
            "449\n"
          ]
        },
        {
          "output_type": "stream",
          "name": "stderr",
          "text": [
            "Setting `pad_token_id` to `eos_token_id`:128001 for open-end generation.\n"
          ]
        },
        {
          "output_type": "stream",
          "name": "stdout",
          "text": [
            "Good clothes have a good effect on others.\n",
            "450\n"
          ]
        },
        {
          "output_type": "stream",
          "name": "stderr",
          "text": [
            "Setting `pad_token_id` to `eos_token_id`:128001 for open-end generation.\n"
          ]
        },
        {
          "output_type": "stream",
          "name": "stdout",
          "text": [
            "A cold iron cuts through hot iron.\n",
            "451\n"
          ]
        },
        {
          "output_type": "stream",
          "name": "stderr",
          "text": [
            "Setting `pad_token_id` to `eos_token_id`:128001 for open-end generation.\n"
          ]
        },
        {
          "output_type": "stream",
          "name": "stdout",
          "text": [
            "Will a hungry soldier fight to the death?\n",
            "452\n"
          ]
        },
        {
          "output_type": "stream",
          "name": "stderr",
          "text": [
            "Setting `pad_token_id` to `eos_token_id`:128001 for open-end generation.\n"
          ]
        },
        {
          "output_type": "stream",
          "name": "stdout",
          "text": [
            "The more we cry, the more it grows.\n",
            "453\n"
          ]
        },
        {
          "output_type": "stream",
          "name": "stderr",
          "text": [
            "Setting `pad_token_id` to `eos_token_id`:128001 for open-end generation.\n"
          ]
        },
        {
          "output_type": "stream",
          "name": "stdout",
          "text": [
            "The more you suffer, the less you are troubled, but happiness increases.\n",
            "454\n"
          ]
        },
        {
          "output_type": "stream",
          "name": "stderr",
          "text": [
            "Setting `pad_token_id` to `eos_token_id`:128001 for open-end generation.\n"
          ]
        },
        {
          "output_type": "stream",
          "name": "stdout",
          "text": [
            "A national mind can only reside in a strong body.\n",
            "455\n"
          ]
        },
        {
          "output_type": "stream",
          "name": "stderr",
          "text": [
            "Setting `pad_token_id` to `eos_token_id`:128001 for open-end generation.\n"
          ]
        },
        {
          "output_type": "stream",
          "name": "stdout",
          "text": [
            "The white patch is more noticeable on white clothes.\n",
            "456\n"
          ]
        },
        {
          "output_type": "stream",
          "name": "stderr",
          "text": [
            "Setting `pad_token_id` to `eos_token_id`:128001 for open-end generation.\n"
          ]
        },
        {
          "output_type": "stream",
          "name": "stdout",
          "text": [
            "Out of place.\n",
            "457\n"
          ]
        },
        {
          "output_type": "stream",
          "name": "stderr",
          "text": [
            "Setting `pad_token_id` to `eos_token_id`:128001 for open-end generation.\n"
          ]
        },
        {
          "output_type": "stream",
          "name": "stdout",
          "text": [
            "He is killing two birds with one stone.\n",
            "458\n"
          ]
        },
        {
          "output_type": "stream",
          "name": "stderr",
          "text": [
            "Setting `pad_token_id` to `eos_token_id`:128001 for open-end generation.\n"
          ]
        },
        {
          "output_type": "stream",
          "name": "stdout",
          "text": [
            "He's in a tight spot and can't wriggle out of it.\n",
            "459\n"
          ]
        },
        {
          "output_type": "stream",
          "name": "stderr",
          "text": [
            "Setting `pad_token_id` to `eos_token_id`:128001 for open-end generation.\n"
          ]
        },
        {
          "output_type": "stream",
          "name": "stdout",
          "text": [
            "It looks crooked in water.\n",
            "460\n"
          ]
        },
        {
          "output_type": "stream",
          "name": "stderr",
          "text": [
            "Setting `pad_token_id` to `eos_token_id`:128001 for open-end generation.\n"
          ]
        },
        {
          "output_type": "stream",
          "name": "stdout",
          "text": [
            "The wind direction can be known from a bottle.\n",
            "461\n"
          ]
        },
        {
          "output_type": "stream",
          "name": "stderr",
          "text": [
            "Setting `pad_token_id` to `eos_token_id`:128001 for open-end generation.\n"
          ]
        },
        {
          "output_type": "stream",
          "name": "stdout",
          "text": [
            "He is a man who learns to walk after falling.\n",
            "462\n"
          ]
        },
        {
          "output_type": "stream",
          "name": "stderr",
          "text": [
            "Setting `pad_token_id` to `eos_token_id`:128001 for open-end generation.\n"
          ]
        },
        {
          "output_type": "stream",
          "name": "stdout",
          "text": [
            "Sweet tooth.\n",
            "463\n"
          ]
        },
        {
          "output_type": "stream",
          "name": "stderr",
          "text": [
            "Setting `pad_token_id` to `eos_token_id`:128001 for open-end generation.\n"
          ]
        },
        {
          "output_type": "stream",
          "name": "stdout",
          "text": [
            "Someone else's tongue is in someone else's control.\n",
            "464\n"
          ]
        },
        {
          "output_type": "stream",
          "name": "stderr",
          "text": [
            "Setting `pad_token_id` to `eos_token_id`:128001 for open-end generation.\n"
          ]
        },
        {
          "output_type": "stream",
          "name": "stdout",
          "text": [
            "Worse than a thief.\n",
            "465\n"
          ]
        },
        {
          "output_type": "stream",
          "name": "stderr",
          "text": [
            "Setting `pad_token_id` to `eos_token_id`:128001 for open-end generation.\n"
          ]
        },
        {
          "output_type": "stream",
          "name": "stdout",
          "text": [
            "A cup of tea invitation.\n",
            "466\n"
          ]
        },
        {
          "output_type": "stream",
          "name": "stderr",
          "text": [
            "Setting `pad_token_id` to `eos_token_id`:128001 for open-end generation.\n"
          ]
        },
        {
          "output_type": "stream",
          "name": "stdout",
          "text": [
            "One day as a thief, the next day as a king.\n",
            "467\n"
          ]
        },
        {
          "output_type": "stream",
          "name": "stderr",
          "text": [
            "Setting `pad_token_id` to `eos_token_id`:128001 for open-end generation.\n"
          ]
        },
        {
          "output_type": "stream",
          "name": "stdout",
          "text": [
            "The government covers up its mistakes.\n",
            "468\n"
          ]
        },
        {
          "output_type": "stream",
          "name": "stderr",
          "text": [
            "Setting `pad_token_id` to `eos_token_id`:128001 for open-end generation.\n"
          ]
        },
        {
          "output_type": "stream",
          "name": "stdout",
          "text": [
            "The stranger's Diwali is short-lived.\n",
            "469\n"
          ]
        },
        {
          "output_type": "stream",
          "name": "stderr",
          "text": [
            "Setting `pad_token_id` to `eos_token_id`:128001 for open-end generation.\n"
          ]
        },
        {
          "output_type": "stream",
          "name": "stdout",
          "text": [
            "When someone has a stake in something, they make a big show of it.\n",
            "470\n"
          ]
        },
        {
          "output_type": "stream",
          "name": "stderr",
          "text": [
            "Setting `pad_token_id` to `eos_token_id`:128001 for open-end generation.\n"
          ]
        },
        {
          "output_type": "stream",
          "name": "stdout",
          "text": [
            "A sickly pomegranate.\n",
            "471\n"
          ]
        },
        {
          "output_type": "stream",
          "name": "stderr",
          "text": [
            "Setting `pad_token_id` to `eos_token_id`:128001 for open-end generation.\n"
          ]
        },
        {
          "output_type": "stream",
          "name": "stdout",
          "text": [
            "This grass will remain the same.\n",
            "472\n"
          ]
        },
        {
          "output_type": "stream",
          "name": "stderr",
          "text": [
            "Setting `pad_token_id` to `eos_token_id`:128001 for open-end generation.\n"
          ]
        },
        {
          "output_type": "stream",
          "name": "stdout",
          "text": [
            "This is a phrase in Urdu, and it translates to:\n",
            "\n",
            "\"The world will always be like this.\"\n",
            "473\n"
          ]
        },
        {
          "output_type": "stream",
          "name": "stderr",
          "text": [
            "Setting `pad_token_id` to `eos_token_id`:128001 for open-end generation.\n"
          ]
        },
        {
          "output_type": "stream",
          "name": "stdout",
          "text": [
            "He has a great deal of respect for the noble.\n",
            "474\n"
          ]
        },
        {
          "output_type": "stream",
          "name": "stderr",
          "text": [
            "Setting `pad_token_id` to `eos_token_id`:128001 for open-end generation.\n"
          ]
        },
        {
          "output_type": "stream",
          "name": "stdout",
          "text": [
            "To one's own enemy is a blessing!\n",
            "475\n"
          ]
        },
        {
          "output_type": "stream",
          "name": "stderr",
          "text": [
            "Setting `pad_token_id` to `eos_token_id`:128001 for open-end generation.\n"
          ]
        },
        {
          "output_type": "stream",
          "name": "stdout",
          "text": [
            "A tree is recognized by its fruit.\n",
            "476\n"
          ]
        },
        {
          "output_type": "stream",
          "name": "stderr",
          "text": [
            "Setting `pad_token_id` to `eos_token_id`:128001 for open-end generation.\n"
          ]
        },
        {
          "output_type": "stream",
          "name": "stdout",
          "text": [
            "It seems like a problem is between us, because it's as if you are in a different form, and I am myself.\n",
            "477\n"
          ]
        },
        {
          "output_type": "stream",
          "name": "stderr",
          "text": [
            "Setting `pad_token_id` to `eos_token_id`:128001 for open-end generation.\n"
          ]
        },
        {
          "output_type": "stream",
          "name": "stdout",
          "text": [
            "Vengeance will be mine.\n",
            "478\n"
          ]
        },
        {
          "output_type": "stream",
          "name": "stderr",
          "text": [
            "Setting `pad_token_id` to `eos_token_id`:128001 for open-end generation.\n",
            "Setting `pad_token_id` to `eos_token_id`:128001 for open-end generation.\n"
          ]
        },
        {
          "output_type": "stream",
          "name": "stdout",
          "text": [
            "A brave person's glance is more effective than a coward's sword.\n",
            "479\n",
            "Nothing\n",
            "480\n"
          ]
        },
        {
          "output_type": "stream",
          "name": "stderr",
          "text": [
            "Setting `pad_token_id` to `eos_token_id`:128001 for open-end generation.\n"
          ]
        },
        {
          "output_type": "stream",
          "name": "stdout",
          "text": [
            "What's the point of getting up early if you're just going to sleep in late anyway?\n",
            "481\n"
          ]
        },
        {
          "output_type": "stream",
          "name": "stderr",
          "text": [
            "Setting `pad_token_id` to `eos_token_id`:128001 for open-end generation.\n"
          ]
        },
        {
          "output_type": "stream",
          "name": "stdout",
          "text": [
            "There are ears on the wall.\n",
            "482\n"
          ]
        },
        {
          "output_type": "stream",
          "name": "stderr",
          "text": [
            "Setting `pad_token_id` to `eos_token_id`:128001 for open-end generation.\n"
          ]
        },
        {
          "output_type": "stream",
          "name": "stdout",
          "text": [
            "Farewell Party\n",
            "483\n"
          ]
        },
        {
          "output_type": "stream",
          "name": "stderr",
          "text": [
            "Setting `pad_token_id` to `eos_token_id`:128001 for open-end generation.\n"
          ]
        },
        {
          "output_type": "stream",
          "name": "stdout",
          "text": [
            "He who is full of his own belly thinks everyone else is hungry.\n",
            "484\n"
          ]
        },
        {
          "output_type": "stream",
          "name": "stderr",
          "text": [
            "Setting `pad_token_id` to `eos_token_id`:128001 for open-end generation.\n"
          ]
        },
        {
          "output_type": "stream",
          "name": "stdout",
          "text": [
            "He's showing off his ignorance everywhere.\n",
            "485\n"
          ]
        },
        {
          "output_type": "stream",
          "name": "stderr",
          "text": [
            "Setting `pad_token_id` to `eos_token_id`:128001 for open-end generation.\n"
          ]
        },
        {
          "output_type": "stream",
          "name": "stdout",
          "text": [
            "Who cares what someone else thinks!\n",
            "486\n"
          ]
        },
        {
          "output_type": "stream",
          "name": "stderr",
          "text": [
            "Setting `pad_token_id` to `eos_token_id`:128001 for open-end generation.\n"
          ]
        },
        {
          "output_type": "stream",
          "name": "stdout",
          "text": [
            "To be wise is necessary for one's opponent.\n",
            "487\n"
          ]
        },
        {
          "output_type": "stream",
          "name": "stderr",
          "text": [
            "Setting `pad_token_id` to `eos_token_id`:128001 for open-end generation.\n"
          ]
        },
        {
          "output_type": "stream",
          "name": "stdout",
          "text": [
            "Wherever you wish, there is a way.\n",
            "488\n"
          ]
        },
        {
          "output_type": "stream",
          "name": "stderr",
          "text": [
            "Setting `pad_token_id` to `eos_token_id`:128001 for open-end generation.\n"
          ]
        },
        {
          "output_type": "stream",
          "name": "stdout",
          "text": [
            "A wise friend is better than a foolish enemy.\n",
            "489\n"
          ]
        },
        {
          "output_type": "stream",
          "name": "stderr",
          "text": [
            "Setting `pad_token_id` to `eos_token_id`:128001 for open-end generation.\n"
          ]
        },
        {
          "output_type": "stream",
          "name": "stdout",
          "text": [
            "Being on the left side is a sign of intelligence.\n",
            "490\n"
          ]
        },
        {
          "output_type": "stream",
          "name": "stderr",
          "text": [
            "Setting `pad_token_id` to `eos_token_id`:128001 for open-end generation.\n"
          ]
        },
        {
          "output_type": "stream",
          "name": "stdout",
          "text": [
            "A person of wisdom doesn't try to put the moon in a plate.\n",
            "491\n"
          ]
        },
        {
          "output_type": "stream",
          "name": "stderr",
          "text": [
            "Setting `pad_token_id` to `eos_token_id`:128001 for open-end generation.\n"
          ]
        },
        {
          "output_type": "stream",
          "name": "stdout",
          "text": [
            "He learns from the experiences of wise fools.\n",
            "492\n"
          ]
        },
        {
          "output_type": "stream",
          "name": "stderr",
          "text": [
            "Setting `pad_token_id` to `eos_token_id`:128001 for open-end generation.\n"
          ]
        },
        {
          "output_type": "stream",
          "name": "stdout",
          "text": [
            "The wise are few in the world.\n",
            "493\n"
          ]
        },
        {
          "output_type": "stream",
          "name": "stderr",
          "text": [
            "Setting `pad_token_id` to `eos_token_id`:128001 for open-end generation.\n"
          ]
        },
        {
          "output_type": "stream",
          "name": "stdout",
          "text": [
            "The English translation is: \"You can't put a lid on a wise person's mind.\"\n",
            "494\n"
          ]
        },
        {
          "output_type": "stream",
          "name": "stderr",
          "text": [
            "Setting `pad_token_id` to `eos_token_id`:128001 for open-end generation.\n"
          ]
        },
        {
          "output_type": "stream",
          "name": "stdout",
          "text": [
            "A wise person has control over their mind, and a foolish person has no control over theirs.\n",
            "495\n"
          ]
        },
        {
          "output_type": "stream",
          "name": "stderr",
          "text": [
            "Setting `pad_token_id` to `eos_token_id`:128001 for open-end generation.\n"
          ]
        },
        {
          "output_type": "stream",
          "name": "stdout",
          "text": [
            "He's a clever fellow, always on the lookout for opportunities.\n",
            "496\n"
          ]
        },
        {
          "output_type": "stream",
          "name": "stderr",
          "text": [
            "Setting `pad_token_id` to `eos_token_id`:128001 for open-end generation.\n"
          ]
        },
        {
          "output_type": "stream",
          "name": "stdout",
          "text": [
            "A genius doesn't publicize his losses.\n",
            "497\n"
          ]
        },
        {
          "output_type": "stream",
          "name": "stderr",
          "text": [
            "Setting `pad_token_id` to `eos_token_id`:128001 for open-end generation.\n"
          ]
        },
        {
          "output_type": "stream",
          "name": "stdout",
          "text": [
            "Where has my courage gone?\n",
            "498\n"
          ]
        },
        {
          "output_type": "stream",
          "name": "stderr",
          "text": [
            "Setting `pad_token_id` to `eos_token_id`:128001 for open-end generation.\n"
          ]
        },
        {
          "output_type": "stream",
          "name": "stdout",
          "text": [
            "To and fro.\n",
            "499\n"
          ]
        },
        {
          "output_type": "stream",
          "name": "stderr",
          "text": [
            "Setting `pad_token_id` to `eos_token_id`:128001 for open-end generation.\n"
          ]
        },
        {
          "output_type": "stream",
          "name": "stdout",
          "text": [
            "To cut a long story short.\n",
            "500\n",
            "In sheep's clothing\n"
          ]
        }
      ]
    },
    {
      "cell_type": "code",
      "source": [
        "from nltk.translate.bleu_score import sentence_bleu"
      ],
      "metadata": {
        "id": "WAjoxvDP1lEu"
      },
      "execution_count": 42,
      "outputs": []
    },
    {
      "cell_type": "code",
      "source": [
        "!pip install nltk\n",
        "import nltk\n",
        "from nltk.translate.bleu_score import corpus_bleu\n",
        "nltk.download('punkt')"
      ],
      "metadata": {
        "colab": {
          "base_uri": "https://localhost:8080/"
        },
        "id": "KC7DZsPT3wRQ",
        "outputId": "3c9cd56c-0cac-4f06-ce41-465e8dbde832"
      },
      "execution_count": 43,
      "outputs": [
        {
          "output_type": "stream",
          "name": "stdout",
          "text": [
            "Requirement already satisfied: nltk in /usr/local/lib/python3.10/dist-packages (3.8.1)\n",
            "Requirement already satisfied: click in /usr/local/lib/python3.10/dist-packages (from nltk) (8.1.7)\n",
            "Requirement already satisfied: joblib in /usr/local/lib/python3.10/dist-packages (from nltk) (1.4.0)\n",
            "Requirement already satisfied: regex>=2021.8.3 in /usr/local/lib/python3.10/dist-packages (from nltk) (2023.12.25)\n",
            "Requirement already satisfied: tqdm in /usr/local/lib/python3.10/dist-packages (from nltk) (4.66.2)\n"
          ]
        },
        {
          "output_type": "stream",
          "name": "stderr",
          "text": [
            "[nltk_data] Downloading package punkt to /root/nltk_data...\n",
            "[nltk_data]   Unzipping tokenizers/punkt.zip.\n"
          ]
        },
        {
          "output_type": "execute_result",
          "data": {
            "text/plain": [
              "True"
            ]
          },
          "metadata": {},
          "execution_count": 43
        }
      ]
    },
    {
      "cell_type": "code",
      "source": [
        "def calculate_bleu(translated_idioms):\n",
        "  references = []\n",
        "  candidates = []\n",
        "  for _, translated_text, expected_english in translated_idioms:\n",
        "    # Tokenize the expected and generated translations\n",
        "    reference = nltk.word_tokenize(expected_english.lower())\n",
        "    candidate = nltk.word_tokenize(translated_text.lower())\n",
        "\n",
        "    # For corpus BLEU scores, references are lists of lists, candidates are lists\n",
        "    references.append([reference])  # reference needs to be a list of lists\n",
        "    candidates.append(candidate)\n",
        "\n",
        "  # Calculate the BLEU score\n",
        "  bleu_score = corpus_bleu(references, candidates)\n",
        "  return bleu_score\n",
        "\n",
        "def calculate_exact_match_score(translated_idioms):\n",
        "  exact_matches = sum(1 for _, translated, expected in translated_idioms if translated.strip().lower() == expected.strip().lower())\n",
        "  return exact_matches / len(translated_idioms)\n",
        "\n",
        "def weighted_score(bleu_score, exact_match_score, bleu_weight=0.5, exact_match_weight=0.5):\n",
        "  return (bleu_score * bleu_weight) + (exact_match_score * exact_match_weight)"
      ],
      "metadata": {
        "id": "j4pN22wI2Gu4"
      },
      "execution_count": 44,
      "outputs": []
    },
    {
      "cell_type": "code",
      "source": [
        "bleu_score = calculate_bleu(translated_idioms)\n",
        "exact_match_score = calculate_exact_match_score(translated_idioms)\n",
        "final_score = weighted_score(bleu_score, exact_match_score, bleu_weight=1, exact_match_weight=0)\n",
        "print(f\"Combined Score: {final_score:.2f}\")"
      ],
      "metadata": {
        "colab": {
          "base_uri": "https://localhost:8080/",
          "height": 216
        },
        "id": "R6hC2qfw2UVm",
        "outputId": "432a1377-2a81-4e97-d44c-73d595a746b1"
      },
      "execution_count": 53,
      "outputs": [
        {
          "output_type": "error",
          "ename": "NameError",
          "evalue": "name 'translated_idioms' is not defined",
          "traceback": [
            "\u001b[0;31m---------------------------------------------------------------------------\u001b[0m",
            "\u001b[0;31mNameError\u001b[0m                                 Traceback (most recent call last)",
            "\u001b[0;32m<ipython-input-53-2ac776dc24e3>\u001b[0m in \u001b[0;36m<cell line: 1>\u001b[0;34m()\u001b[0m\n\u001b[0;32m----> 1\u001b[0;31m \u001b[0mbleu_score\u001b[0m \u001b[0;34m=\u001b[0m \u001b[0mcalculate_bleu\u001b[0m\u001b[0;34m(\u001b[0m\u001b[0mtranslated_idioms\u001b[0m\u001b[0;34m)\u001b[0m\u001b[0;34m\u001b[0m\u001b[0;34m\u001b[0m\u001b[0m\n\u001b[0m\u001b[1;32m      2\u001b[0m \u001b[0mexact_match_score\u001b[0m \u001b[0;34m=\u001b[0m \u001b[0mcalculate_exact_match_score\u001b[0m\u001b[0;34m(\u001b[0m\u001b[0mtranslated_idioms\u001b[0m\u001b[0;34m)\u001b[0m\u001b[0;34m\u001b[0m\u001b[0;34m\u001b[0m\u001b[0m\n\u001b[1;32m      3\u001b[0m \u001b[0mfinal_score\u001b[0m \u001b[0;34m=\u001b[0m \u001b[0mweighted_score\u001b[0m\u001b[0;34m(\u001b[0m\u001b[0mbleu_score\u001b[0m\u001b[0;34m,\u001b[0m \u001b[0mexact_match_score\u001b[0m\u001b[0;34m,\u001b[0m \u001b[0mbleu_weight\u001b[0m\u001b[0;34m=\u001b[0m\u001b[0;36m1\u001b[0m\u001b[0;34m,\u001b[0m \u001b[0mexact_match_weight\u001b[0m\u001b[0;34m=\u001b[0m\u001b[0;36m0\u001b[0m\u001b[0;34m)\u001b[0m\u001b[0;34m\u001b[0m\u001b[0;34m\u001b[0m\u001b[0m\n\u001b[1;32m      4\u001b[0m \u001b[0mprint\u001b[0m\u001b[0;34m(\u001b[0m\u001b[0;34mf\"Combined Score: {final_score:.2f}\"\u001b[0m\u001b[0;34m)\u001b[0m\u001b[0;34m\u001b[0m\u001b[0;34m\u001b[0m\u001b[0m\n",
            "\u001b[0;31mNameError\u001b[0m: name 'translated_idioms' is not defined"
          ]
        }
      ]
    },
    {
      "cell_type": "code",
      "source": [
        "print(translated_idioms)"
      ],
      "metadata": {
        "colab": {
          "base_uri": "https://localhost:8080/"
        },
        "id": "DxIZLk9k31uZ",
        "outputId": "069b4c50-829a-4368-b079-a08f8f8cc6b1"
      },
      "execution_count": null,
      "outputs": [
        {
          "output_type": "stream",
          "name": "stdout",
          "text": [
            "[('ہمتِ مرداں مددِ خدا۔', 'We are dead, God help us.', 'The courage of men is aided by God.'), ('کام بِن دام نہیں۔', \"It's not a job.\", 'Nothing comes without a price.'), ('مشق انسان کو کامل بنا دیتی ہے۔', 'Practice makes perfect.', 'Practice makes a person perfect.'), ('جہاں چاہ وہاں راہ۔', 'Wherever there is a way.', 'Where there is a will, there is a way.'), ('انت بھلا تو سب بھلا۔', 'All is well.', 'If the end is good, everything is good.'), ('زندگی پھولوں کی سیج نہیں۔', 'Life is not a bouquet of flowers.', 'Life is not a bed of roses.'), ('زندگی زندہ دلی کا نام ہے۔', 'Life is the name of the living heart.', 'Life is the name of a lively heart.'), ('تجربہ سب سے بڑا استاد ہے۔', 'Experience is the greatest teacher.', 'Experience is the greatest teacher.'), ('دودھ کا جلا چھاچھ بھی پھونک پھونک کر پیتا ہے۔', 'Milk is also blown away by the wind.', 'Even a burnt milk pudding is consumed bit by bit.'), ('وقت کسی کا انتظار نہیں کرتا۔', 'Time does not wait for anyone.', 'Time waits for no one.'), ('وقت پر ایک ٹانکا نو کا کام کر دیتا ہے۔', 'But a single stitch does the job of nine.', 'Time can accomplish a task worth nine coins.'), ('وقت سب سے بڑا مرہم ہے۔', 'Time is the greatest perfume.', 'Time is the greatest healer.'), ('وقت وقت کا راگ اچھا ہوتا ہے۔', 'Time is a good thing.', 'Each moment has its own charm.'), ('وقت پڑنے پر گدھے کو باپ بناتے ہیں۔', 'When the time comes, the donkey becomes the father.', 'Desperation turns a crow into a swan.'), ('دیر آید درست آید۔', \"It's too late.\", 'Better late than never.'), ('آج کا کام کل پر مت چھوڑو۔', \"Don't leave today's work for tomorrow.\", \"Do not leave today's work for tomorrow.\"), ('محبت اندھی ہوتی ہے۔', 'Love is blind.', 'Love is blind.'), ('محبت اور جنگ میں ہر چیز جائز ہوتی ہے۔', 'Everything is permissible in love and war.', 'Everything is fair in love and war'), ('دل کو دل سے راہ ہوتی ہے۔', 'The heart leads to the heart.', 'The heart finds its way through the heart.'), ('دل کو ہو قرار تو سب کو سوجھیں تیوہار۔', 'If you want to be a heart, you have to be a festival.', \"If your heart is at peace, you understand everyone's celebration.\"), ('دوست وہ جو مصیبت میں کام آئے۔', 'Friends who came in handy in times of trouble.', 'A friend is one who is helpful in times of trouble.'), ('اپنا اپنا غیر غیر۔', 'Your own non-non.', \"Yours is yours, and others' is others'.\"), ('دوست ہوتا نہیں ہر ہاتھ ملانے والا۔', 'Not everyone who shakes hands is a friend.', 'Not everyone who shakes hands is a friend.'), ('دوست کا دشمن دشمن، دشمن کا دشمن دوست', 'Enemy of friend, enemy of enemy, friend of enemy', \"A friend's enemy is an enemy, and an enemy's enemy is a friend.\"), ('یار زندہ صحبت باقی۔', \"Dude, the company's alive.\", 'The company of a friend keeps you alive.'), ('ماں کی دعا جنت کی ہوا۔', \"Mother's prayer was answered.\", \"A mother's prayer is the breeze of paradise.\"), ('دوستوں کو قریب لیکن دشمنوں کو قریب تر رکھو۔', 'Keep friends close but enemies close.', 'Keep friends close but keep enemies closer.'), ('تندرستی ہزار نعمت ہے', 'Health is a thousand blessings', 'Good health is a thousand blessings.'), ('تن سکھی تو من سکھی', 'You learned. You learned.', 'If the body is healthy, the mind is healthy.'), ('پرہیز علاج سے بہتر ہے۔', 'Prevention is better than cure.', 'Prevention is better than cure.'), ('جو شخص محتاط رہتا ہے اِس پر مصیبت نہیں آتی ۔', 'The man who is cautious will not be harmed.', 'A person who is careful will not suffer.'), ('کھسیانی بلی کھمبا نوچے', 'Coughing cat, coughing cat', 'To show anger after getting embarrassed'), ('گھر کا بھیدی لنکا ڈھاۓ', \"The house's hidden link.\", 'Traitors are the worst enemy'), ('گھر کی مرغی دال برابر', 'Chicken of the house equal', 'No one is a hero in his house'), ('گیہوں کےساتھ گھن بھی پس جاتا ھے', \"It's the same with cows.\", 'When buffaloes fight the grass suffers'), ('لاتوں کے بھوت باتوں سے نہیں مانتے', 'The demons of the dead do not believe in words', 'Rod is the logic of fools'), ('مایا دل کی چھایا', \"The Shadow of Maya's Heart\", 'Riches have wings'), ('موت کا کوئی علاج نہیں', 'There is no cure for death.', 'Death defies the doctor'), ('اپنا اپنا غیر غیر', 'your own non-non', 'Blood is thicker than water'), ('آسمان سے گرا کھجورمیں اٹکا', 'The palm trees fell from the sky.', 'Out of the frying pan into the fire'), ('آنکھ اوجھل پہاڑاوجھل', 'The eye is hidden by the mountains.', 'Out of sight, out of mind'), ('آدھا تیتر آدھا بٹیر', 'Half the teeth, half the beard.', 'Neither fish nor fowl'), ('اتفاق میں برکت ہے', 'I agree blessed', 'Union is strength'), ('ادلے کا بدلہ', 'The Reward of Repentance', 'Tit for tat'), ('سہج پکے سو میٹھا ہو', 'The soup is cooked and sweet.', 'Slow and steady wins the race'), ('الخاموشی نیم رضا', 'Al-Khoushi and Reza', 'Silent is half consent'), ('انت بھلے کا بھلا', 'The Good of the Good', 'All’s well that ends well'), ('انسان خطا کا پتلا ہے', 'Man is thin with sin', 'To err is human'), ('اندھا کیا چاہے دو آنکھیں', 'Whether blind or two-eyed', 'A wish coming true'), ('جتنے منہ اتنی باتیں', 'As many mouths as there are words', 'More mouths will have more talks'), ('دور کے ڈھول سہانے', 'Drumming away', 'The grass is always cleaner on the other side'), ('بہتی گنگا میں ہاتھ دھونا', 'Washing hands in the Ganges River', 'To use available opportunity'), ('اب پچھتاۓ کیا ہؤت جب چڑیا چگ گئ کھیت', 'Now what happened when the bird ate the chicken?', 'It is no use crying over spilled milk'), ('چاردن کی چاندنی پھر اندھیری رات', 'Four days of moonlight and then dark night.', 'A nine days wonder'), ('ہمت مرداں مدد خدا', \"God's Help for the Dead\", 'God helps those who help themselves'), ('جب تک سانس تب تک آس', 'As long as you breathe', 'As long as there is life there is hope'), ('جہاں پھول وہاں کانٹا', 'Where the flower is there is a thorn', 'There is no rose without a thorn'), ('دونوں ہاتھوں سے دولت لٹانا', 'To get wealth with both hands', 'To burn the candle at both ends'), ('دیواروں کے بھی کان ہرتے ہیں', 'The walls are ringing too.', 'Even walls have ears'), ('عقلمند کو اشارہ کافی ہے', 'A sign is enough for the wise.', 'A word of wise is enough'), ('کر بھلا ہوبھلا', 'Doing good', 'Do good have good'), ('ہتھیلی پر سرسوں نہیں جمتی', \"It doesn't grow on your hands.\", 'Rome was not built on a day'), ('اونٹ کے منہ میں زیرہ', \"Under the camel's mouth\", 'A drop into the ocean'), ('اونچی دوکان پھیکا پکوان', 'High shop, thick dishes', 'Great boast little roast'), ('اول خویش بعد درویش', 'First the self, then the self.', 'Charity begins at home'), ('ایک ہاتھ سے تالی نہیں بجتی', 'One hand does not ring the bell.', 'It takes two to make a quarrel'), ('ایک تیرسےدوشکار', 'A thirty-two', 'Two hunts with one arrow'), ('بغل میں چھری منہ میں رام رام', 'The knife in the mouth of Ram Ram', 'A wolf in sheep’s clothing'), ('بھینس کے آگے بین بجانا', 'Playing the harp in front of the buffalo', 'Casting pearls before swine'), ('بھاگتے چور کی لنگوٹی ہی سہی', \"The thief's tongue is rotting.\", 'Something is better than nothing'), ('پرہیز علاج سے بہترہے', 'Prevention is better than cure.', 'Prevention is better than cure'), ('پہلے تولوپھر بولو', 'First you say it, then you say it.', 'Think before you leap'), ('آدمی اپنی صحبت سے پہچانا جاتا ہے', 'A man is known by his company', 'A man is known by the company he keeps'), ('آگے کنواں پیچھے کھائی', 'The well dug in the back', 'Between the devil and the deep sea'), ('اپنے منہ میاں مٹھو بننا', \"Become your mother's mouthpiece\", 'Self-praise is not a recommendation'), ('اندھوں میں کانا راجہ', \"The blind man's king\", 'A figure among ciphers'), ('بد اچھا بدنام برا', 'Good notorious bad', 'A bad name is worse than a bad deed'), ('ایک تیرسے دو شکار', 'One thirty-two victims', 'Two hunts with one arrow'), ('بات کا بتنگڑ بنانا', 'How can we avoid being misled?', 'To make a mountain of a maul hill'), ('بہتے دریا میں ہاتھ دھونا', 'Washing hands in the flowing river', 'To strike while the iron is hot'), ('بوڑھی گھوڑی لال لگام', 'Old horse red leg', 'Old mare red reigns'), ('تندرستی ہزار نعمت ہے', 'Health is a thousand blessings', 'Health is wealth'), ('تھوتھا چنا باجے گھنا', 'Thotha Chana Bajay Ghana', 'The empty vessel makes much noise'), ('تین میں نہ تیرہ میں', 'Not in three, not in thirteen.', 'Neither king nor minister'), ('جب تک سانس تب تک آس', 'As long as you breathe', 'As long as there is life there is hope'), ('جس کی لاتھی اسکی بھینس', 'The one whose beard is short', 'Might is right'), ('جلدی کا کام شیطان کا', 'The work of the devil in haste', 'Haste makes waste'), ('جوگرجتےہیں وہ برستے نہیں', \"If they don't, they don't.\", 'Barking dogs seldom bite'), ('جہاں چاہ وہاں راہ', 'Wherever there is a way', 'Where there is a will there is a way'), ('جیسا بوؤگے ویساکاٹوگے', 'Like a boogie or a whisper.', 'As you sow so shall you reap'), ('دام بناۓ کام', 'Make the work.', 'Money makes the mare go'), ('کام پیارا ہے جام پیارا نہیں', 'Work is lovely, not drinking.', 'Handsome is that handsome does'), ('قدر کھو دیتا ہے روز کا آنا جانا', 'Loses value the day to come', 'Too much familiarity breeds contempt'), ('عشق نہ پوچھے ذات', 'Do not ask for love', 'Love is blind'), ('طویلے کی بلا بندر کے سر', 'The head of a calling bird', 'To arrest Tom and punish Sam'), ('سانچ کو آنچ نہیں', 'Not the mold.', 'Truth fears no examination'), ('دھوبی کا کتا گھر کا نا گھاٹ کا', 'The dog of the house of the dust', 'A rolling stone gathers no moss'), ('ایمانداری بہترین حکمت عملی ہے', 'Honesty is the best strategy', 'Honesty is the best policy'), ('دودھ کا جلا چھاچھ بھی پھونک پھونک کر پیتا ہے', 'The milk is also blown and drunk.', 'A burnt child dreads the fire'), ('دال میں کچھ کالا ہے', 'I have some black pulses.', 'There is something wrong with the bottom'), ('خربوزے کو دیکھ کر خربوزہ رنگ پکرتا ہے', 'The color of the watermelon is reflected in the watermelon.', 'Society molds a man'), ('دل کو دل سےراہ ہوتی ہے', 'The heart is the way to the heart', 'Love begets love'), ('ڈوبتے کوتنکےکا سہارا', \"The drowning man's support\", 'A drowning man catches at a straw'), ('ہرچمکتی ہوئی چیز سونا نہیں ہوتی', 'Everything that shines is not gold.', 'All that glitters is not gold'), ('سیوہ بن میوہ نہیں', 'Not a fruit.', 'No pains no gains'), ('غرور کا سرنیچا', 'The Head of Pride', 'Pride hath a fall'), ('ضرورت ایجاد کی ماں ہے', 'Necessity is the mother of invention.', 'Necessity is the mother of invention'), ('لوہا لوہے کو کاٹتا ہے', 'The iron cuts the iron', 'Diamond cuts diamond'), ('لالچ بری بلا ہے', 'Greed is a bad thing.', 'Greed is curse'), ('ناچ نہ جانے آنگن ٹیڑھا', \"Don't go dancing in the courtyard\", 'A bad workman always quarrels with his tools'), ('نو نقد نہ تیرہ ادھار', 'No cash or loans', 'A bird in hand is worth two in the bush'), ('نہیں محتاج زیورکاجسے خوبی خدا نے دی', 'Not the need for jewelry that God has given', 'Beauty requires no paint'), ('نیکی کردریا میں ڈال', 'Put it in a good curry', 'Expect no good in return'), ('وقت اورموت کسی کا انتظار نہیں کرتی', 'Time and death do not wait for anyone', 'Time and tide wait for none'), ('ہاتھ کنگن کو آرسی کیا', \"What happened to the king's hand?\", 'Evidence does not need proof'), ('انگور کھٹے ہیں', 'The grapes are ripe.', 'Grapes are sour'), ('یہ منہ اور مسورکی دال', 'This mouth and the musk of the date', 'Honey is not for ass’s mouth'), ('وقت کا ایک ٹانکا بے وقت کے سو ٹانکوں سے بچاتا ہے', 'One ton of time saves a hundred tonnes of wasted time.', 'A stitch in time saves nine'), ('نیم حکیم خطرہ جان، نیم ملا خطرہ ایمان', 'Neither wise nor dangerous, neither faithful nor dangerous', 'A little knowledge is a dangerous thing'), ('مان نہ مان میں تیرا مہمان', 'Your guest in Man Na Man', 'An uninvited guest is never welcomed'), ('لکیر کا فقیر', 'The line of the poor', 'To go about the same beaten path'), ('جتنے منہ اتنی باتیں', 'As many mouths as there are words', 'More mouths will have more talks'), ('جسے اللہ رکھے اُسے کون چکھے', 'Who can taste what God has given?', 'If Allah wills not, no one can Harm.'), ('بھوکے کو سوکھی بھی چپڑی کے برابر', 'Even if you are hungry, you will be satisfied.', 'Nothing comes amiss to a hungry man'), ('بہتی گنگا میں ہاتھ دھونا', 'Washing hands in the Ganges River', 'To use the available opportunity'), ('ہاتھ کنگن کو آرسی کیا', \"What happened to the king's hand?\", 'Evidence does not need proof'), ('بندر کیا جانے ادرک کا سواد', 'The taste of ginger is known to the port', 'Casting pearls before swine'), ('آگے کنواں پیچھے کھائی', 'The well dug in the back', 'Between the devil and the deep-sea'), ('جلے پر نمک چھڑکنا', 'Sprinkle salt on the burn', 'Rubbing salt on one’s wound'), ('انتھ بھلا تو سب بھلا', 'Is everything all right?', 'All’s well that ends well'), ('تالی ایک ہاتھ سے نہیں بجتی', 'A hand does not ring a bell', 'It takes two to quarrel'), ('اندھا کیا چاہے دو آنکھیں', 'Whether blind or two-eyed', 'A wish coming True.'), ('آنکھ کا اندھا نام نین سکھ', \"The blind man's name is Nien Sikh\", \"Opposite qualities of meaning of person's name.\"), ('کہاں راجہ بھوج کہاں گنگوتیلی', 'Where is Raja Bhoj? Where is Ganguitheli?', 'Big difference in status or Class.'), ('کھسیانی بلی کھمبا نوچے', 'Coughing cat, coughing cat', 'To show anger after getting embarrassed.'), ('چوری کا مال موری میں', 'In the case of theft,', 'Money earned the wrong way will be taken away, would be lost.'), ('چھوٹا منہ بڑی بات', 'Small mouth big word', 'To talk big without having a big position.'), ('جتنے منہ اتنی باتیں', 'As many mouths as there are words', 'More mouths will have more talks.'), ('بہتی گنگا میں ہاتھ دھونا', 'Washing hands in the Ganges River', 'To use the available opportunity.'), ('مان نہ مان میں تیرا مہمان', 'Your guest in Man Na Man', 'Getting involved without having.'), ('دور کے ڈھول سُہانے', 'Drums of the past', 'The grass is always greener on the other side.'), ('گنگا گائے گنگا داس جمنا گائے جمنا داس', 'Ganga Ganga Das Jamna Ganga Das Jamna Das is the name of the river that flows through the city.', 'A person of no principles.'), ('گھر کا بھیدی لنکا ڈھائے', \"The house's secret link is broken.\", 'Division is main reason for the damage.'), ('چور کی داڑھی میں تنکا', \"A thief's beard\", 'One is afraid of his/her crime.'), ('ہاتھ کنگن کو آرسی کیا', \"What happened to the king's hand?\", 'Evidence does not need proof.'), ('دھوبی کا کتا نہ گھر کا نہ گھاٹ کا', 'Neither the dog of the house nor the dog of the yard', 'A person try to be on two sides goes nowhere.'), ('جیسی کرنی ویسی بھرنی', 'Like a worm, like a worm', 'As you sow so shall you reap.'), ('انگور کھٹے ہیں', 'The grapes are ripe.', 'Sour grapes.'), ('بندر کیا جانے ادرک کا سواد', 'The taste of ginger is known to the port', 'Casting pearls before swine.'), ('دال میں کالا', 'Black in the Dal', 'More to it than meets the eye.'), ('ناچ نہ جانے آنگھن ٹیڑھا', \"Don't go dancing around\", 'A poor worker blames his tools.'), ('جلے پر نمک چھڑکنا', 'Sprinkle salt on the burn', \"Rubbing salt on one's wound.\"), ('آگے کنواں پیچھے کھائی', 'The well dug in the back', 'Between the devil and the deep sea.'), ('جتنی چادر ہو اتنا پیر پھیلاو', 'Spread as much as you can.', 'Cut your coat according to your cloth.'), ('اب پچھتائے کیا، جب چڑیاں چگ گئیں کھیت', 'Now what happened, when the birds were eating', 'No use crying over spilt milk.'), ('انتھ بھلا تو سب بھلا', 'Is everything all right?', \"All's well that ends well.\"), ('تالی ایک ہاتھ سے نہیں بجتی', 'A hand does not ring a bell', 'It takes two to quarrel.'), ('جہاں چاہ وہاں رہ', 'Stay wherever you want.', \"Where there's a will, there's a way\"), ('دودھ کا جلا چھاچھ بھی پھونک کر پیتا ہے', 'He also drinks milk by blowing it.', 'Once bitten twice shy.'), ('جیسا دیس ویسا بھیس', 'Like a country like that', 'In Rome do as the Romans do.'), ('ایک میان میں دو تلواریں نہیں سماتیں', 'There are no two swords in one sheath.', 'No man can serve two masters.'), ('کھوٹا چھنا باجے گھنا', 'The result is a thick, crispy dough.', 'Empty vessels make more noise.'), ('اوس چاٹنے سے پیاس نہیں بجھتی', \"Licking it doesn't quench your thirst.\", 'A fog cannot be dispelled by a fan.'), ('چور چور مسیرے بھائی', 'Thief, thief, brother', 'Birds of same feather flock together.'), ('کر برا تو ہوئے برا', 'Doing badly', 'Do evil & look for like.'), ('اپنے منہ میاں مٹھو', 'Close your mouth', 'Fool to others to himself a sage.'), ('آپ بھلے تو جگ بھلا', 'Will you be able to see?', 'Good mind, good find.'), ('اسکی عقل چرنے کو گئی ہے', 'His mind has gone to the pastures', 'His wits are gone a wool gathering.'), ('جو گرجتے ہیں وہ برستے نہیں', 'Those who thunder are not rain.', 'Barking dogs seldom bite.'), ('لالچ بری بلا ہے', 'Greed is a bad thing.', 'Avarice is root of all evils.'), ('بوئے پودے ببول کے آم کہاں سے ہوئے', 'Where did the boiled potatoes come from?', 'Gather thistles & expect pickles.'), ('ڈوبتے کو تنکے کا سہارا', 'The support of the drowning man', 'Drowning man catches at straw'), ('لوہے کے چنے چبانا', 'Chewing iron', 'Hard nut to crack.'), ('جیسا راجا ویسی پرجا', 'Like the king and the vassal.', 'As the King so are the subjects.'), ('سانچ کو آنچ نہیں', 'Not the mold.', 'Pure gold does not fear the flame.'), ('اونچی دوکان پھیکا پکوان', 'High shop, thick dishes', 'Great cry little wool.'), ('اونٹ کے منہ میں زیرا', \"The camel's mouth is full of worms\", 'A drop in the Ocean'), ('چار دن کی چاندنی پھر اندھیری رات', 'Four days of moonlight and then dark night.', 'A nine days wonder.'), ('بھینس کے آگے بین بجانا', 'Playing the harp in front of the buffalo', 'Crying in wilderness.'), ('نیکی کر دریا میں ڈال', 'Do good and put it in the river', 'Do good & cast in to the river.'), ('لوہا لوہے کو کاٹتا ہے', 'The iron cuts the iron', 'Diamonds cut diamonds.'), ('اندھوں میں کانا راجہ', \"The blind man's king\", 'A figure among cyphers.'), ('نیم حکیم خطرہ جان', 'The Nearly Wise Threat', 'A little Knowledge is a dangerous thing.'), ('بخل میں چھری منہ پے رام رام', 'A knife in the back of the head, Ram Ram.', \"A wolf in lamb's clothing.\"), ('جان ہے تو جہان ہے', 'You know, the world is', 'Only if you are alive, things matter.'), ('جیسے اللہ رکھے اسے کون چکھے', 'Who can taste it, God willing?', 'If Allah wills not, no one can Harm.'), ('لکیر کا فقیر', 'The line of the poor', 'To go about the same old beaten path.'), ('بچہ بغل میں ڈھنڈورا شہر میں', 'The child in the city of Dandora in Bugal', 'Child is in the armpit, chaos in the city.'), ('تیل دیکھو تیل کی دھار دیکھو', 'Look at the oil. Look at the oil.', 'Watch the oil and watch it pour.'), ('سانپ بھی مر جائے، لاٹھی بھی نہ ٹوٹے', 'Even the snake dies, even the stick does not break', \"The snake dies and the club doesn't break.\"), ('ایک تیر سے دو شکار', 'Two victims with one arrow', 'Two hunts with one arrow.'), ('بوڑھی گھوڑی لال لگام', 'Old horse red leg', 'Old mare, red reigns.'), ('دودھ کا دودھ پانی کا پانی', 'Milk of milk of water', 'Milk of milk, Water of water.'), ('پتھر پے لکیر', 'Stone line', 'Line on the rock.'), ('بھاگتے چور کی لنگوٹی ہی سہی', \"The thief's tongue is rotting.\", \"A running thief's underwear is right. Some thing is better then nothing\"), ('ضرورت ایجاد کی ماں ہے', 'Necessity is the mother of invention.', 'Necessity is a mother of invention'), ('چور کا بھائی گٹھ کترا ! ۔', \"The thief's brother is a thief!\", 'THEY AGREE LIKE PICK-POCKETS IN A FAIR'), ('بھوکے کو سوکھی بھی چپڑی کے برابر ۔', 'Even the hungry are like a slap in the face.', 'NOTHING COMES AMISS TO A HUNGRY MAN'), ('جہاں کا پیئے پانی وہاں کی بولے بانی', 'Where the drinking water is, the founder speaks.', 'While in Rome do as Romans do'), ('جیسی کرنی ویسی بھرنی', 'Like a worm, like a worm', 'As you sow, so shall you reap'), ('جنگل میں موتی کی قدر نہیں ہوتی', 'Pearls are not valued in the forest.', 'A thing is not valued where it belongs'), ('آپ بھلا تو جگ بھلا', 'Will you be happy?', 'To the good, the world appears good'), ('تھوتھا چنا باجے گھنا', 'Thotha Chana Bajay Ghana', 'An empty vessel makes much noise'), ('تندرستی ہزار نعمت ہے', 'Health is a thousand blessings', 'Health is wealth'), ('کایا کو دکھ دیئے بغیر کوئی کام نہیں ہوتا', \"There's nothing to do without hurting Kaya.\", 'No pain, no gain'), ('گیا وقت پھر پاتھ نہیں آتا', 'Time did not come again.', 'Time once lost cannot be regained'), ('خربوزے کو دیکھکر خربوزہ رنگ پکڑتا ہے', 'The color of the watermelon catches the eye of the watermelon', 'Society moulds men'), ('ایک اور ایک گیارہ', 'One and eleven', 'Union is strength'), ('گدھے کو گدھا کھجاتا ہے', 'The donkey eats the donkey', 'Fools praise fools'), ('اپنی اپنی ڈفلی اپنا اپنا راگ', 'Your own Difley your own Rag', 'Many heads many minds'), ('جو گرجتے ہیں وہ برستے نہیں', 'Those who thunder are not rain.', 'Barking dogs seldom bite'), ('من کے لڈؤں سے بھوک نہیں مٹتی', 'The hunger does not go away from the lips of the mind', 'It is not use building castles in the air'), ('نو نقد نہ تیرا ادھار', 'No cash or your loan', 'Penny wise found pound foolish'), ('ادھار دیجئے دشمنی لیھئے', 'Borrow the enemy.', 'Give loan, enemy own'), ('ایک تھیلی کے چٹے بٹے', 'A bag of chips', 'Birds of a feather flock together'), ('جہیں چاہ وہاں راہ', 'Wherever there is a way', 'Where there is a will, there is a way'), ('ناچ نہ جانے آنگن ٹیڑھا', \"Don't go dancing in the courtyard\", 'A bad carpenter quarrels with his tools'), ('خاموشی نیم رضا مندی ہے', 'Silence is half-hearted.', 'Silence is half consent'), ('اوچھا مرتن چھلکتا ہے', 'The dead are rising.', 'an empty vessel makes much noise'), ('آدمی پیٹ کا غلام', 'The man is a slave to the stomach', 'A man is a salve to his stomach'), ('آگے دوڑ پیچھے چھوڑ', 'Running forward leaving behind', 'To more haste, the worse speed'), ('دودھ کس جلا چھاچھ کو بھی پھونک مار کر پیتا ہے', 'Milk is also blown by a burning torch.', 'A burnt child dreads the fire'), ('بغل میں چھری منہ میں رام رام', 'The knife in the mouth of Ram Ram', 'A honey tongue, a heart of gall'), ('نیم حکیم خطرہ جان', 'The Nearly Wise Threat', 'A little knowledge is a dangerous thing'), ('انجام بھلا تو سب بھلا', 'Is it all good?', 'All’s well that ends well'), ('کپڑے کو دیکھ کر عزت ملتی ہے', 'The clothes are respected.', 'Style makes the man'), ('کانٹے سے کانٹآ نکلتا ہے', 'The thorn comes out of the thorn', 'One nail drives another'), ('موتی گہرے پانی میں ہوتا ہے', 'Pearls are found in deep water', 'Truth lies at the bottom of a well'), ('ہر کام کا وقت مقرر ہے', 'For every deed there is an appointed time.', 'There is a time for every thing'), ('جھوٹ کی انتہا نہیں', 'Not the extreme of lying.', 'One lie leads to another'), ('اس دنیا میں ہر طرح کے لوگ رہتے ہیں', 'There are all kinds of people in this world.', 'It takes two to make a quarrel'), ('تالی دونوں ہاتھوں سے بجتی ہے', 'The applause rings with both hands', 'It takes all sorts to make the world'), ('دوست وہی جو مصیبت میں کام آۓ', 'The same friend who works in trouble.', 'A friend in need is a friend indeed'), ('جسے اللہ رکھے اُسے کون چکھے', 'Who can taste what God has given?', 'If Allah wills not, no one can Harm.'), ('بھوکے کو سوکھی بھی چپڑی کے برابر', 'Even if you are hungry, you will be satisfied.', 'Nothing comes amiss to a hungry man'), ('اندھا کیا چاہے دو آنکھیں', 'Whether blind or two-eyed', 'A wish coming True.'), ('آنکھ کا اندھا نام نین سکھ', \"The blind man's name is Nien Sikh\", 'Opposite qualities of the meaning of person’s name'), ('کھسیانی بلی کھمبا نوچے', 'Coughing cat, coughing cat', 'To show anger after getting embarrassed.'), ('کہاں راجہ بھوج کہاں گنگوتیلی', 'Where is Raja Bhoj? Where is Ganguitheli?', 'Big difference in status or Class'), ('جتنے منہ اتنی باتیں', 'As many mouths as there are words', 'More mouths will have more talks'), ('چھوٹا منہ بڑی بات', 'Small mouth big word', 'To talk big without having a big position'), ('چوری کا مال موری میں', 'In the case of theft,', 'Money earned the wrong way will be taken away, would be lost'), ('دور کے ڈھول سُہانے', 'Drums of the past', 'The grass is always greener on the other side'), ('مان نہ مان میں تیرا مہمان', 'Your guest in Man Na Man', 'Getting involved without having'), ('بہتی گنگا میں ہاتھ دھونا', 'Washing hands in the Ganges River', 'To use the available opportunity'), ('گنگا گائے گنگا داس جمنا گائے جمنا داس', 'Ganga Ganga Das Jamna Ganga Das Jamna Das is the name of the river that flows through the city.', 'A person with no principles'), ('گھر کا بھیدی لنکا ڈھائے', \"The house's secret link is broken.\", 'Division is the main reason for the damage'), ('چور کی داڑھی میں تنکا', \"A thief's beard\", 'One is afraid of his/her crime'), ('جیسی کرنی ویسی بھرنی', 'Like a worm, like a worm', 'As you sow so shall you reap'), ('دھوبی کا کتا نہ گھر کا نہ گھاٹ کا', 'Neither the dog of the house nor the dog of the yard', 'A person tries to be on two sides goes nowhere'), ('ہاتھ کنگن کو آرسی کیا', \"What happened to the king's hand?\", 'Evidence does not need proof'), ('انگور کھٹے ہیں', 'The grapes are ripe.', 'Sour grapes'), ('بندر کیا جانے ادرک کا سواد', 'The taste of ginger is known to the port', 'Casting pearls before swine'), ('دال میں کالا', 'Black in the Dal', 'More to it than meets the eye'), ('آگے کنواں پیچھے کھائی', 'The well dug in the back', 'Between the devil and the deep-sea'), ('جلے پر نمک چھڑکنا', 'Sprinkle salt on the burn', 'Rubbing salt on one’s wound'), ('ناچ نہ جانے آنگھن ٹیڑھا', \"Don't go dancing around\", 'A poor worker blames his tools'), ('انتھ بھلا تو سب بھلا', 'Is everything all right?', 'All’s well that ends well'), ('اب پچھتائے کیا، جب چڑیاں چگ گئیں کھیت', 'Now what happened, when the birds were eating', 'No use crying over spilled milk'), ('جتنی چادر ہو اتنا پیر پھیلاو', 'Spread as much as you can.', 'Cut your coat according to your cloth'), ('تالی ایک ہاتھ سے نہیں بجتی', 'A hand does not ring a bell', 'It takes two to quarrel'), ('جہاں چاہ وہاں رہ', 'Stay wherever you want.', 'Where there’s a will, there’s a way'), ('دودھ کا جلا چھاچھ بھی پھونک کر پیتا ہے', 'He also drinks milk by blowing it.', 'Once bitten twice shy'), ('کھوٹا چھنا باجے گھنا', 'The result is a thick, crispy dough.', 'Empty vessels make more noise'), ('ایک میان میں دو تلواریں نہیں سماتیں', 'There are no two swords in one sheath.', 'No man can serve two masters'), ('جیسا دیس ویسا بھیس', 'Like a country like that', 'In Rome do as the Romans do'), ('اوس چاٹنے سے پیاس نہیں بجھتی', \"Licking it doesn't quench your thirst.\", 'A fog cannot be dispelled by a fan'), ('چور چور مسیرے بھائی', 'Thief, thief, brother', 'Birds of the same feather flock together'), ('کر برا تو ہوئے برا', 'Doing badly', 'Do evil & look for like'), ('اسکی عقل چرنے کو گئی ہے', 'His mind has gone to the pastures', 'His wits are gone a wool-gathering'), ('آپ بھلے تو جگ بھلا', 'Will you be able to see?', 'Good mind, good find'), ('اپنے منہ میاں مٹھو', 'Close your mouth', 'Fool to others to himself a sage'), ('جو گرجتے ہیں وہ برستے نہیں', 'Those who thunder are not rain.', 'Barking dogs seldom bite'), ('لالچ بری بلا ہے', 'Greed is a bad thing.', 'Avarice is the root of all evils'), ('لوہے کے چنے چبانا', 'Chewing iron', 'Hard nut to crack'), ('ڈوبتے کو تنکے کا سہارا', 'The support of the drowning man', 'Drowning man catches at a straw'), ('بوئے پودے ببول کے آم کہاں سے ہوئے', 'Where did the boiled potatoes come from?', 'Gather thistles & expect pickles'), ('جیسا راجا ویسی پرجا', 'Like the king and the vassal.', 'As the King so are the subjects'), ('سانچ کو آنچ نہیں', 'Not the mold.', 'Pure gold does not fear the flame'), ('اونچی دوکان پھیکا پکوان', 'High shop, thick dishes', 'Great cry little wool'), ('بھینس کے آگے بین بجانا', 'Playing the harp in front of the buffalo', 'Crying in the wilderness'), ('چار دن کی چاندنی پھر اندھیری رات', 'Four days of moonlight and then dark night.', 'A nine days wonder'), ('اونٹ کے منہ میں زیرا', \"The camel's mouth is full of worms\", 'A drop in the Ocean'), ('نیکی کر دریا میں ڈال', 'Do good and put it in the river', 'Do good & cast into the river.'), ('لوہا لوہے کو کاٹتا ہے', 'The iron cuts the iron', 'Diamonds cut diamonds'), ('اندھوں میں کانا راجہ', \"The blind man's king\", 'A figure among cyphers'), ('جان ہے تو جہان ہے', 'You know, the world is', 'Only if you are alive, things matter'), ('بخل میں چھری منہ پے رام رام', 'A knife in the back of the head, Ram Ram.', 'A wolf in lamb’s clothing'), ('نیم حکیم خطرہ جان', 'The Nearly Wise Threat', 'A little Knowledge is a dangerous thing'), ('لکیر کا فقیر', 'The line of the poor', 'To go about the same old beaten path'), ('بچہ بغل میں ڈھنڈورا شہر میں', 'The child in the city of Dandora in Bugal', 'Child is in the armpit, chaos in the city'), ('تیل دیکھو تیل کی دھار دیکھو', 'Look at the oil. Look at the oil.', 'Watch the oil and watch it pour'), ('سانپ بھی مر جائے، لاٹھی بھی نہ ٹوٹے', 'Even the snake dies, even the stick does not break', 'The snake dies and the club doesn’t break'), ('ایک تیر سے دو شکار', 'Two victims with one arrow', 'Two hunts with one arrow'), ('بوڑھی گھوڑی لال لگام', 'Old horse red leg', 'Old mare red reigns'), ('بھاگتے چور کی لنگوٹی ہی سہی', \"The thief's tongue is rotting.\", 'Something is better than nothing.'), ('پتھر پے لکیر', 'Stone line', 'Line on the rock'), ('دودھ کا دودھ پانی کا پانی', 'Milk of milk of water', 'Milk of milk, Water of water'), ('ضرورت ایجاد کی ماں ہے', 'Necessity is the mother of invention.', 'Necessity is a mother of invention'), ('چور کا بھائی گٹھ کترا', \"The thief's brother, Gath Katra\", 'They agree like pick-pockets in a fair'), ('عقلمند اپنے ہی پھندے میں نہیں پھنستا', 'The wise man does not fall into his own trap', 'A fox never dies in the dirt of his own'), ('کتاب ایک ایسا دوست ہے جو کبھی دھوکہ نھیں دیتا', 'A book is a friend that never betrays', 'A book is a friend that never deceives'), ('جو کم سوچتے ہیں وہی زیادہ بولتے ہیں', 'Those who think less speak more.', 'The less people think the more they talk'), ('دِل میں زہر زبان پر شہد', 'Honey on the tongue of poison in the heart', 'Many kisses the hand they wish cut off'), ('مَری ہُوئی مَکّھی سے شہد نہیں نکلتا', 'Honey does not come from the honeycomb', 'A dead bee makes no honey'), ('ایک انار سو بیمار', 'A pineapple is sick', 'One post and a hundred candidates'), ('دوست راہ چلتے نہیں بنتے', 'Friends do not make the path', 'Friendship is to be bought at a fair'), ('ننگی کیا نہاۓ گی ۔ کیا نچوڑے گی', 'What will be the nakedness, what will be the nakedness?', 'No one can strip a naked person'), ('جِس نے کی شرم اس کے پھوٹے کرم', \"Who's ashamed of his scattered worms\", 'The modesty will be the ruin of you'), ('شرافت نیت سے ہے', \"It's from the noble intention\", 'The mind ennobles not the blood'), ('ٹال مٹول کام شیطان کا ہے', \"The devil's work is a trap.\", 'When God says today, the devil says tomorrow'), ('ایک کو سائی ۔ دوسرے کو بدھائی', 'One to Shai, the other to Buddhai', 'To invite one and feast another'), ('ایک مچھلی سارے جال کو گندا کرتی ہے', 'A fish spoils the whole net', 'A single sinner sink the boat'), ('نو نقد نہ تیرہ اُدھار', 'Nine Cash and Thirteen Examples', 'Batter an egg today than a hen tomorrow'), ('بھلا جو چاہے آپ کا ۔ دینا نہ رکھے باپ کا', \"What do you want? Don't give it to your father.\", 'Out of debt, out of danger'), ('بھٹ پڑے وہ سونا جِس سے ٹوٹیں کان', 'The gold that was broken by the falling debris', 'Better cut the shoe than pinch the foot'), ('پھول میں کانٹا ہے', 'The flower has a thorn', 'Honey is sweet but the bee stings'), ('سیوا بن میوا کہاں', 'Where is the fruit?', 'No pains no gains'), ('کاہل فقیر کا بھائی', 'The brother of Kahil Fakir', 'The slothful man is the beggar’s brother'), ('بھو سے بغیر اناج نہیں', 'No grain without hunger', 'No corn without chaff'), ('دوڑنے سے پہلے چلنا سیکھو !', 'Learn to walk before you run!', 'Creep before you gang'), ('مان نہ مان میں تیرا مہمان', 'Your guest in Man Na Man', 'Whether you recognize me or not I am your guest'), ('کوٹھی والا روۓ چھپر والا سوۓ', 'The one with the coat, the one with the hat, the one with the sleeping bag.', 'Uneasy lies the head that wears the crown'), ('خالی باتوں سے بھی کہیں پیٹ بھرتا ہے', 'It fills the stomach with empty words.', 'Do not give me words instead of the meal'), ('مُفت کی شراب قاضی پر حلال', 'Free wine is legal in the court', 'An empty door will tempt a saint'), ('ایک اور ایک گیارہ', 'One and eleven', 'Union is the strength'), ('شتابی میں خرابی ہے', 'There is a defect in the Shtabi', 'Error is always in the hassle'), ('سارے انڈے ایک ہی ٹوکری میں مت رکھو', \"Don't put all your eggs in one basket\", 'Do not put all your eggs in one basket'), ('سر منڈاتے ہی اولے پڑے', 'They will be thrown into confusion.', 'A poor man’s rain'), ('بڑھاپے کی مفلسی سب سے بُری', 'The elderly are the worst.', 'Poverty on an old man’s back is a heavy burden'), ('یہ منہ اور مسور کی دال', 'This mouth and the beard of the musk', 'Honey is not for the ass’s mouth'), ('ہمت مرداں مددِ خُدا', 'The courage to die for God', 'God helps those who helps himself'), ('آسمان سے گرا کھجور میں اٹکا', 'It fell from the sky and stuck in the palm tree.', 'Out of the frying pan into the fire'), ('اپنے منہ میاں مٹھو بننا', \"Become your mother's mouthpiece\", 'Acting like a parrot'), ('بندر کیا جانے ادرک کا سواد', 'The taste of ginger is known to the port', 'Monkey does not knows the taste of ginger'), ('اونٹ رے اونٹ تیری کون سی کل سیدھی', 'The camel ray the camel your which is straight tomorrow', 'Camel o camel which side of you is straight'), ('ایک انار سو بیمار', 'A pineapple is sick', 'One pomegranate and hundred ill people'), ('اونچی دکان پھیکا پکوان', 'High store of spicy dishes', 'Expensive shop but food is not tasty'), ('آگ لگنے پر کنواں کھودنا', 'Digging a well on fire', 'digging a well when the fire starts'), ('آستین کا سانپ', 'The snake of Austin', 'snake of cuff'), ('آ بیل مجھے مار', 'Come and kill me.', 'come bull hit me'), ('آسمان سے گرا کھجور میں اٹکا', 'It fell from the sky and stuck in the palm tree.', 'Fell from the sky and stuck in a date tree.'), ('موت کا کوئی علاج نہیں', 'There is no cure for death.', 'Death defies the doctor.'), ('موت کا کوئی اعتبار نہیں', 'There is no trust in death.', 'Death keeps no calendar.'), ('مصیبت میں کوئی کسی کا ساتھ نہیں دیتا', 'No one supports anyone in trouble', 'Adversity flatters no man.'), ('گڑےمردے اکھاڑنا', 'To tear apart the dead', 'Taking up old quarrels.'), ('بری صحبت سے اکیلا رہنا اچھا', 'It is better to be alone than in bad company', 'Better alone than in a bad company.'), ('اپنے منہ میاں مٹھو', 'Close your mouth', \"To blow one's own trumpet.\"), ('بد اچھا بد نام برا', 'Good bad bad name bad', 'A bad name is worse than a bad deed.'), ('بغل میں چھری منہ میں رام رام', 'The knife in the mouth of Ram Ram', \"A wolf in sheep's clothing.\"), ('پرہیز علاج سے بہتر ہے', 'Prevention is better than cure.', 'Prevention is better than cure.'), ('تالی ایک ہاتھ سے نہیں بجتی', 'A hand does not ring a bell', 'It takes two to make a quarrel.'), ('جتنے منہ اتنی باتیں', 'As many mouths as there are words', 'As many mouths, so many opinions.'), ('چراغ تلے اندھیرا', 'The lamp is dark.', 'Near the church farther from God.'), ('چور کی داڑھی میں تنکا', \"A thief's beard\", 'A guilty conscious needs no accuser.'), ('تقدیر کے آ گے تدبیر کی نہیں چلتی', 'Fate will not come by way of plan', 'There is no cure to bad luck.'), ('غرور کا سر نیچا', 'The head of pride is lowered', 'Pride halth a flat.'), ('آدمی اپنے دوستو سے پہچناجاتاہے', 'A man is known by his friends', 'A man is known by the company.'), ('درخت اپنے پھل سے پہچانا جاتاہے', 'A tree is known by its fruit', \"A tree known by it's fruits.\"), ('خون چھپائے نہیں چھپتا', 'Blood does not hide', 'Murder will out.'), ('خدا گنجے کوناخن نہ دے', 'God does not allow us to be slothful', 'Cursed cows have shot horns.'), ('عقلمند کو اشارہ کافی ہے', 'A sign is enough for the wise.', 'A word to the wise is enough'), ('ایک تیر سے دو شکار', 'Two victims with one arrow', 'Kill two birds with one stone/ Two hunts with one arrow'), ('اندھا کیا چاہے دو آنکھیں', 'Whether blind or two-eyed', 'A wish coming True.'), ('آنکھ کا اندھا نام نین سکھ', \"The blind man's name is Nien Sikh\", \"Opposite qualities of meaning of person's name\"), ('اسکی عقل گھاس چرنے کو گئی ہے۔', 'His mind is on grazing grass.', 'He has lost his marbles.'), ('انگور کھٹے ہیں', 'The grapes are ripe.', 'Grapes are sour.'), ('انتھ بھلا تو سب بھلا', 'Is everything all right?', 'All is well that ends well.'), ('اونچی دوکان پھیکا پکوان', 'High shop, thick dishes', 'High shelves, tasteless dishes.'), ('اوس چاٹنے سے پیاس نہیں بجھتی', \"Licking it doesn't quench your thirst.\", \"Licking dewdrops won't quench your thirst.\"), ('اونٹ کے منہ میں زیرا', \"The camel's mouth is full of worms\", \"Cumin in a camel's mouth.\"), ('آنکھ کا اندھا نام نین سکھ', \"The blind man's name is Nien Sikh\", 'Blind from eye, named happiness.'), ('آپ بھلے تو جگ بھلا', 'Will you be able to see?', 'The world is good when you are good.'), ('آگے کنواں پیچھے کھائی', 'The well dug in the back', 'Water-well in the front, abyss at the back.'), ('اپنے منہ میاں مٹھو', 'Close your mouth', 'Flattering oneself like a parrot.'), ('ایک میان میں دو تلواریں نہیں سماتیں', 'There are no two swords in one sheath.', \"Two swords can't be wielded in one scabbard.\"), ('ایک ہاتھ سے تالی نہیں بجتی', 'One hand does not ring the bell.', 'One hand cannot clap.'), ('بندر کیا جانے ادرک کا سواد', 'The taste of ginger is known to the port', 'What does a monkey know about the taste of ginger?'), ('بھاگتے چور کی لنگوٹی هی سھی', \"The thief's tongue is running away.\", 'The loincloth of a running thief.'), ('بوئے پودے ببول کے آم کہاں سے ہوئے', 'Where did the boiled potatoes come from?', 'Acacia Arabica tree would yield gum, not mangoes.'), ('بھینس کے آگے بین بجانا', 'Playing the harp in front of the buffalo', 'Playing the flute in front of the buffalo.'), ('بہتی گنگا میں ہاتھ دھونا', 'Washing hands in the Ganges River', 'Washing hands in a running river.'), ('جتنی چادر ہو اتنا پیر پھیلاو', 'Spread as much as you can.', 'Spread your feet according to your veil.'), ('جتنے منہ اتنی باتیں', 'As many mouths as there are words', 'As many mouths as many talks.'), ('جلے پر نمک چھڑکنا', 'Sprinkle salt on the burn', \"Rubbing salt on one's wound.\"), ('جو گرجتے ہیں وہ برستے نہیں', 'Those who thunder are not rain.', \"Those who thunder don't rain.\"), ('جیسا دیس ویسا بھیس', 'Like a country like that', 'Like country, like dress.'), ('جیسا راجا ویسی پرجا', 'Like the king and the vassal.', 'Like the king, so the subjects.'), ('جیسے اللہ رکھے اسے کون چکھے', 'Who can taste it, God willing?', 'Who can taste a person who is kept by Allah?'), ('جیسی کرنی ویسی بھرنی', 'Like a worm, like a worm', 'As you sow, so shall you reap.'), ('دال میں کالا', 'Black in the Dal', 'Black in the lentils.'), ('دودھ کا جلا چھاچھ بھی پھونک کر پیتا ہے', 'He also drinks milk by blowing it.', 'A person burnt by milk drinks even the cold milk by blowing on it.'), ('دور کے ڈھول سُہانے', 'Drums of the past', 'The drums from far away sound better.'), ('دھوبی کا کتا نہ گھر کا نہ گھاٹ کا', 'Neither the dog of the house nor the dog of the yard', 'The laundry dog is neither at home nor at the dock.'), ('سانچ کو آنچ نہیں', 'Not the mold.', \"Pure gold doesn't melt.\"), ('لکیر کا فقیر', 'The line of the poor', 'Beggar of the line.'), ('لوہے کے چنے چبانا', 'Chewing iron', 'Chewing iron gram.'), ('مان نہ مان میں تیرا مہمان', 'Your guest in Man Na Man', 'Believe me, I am your guest.'), ('ناچ نہ جانے آنگھن ٹیڑھا', \"Don't go dancing around\", 'Not knowing how to dance.'), ('چار دن کی چاندنی پھر اندھیری رات', 'Four days of moonlight and then dark night.', 'Moonlight of four days followed by a dark night.'), ('چور کی داڑھی میں تنکا', \"A thief's beard\", \"A lining in the thief's beard.\"), ('چھوٹا منہ بڑی بات', 'Small mouth big word', 'Smaller mouth, bigger talk.'), ('ڈوبتے کو تنکے کا سہارا', 'The support of the drowning man', 'A drowning man catches a straw.'), ('کر برا تو ہوئے برا', 'Doing badly', 'If you do bad, bad happens.'), ('کھسیانی بلی کھمبا نوچے', 'Coughing cat, coughing cat', 'A mad cat scratches the pole.'), ('کہاں راجہ بھوج کہاں گنگوتیلی', 'Where is Raja Bhoj? Where is Ganguitheli?', 'Where is Raja Bhoj, where is Gangotili?'), ('گھر کا بھیدی لنکا ڈھائے', \"The house's secret link is broken.\", 'Destroy the secret Lanka of the house.'), ('ہاتھ کنگن کو آرسی کیا', \"What happened to the king's hand?\", 'The hand braced the bracelet.'), ('اب پچھتائے کیا، جب چڑیاں چگ گئیں کھیت', 'Now what happened, when the birds were eating', 'Why regret now when birds ate the crop.'), ('دیانتدار ہونے کے لیے امیر ہونا ضروری نہیں', 'It is not necessary to be rich to be honest', 'A RAGGED COAT MAY COVER AN HONEST MAN'), ('ایک بار جو دشمنی کرے اس کا اعتبار نہ کرو', 'Do not trust an enemy who once opposed you.', 'A RECONCILED FRIENDS IS A DOUBLE ENEMY'), ('سدھرا ہوا بدمعاش اچھا خاوند بنتا ہے', 'A good husband is a good husband.', 'A REFORMED RAKE MAKES THE BEST HUSBAND'), ('حق آخر مل کر ہی رہتا ہے', 'The truth will eventually come out.', 'A RIGHT SLEEPS SOMETIMES, IT NEVER DIES'), ('چھوٹا منہ بڑی بات', 'Small mouth big word', 'A RIVER , YOU CONTEND WITH THE SEA!'), ('ُرے کو سب ہی بُرے نظر آتے ہیں', 'You see all the bad ones', 'A ROGUE ALWAYS SUSPECTS DECEIT'), ('جیسے کو تیسا', 'Like the third.', 'A ROLAND FOR AN OLIVER'), ('ترکی بہ ترکی جواب', 'Turkish to Turkish answer', 'A ROLAND FOR AN OLIVER'), ('دھوبی کا کتا نہ گھر کا نہ گھاٹ کا', 'Neither the dog of the house nor the dog of the yard', 'A ROLLING STONE GATHERS NO MOSS'), ('ڈانواں ڈول کی مٹی خراب', 'The soil of Danwan Dol is bad', \"THE CLAY OF THE POTTER'S WHEEL IS SPOILED.\"), ('کچا تعلق', 'Raw relationship', 'A ROPE OF SAND'), ('ایک گندی مچھلی سارے جل کو گندہ کرتی ہے', 'A dirty fish makes all the fire dirty', 'A ROTTEN SHEEP INFECTS THE WHOLE FLOCK'), ('دُنیا سب کچھ سکھا دیتی ہے', 'The world teaches everything', 'A RUGGED STONE GROWS SMOOTH FROM HAND TO HAND'), ('ہاتھی کے دانت کھانے کے اور دکھانے کے اور', \"The elephant's teeth are eaten and shown.\", 'A SAINT ABROAD, A DEVIL AT HOME'), ('اچھائی اور برائی کا امتزاج', 'A mixture of good and evil', 'A SANDWICH OF GOOD AND BAD'), ('مرے کا مارنا کیا ؟', 'Killed by what?', \"A SCALD MAN'S HEAD IS SOON BROKEN\"), ('تکلیف دہ حالات', 'Painful conditions', 'A SCANDALOUS STATC OF AFFAIRS'), ('مالک اور نوکر میں بڑا فرق', 'The difference between master and servant', 'A SCEPTRE IS ONE THING , A LADLE ANOTHER'), ('کہیں کوئی کسر ضرور ہے', 'There must be a kisser somewhere', 'A SCREW IS LOOSE SOMEWHERE'), ('راز کو جان سا عزیز رکھنا چاہیۓ', 'The secret should be kept secret.', 'A SECRET IS YOUR BLOOD , LET IT OUT TOO OFTEN AND YOU DIE'), ('ہاتھ کنگن کو آرسی کیا!', 'Hands up the king!', 'A SELF-EVIDENT TRUTH REQUIRES NO PROOF'), ('عقلمند آدمی تجربہ سے سیکھتا ہے', 'A wise man learns from experience', 'A SENSIBLE MAN JUDGES OF PRESENT BY PAST EVENTS'), ('لاتوں کے بھوت باتوں سے کب مانتے ہیں', 'When do the demons of the underworld believe in things?', 'A SHARP GOOD FOR A STUBBORN ASS'), ('تجربہ سے ہی اصلیت کھلتی ہے', 'Experience is the key to success.', 'A SHIP SHOULD NOT BE JUDGED FROM THE LAND'), ('شدید درد', 'Severe pain', 'A SHOOTING PAIN'), ('اچانک اٹھنے والا درد', 'Suddenly arising pain', 'A SHOOTING PAIN'), ('سیدھی راہ چل چاہے دور ہو', 'The straight path, whether it is far or wide', 'A SHORT CUT IS OFTEN A WRONG CUT'), ('مرنے پر کچھ ساتھ نہیں جاتا!', 'Nothing goes with death!', 'A SHROUD HAS NO POCKETS'), ('کنجی جیسی چاندی کی ویسی لوہے کی', 'Like silver, like iron,', 'A SILVER KEY CAN OPEN AN IRON LIKE'), ('ایک پاپی بیڑے کو ڈبو دیتا ہے', 'A Poppy Drops the Fleet', 'A SINGLE SINNER SINKS THE BOAT'), ('جاگتا پاۓ سونے والا کھوۓ', 'The sleeping man wakes up.', 'A SLEEPING FOX CATCHES NO POULTRY'), ('احمق کا پیغام', 'The message of the fool', 'A SLEEVELESS ER RAND'), ('من حرامی حجتیں ڈھیر', 'The piles of forbidden arguments', 'A SLIGHT PRETEXT SUFFICES FOR DOING EVIL'), ('کاہل آدمی کم فرصتی کا رونا روتا ہے', 'The light man cries out for less opportunity', 'A SLOTHFUL MAN NEVER HAS TIME'), ('بیج پکے سو میٹھا ہوۓ', 'The seeds are so sweet.', 'A SLOW FIRE MAKES SWEETS MALT'), ('نام بڑا ۔ درشن چھوٹا', 'Big name, small vision.', 'A SMALL SHOP MAY HAVE A GOOD TRADE'), ('جہاں درخت نہ ہوں وہاں ارنڈ بھی درخت ہے', 'Where there are no trees, there are also trees.', 'A SMALL SPARK SHINES IN THE DARK'), ('جتنا گڑ ڈالو گے اتنا ہی میٹھا ہو گا', 'The more you pour, the sweeter it is.', 'A SMALL SUM WILL SERVE TO PAY A SHORT RECKONING'), ('ذرا سا گھاوٴ بھی جان لے لیتا ہے', \"He knows what he's doing.\", 'A SMALL WOUND MAY BE MORTAL'), ('اچھے لباس سے دوسروں پر اچھا اثر پڑتا ہے', 'Good clothing has a positive effect on others', 'A SMART COAT IS A GOOD LETTER OF INTRODUCTION'), ('ٹھنڈا لوہا گرم لوہے کو کاٹتا ہے', 'Cold iron cuts through hot iron.', 'A SOFT ANSWER TURNETH AWAY WRATH'), ('بھوکا سپاہی خاک لڑے گا ؟', 'Will the hungry soldier fight the dirt?', 'A SOLDIER FIGHTS UPON HIS STOMACH'), ('غم جتنا کرو اتنا ہی بڑھتا ہے', 'The more you grieve, the more it grows.', 'A SORROW IS AN ITCHING PLACE WHICH IS MADE WROSE BY SCRATCHING'), ('رنج بٹانے سے کم ہوتا ہے لیکن خوشی بڑھتی ہے', 'Grief reduces but increases happiness', \"A SORROW SHARED IS BUT HALF A TROUBLE , BUT A JOY THAT'S SHARED IS A JOY MADE DOUBLE\"), ('قومی دماغ مضبوط جِسم میں ہی رہ سکتا ہے', 'The national mind can only live in a strong body', 'A SOUND MIND IN A SOUND BODY'), ('دھبا سفید کپڑے پر زیادہ چمکتا ہے', 'The stain shines brighter on white cloth', 'A SPOT IS MOST SEEN ON THE FINEST CLOTH'), ('بے محل و بے موقع', 'The palace and the opportunity', 'A SQUARE PEG IN A ROUND HOLE'), ('وقت پر ایک ٹانکا نو کا کام کر دیتا ہے', 'But a stitch in time does the trick.', 'A STITCH IN TIME SAVES NINE'), ('نرغہ میں آیا ہوا بچ کر نہیں نکل سکتا', 'The wind that came in the night cannot escape', 'A STONE IN A WELL IS NOT LOST'), ('سیدھی لکڑی پانی میں ٹیڑھی دکھائی دیتی ہے', 'Straight wood looks crooked in the water', 'A STRAIGHT STICK IS CROOKED IN THE WATER'), ('ہوا کا رُخ ایک تنکے سے معلوم ہو جاتا ہے', 'The direction of the wind is determined by a straw', 'A STRAW WILL SHOW WHICH WAY THE WIND BLOWS'), ('آدمی وہ ہے جو ٹھوکر کھا کر سنبھل جاۓ', \"He's the guy who stumbles and eats and gets caught.\", 'A STUMBLE MAY PREVENT A FALL'), ('مٹھائی کا شوقین', 'A lover of sweets', 'A SWEET TOOTH'), ('زُبان کِسی کِسی کی قابو میں ہوتی ہے', 'The tongue is controlled by someone', 'A TAME TONGUE IS A RARE BIRD'), ('بکواسی چور سے بھی بُرا', 'Worse than a stupid thief', 'A TATTLER IS WORSE THAN A THIEF'), ('چائے کی دعوت', 'A tea party', 'A TEA FIGHT'), ('سو دِن چور کے ایک دن شاہ کا', 'So one day the thief of the king', 'A THIEF IS CERTAINLY CAUGHT AT LAST'), ('دولت سو عیبوں کو چھپا لیتی ہے', 'So wealth hides the flaws', 'A THIEF PASSES FOR A GENTLEMAN , WHEN THIEVING HAS MADE HIM RICH'), ('غریب کا دیوالیہ جلدی نکلتا ہے', \"The poor man's bankruptcy is imminent\", 'A THIN MEADOW IS SOON MOWED'), ('کسی چیز میں اپنا حِصّہ ہو تو وہ بڑی دکھائی دیتی ہے', 'When you have a stake in something, it looks big.', 'A THING IS BIGGER FOR BEING SHARED'), ('ایک انار سو بیمار', 'A pineapple is sick', 'A THOUSAND APPLICANTS FOR ONE APPOINTMENT'), ('یہ چمن یوں ہی رہے گا', 'This moon will stay like this', 'A THOUSAND YEARS HENCE THE RIVER WILL RUN AS IT DID'), ('دنیا کا سدا یہی حال رہے گا', 'This is the way of the world.', 'A THOUSAND YEARS HENCE THE RIVER WILL RUN AS IT DID'), ('شریف کو عزت کا بہت خیال رہتا ہے', 'Sharif cares a lot about respect.', 'A THREAD WILL TIE AN HONEST MAN BETTER THAN A ROPE A ROGUE'), ('غدار کو دشمن جانو!', 'Know the traitor as the enemy!', 'A TRAITOR IS ILL COMPANY'), ('درخت اپنے پھل سے پہچانا جاتا ہے', 'A tree is known by its fruit', 'A TREE IS KNOWN BY ITS FRUIT'), ('سچا دوست ملنا مشکل ہے ۔ کیونکہ وہ تو گویا دوسری شکل میں تم خود ہی ہو', \"True friends are hard to find, because they're like you in a different form.\", 'A TRUE FRIEND WILL NEVER BE FOUND OR HE IS AS IT WERE ANOTHER SELF'), ('ظلم کا بدلہ مل کر ہی رہتا ہے', 'The recompense of the wrongdoer is everlasting.', 'A TYRANT IS MOST TYRANT TO HIMSELF'), ('بہادر کی نظر بُزدل کی تلوار سے زیادہ کام کرتی ہے', 'The eyes of the brave do more than the sword of the wicked', \"A VALIANT MAN`S LOOK IS MORE THAN COWARD'S SWORD\"), ('بے کار چیز', 'Unnecessary thing', 'A VAST EXTENT OF MARSH'), ('اپنی مرضی سے اُٹھایا بوجھ بوجھ ہی کیا ؟', 'He willingly bore the burden.', 'A VOLUNTARY BURDEN IS NOT A BURDEN'), ('دیوار کے بھی کان ہوتے ہیں', 'Walls also have ears.', 'A WALL HAS EARS, TOO'), ('الوداع / الوداعی پارٹی', 'Farewell party', 'A WARM SEND OFF'), ('جِس کا پیٹ بھرا ہو وہ بھوکے کی تکلیف کیا سمجھتا ہے', 'What does the hungry know about the pain of being full?', 'A WELL-FILLED BELLY DOES NOT BELIEVE IN HUNGER'), ('بیوقوف ہر جگہ اپنی بیوقوفی ظاہِر کرتا ہے', 'The fool shows his foolishness everywhere.', \"A WHITE WALL IS A FOOL'S PAPER\"), ('ضِدی کب کِسی کی مانتا ہے', 'When does a person believe in something?', 'A WILFUL MAN MUST HAVE HIS WAY'), ('ضِدی کے لیے عقلمند ہونا ضروری ہے', 'It is necessary to be wise for adversity', 'A WILFUL MAN NEEDS BE VERY WISE'), ('جہاں چاہ وہاں راہ', 'Wherever there is a way', 'WHERE THERE IS WILL, THERE IS A WAY'), ('نادان دوست سے دانا دُشمن بھلا', 'A foolish friend is better than a wise enemy', 'A WISE FOE IS BETTER THAN A FOOLISH FRIEND'), ('چپ رہنا عقلمندی کی نِشانی ہے', 'Silence is the mark of wisdom', 'A WISE HEAD MAKES A CLOSED MOUTH'), ('عقلمند آدمی چاند کو مٹھی میں لینے کی کوشش نہیں کرتا', 'A wise man does not try to grasp the moon', 'A WISE MAN CARES NOT FOR WHAT HE CANNOT HAVE'), ('عقلمند بیوقوفوں کے تجربہ سے سیکھتا ہے', 'A wise man learns from the experience of fools', 'A WISE MAN GETS LEARNING FROM THOSE WHO HAVE NONE THEMSELVES'), ('دُنیا میں عقلمندوں کی تعداد بہت کم ہے', \"The world's wise ones are few in number\", 'A WISE MAN IS A GREAT WONDER'), ('زر عقلمند پر قابو نہیں پاتا', 'Money does not control the wise', 'A WISE MAN IS OUT OF THE REACH OF FORTUNE'), ('عقلمند نفس پر قابو رکھتا ہے اور نفس بیوقوف پر', \"The wise man controls his own soul, but the foolish man's soul\", 'A WISE MAN WILL BE MASTER OF MIND A FOOL WILL BE ITS SLAVE'), ('عقلمند موقع نکال لیتا ہے', 'The wise man seizes the opportunity', 'A WISE MAN WILL MAKE MORE OPPORTUNITIES THAN HE FINDS'), ('عقلمند نُقصان کو مشتہر نہیں کرتا', 'The wise man does not advertise harm', \"A WISE MAN'S LOSS IS HIS SECRET\"), ('بیوقوف میں ہمت کہاں ؟', \"Where's the courage in a fool?\", 'A WITLESS HEAD MAKES WEARY FEET'), ('ادھر کنواں اُدھر کھائی', 'Here and there.', 'A WOLF BESETS YOU ON THIS SIDE, A DOG ON THAT'), ('بغل میں چھری مُنہ میں رام رام', 'The knife in the back of the head, Ram Ram.', \"A WOLF IN LAMB'S CLOTHING\"), ('فرشتہ کے روپ میں بھیڑیا', 'A wolf in the form of an angel', 'A WOLF IN THE GARB OF A LAMB')]\n"
          ]
        }
      ]
    },
    {
      "cell_type": "code",
      "source": [
        "print(translated_idioms_llama)"
      ],
      "metadata": {
        "colab": {
          "base_uri": "https://localhost:8080/"
        },
        "id": "ALgujMg9GiMD",
        "outputId": "614fe2b1-ae57-40ae-ed3c-4bc90df14b21"
      },
      "execution_count": 54,
      "outputs": [
        {
          "output_type": "stream",
          "name": "stdout",
          "text": [
            "[('ہمتِ مرداں مددِ خدا۔', \"Men's courage is God's help.\", 'The courage of men is aided by God.'), ('کام بِن دام نہیں۔', \"It's all or nothing.\", 'Nothing comes without a price.'), ('مشق انسان کو کامل بنا دیتی ہے۔', 'Human life is built around hard work.', 'Practice makes a person perfect.'), ('جہاں چاہ وہاں راہ۔', \"Where there's a will, there's a way.\", 'Where there is a will, there is a way.'), ('انت بھلا تو سب بھلا۔', \"You're as good as everyone else.\", 'If the end is good, everything is good.'), ('زندگی پھولوں کی سیج نہیں۔', 'Life is not a bed of roses.', 'Life is not a bed of roses.'), ('زندگی زندہ دلی کا نام ہے۔', 'Life is the name of the heart.', 'Life is the name of a lively heart.'), ('تجربہ سب سے بڑا استاد ہے۔', 'Experience is the greatest teacher.', 'Experience is the greatest teacher.'), ('دودھ کا جلا چھاچھ بھی پھونک پھونک کر پیتا ہے۔', 'The milk is being gulped down with a loud slurping sound.', 'Even a burnt milk pudding is consumed bit by bit.'), ('وقت کسی کا انتظار نہیں کرتا۔', 'Time waits for no one.', 'Time waits for no one.'), ('وقت پر ایک ٹانکا نو کا کام کر دیتا ہے۔', \"He's busy as a bee.\", 'Time can accomplish a task worth nine coins.'), ('وقت سب سے بڑا مرہم ہے۔', 'Time is money.', 'Time is the greatest healer.'), ('وقت وقت کا راگ اچھا ہوتا ہے۔', \"It's always a good time.\", 'Each moment has its own charm.'), ('وقت پڑنے پر گدھے کو باپ بناتے ہیں۔', \"When the time comes, we'll make a donkey's father.\", 'Desperation turns a crow into a swan.'), ('دیر آید درست آید۔', 'Better late than never.', 'Better late than never.'), ('آج کا کام کل پر مت چھوڑو۔', 'Leave all your work for tomorrow.', \"Do not leave today's work for tomorrow.\"), ('محبت اندھی ہوتی ہے۔', \"It's a burning passion.\", 'Love is blind.'), ('محبت اور جنگ میں ہر چیز جائز ہوتی ہے۔', \"In love and war, all's fair.\", 'Everything is fair in love and war'), ('دل کو دل سے راہ ہوتی ہے۔', 'The heart finds its way with the heart.', 'The heart finds its way through the heart.'), ('دل کو ہو قرار تو سب کو سوجھیں تیوہار۔', 'When the heart is at peace, all is well.', \"If your heart is at peace, you understand everyone's celebration.\"), ('دوست وہ جو مصیبت میں کام آئے۔', 'A friend in need is a friend indeed.', 'A friend is one who is helpful in times of trouble.'), ('اپنا اپنا غیر غیر۔', \"It's your own, it's your own, it's not anyone else's.\", \"Yours is yours, and others' is others'.\"), ('دوست ہوتا نہیں ہر ہاتھ ملانے والا۔', \"He's not a friend who can be won over with every hand.\", 'Not everyone who shakes hands is a friend.'), ('دوست کا دشمن دشمن، دشمن کا دشمن دوست', 'The enemy of my enemy is my friend.', \"A friend's enemy is an enemy, and an enemy's enemy is a friend.\"), ('یار زندہ صحبت باقی۔', 'A dear friend is still alive and well.', 'The company of a friend keeps you alive.'), ('ماں کی دعا جنت کی ہوا۔', \"My mother's prayer is the breeze of paradise.\", \"A mother's prayer is the breeze of paradise.\"), ('دوستوں کو قریب لیکن دشمنوں کو قریب تر رکھو۔', 'Keep your friends close, but your enemies closer.', 'Keep friends close but keep enemies closer.'), ('تندرستی ہزار نعمت ہے', 'Good health is a thousand blessings.', 'Good health is a thousand blessings.'), ('تن سکھی تو من سکھی', 'When I know, you know.', 'If the body is healthy, the mind is healthy.'), ('پرہیز علاج سے بہتر ہے۔', 'Prevention is better than cure.', 'Prevention is better than cure.'), ('جو شخص محتاط رہتا ہے اِس پر مصیبت نہیں آتی ۔', 'He who is cautious does not get into trouble.', 'A person who is careful will not suffer.'), ('کھسیانی بلی کھمبا نوچے', 'The cat is getting on the wrong side of the dog.', 'To show anger after getting embarrassed'), ('گھر کا بھیدی لنکا ڈھاۓ', 'The cat is out of the bag.', 'Traitors are the worst enemy'), ('گھر کی مرغی دال برابر', 'A hen that stays at home is equal to a grain of barley.', 'No one is a hero in his house'), ('گیہوں کےساتھ گھن بھی پس جاتا ھے', 'To be in the same boat with someone.', 'When buffaloes fight the grass suffers'), ('لاتوں کے بھوت باتوں سے نہیں مانتے', \"Don't pay attention to idle chatter.\", 'Rod is the logic of fools'), ('مایا دل کی چھایا', \"My heart's desire.\", 'Riches have wings'), ('موت کا کوئی علاج نہیں', 'There is no cure for death.', 'Death defies the doctor'), ('اپنا اپنا غیر غیر', 'That\\'s a Hindi idiom! The English translation is: \"Each to their own.\"', 'Blood is thicker than water'), ('آسمان سے گرا کھجورمیں اٹکا', 'Fell from the sky into a walnut.', 'Out of the frying pan into the fire'), ('آنکھ اوجھل پہاڑاوجھل', 'To reach the sky.', 'Out of sight, out of mind'), ('آدھا تیتر آدھا بٹیر', 'Half a loaf is better than no bread.', 'Neither fish nor fowl'), ('اتفاق میں برکت ہے', \"It's a blessing in disguise.\", 'Union is strength'), ('ادلے کا بدلہ', 'Eye for an eye.', 'Tit for tat'), ('سہج پکے سو میٹھا ہو', 'Sweet as honey.', 'Slow and steady wins the race'), ('الخاموشی نیم رضا', 'Silence is golden.', 'Silent is half consent'), ('انت بھلے کا بھلا', \"You're a good person.\", 'All’s well that ends well'), ('انسان خطا کا پتلا ہے', 'A human is prone to mistakes.', 'To err is human'), ('اندھا کیا چاہے دو آنکھیں', 'The more you know, the more you realize how little you know.', 'A wish coming true'), ('جتنے منہ اتنی باتیں', 'As many faces, so many stories.', 'More mouths will have more talks'), ('دور کے ڈھول سہانے', 'In circles', 'The grass is always cleaner on the other side'), ('بہتی گنگا میں ہاتھ دھونا', \"To wash one's hands of something.\", 'To use available opportunity'), ('اب پچھتاۓ کیا ہؤت جب چڑیا چگ گئ کھیت', \"The hen pecks at what the fox doesn't eat when the bird has flown away.\", 'It is no use crying over spilled milk'), ('چاردن کی چاندنی پھر اندھیری رات', \"The moon's beauty is hidden in the dark night.\", 'A nine days wonder'), ('ہمت مرداں مدد خدا', 'Courage is the help of God.', 'God helps those who help themselves'), ('جب تک سانس تب تک آس', 'When the breath remains, the soul remains.', 'As long as there is life there is hope'), ('جہاں پھول وہاں کانٹا', 'Where there are flowers, there are thorns.', 'There is no rose without a thorn'), ('دونوں ہاتھوں سے دولت لٹانا', 'To live off the fat of the land.', 'To burn the candle at both ends'), ('دیواروں کے بھی کان ہرتے ہیں', 'The walls have ears.', 'Even walls have ears'), ('عقلمند کو اشارہ کافی ہے', 'A nod is enough for someone who is intelligent.', 'A word of wise is enough'), ('کر بھلا ہوبھلا', 'How are you?', 'Do good have good'), ('ہتھیلی پر سرسوں نہیں جمتی', 'This idiom translates to \"There\\'s no honey on the palm.\"', 'Rome was not built on a day'), ('اونٹ کے منہ میں زیرہ', \"A handful is worth more than an ass's mouth.\", 'A drop into the ocean'), ('اونچی دوکان پھیکا پکوان', 'A messy shop is a reflection of a messy mind.', 'Great boast little roast'), ('اول خویش بعد درویش', 'The first to take care of oneself is better than the one who takes care of a dervish.', 'Charity begins at home'), ('ایک ہاتھ سے تالی نہیں بجتی', \"It doesn't ring a bell.\", 'It takes two to make a quarrel'), ('ایک تیرسےدوشکار', 'A master of the bow.', 'Two hunts with one arrow'), ('بغل میں چھری منہ میں رام رام', \"To play with the lion is to have a sword in one's mouth.\", 'A wolf in sheep’s clothing'), ('بھینس کے آگے بین بجانا', 'To beat around the bush.', 'Casting pearls before swine'), ('بھاگتے چور کی لنگوٹی ہی سہی', \"A thief's language is his best companion.\", 'Something is better than nothing'), ('پرہیز علاج سے بہترہے', 'Abstinence is better than treatment.', 'Prevention is better than cure'), ('پہلے تولوپھر بولو', 'First say it then do it.', 'Think before you leap'), ('آدمی اپنی صحبت سے پہچانا جاتا ہے', 'A person is known by their speech.', 'A man is known by the company he keeps'), ('آگے کنواں پیچھے کھائی', 'To take the back seat.', 'Between the devil and the deep sea'), ('اپنے منہ میاں مٹھو بننا', 'To make a good impression.', 'Self-praise is not a recommendation'), ('اندھوں میں کانا راجہ', \"In the dark, a king's ear.\", 'A figure among ciphers'), ('بد اچھا بدنام برا', 'Bad to the bone', 'A bad name is worse than a bad deed'), ('ایک تیرسے دو شکار', 'Two birds with one stone.', 'Two hunts with one arrow'), ('بات کا بتنگڑ بنانا', 'To play with fire.', 'To make a mountain of a maul hill'), ('بہتے دریا میں ہاتھ دھونا', 'To cry over spilt milk.', 'To strike while the iron is hot'), ('بوڑھی گھوڑی لال لگام', 'Old horse with a red halter.', 'Old mare red reigns'), ('تندرستی ہزار نعمت ہے', 'Good health is a thousand blessings.', 'Health is wealth'), ('تھوتھا چنا باجے گھنا', 'To be in a fix.', 'The empty vessel makes much noise'), ('تین میں نہ تیرہ میں', 'In my eyes, you are not in my eyes.', 'Neither king nor minister'), ('جب تک سانس تب تک آس', 'Until the breath remains.', 'As long as there is life there is hope'), ('جس کی لاتھی اسکی بھینس', 'The one who holds the reins, owns the ox.', 'Might is right'), ('جلدی کا کام شیطان کا', \"The devil's work is in vain.\", 'Haste makes waste'), ('جوگرجتےہیں وہ برستے نہیں', 'They are getting old, but they are not getting bitter.', 'Barking dogs seldom bite'), ('جہاں چاہ وہاں راہ', \"Wherever you want, that's the way.\", 'Where there is a will there is a way'), ('جیسا بوؤگے ویساکاٹوگے', 'As you sow, so shall you reap.', 'As you sow so shall you reap'), ('دام بناۓ کام', 'Our backs are against the wall.', 'Money makes the mare go'), ('کام پیارا ہے جام پیارا نہیں', 'The game is fair, but the umpire is not.', 'Handsome is that handsome does'), ('قدر کھو دیتا ہے روز کا آنا جانا', \"He's eating away at the day.\", 'Too much familiarity breeds contempt'), ('عشق نہ پوچھے ذات', \"Don't ask about love.\", 'Love is blind'), ('طویلے کی بلا بندر کے سر', 'A storm in a teacup.', 'To arrest Tom and punish Sam'), ('سانچ کو آنچ نہیں', \"It's not worth the effort.\", 'Truth fears no examination'), ('دھوبی کا کتا گھر کا نا گھاٹ کا', \"The cat of the washerman is not at home, it's at the riverbank.\", 'A rolling stone gathers no moss'), ('ایمانداری بہترین حکمت عملی ہے', 'Faith is the best strategy.', 'Honesty is the best policy'), ('دودھ کا جلا چھاچھ بھی پھونک پھونک کر پیتا ہے', \"He's drinking milk with a loud slurping sound.\", 'A burnt child dreads the fire'), ('دال میں کچھ کالا ہے', \"There's something fishy going on.\", 'There is something wrong with the bottom'), ('خربوزے کو دیکھ کر خربوزہ رنگ پکرتا ہے', 'When I see a mulberry, I turn mulberry-red.', 'Society molds a man'), ('دل کو دل سےراہ ہوتی ہے', 'The heart gets tired of its own pain.', 'Love begets love'), ('ڈوبتے کوتنکےکا سہارا', 'A helping hand for the drowning.', 'A drowning man catches at a straw'), ('ہرچمکتی ہوئی چیز سونا نہیں ہوتی', 'Nothing that shines is gold.', 'All that glitters is not gold'), ('سیوہ بن میوہ نہیں', 'This is not my cup of tea.', 'No pains no gains'), ('غرور کا سرنیچا', 'Pride goes before a fall.', 'Pride hath a fall'), ('ضرورت ایجاد کی ماں ہے', 'The necessity is the mother of invention.', 'Necessity is the mother of invention'), ('لوہا لوہے کو کاٹتا ہے', 'Iron sharpens iron.', 'Diamond cuts diamond'), ('لالچ بری بلا ہے', \"It's raining cats and dogs.\", 'Greed is curse'), ('ناچ نہ جانے آنگن ٹیڑھا', 'To be in a pickle.', 'A bad workman always quarrels with his tools'), ('نو نقد نہ تیرہ ادھار', 'No credit is given for half-done work.', 'A bird in hand is worth two in the bush'), ('نہیں محتاج زیورکاجسے خوبی خدا نے دی', \"I don't need ornaments that God has given me goodness.\", 'Beauty requires no paint'), ('نیکی کردریا میں ڈال', 'He threw a nice punch.', 'Expect no good in return'), ('وقت اورموت کسی کا انتظار نہیں کرتی', 'Time waits for no one.', 'Time and tide wait for none'), ('ہاتھ کنگن کو آرسی کیا', \"To hold someone's hand.\", 'Evidence does not need proof'), ('انگور کھٹے ہیں', 'The grapes are sour.', 'Grapes are sour'), ('یہ منہ اور مسورکی دال', 'This idiom translates to \"A handful of lentils and a mouthful of words\" which means to speak a lot without accomplishing anything.', 'Honey is not for ass’s mouth'), ('وقت کا ایک ٹانکا بے وقت کے سو ٹانکوں سے بچاتا ہے', 'A minute of time saves an hour of trouble.', 'A stitch in time saves nine'), ('نیم حکیم خطرہ جان، نیم ملا خطرہ ایمان', 'One half of a wise person is afraid of death, one half of a scholar is afraid of unbelief.', 'A little knowledge is a dangerous thing'), ('مان نہ مان میں تیرا مہمان', \"I'm not convinced, you're my guest.\", 'An uninvited guest is never welcomed'), ('لکیر کا فقیر', \"A poor man's pen.\", 'To go about the same beaten path'), ('جتنے منہ اتنی باتیں', 'As many faces, so many lies.', 'More mouths will have more talks'), ('جسے اللہ رکھے اُسے کون چکھے', 'Whoever God keeps, no one can snatch.', 'If Allah wills not, no one can Harm.'), ('بھوکے کو سوکھی بھی چپڑی کے برابر', 'A hungry person will accept a dry blanket as a gift.', 'Nothing comes amiss to a hungry man'), ('بہتی گنگا میں ہاتھ دھونا', \"To wash one's hands of something.\", 'To use the available opportunity'), ('ہاتھ کنگن کو آرسی کیا', 'To put the cart before the horse.', 'Evidence does not need proof'), ('بندر کیا جانے ادرک کا سواد', 'To understand the flavor of the port.', 'Casting pearls before swine'), ('آگے کنواں پیچھے کھائی', \"To take a step forward and then to eat one's words.\", 'Between the devil and the deep-sea'), ('جلے پر نمک چھڑکنا', 'To cry over spilt milk.', 'Rubbing salt on one’s wound'), ('انتھ بھلا تو سب بھلا', 'Everything is fine if you are fine.', 'All’s well that ends well'), ('تالی ایک ہاتھ سے نہیں بجتی', \"It doesn't pay to do something with one hand.\", 'It takes two to quarrel'), ('اندھا کیا چاہے دو آنکھیں', \"What's the point of giving eyes to the blind?\", 'A wish coming True.'), ('آنکھ کا اندھا نام نین سکھ', 'The eyes have no sight, but the name is Nain.', \"Opposite qualities of meaning of person's name.\"), ('کہاں راجہ بھوج کہاں گنگوتیلی', 'Where is Raja Bhuj, where is Gangotri?', 'Big difference in status or Class.'), ('کھسیانی بلی کھمبا نوچے', 'To cry over spilled milk.', 'To show anger after getting embarrassed.'), ('چوری کا مال موری میں', 'A bird in the hand is worth two in the bush.', 'Money earned the wrong way will be taken away, would be lost.'), ('چھوٹا منہ بڑی بات', 'Small mouth, big talk.', 'To talk big without having a big position.'), ('جتنے منہ اتنی باتیں', 'As many faces, so many stories.', 'More mouths will have more talks.'), ('بہتی گنگا میں ہاتھ دھونا', \"To wash one's hands of something.\", 'To use the available opportunity.'), ('مان نہ مان میں تیرا مہمان', \"I'm not convinced, you're my guest.\", 'Getting involved without having.'), ('دور کے ڈھول سُہانے', 'Around the corner.', 'The grass is always greener on the other side.'), ('گنگا گائے گنگا داس جمنا گائے جمنا داس', \"The Ganges River flows to the Ganges' banks, the Jamuna River flows to the Jamuna's banks.\", 'A person of no principles.'), ('گھر کا بھیدی لنکا ڈھائے', 'Home sweet home.', 'Division is main reason for the damage.'), ('چور کی داڑھی میں تنکا', 'In a pickle.', 'One is afraid of his/her crime.'), ('ہاتھ کنگن کو آرسی کیا', 'To take it easy.', 'Evidence does not need proof.'), ('دھوبی کا کتا نہ گھر کا نہ گھاٹ کا', \"A vagabond's dog, neither at home nor at the ferry landing.\", 'A person try to be on two sides goes nowhere.'), ('جیسی کرنی ویسی بھرنی', 'To make a mountain out of a molehill.', 'As you sow so shall you reap.'), ('انگور کھٹے ہیں', 'The grapes are sour.', 'Sour grapes.'), ('بندر کیا جانے ادرک کا سواد', 'To know the value of a port.', 'Casting pearls before swine.'), ('دال میں کالا', 'A black dot in the eye.', 'More to it than meets the eye.'), ('ناچ نہ جانے آنگھن ٹیڑھا', 'To know nothing is to be like a blind man.', 'A poor worker blames his tools.'), ('جلے پر نمک چھڑکنا', 'To cry over spilt milk.', \"Rubbing salt on one's wound.\"), ('آگے کنواں پیچھے کھائی', 'To take a step forward and then to take a step back.', 'Between the devil and the deep sea.'), ('جتنی چادر ہو اتنا پیر پھیلاو', 'The more the tent, the more the rope is stretched.', 'Cut your coat according to your cloth.'), ('اب پچھتائے کیا، جب چڑیاں چگ گئیں کھیت', \"When the cat's away, the mice will play.\", 'No use crying over spilt milk.'), ('انتھ بھلا تو سب بھلا', 'All is well, everything is fine.', \"All's well that ends well.\"), ('تالی ایک ہاتھ سے نہیں بجتی', \"It doesn't take off by itself.\", 'It takes two to quarrel.'), ('جہاں چاہ وہاں رہ', \"Wherever you wish, that's where you'll stay.\", \"Where there's a will, there's a way\"), ('دودھ کا جلا چھاچھ بھی پھونک کر پیتا ہے', 'He is drinking his tea with a lot of sugar.', 'Once bitten twice shy.'), ('جیسا دیس ویسا بھیس', 'As you wish.', 'In Rome do as the Romans do.'), ('ایک میان میں دو تلواریں نہیں سماتیں', \"You can't have two swords in one scabbard.\", 'No man can serve two masters.'), ('کھوٹا چھنا باجے گھنا', 'A tricky one!\\n\\n\"Bajna ghar na khota chhina\" is a Hindi idiom that translates to \"The thief will not get away with it\" or \"The guilty one will not escape punishment\".', 'Empty vessels make more noise.'), ('اوس چاٹنے سے پیاس نہیں بجھتی', 'The thirst is not quenched by talking nonsense.', 'A fog cannot be dispelled by a fan.'), ('چور چور مسیرے بھائی', 'A tricky one! \"Chor chor masire bhai\" is a common Pakistani idiom, which translates to \"Thief, thief, brother\" in English. It\\'s often used to express that someone is being unfair or taking advantage of the situation.', 'Birds of same feather flock together.'), ('کر برا تو ہوئے برا', \"You're in trouble.\", 'Do evil & look for like.'), ('اپنے منہ میاں مٹھو', 'Sweet-talk.', 'Fool to others to himself a sage.'), ('آپ بھلے تو جگ بھلا', 'If you are good, the world will be good.', 'Good mind, good find.'), ('اسکی عقل چرنے کو گئی ہے', \"He's gone out of his mind.\", 'His wits are gone a wool gathering.'), ('جو گرجتے ہیں وہ برستے نہیں', \"They are crying, but they won't stop.\", 'Barking dogs seldom bite.'), ('لالچ بری بلا ہے', \"It's a big mess!\", 'Avarice is root of all evils.'), ('بوئے پودے ببول کے آم کہاں سے ہوئے', 'From where did the children of the potato plant come?', 'Gather thistles & expect pickles.'), ('ڈوبتے کو تنکے کا سہارا', \"To fall back on one's laurels.\", 'Drowning man catches at straw'), ('لوہے کے چنے چبانا', 'To crack the whip', 'Hard nut to crack.'), ('جیسا راجا ویسی پرجا', 'As the king, so the subjects.', 'As the King so are the subjects.'), ('سانچ کو آنچ نہیں', \"It's not my cup of tea.\", 'Pure gold does not fear the flame.'), ('اونچی دوکان پھیکا پکوان', 'A messy shop with a lot of unnecessary things.', 'Great cry little wool.'), ('اونٹ کے منہ میں زیرا', 'A tongue in cheek!', 'A drop in the Ocean'), ('چار دن کی چاندنی پھر اندھیری رات', 'A beautiful phrase!\\n\\nThe English translation is: \"The moonlight of four days, then a dark night.\"', 'A nine days wonder.'), ('بھینس کے آگے بین بجانا', 'To beat around the bush.', 'Crying in wilderness.'), ('نیکی کر دریا میں ڈال', 'To throw good money into the sea.', 'Do good & cast in to the river.'), ('لوہا لوہے کو کاٹتا ہے', 'The iron sharpens the iron.', 'Diamonds cut diamonds.'), ('اندھوں میں کانا راجہ', 'In the dark, the ear is king.', 'A figure among cyphers.'), ('نیم حکیم خطرہ جان', 'A half-wise person is in danger.', 'A little Knowledge is a dangerous thing.'), ('بخل میں چھری منہ پے رام رام', \"To be stingy is to cut one's nose off with a razor.\", \"A wolf in lamb's clothing.\"), ('جان ہے تو جہان ہے', 'When there is a head, there is a body.', 'Only if you are alive, things matter.'), ('جیسے اللہ رکھے اسے کون چکھے', 'Like God has kept it, who can see it?', 'If Allah wills not, no one can Harm.'), ('لکیر کا فقیر', 'A poor man with a pen.', 'To go about the same old beaten path.'), ('بچہ بغل میں ڈھنڈورا شہر میں', 'In a pickle in the city.', 'Child is in the armpit, chaos in the city.'), ('تیل دیکھو تیل کی دھار دیکھو', \"Look at the oil, see the oil's flow.\", 'Watch the oil and watch it pour.'), ('سانپ بھی مر جائے، لاٹھی بھی نہ ٹوٹے', \"The dog may die, but the stick won't break.\", \"The snake dies and the club doesn't break.\"), ('ایک تیر سے دو شکار', 'Two birds with one stone.', 'Two hunts with one arrow.'), ('بوڑھی گھوڑی لال لگام', 'Old horse with a red bridle.', 'Old mare, red reigns.'), ('دودھ کا دودھ پانی کا پانی', 'Water is water, milk is milk.', 'Milk of milk, Water of water.'), ('پتھر پے لکیر', 'Rock bottom', 'Line on the rock.'), ('بھاگتے چور کی لنگوٹی ہی سہی', \"A thief's tongue is his best cloak.\", \"A running thief's underwear is right. Some thing is better then nothing\"), ('ضرورت ایجاد کی ماں ہے', 'The need is the mother of invention.', 'Necessity is a mother of invention'), ('چور کا بھائی گٹھ کترا ! ۔', 'A brother-in-law is a thorn in the side!', 'THEY AGREE LIKE PICK-POCKETS IN A FAIR'), ('بھوکے کو سوکھی بھی چپڑی کے برابر ۔', 'A hungry person would accept a dry blanket as a gift.', 'NOTHING COMES AMISS TO A HUNGRY MAN'), ('جہاں کا پیئے پانی وہاں کی بولے بانی', \"Where there's water, there's a well; where there's a well, there's a master.\", 'While in Rome do as Romans do'), ('جیسی کرنی ویسی بھرنی', 'To make a mountain out of a molehill.', 'As you sow, so shall you reap'), ('جنگل میں موتی کی قدر نہیں ہوتی', '\"Pearls are not valued in the jungle.\"', 'A thing is not valued where it belongs'), ('آپ بھلا تو جگ بھلا', \"You're as good as gold.\", 'To the good, the world appears good'), ('تھوتھا چنا باجے گھنا', 'To break a leg!', 'An empty vessel makes much noise'), ('تندرستی ہزار نعمت ہے', 'Good health is a thousand blessings.', 'Health is wealth'), ('کایا کو دکھ دیئے بغیر کوئی کام نہیں ہوتا', \"Nothing gets done without showing one's face.\", 'No pain, no gain'), ('گیا وقت پھر پاتھ نہیں آتا', \"It's time to cut your losses.\", 'Time once lost cannot be regained'), ('خربوزے کو دیکھکر خربوزہ رنگ پکڑتا ہے', 'When I see a peach, I turn peachy.', 'Society moulds men'), ('ایک اور ایک گیارہ', 'One or eleven.', 'Union is strength'), ('گدھے کو گدھا کھجاتا ہے', \"He's beating around the bush.\", 'Fools praise fools'), ('اپنی اپنی ڈفلی اپنا اپنا راگ', 'Each to their own flute, each to their own tune.', 'Many heads many minds'), ('جو گرجتے ہیں وہ برستے نہیں', 'They are crying, but not weeping.', 'Barking dogs seldom bite'), ('من کے لڈؤں سے بھوک نہیں مٹتی', 'The hunger of the poor is not satiated.', 'It is not use building castles in the air'), ('نو نقد نہ تیرا ادھار', 'No criticism is worth your attention.', 'Penny wise found pound foolish'), ('ادھار دیجئے دشمنی لیھئے', 'Take the high road and leave the enemy to themselves.', 'Give loan, enemy own'), ('ایک تھیلی کے چٹے بٹے', 'A piece of cake.', 'Birds of a feather flock together'), ('جہیں چاہ وہاں راہ', 'Wherever you wish, there is a way.', 'Where there is a will, there is a way'), ('ناچ نہ جانے آنگن ٹیڑھا', 'To be in a fix or in a predicament.', 'A bad carpenter quarrels with his tools'), ('خاموشی نیم رضا مندی ہے', 'Silence is golden.', 'Silence is half consent'), ('اوچھا مرتن چھلکتا ہے', \"He's a great dancer.\", 'an empty vessel makes much noise'), ('آدمی پیٹ کا غلام', \"A slave to one's stomach.\", 'A man is a salve to his stomach'), ('آگے دوڑ پیچھے چھوڑ', 'To run ahead and leave behind.', 'To more haste, the worse speed'), ('دودھ کس جلا چھاچھ کو بھی پھونک مار کر پیتا ہے', \"He's drinking like a camel at an oasis.\", 'A burnt child dreads the fire'), ('بغل میں چھری منہ میں رام رام', 'To cut a long story short.', 'A honey tongue, a heart of gall'), ('نیم حکیم خطرہ جان', 'A half-wise person is in danger.', 'A little knowledge is a dangerous thing'), ('انجام بھلا تو سب بھلا', \"All's well that ends well.\", 'All’s well that ends well'), ('کپڑے کو دیکھ کر عزت ملتی ہے', 'Clothes make the man.', 'Style makes the man'), ('کانٹے سے کانٹآ نکلتا ہے', \"It's a thorn that sprouts another thorn.\", 'One nail drives another'), ('موتی گہرے پانی میں ہوتا ہے', \"It's deep down in the water.\", 'Truth lies at the bottom of a well'), ('ہر کام کا وقت مقرر ہے', 'There is a time for every task.', 'There is a time for every thing'), ('جھوٹ کی انتہا نہیں', 'The Limit of Lies', 'One lie leads to another'), ('اس دنیا میں ہر طرح کے لوگ رہتے ہیں', 'There are all sorts of people in this world.', 'It takes two to make a quarrel'), ('تالی دونوں ہاتھوں سے بجتی ہے', \"It's a two-edged sword.\", 'It takes all sorts to make the world'), ('دوست وہی جو مصیبت میں کام آۓ', 'A friend in need is a friend indeed.', 'A friend in need is a friend indeed'), ('جسے اللہ رکھے اُسے کون چکھے', 'Who God keeps, no one can take.', 'If Allah wills not, no one can Harm.'), ('بھوکے کو سوکھی بھی چپڑی کے برابر', 'A hungry person will even consider a dry leaf as a blanket.', 'Nothing comes amiss to a hungry man'), ('اندھا کیا چاہے دو آنکھیں', 'What a blind man wants, give him two eyes.', 'A wish coming True.'), ('آنکھ کا اندھا نام نین سکھ', \"The eye's blind name is ignorance.\", 'Opposite qualities of the meaning of person’s name'), ('کھسیانی بلی کھمبا نوچے', 'A bunch of foolish people are making a ruckus.', 'To show anger after getting embarrassed.'), ('کہاں راجہ بھوج کہاں گنگوتیلی', 'Where is Raja Bhuj, where is Gangotri?', 'Big difference in status or Class'), ('جتنے منہ اتنی باتیں', 'As many mouths as talks.', 'More mouths will have more talks'), ('چھوٹا منہ بڑی بات', 'Big mouth, big trouble.', 'To talk big without having a big position'), ('چوری کا مال موری میں', 'A waste of time is a waste of money.', 'Money earned the wrong way will be taken away, would be lost'), ('دور کے ڈھول سُہانے', 'In circles.', 'The grass is always greener on the other side'), ('مان نہ مان میں تیرا مہمان', \"I'm a guest in your mind, not a guest in your home.\", 'Getting involved without having'), ('بہتی گنگا میں ہاتھ دھونا', \"To wash one's hands of something.\", 'To use the available opportunity'), ('گنگا گائے گنگا داس جمنا گائے جمنا داس', \"The rivers of the Ganges and Jamuna are the Ganges and Jamuna's servants.\", 'A person with no principles'), ('گھر کا بھیدی لنکا ڈھائے', 'The cat is out of the bag.', 'Division is the main reason for the damage'), ('چور کی داڑھی میں تنکا', \"To cut one's hair too short.\", 'One is afraid of his/her crime'), ('جیسی کرنی ویسی بھرنی', 'To make a mountain out of a molehill.', 'As you sow so shall you reap'), ('دھوبی کا کتا نہ گھر کا نہ گھاٹ کا', 'A stray dog, neither of the household nor of the street.', 'A person tries to be on two sides goes nowhere'), ('ہاتھ کنگن کو آرسی کیا', 'To put the cart before the horse.', 'Evidence does not need proof'), ('انگور کھٹے ہیں', 'The grapes are sour.', 'Sour grapes'), ('بندر کیا جانے ادرک کا سواد', 'To understand the mind of a port.', 'Casting pearls before swine'), ('دال میں کالا', 'Blackboard.', 'More to it than meets the eye'), ('آگے کنواں پیچھے کھائی', 'To take the back seat.', 'Between the devil and the deep-sea'), ('جلے پر نمک چھڑکنا', 'To cry over spilt milk.', 'Rubbing salt on one’s wound'), ('ناچ نہ جانے آنگھن ٹیڑھا', 'To be in a fix.', 'A poor worker blames his tools'), ('انتھ بھلا تو سب بھلا', 'All is well, everything is fine.', 'All’s well that ends well'), ('اب پچھتائے کیا، جب چڑیاں چگ گئیں کھیت', \"When the cat's away, the mice will play.\", 'No use crying over spilled milk'), ('جتنی چادر ہو اتنا پیر پھیلاو', 'As long as the tent is, spread out your feet that much.', 'Cut your coat according to your cloth'), ('تالی ایک ہاتھ سے نہیں بجتی', \"It doesn't run in one's hand.\", 'It takes two to quarrel'), ('جہاں چاہ وہاں رہ', \"Wherever you want, that's where you'll stay.\", 'Where there’s a will, there’s a way'), ('دودھ کا جلا چھاچھ بھی پھونک کر پیتا ہے', \"He's drinking tea with a lot of sugar.\", 'Once bitten twice shy'), ('کھوٹا چھنا باجے گھنا', 'A tricky one!\\n\\nThe English translation is: \"To cry over spilt milk.\"', 'Empty vessels make more noise'), ('ایک میان میں دو تلواریں نہیں سماتیں', \"You can't put two swords in one scabbard.\", 'No man can serve two masters'), ('جیسا دیس ویسا بھیس', 'As you wish.', 'In Rome do as the Romans do'), ('اوس چاٹنے سے پیاس نہیں بجھتی', 'The thirst is not quenched by talking.', 'A fog cannot be dispelled by a fan'), ('چور چور مسیرے بھائی', 'A mess!', 'Birds of the same feather flock together'), ('کر برا تو ہوئے برا', \"You're in trouble.\", 'Do evil & look for like'), ('اسکی عقل چرنے کو گئی ہے', \"He's lost his marbles.\", 'His wits are gone a wool-gathering'), ('آپ بھلے تو جگ بھلا', \"You're a good person, the whole world is good.\", 'Good mind, good find'), ('اپنے منہ میاں مٹھو', 'Sweet talk.', 'Fool to others to himself a sage'), ('جو گرجتے ہیں وہ برستے نہیں', \"They who are busy with someone else's work, will not get tired.\", 'Barking dogs seldom bite'), ('لالچ بری بلا ہے', \"It's raining cats and dogs.\", 'Avarice is the root of all evils'), ('لوہے کے چنے چبانا', 'To bend like a piece of iron.', 'Hard nut to crack'), ('ڈوبتے کو تنکے کا سہارا', 'To fall back on a lifeline.', 'Drowning man catches at a straw'), ('بوئے پودے ببول کے آم کہاں سے ہوئے', 'From where did the children of the village come?', 'Gather thistles & expect pickles'), ('جیسا راجا ویسی پرجا', 'Like a king, so the people.', 'As the King so are the subjects'), ('سانچ کو آنچ نہیں', \"It's not my cup of tea.\", 'Pure gold does not fear the flame'), ('اونچی دوکان پھیکا پکوان', 'High-class restaurant with fancy dishes.', 'Great cry little wool'), ('بھینس کے آگے بین بجانا', 'To beat around the bush.', 'Crying in the wilderness'), ('چار دن کی چاندنی پھر اندھیری رات', \"The beauty of a 20-year-old's moonlit night is then a dark night.\", 'A nine days wonder'), ('اونٹ کے منہ میں زیرا', \"A fig in a donkey's mouth.\", 'A drop in the Ocean'), ('نیکی کر دریا میں ڈال', 'To throw nice things into the sea.', 'Do good & cast into the river.'), ('لوہا لوہے کو کاٹتا ہے', 'The iron is beating the iron.', 'Diamonds cut diamonds'), ('اندھوں میں کانا راجہ', 'In the dark, there is no king.', 'A figure among cyphers'), ('جان ہے تو جہان ہے', \"When there's life, there's hope.\", 'Only if you are alive, things matter'), ('بخل میں چھری منہ پے رام رام', \"To be stingy is to hold a razor to one's mouth.\", 'A wolf in lamb’s clothing'), ('نیم حکیم خطرہ جان', 'A half-wise person is in danger.', 'A little Knowledge is a dangerous thing'), ('لکیر کا فقیر', \"A poor man's pencil.\", 'To go about the same old beaten path'), ('بچہ بغل میں ڈھنڈورا شہر میں', 'In a nutshell, in the city.', 'Child is in the armpit, chaos in the city'), ('تیل دیکھو تیل کی دھار دیکھو', \"Look at the oil, see the oil's thread.\", 'Watch the oil and watch it pour'), ('سانپ بھی مر جائے، لاٹھی بھی نہ ٹوٹے', \"Even a snake will die, but the stick won't break.\", 'The snake dies and the club doesn’t break'), ('ایک تیر سے دو شکار', 'One arrow, two targets.', 'Two hunts with one arrow'), ('بوڑھی گھوڑی لال لگام', 'Old horse with a red halter.', 'Old mare red reigns'), ('بھاگتے چور کی لنگوٹی ہی سہی', \"The thief's conscience is his only punishment.\", 'Something is better than nothing.'), ('پتھر پے لکیر', 'To break the ice.', 'Line on the rock'), ('دودھ کا دودھ پانی کا پانی', 'The same thing over and over again.', 'Milk of milk, Water of water'), ('ضرورت ایجاد کی ماں ہے', 'The necessity is the mother of invention.', 'Necessity is a mother of invention'), ('چور کا بھائی گٹھ کترا', \"Auntie's brother is a thorn in the side.\", 'They agree like pick-pockets in a fair'), ('عقلمند اپنے ہی پھندے میں نہیں پھنستا', 'He is not caught in his own trap.', 'A fox never dies in the dirt of his own'), ('کتاب ایک ایسا دوست ہے جو کبھی دھوکہ نھیں دیتا', 'A book is a friend that never betrays.', 'A book is a friend that never deceives'), ('جو کم سوچتے ہیں وہی زیادہ بولتے ہیں', 'Those who think less talk more.', 'The less people think the more they talk'), ('دِل میں زہر زبان پر شہد', \"Words can be bitter in one's heart and sweet on one's tongue.\", 'Many kisses the hand they wish cut off'), ('مَری ہُوئی مَکّھی سے شہد نہیں نکلتا', \"The milk doesn't come out of the buffalo.\", 'A dead bee makes no honey'), ('ایک انار سو بیمار', 'One aloe vera is sick.', 'One post and a hundred candidates'), ('دوست راہ چلتے نہیں بنتے', \"Don't burn your bridges.\", 'Friendship is to be bought at a fair'), ('ننگی کیا نہاۓ گی ۔ کیا نچوڑے گی', 'They will get exposed.', 'No one can strip a naked person'), ('جِس نے کی شرم اس کے پھوٹے کرم', 'The one who has shame will have their pride burst.', 'The modesty will be the ruin of you'), ('شرافت نیت سے ہے', \"It's from the heart.\", 'The mind ennobles not the blood'), ('ٹال مٹول کام شیطان کا ہے', \"It's a devil of a job.\", 'When God says today, the devil says tomorrow'), ('ایک کو سائی ۔ دوسرے کو بدھائی', 'One is a lamp, the other is the wick.', 'To invite one and feast another'), ('ایک مچھلی سارے جال کو گندا کرتی ہے', \"She's spoiling the whole show.\", 'A single sinner sink the boat'), ('نو نقد نہ تیرہ اُدھار', 'No criticism is above correction.', 'Batter an egg today than a hen tomorrow'), ('بھلا جو چاہے آپ کا ۔ دینا نہ رکھے باپ کا', \"Whatever you want, don't hold back your father's money.\", 'Out of debt, out of danger'), ('بھٹ پڑے وہ سونا جِس سے ٹوٹیں کان', 'The idiom is \"بھٹ پڑے وہ سونا جِس سے ٹوٹیں کان\" which translates to \"Bite the dust, the one who breaks the earthen pot\".', 'Better cut the shoe than pinch the foot'), ('پھول میں کانٹا ہے', \"There's a thorn in the rose.\", 'Honey is sweet but the bee stings'), ('سیوا بن میوا کہاں', '\"Where is the way out?\"', 'No pains no gains'), ('کاہل فقیر کا بھائی', \"A poor man's brother.\", 'The slothful man is the beggar’s brother'), ('بھو سے بغیر اناج نہیں', 'Without a head, there is no body.', 'No corn without chaff'), ('دوڑنے سے پہلے چلنا سیکھو !', 'Get a head start before the race!', 'Creep before you gang'), ('مان نہ مان میں تیرا مہمان', \"You're not convinced, but I'm still your guest.\", 'Whether you recognize me or not I am your guest'), ('کوٹھی والا روۓ چھپر والا سوۓ', 'The clever one!', 'Uneasy lies the head that wears the crown'), ('خالی باتوں سے بھی کہیں پیٹ بھرتا ہے', \"It's a hungry belly that can be filled with empty words.\", 'Do not give me words instead of the meal'), ('مُفت کی شراب قاضی پر حلال', \"A judge's wine is halal.\", 'An empty door will tempt a saint'), ('ایک اور ایک گیارہ', 'One or eleven.', 'Union is the strength'), ('شتابی میں خرابی ہے', \"There's a snag.\", 'Error is always in the hassle'), ('سارے انڈے ایک ہی ٹوکری میں مت رکھو', \"Don't put all your eggs in one basket.\", 'Do not put all your eggs in one basket'), ('سر منڈاتے ہی اولے پڑے', \"It's raining cats and dogs.\", 'A poor man’s rain'), ('بڑھاپے کی مفلسی سب سے بُری', 'Old age is the greatest poverty.', 'Poverty on an old man’s back is a heavy burden'), ('یہ منہ اور مسور کی دال', 'This is a phrase in Urdu, and it translates to \"This is a mixture of good and bad\" in English.', 'Honey is not for the ass’s mouth'), ('ہمت مرداں مددِ خُدا', 'Courage is the help of God.', 'God helps those who helps himself'), ('آسمان سے گرا کھجور میں اٹکا', 'Fell into a nut from the sky.', 'Out of the frying pan into the fire'), ('اپنے منہ میاں مٹھو بننا', 'To make a good impression.', 'Acting like a parrot'), ('بندر کیا جانے ادرک کا سواد', 'To understand the depth of the sea.', 'Monkey does not knows the taste of ginger'), ('اونٹ رے اونٹ تیری کون سی کل سیدھی', 'This is a idiomatic expression in Urdu. The translation is:\\n\\n\"The horse is yours, but the bridle is mine.\"', 'Camel o camel which side of you is straight'), ('ایک انار سو بیمار', 'One pomegranate is enough for a sick person.', 'One pomegranate and hundred ill people'), ('اونچی دکان پھیکا پکوان', 'A messy and cluttered shop.', 'Expensive shop but food is not tasty'), ('آگ لگنے پر کنواں کھودنا', 'To cry over spilt milk.', 'digging a well when the fire starts'), ('آستین کا سانپ', 'A snake in the grass.', 'snake of cuff'), ('آ بیل مجھے مار', \"You're going to kill me with a bill!\", 'come bull hit me'), ('آسمان سے گرا کھجور میں اٹکا', 'Fell into a pit of trouble.', 'Fell from the sky and stuck in a date tree.'), ('موت کا کوئی علاج نہیں', 'There is no cure for death.', 'Death defies the doctor.'), ('موت کا کوئی اعتبار نہیں', 'Death has no credit.', 'Death keeps no calendar.'), ('مصیبت میں کوئی کسی کا ساتھ نہیں دیتا', 'In times of trouble, nobody stands by your side.', 'Adversity flatters no man.'), ('گڑےمردے اکھاڑنا', \"To pull someone's leg.\", 'Taking up old quarrels.'), ('بری صحبت سے اکیلا رہنا اچھا', \"To be alone with one's thoughts is good.\", 'Better alone than in a bad company.'), ('اپنے منہ میاں مٹھو', 'Sweet-talk!', \"To blow one's own trumpet.\"), ('بد اچھا بد نام برا', 'Bad omen, bad name, bad luck.', 'A bad name is worse than a bad deed.'), ('بغل میں چھری منہ میں رام رام', 'To play with fire and then cry out to Lord Rama.', \"A wolf in sheep's clothing.\"), ('پرہیز علاج سے بہتر ہے', 'Abstinence is better than a cure.', 'Prevention is better than cure.'), ('تالی ایک ہاتھ سے نہیں بجتی', \"It doesn't ring a bell.\", 'It takes two to make a quarrel.'), ('جتنے منہ اتنی باتیں', 'As many faces, as many stories.', 'As many mouths, so many opinions.'), ('چراغ تلے اندھیرا', 'To light up the darkness.', 'Near the church farther from God.'), ('چور کی داڑھی میں تنکا', 'A tangled mess!', 'A guilty conscious needs no accuser.'), ('تقدیر کے آ گے تدبیر کی نہیں چلتی', 'Plans will come to fruition, but not without a plan.', 'There is no cure to bad luck.'), ('غرور کا سر نیچا', 'Pride goes before a fall.', 'Pride halth a flat.'), ('آدمی اپنے دوستو سے پہچناجاتاہے', 'A person recognizes their friend.', 'A man is known by the company.'), ('درخت اپنے پھل سے پہچانا جاتاہے', 'A tree is recognized by its fruit.', \"A tree known by it's fruits.\"), ('خون چھپائے نہیں چھپتا', 'Blood does not hide, it shows.', 'Murder will out.'), ('خدا گنجے کوناخن نہ دے', \"God doesn't give a donkey to ride.\", 'Cursed cows have shot horns.'), ('عقلمند کو اشارہ کافی ہے', 'A hint is enough for a wise person.', 'A word to the wise is enough'), ('ایک تیر سے دو شکار', 'One arrow, two targets.', 'Kill two birds with one stone/ Two hunts with one arrow'), ('اندھا کیا چاہے دو آنکھیں', 'What a blind man wishes for, two eyes.', 'A wish coming True.'), ('آنکھ کا اندھا نام نین سکھ', 'The Blind Spot of the Eye is Ignorance.', \"Opposite qualities of meaning of person's name\"), ('اسکی عقل گھاس چرنے کو گئی ہے۔', \"He's lost his mind, going crazy!\", 'He has lost his marbles.'), ('انگور کھٹے ہیں', 'The grapes are sour.', 'Grapes are sour.'), ('انتھ بھلا تو سب بھلا', 'Everything is fine, then everything is fine.', 'All is well that ends well.'), ('اونچی دوکان پھیکا پکوان', 'A messy shop!', 'High shelves, tasteless dishes.'), ('اوس چاٹنے سے پیاس نہیں بجھتی', 'The thirst is not quenched by talking about it.', \"Licking dewdrops won't quench your thirst.\"), ('اونٹ کے منہ میں زیرا', 'A mouthful of nonsense.', \"Cumin in a camel's mouth.\"), ('آنکھ کا اندھا نام نین سکھ', 'The blind spot in the eye.', 'Blind from eye, named happiness.'), ('آپ بھلے تو جگ بھلا', \"You're a good person, the whole world is good.\", 'The world is good when you are good.'), ('آگے کنواں پیچھے کھائی', 'To take a step forward and then take a step back.', 'Water-well in the front, abyss at the back.'), ('اپنے منہ میاں مٹھو', 'Sweet talk.', 'Flattering oneself like a parrot.'), ('ایک میان میں دو تلواریں نہیں سماتیں', \"You can't be in two places at once.\", \"Two swords can't be wielded in one scabbard.\"), ('ایک ہاتھ سے تالی نہیں بجتی', \"It doesn't ring a bell.\", 'One hand cannot clap.'), ('بندر کیا جانے ادرک کا سواد', 'To have a taste of the sea.', 'What does a monkey know about the taste of ginger?'), ('بھاگتے چور کی لنگوٹی هی سھی', \"A thief's tongue is sweet.\", 'The loincloth of a running thief.'), ('بوئے پودے ببول کے آم کہاں سے ہوئے', 'Where did the seeds of the bitter gourd come from?', 'Acacia Arabica tree would yield gum, not mangoes.'), ('بھینس کے آگے بین بجانا', 'To beat around the bush.', 'Playing the flute in front of the buffalo.'), ('بہتی گنگا میں ہاتھ دھونا', \"To wash one's hands of something.\", 'Washing hands in a running river.'), ('جتنی چادر ہو اتنا پیر پھیلاو', 'The more the tent, the more the rope is stretched.', 'Spread your feet according to your veil.'), ('جتنے منہ اتنی باتیں', 'As many faces as there are stories.', 'As many mouths as many talks.'), ('جلے پر نمک چھڑکنا', 'To cry over spilt milk.', \"Rubbing salt on one's wound.\"), ('جو گرجتے ہیں وہ برستے نہیں', 'They are crying, but not weeping.', \"Those who thunder don't rain.\"), ('جیسا دیس ویسا بھیس', 'As you wish.', 'Like country, like dress.'), ('جیسا راجا ویسی پرجا', 'Like a king, so the people.', 'Like the king, so the subjects.'), ('جیسے اللہ رکھے اسے کون چکھے', 'As if God has kept it, who can see it?', 'Who can taste a person who is kept by Allah?'), ('جیسی کرنی ویسی بھرنی', 'To make a mountain out of a molehill.', 'As you sow, so shall you reap.'), ('دال میں کالا', 'In the palm of my hand.', 'Black in the lentils.'), ('دودھ کا جلا چھاچھ بھی پھونک کر پیتا ہے', \"He's drinking his tea with a loud slurp.\", 'A person burnt by milk drinks even the cold milk by blowing on it.'), ('دور کے ڈھول سُہانے', 'On the other side of the coin.', 'The drums from far away sound better.'), ('دھوبی کا کتا نہ گھر کا نہ گھاٹ کا', 'A stray dog, neither of a household nor of a ferry landing.', 'The laundry dog is neither at home nor at the dock.'), ('سانچ کو آنچ نہیں', \"He's not in the same league.\", \"Pure gold doesn't melt.\"), ('لکیر کا فقیر', 'A poor wretch!', 'Beggar of the line.'), ('لوہے کے چنے چبانا', 'To bend like iron.', 'Chewing iron gram.'), ('مان نہ مان میں تیرا مہمان', \"I'm not convinced, you're my guest.\", 'Believe me, I am your guest.'), ('ناچ نہ جانے آنگھن ٹیڑھا', 'To be at a loss.', 'Not knowing how to dance.'), ('چار دن کی چاندنی پھر اندھیری رات', 'A fleeting moment of joy followed by darkness.', 'Moonlight of four days followed by a dark night.'), ('چور کی داڑھی میں تنکا', 'A tangled mess!', \"A lining in the thief's beard.\"), ('چھوٹا منہ بڑی بات', 'A small mouth, big talk.', 'Smaller mouth, bigger talk.'), ('ڈوبتے کو تنکے کا سہارا', 'A helping hand to those who are drowning.', 'A drowning man catches a straw.'), ('کر برا تو ہوئے برا', \"It's a dog-eat-dog world.\", 'If you do bad, bad happens.'), ('کھسیانی بلی کھمبا نوچے', 'A bunch of foolish people are arguing.', 'A mad cat scratches the pole.'), ('کہاں راجہ بھوج کہاں گنگوتیلی', 'Where is Raja Bhuj, where is Gangu Tili?', 'Where is Raja Bhoj, where is Gangotili?'), ('گھر کا بھیدی لنکا ڈھائے', 'Home sweet home.', 'Destroy the secret Lanka of the house.'), ('ہاتھ کنگن کو آرسی کیا', 'To take something with a long spoon.', 'The hand braced the bracelet.'), ('اب پچھتائے کیا، جب چڑیاں چگ گئیں کھیت', 'The cat got out when the chickens went to the field.', 'Why regret now when birds ate the crop.'), ('دیانتدار ہونے کے لیے امیر ہونا ضروری نہیں', \"It's not necessary to be rich to be pious.\", 'A RAGGED COAT MAY COVER AN HONEST MAN'), ('ایک بار جو دشمنی کرے اس کا اعتبار نہ کرو', \"Don't trust someone who has once betrayed you.\", 'A RECONCILED FRIENDS IS A DOUBLE ENEMY'), ('سدھرا ہوا بدمعاش اچھا خاوند بنتا ہے', 'A good for nothing turns into a good husband.', 'A REFORMED RAKE MAKES THE BEST HUSBAND'), ('حق آخر مل کر ہی رہتا ہے', \"It's always coming up last.\", 'A RIGHT SLEEPS SOMETIMES, IT NEVER DIES'), ('چھوٹا منہ بڑی بات', 'A small mouth, big talk.', 'A RIVER , YOU CONTEND WITH THE SEA!'), ('ُرے کو سب ہی بُرے نظر آتے ہیں', 'Everyone looks bad to everyone.', 'A ROGUE ALWAYS SUSPECTS DECEIT'), ('جیسے کو تیسا', 'As alike as two peas in a pod.', 'A ROLAND FOR AN OLIVER'), ('ترکی بہ ترکی جواب', '\"Like for like\"', 'A ROLAND FOR AN OLIVER'), ('دھوبی کا کتا نہ گھر کا نہ گھاٹ کا', 'A stray dog, neither of the house nor of the street.', 'A ROLLING STONE GATHERS NO MOSS'), ('ڈانواں ڈول کی مٹی خراب', 'A dirty pot always spoils the soil.', \"THE CLAY OF THE POTTER'S WHEEL IS SPOILED.\"), ('کچا تعلق', 'A connection or a link.', 'A ROPE OF SAND'), ('ایک گندی مچھلی سارے جل کو گندہ کرتی ہے', 'One little fish is spoiling the whole broth.', 'A ROTTEN SHEEP INFECTS THE WHOLE FLOCK'), ('دُنیا سب کچھ سکھا دیتی ہے', 'The world teaches you everything.', 'A RUGGED STONE GROWS SMOOTH FROM HAND TO HAND'), ('ہاتھی کے دانت کھانے کے اور دکھانے کے اور', 'Tooth and nail.', 'A SAINT ABROAD, A DEVIL AT HOME'), ('اچھائی اور برائی کا امتزاج', 'The coexistence of good and evil.', 'A SANDWICH OF GOOD AND BAD'), ('مرے کا مارنا کیا ؟', \"What's the point of crying over spilt milk?\", \"A SCALD MAN'S HEAD IS SOON BROKEN\"), ('تکلیف دہ حالات', 'A difficult situation.', 'A SCANDALOUS STATC OF AFFAIRS'), ('مالک اور نوکر میں بڑا فرق', 'Master and servant have a big difference.', 'A SCEPTRE IS ONE THING , A LADLE ANOTHER'), ('کہیں کوئی کسر ضرور ہے', \"There's always a catch.\", 'A SCREW IS LOOSE SOMEWHERE'), ('راز کو جان سا عزیز رکھنا چاہیۓ', \"To keep one's secret safe is dear to one.\", 'A SECRET IS YOUR BLOOD , LET IT OUT TOO OFTEN AND YOU DIE'), ('ہاتھ کنگن کو آرسی کیا!', 'That\\'s a clever one! The English translation is: \"To hold someone\\'s hand and take them somewhere!\"', 'A SELF-EVIDENT TRUTH REQUIRES NO PROOF'), ('عقلمند آدمی تجربہ سے سیکھتا ہے', 'A wise person learns from experience.', 'A SENSIBLE MAN JUDGES OF PRESENT BY PAST EVENTS'), ('لاتوں کے بھوت باتوں سے کب مانتے ہیں', 'How long do you take to heed the whispers of the ghosts of latons?', 'A SHARP GOOD FOR A STUBBORN ASS'), ('تجربہ سے ہی اصلیت کھلتی ہے', 'Experience is the best teacher.', 'A SHIP SHOULD NOT BE JUDGED FROM THE LAND'), ('شدید درد', 'Severe pain', 'A SHOOTING PAIN'), ('اچانک اٹھنے والا درد', 'A sudden pang of pain.', 'A SHOOTING PAIN'), ('سیدھی راہ چل چاہے دور ہو', 'To go straight and take the long route.', 'A SHORT CUT IS OFTEN A WRONG CUT'), ('مرنے پر کچھ ساتھ نہیں جاتا!', \"It's not going anywhere with me when I'm dead!\", 'A SHROUD HAS NO POCKETS'), ('کنجی جیسی چاندی کی ویسی لوہے کی', 'As bright as silver in the moonlight.', 'A SILVER KEY CAN OPEN AN IRON LIKE'), ('ایک پاپی بیڑے کو ڈبو دیتا ہے', \"He's cracking up.\", 'A SINGLE SINNER SINKS THE BOAT'), ('جاگتا پاۓ سونے والا کھوۓ', 'A spendthrift will soon lose all his wealth.', 'A SLEEPING FOX CATCHES NO POULTRY'), ('احمق کا پیغام', \"A fool's message.\", 'A SLEEVELESS ER RAND'), ('من حرامی حجتیں ڈھیر', 'Many excuses are made.', 'A SLIGHT PRETEXT SUFFICES FOR DOING EVIL'), ('کاہل آدمی کم فرصتی کا رونا روتا ہے', 'A crying shame.', 'A SLOTHFUL MAN NEVER HAS TIME'), ('بیج پکے سو میٹھا ہوۓ', 'Sweet as sugar.', 'A SLOW FIRE MAKES SWEETS MALT'), ('نام بڑا ۔ درشن چھوٹا', 'Name is big. Darsan is small.', 'A SMALL SHOP MAY HAVE A GOOD TRADE'), ('جہاں درخت نہ ہوں وہاں ارنڈ بھی درخت ہے', 'Where there is no tree, even a bird is a tree.', 'A SMALL SPARK SHINES IN THE DARK'), ('جتنا گڑ ڈالو گے اتنا ہی میٹھا ہو گا', \"We'll add as much sugar as needed, it will be sweet enough.\", 'A SMALL SUM WILL SERVE TO PAY A SHORT RECKONING'), ('ذرا سا گھاوٴ بھی جان لے لیتا ہے', \"It's a piece of cake.\", 'A SMALL WOUND MAY BE MORTAL'), ('اچھے لباس سے دوسروں پر اچھا اثر پڑتا ہے', 'Good clothes have a good effect on others.', 'A SMART COAT IS A GOOD LETTER OF INTRODUCTION'), ('ٹھنڈا لوہا گرم لوہے کو کاٹتا ہے', 'A cold iron cuts through hot iron.', 'A SOFT ANSWER TURNETH AWAY WRATH'), ('بھوکا سپاہی خاک لڑے گا ؟', 'Will a hungry soldier fight to the death?', 'A SOLDIER FIGHTS UPON HIS STOMACH'), ('غم جتنا کرو اتنا ہی بڑھتا ہے', 'The more we cry, the more it grows.', 'A SORROW IS AN ITCHING PLACE WHICH IS MADE WROSE BY SCRATCHING'), ('رنج بٹانے سے کم ہوتا ہے لیکن خوشی بڑھتی ہے', 'The more you suffer, the less you are troubled, but happiness increases.', \"A SORROW SHARED IS BUT HALF A TROUBLE , BUT A JOY THAT'S SHARED IS A JOY MADE DOUBLE\"), ('قومی دماغ مضبوط جِسم میں ہی رہ سکتا ہے', 'A national mind can only reside in a strong body.', 'A SOUND MIND IN A SOUND BODY'), ('دھبا سفید کپڑے پر زیادہ چمکتا ہے', 'The white patch is more noticeable on white clothes.', 'A SPOT IS MOST SEEN ON THE FINEST CLOTH'), ('بے محل و بے موقع', 'Out of place.', 'A SQUARE PEG IN A ROUND HOLE'), ('وقت پر ایک ٹانکا نو کا کام کر دیتا ہے', 'He is killing two birds with one stone.', 'A STITCH IN TIME SAVES NINE'), ('نرغہ میں آیا ہوا بچ کر نہیں نکل سکتا', \"He's in a tight spot and can't wriggle out of it.\", 'A STONE IN A WELL IS NOT LOST'), ('سیدھی لکڑی پانی میں ٹیڑھی دکھائی دیتی ہے', 'It looks crooked in water.', 'A STRAIGHT STICK IS CROOKED IN THE WATER'), ('ہوا کا رُخ ایک تنکے سے معلوم ہو جاتا ہے', 'The wind direction can be known from a bottle.', 'A STRAW WILL SHOW WHICH WAY THE WIND BLOWS'), ('آدمی وہ ہے جو ٹھوکر کھا کر سنبھل جاۓ', 'He is a man who learns to walk after falling.', 'A STUMBLE MAY PREVENT A FALL'), ('مٹھائی کا شوقین', 'Sweet tooth.', 'A SWEET TOOTH'), ('زُبان کِسی کِسی کی قابو میں ہوتی ہے', \"Someone else's tongue is in someone else's control.\", 'A TAME TONGUE IS A RARE BIRD'), ('بکواسی چور سے بھی بُرا', 'Worse than a thief.', 'A TATTLER IS WORSE THAN A THIEF'), ('چائے کی دعوت', 'A cup of tea invitation.', 'A TEA FIGHT'), ('سو دِن چور کے ایک دن شاہ کا', 'One day as a thief, the next day as a king.', 'A THIEF IS CERTAINLY CAUGHT AT LAST'), ('دولت سو عیبوں کو چھپا لیتی ہے', 'The government covers up its mistakes.', 'A THIEF PASSES FOR A GENTLEMAN , WHEN THIEVING HAS MADE HIM RICH'), ('غریب کا دیوالیہ جلدی نکلتا ہے', \"The stranger's Diwali is short-lived.\", 'A THIN MEADOW IS SOON MOWED'), ('کسی چیز میں اپنا حِصّہ ہو تو وہ بڑی دکھائی دیتی ہے', 'When someone has a stake in something, they make a big show of it.', 'A THING IS BIGGER FOR BEING SHARED'), ('ایک انار سو بیمار', 'A sickly pomegranate.', 'A THOUSAND APPLICANTS FOR ONE APPOINTMENT'), ('یہ چمن یوں ہی رہے گا', 'This grass will remain the same.', 'A THOUSAND YEARS HENCE THE RIVER WILL RUN AS IT DID'), ('دنیا کا سدا یہی حال رہے گا', 'This is a phrase in Urdu, and it translates to:\\n\\n\"The world will always be like this.\"', 'A THOUSAND YEARS HENCE THE RIVER WILL RUN AS IT DID'), ('شریف کو عزت کا بہت خیال رہتا ہے', 'He has a great deal of respect for the noble.', 'A THREAD WILL TIE AN HONEST MAN BETTER THAN A ROPE A ROGUE'), ('غدار کو دشمن جانو!', \"To one's own enemy is a blessing!\", 'A TRAITOR IS ILL COMPANY'), ('درخت اپنے پھل سے پہچانا جاتا ہے', 'A tree is recognized by its fruit.', 'A TREE IS KNOWN BY ITS FRUIT'), ('سچا دوست ملنا مشکل ہے ۔ کیونکہ وہ تو گویا دوسری شکل میں تم خود ہی ہو', \"It seems like a problem is between us, because it's as if you are in a different form, and I am myself.\", 'A TRUE FRIEND WILL NEVER BE FOUND OR HE IS AS IT WERE ANOTHER SELF'), ('ظلم کا بدلہ مل کر ہی رہتا ہے', 'Vengeance will be mine.', 'A TYRANT IS MOST TYRANT TO HIMSELF'), ('بہادر کی نظر بُزدل کی تلوار سے زیادہ کام کرتی ہے', \"A brave person's glance is more effective than a coward's sword.\", \"A VALIANT MAN`S LOOK IS MORE THAN COWARD'S SWORD\"), ('بے کار چیز', 'Nothing', 'A VAST EXTENT OF MARSH'), ('اپنی مرضی سے اُٹھایا بوجھ بوجھ ہی کیا ؟', \"What's the point of getting up early if you're just going to sleep in late anyway?\", 'A VOLUNTARY BURDEN IS NOT A BURDEN'), ('دیوار کے بھی کان ہوتے ہیں', 'There are ears on the wall.', 'A WALL HAS EARS, TOO'), ('الوداع / الوداعی پارٹی', 'Farewell Party', 'A WARM SEND OFF'), ('جِس کا پیٹ بھرا ہو وہ بھوکے کی تکلیف کیا سمجھتا ہے', 'He who is full of his own belly thinks everyone else is hungry.', 'A WELL-FILLED BELLY DOES NOT BELIEVE IN HUNGER'), ('بیوقوف ہر جگہ اپنی بیوقوفی ظاہِر کرتا ہے', \"He's showing off his ignorance everywhere.\", \"A WHITE WALL IS A FOOL'S PAPER\"), ('ضِدی کب کِسی کی مانتا ہے', 'Who cares what someone else thinks!', 'A WILFUL MAN MUST HAVE HIS WAY'), ('ضِدی کے لیے عقلمند ہونا ضروری ہے', \"To be wise is necessary for one's opponent.\", 'A WILFUL MAN NEEDS BE VERY WISE'), ('جہاں چاہ وہاں راہ', 'Wherever you wish, there is a way.', 'WHERE THERE IS WILL, THERE IS A WAY'), ('نادان دوست سے دانا دُشمن بھلا', 'A wise friend is better than a foolish enemy.', 'A WISE FOE IS BETTER THAN A FOOLISH FRIEND'), ('چپ رہنا عقلمندی کی نِشانی ہے', 'Being on the left side is a sign of intelligence.', 'A WISE HEAD MAKES A CLOSED MOUTH'), ('عقلمند آدمی چاند کو مٹھی میں لینے کی کوشش نہیں کرتا', \"A person of wisdom doesn't try to put the moon in a plate.\", 'A WISE MAN CARES NOT FOR WHAT HE CANNOT HAVE'), ('عقلمند بیوقوفوں کے تجربہ سے سیکھتا ہے', 'He learns from the experiences of wise fools.', 'A WISE MAN GETS LEARNING FROM THOSE WHO HAVE NONE THEMSELVES'), ('دُنیا میں عقلمندوں کی تعداد بہت کم ہے', 'The wise are few in the world.', 'A WISE MAN IS A GREAT WONDER'), ('زر عقلمند پر قابو نہیں پاتا', 'The English translation is: \"You can\\'t put a lid on a wise person\\'s mind.\"', 'A WISE MAN IS OUT OF THE REACH OF FORTUNE'), ('عقلمند نفس پر قابو رکھتا ہے اور نفس بیوقوف پر', 'A wise person has control over their mind, and a foolish person has no control over theirs.', 'A WISE MAN WILL BE MASTER OF MIND A FOOL WILL BE ITS SLAVE'), ('عقلمند موقع نکال لیتا ہے', \"He's a clever fellow, always on the lookout for opportunities.\", 'A WISE MAN WILL MAKE MORE OPPORTUNITIES THAN HE FINDS'), ('عقلمند نُقصان کو مشتہر نہیں کرتا', \"A genius doesn't publicize his losses.\", \"A WISE MAN'S LOSS IS HIS SECRET\"), ('بیوقوف میں ہمت کہاں ؟', 'Where has my courage gone?', 'A WITLESS HEAD MAKES WEARY FEET'), ('ادھر کنواں اُدھر کھائی', 'To and fro.', 'A WOLF BESETS YOU ON THIS SIDE, A DOG ON THAT'), ('بغل میں چھری مُنہ میں رام رام', 'To cut a long story short.', \"A WOLF IN LAMB'S CLOTHING\"), ('فرشتہ کے روپ میں بھیڑیا', \"In sheep's clothing\", 'A WOLF IN THE GARB OF A LAMB')]\n"
          ]
        }
      ]
    },
    {
      "cell_type": "code",
      "source": [
        "bleu_score_llama = calculate_bleu(translated_idioms_llama)\n",
        "exact_match_score_llama = calculate_exact_match_score(translated_idioms_llama)\n",
        "final_score_llama = weighted_score(bleu_score_llama, exact_match_score_llama, bleu_weight=1, exact_match_weight=0)\n",
        "print(f\"Combined Score: {final_score_llama:.2f}\")"
      ],
      "metadata": {
        "colab": {
          "base_uri": "https://localhost:8080/"
        },
        "id": "H91AgJ9ex6Xi",
        "outputId": "756460b3-3ce9-4011-c11c-bf20f4f00ada"
      },
      "execution_count": 55,
      "outputs": [
        {
          "output_type": "stream",
          "name": "stdout",
          "text": [
            "Combined Score: 0.06\n"
          ]
        }
      ]
    }
  ]
}